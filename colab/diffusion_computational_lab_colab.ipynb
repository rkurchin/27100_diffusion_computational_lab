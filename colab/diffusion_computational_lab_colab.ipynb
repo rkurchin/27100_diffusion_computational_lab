{
 "cells": [
  {
   "cell_type": "markdown",
   "id": "b9dab88f",
   "metadata": {
    "colab_type": "text",
    "id": "view-in-github"
   },
   "source": [
    "<a href=\"https://colab.research.google.com/github/rkurchin/27100_diffusion_computational_lab/blob/no_interactjl/diffusion_computational_lab_colab.ipynb\" target=\"_parent\"><img src=\"https://colab.research.google.com/assets/colab-badge.svg\" alt=\"Open In Colab\"/></a>"
   ]
  },
  {
   "cell_type": "markdown",
   "id": "97993cc1",
   "metadata": {
    "id": "97993cc1"
   },
   "source": [
    "# 27-100 Computational MSE Lab: Diffusion!\n",
    "Welcome to the computational lab! In these exercises, we'll explore diffusion at both the atomistic and continuum lengthscales. As you've seen by now, one of the hallmarks of \"MSE thinking\" is connecting across lengthscales – for example, understanding dislocation motion and how it leads to plastic deformation. We've talked some in lecture about atomistic mechanisms of diffusion (e.g. via vacancies) as well as how we describe it in a continuum setting (Fick's Laws). Here we'll explore how those ideas are connected to each other through a series of **computational experiments** that you'll be guided through. You will not need to write any code yourself (though if you're curious, you'll be able to see the code that's being run).\n",
    "\n",
    "You'll also be able to see how such **computational experiments** can be very analogous to lab-based ones...keep this in mind as you work, and think about how computation can be similar to/different from experiments, and how the two approaches might complement each other!\n",
    "\n",
    "## What is this thing I'm reading?\n",
    "This is a Jupyter notebook, an environment for **literate programming**, where formatted text (like this) can be interspersed with interactively runnable code cells (like the ones immediately below this). Jupyter comes from Ju (Julia) + Py (Python) + R, and as the name suggests, it can run code in all three of these languages. This particular notebook is running Julia.\n",
    "\n",
    "To run a cell, simply select it by clicking on it and use `Shift` + `Enter` to execute the code. You'll need to execute each cell for things to work properly – many of them will create an interactive thing for you to work with, for example to paste data into for processing. You should not need to change any of the code itself directly!\n",
    "\n",
    "Go ahead and run these first two cells below now – they will set up the computational environment so that all the needed packages will be loaded. When they've executed successfully, a number should appear to the left."
   ]
  },
  {
   "cell_type": "code",
   "execution_count": 1,
   "id": "4563b4e5",
   "metadata": {
    "colab": {
     "base_uri": "https://localhost:8080/"
    },
    "id": "4563b4e5",
    "outputId": "fc23ea39-7732-4ce9-bbfb-b5f4822f3e0c"
   },
   "outputs": [
    {
     "name": "stderr",
     "output_type": "stream",
     "text": [
      "\u001b[32m\u001b[1m    Updating\u001b[22m\u001b[39m registry at `~/.julia/registries/General.toml`\n",
      "\u001b[32m\u001b[1m   Resolving\u001b[22m\u001b[39m package versions...\n",
      "\u001b[32m\u001b[1m  No Changes\u001b[22m\u001b[39m to `~/.julia/environments/v1.10/Project.toml`\n",
      "\u001b[32m\u001b[1m  No Changes\u001b[22m\u001b[39m to `~/.julia/environments/v1.10/Manifest.toml`\n",
      "\u001b[32m\u001b[1m   Resolving\u001b[22m\u001b[39m package versions...\n",
      "\u001b[32m\u001b[1m  No Changes\u001b[22m\u001b[39m to `~/.julia/environments/v1.10/Project.toml`\n",
      "\u001b[32m\u001b[1m  No Changes\u001b[22m\u001b[39m to `~/.julia/environments/v1.10/Manifest.toml`\n",
      "\u001b[32m\u001b[1m   Resolving\u001b[22m\u001b[39m package versions...\n",
      "\u001b[32m\u001b[1m  No Changes\u001b[22m\u001b[39m to `~/.julia/environments/v1.10/Project.toml`\n",
      "\u001b[32m\u001b[1m  No Changes\u001b[22m\u001b[39m to `~/.julia/environments/v1.10/Manifest.toml`\n"
     ]
    }
   ],
   "source": [
    "import Pkg\n",
    "Pkg.add(\"CSV\")\n",
    "Pkg.add(\"DataFrames\")\n",
    "Pkg.add(\"Plots\")"
   ]
  },
  {
   "cell_type": "code",
   "execution_count": 2,
   "id": "f5d96253",
   "metadata": {
    "id": "f5d96253"
   },
   "outputs": [],
   "source": [
    "using CSV\n",
    "using DataFrames\n",
    "using Statistics\n",
    "using LinearAlgebra\n",
    "using Plots"
   ]
  },
  {
   "cell_type": "markdown",
   "id": "9977404b",
   "metadata": {
    "id": "9977404b"
   },
   "source": [
    "\n",
    "# Atomistic-Scale Diffusion: Molecular Dynamics\n",
    "We'll start by investigating diffusion at the atomistic scale, in a way that only simulations are capable of (at least right now)...by tracking positions of thousands of individual atoms at once! This uses a technique called **molecular dynamics**, where we choose a model interatomic potential (in this case, Lennard-Jones, which you explored a bit on homework 5) and just run Newton's Laws between all pairs of particles to generate atomic trajectories.\n",
    "\n",
    "><b>A note about units:</b>\n",
    ">    \n",
    "> All the quantities we'll work with in this section are in <i>Lennard-Jones units</i>, meaning that we've nondimensionalized according to the LJ parameters $\\sigma$ (a distance) and $\\epsilon$ (an energy), as well as the mass $m$ of the particles we are modeling. For example, time is in units of $\\sqrt{\\frac{m\\sigma^2}{\\epsilon}}$ (you can check for yourself that the dimensions work out here!)\n",
    "\n",
    "\n",
    "We'll use a nice online two-dimensional MD engine that you can access [HERE](https://physics.weber.edu/schroeder/md/). Start by opening it up and playing around a bit to familiarize yourself with the interface (if you explore any of the Presets, just refresh the page at the end to get to the default setup, which is what we'll be using).\n",
    "\n",
    "In an atomistic simulation like this, we can extract diffusion coefficients by tracking the **mean squared displacement (MSD)** of atoms across the system trajectory, and the diffusion coefficient is related to the slope of MSD vs. time:\n",
    "\n",
    "$$\\mathrm{MSD} = 2nDt$$\n",
    "\n",
    "(where $n$ is the number of dimensions, so for the 2D case we'll be playing with here, $\\mathrm{MSD}=4Dt$)\n",
    "\n",
    "But things down at the atomistic level are _noisy_, so to get good estimates, we need LOTS of data! We'll explore a few different ways to collect a LOT of data here...\n",
    "\n",
    "## Approach 1: tracking individual atoms\n",
    "One way to collect a LOT of data is to collect the locations of a single particle at many, many time points. Let's try that first.\n",
    "\n",
    "First, we need to set up our experiment. We want to get our box to contain **2125 atoms and be at a nondimensional temperature of 0.55**. It's not completely trivial to fill up the box that far, and there are a number of different ways to do it. I'll demonstrate one during the lab session, which essentially involves repeatedly \"freezing\" the box, dragging up the number of atoms slider as far as it will go, and repeating. Then at the end, use the \"Faster\" (and/or \"Slower\" and 1% adjustment buttons) to get the temperature to the right level.\n",
    "\n",
    "Once you get to that density and temperature, we need to set things up to be able to collect data. Pause the simulation (top left button) if it's running, and do the following:\n",
    "1. Click the `↓Data↓` button on the bottom right of the window to expand the data collection pane.\n",
    "2. Change \"Data type\" to \"Selected Atom\" so we can write full trajectories for one atom at a time.\n",
    "3. Change the \"Mouse/touch\" dropdown near the top to \"Select\" and click on an atom near the middle of the box.\n",
    "4. Change the \"Auto interval\" dropdown (near the bottom of the window) to 10.\n",
    "\n",
    "The image below highlights elements of the interface you'll need to interact with/pay attention to:\n",
    "\n",
    "<img src=\"https://github.com/rkurchin/27100_diffusion_computational_lab/misc/md_figure.png?raw=true\" style=\"display: block; margin: 0 auto; max-height:600px;\">\n",
    "\n",
    "Once you have everything set up, you're ready to collect data! Click the \"Reset stats\" button, and then \"Resume\" – data should begin writing out in the box automatically.\n",
    "\n",
    "As another note to speed things up, your computer should easily be able to handle running multiple of these at once. Go ahead and feel free to set things up in multiple browser windows (if you use tabs, it will pause or slow the simulation substantially when that tab is not in focus) to collect data simulataneously.\n",
    "\n",
    "Collect ten trajectories of a duration of at least 3000 time units and enter them in the boxes that appear when you evaluate the cells below. A few notes:\n",
    "* It's a good idea to select a different atom each time\n",
    "* Keep an eye on the temperature! It will drift up over time and you should adjust downwards between data collection runs if necessary (don't do it during data collection!)\n",
    "* It's easiest to keep track of things if you \"Reset stats\" between each run, but if you forget, just make sure your total duration (final timestamp minus initial) is at least 3000; the data processing code below will handle things just fine.\n",
    "\n",
    "\n",
    "> <b>🚨 Preserving data 🚨</b>\n",
    ">     \n",
    "> I strongly suggest also pasting your data into a local document on your machine. If you accidentally leave or refresh this page, you will lose data you have already entered!\n",
    "\n",
    "Paste in your first trajectory below – this should be the FULL contents of the box with the data in it, including the headers! Make sure that the quotation marks don't get replaced, so your data should end up between them, replacing ONLY the text itself. After you paste the data, evaluate the cell as you did above.\n",
    "\n",
    "NOTE: the data will be a very large block of text that might make scrolling in the notebook annoying; you can click the little blue bar to the left of the cell while your cursor is in it to collapse the display down to a manageable size. I found it easier to do this to all the cells after evaluating all of them."
   ]
  },
  {
   "cell_type": "code",
   "execution_count": null,
   "id": "b22876d7",
   "metadata": {
    "id": "b22876d7"
   },
   "outputs": [],
   "source": [
    "data01 = CSV.read(IOBuffer(\"replace this text with your data\"), DataFrame);"
   ]
  },
  {
   "cell_type": "markdown",
   "id": "e8c79e18",
   "metadata": {
    "id": "e8c79e18"
   },
   "source": [
    "Second trajectory goes here:"
   ]
  },
  {
   "cell_type": "code",
   "execution_count": null,
   "id": "1db5b2a7",
   "metadata": {
    "id": "1db5b2a7"
   },
   "outputs": [],
   "source": [
    "data02 = CSV.read(IOBuffer(\"replace this text with your data\"), DataFrame);"
   ]
  },
  {
   "cell_type": "markdown",
   "id": "2f1d88d0",
   "metadata": {
    "id": "2f1d88d0"
   },
   "source": [
    "And the third one:"
   ]
  },
  {
   "cell_type": "code",
   "execution_count": null,
   "id": "2fbb2131",
   "metadata": {
    "id": "2fbb2131"
   },
   "outputs": [],
   "source": [
    "data03 = CSV.read(IOBuffer(\"replace this text with your data\"), DataFrame);"
   ]
  },
  {
   "cell_type": "markdown",
   "id": "e06b8a98",
   "metadata": {
    "id": "e06b8a98"
   },
   "source": [
    "You get the idea..."
   ]
  },
  {
   "cell_type": "code",
   "execution_count": null,
   "id": "2c1e7ac1",
   "metadata": {
    "id": "2c1e7ac1"
   },
   "outputs": [],
   "source": [
    "data04 = CSV.read(IOBuffer(\"replace this text with your data\"), DataFrame);"
   ]
  },
  {
   "cell_type": "code",
   "execution_count": null,
   "id": "5e7d0e91",
   "metadata": {
    "id": "5e7d0e91"
   },
   "outputs": [],
   "source": [
    "data05 = CSV.read(IOBuffer(\"replace this text with your data\"), DataFrame);"
   ]
  },
  {
   "cell_type": "code",
   "execution_count": null,
   "id": "a94971ac",
   "metadata": {
    "id": "a94971ac"
   },
   "outputs": [],
   "source": [
    "data06 = CSV.read(IOBuffer(\"replace this text with your data\"), DataFrame);"
   ]
  },
  {
   "cell_type": "code",
   "execution_count": null,
   "id": "f378509b",
   "metadata": {
    "id": "f378509b"
   },
   "outputs": [],
   "source": [
    "data07 = CSV.read(IOBuffer(\"replace this text with your data\"), DataFrame);"
   ]
  },
  {
   "cell_type": "code",
   "execution_count": null,
   "id": "01b8e746",
   "metadata": {
    "id": "01b8e746"
   },
   "outputs": [],
   "source": [
    "data08 = CSV.read(IOBuffer(\"replace this text with your data\"), DataFrame);"
   ]
  },
  {
   "cell_type": "code",
   "execution_count": null,
   "id": "75d64f02",
   "metadata": {
    "id": "75d64f02"
   },
   "outputs": [],
   "source": [
    "data09 = CSV.read(IOBuffer(\"replace this text with your data\"), DataFrame);"
   ]
  },
  {
   "cell_type": "code",
   "execution_count": null,
   "id": "f8541a5a",
   "metadata": {
    "id": "f8541a5a"
   },
   "outputs": [],
   "source": [
    "data10 = CSV.read(IOBuffer(\"replace this text with your data\"), DataFrame);"
   ]
  },
  {
   "cell_type": "markdown",
   "id": "b99cb1cb",
   "metadata": {
    "id": "b99cb1cb"
   },
   "source": [
    "Run the cell below to define the function that will process the text you pasted in into a format we can work with."
   ]
  },
  {
   "cell_type": "code",
   "execution_count": null,
   "id": "b60b7900",
   "metadata": {
    "id": "b60b7900"
   },
   "outputs": [],
   "source": [
    "function process_raw_data(df)\n",
    "    # calculate squared displacement\n",
    "    df[:, :dsq] .= (df[:, :x].-df[1, :x]).^2 .+ (df[:, :y].-df[1,:y]).^2;\n",
    "\n",
    "    # round time values and uniformize start to be 0 to make later handling easier\n",
    "    df[:, :t] .= df[:, :t] .- df[1,:t];\n",
    "    df[:, :t] .= round.(df[:, :t], digits=0)\n",
    "\n",
    "    # drop columns we don't need\n",
    "    select!(df, [:t, :dsq]);\n",
    "\n",
    "    return df\n",
    "end"
   ]
  },
  {
   "cell_type": "markdown",
   "id": "c56e9d6d",
   "metadata": {
    "id": "c56e9d6d"
   },
   "source": [
    "Now we can read in each of the datasets using that function..."
   ]
  },
  {
   "cell_type": "code",
   "execution_count": null,
   "id": "acbec3a9",
   "metadata": {
    "id": "acbec3a9"
   },
   "outputs": [],
   "source": [
    "dfs = process_raw_data.([data01, data02, data03, data04, data05, data06, data07, data08, data09, data10]);"
   ]
  },
  {
   "cell_type": "markdown",
   "id": "282c33a9",
   "metadata": {
    "id": "282c33a9"
   },
   "source": [
    "...and visualize the squared displacement of each atom over time in a plot:"
   ]
  },
  {
   "cell_type": "code",
   "execution_count": null,
   "id": "78cd469e",
   "metadata": {
    "id": "78cd469e"
   },
   "outputs": [],
   "source": [
    "plot(dfs[1][:, :t], dfs[1][:, :dsq], label=\"atom 1\")\n",
    "\n",
    "for (i, df) in enumerate(dfs[2:end])\n",
    "    plot!(df[:, :t], df[:, :dsq], label=\"atom \"*string(i+1))\n",
    "end\n",
    "\n",
    "xlabel!(\"Time\")\n",
    "ylabel!(\"Squared Displacement (SD)\")"
   ]
  },
  {
   "cell_type": "markdown",
   "id": "f30d576d",
   "metadata": {
    "id": "f30d576d"
   },
   "source": [
    "> <b>💡 Lab memo prompt:</b> Inspect this plot and make some qualitative observations. Can you identify features in the plot that might correspond with aspects you observed while watching the simulation run? How does your plot compare to others'?\n",
    "\n",
    "To estimate $D$, we'll take the average over all the trajectories and fit a line to that data..."
   ]
  },
  {
   "cell_type": "code",
   "execution_count": null,
   "id": "70bee88a",
   "metadata": {
    "id": "70bee88a"
   },
   "outputs": [],
   "source": [
    "# trim to length and combine in one array\n",
    "min_steps = min([size(df,1) for df in dfs]...)\n",
    "tvals_singleatoms = dfs[1].t[1:min_steps]\n",
    "dsq_mat = zeros(min_steps, length(dfs))\n",
    "for (i,df) in enumerate(dfs)\n",
    "    num_steps = size(df, 1)\n",
    "    if num_steps > min_steps\n",
    "        delete!(df, min_steps+1:num_steps)\n",
    "    end\n",
    "    dsq_mat[:, i] = df.dsq\n",
    "end\n",
    "\n",
    "# find line of best fit (we will force it to go through origin because we know MSD should be 0 at t=0)\n",
    "msd_singleatoms = mean(dsq_mat, dims=2)[:,1]\n",
    "D_singleatoms = (tvals_singleatoms'*msd_singleatoms)[1,1]/(4*(tvals_singleatoms'*tvals_singleatoms))\n",
    "\n",
    "# and plot\n",
    "plot(tvals_singleatoms, msd_singleatoms, label=\"MSD data\")\n",
    "plot!(tvals_singleatoms, tvals_singleatoms .* 4D_singleatoms, lc=:black, label=\"line of best fit, D=\"*string(round(D_singleatoms, digits=6)))\n",
    "xlabel!(\"Time\")\n",
    "ylabel!(\"Mean Squared Displacement (MSD)\")"
   ]
  },
  {
   "cell_type": "markdown",
   "id": "3fa7330f",
   "metadata": {
    "id": "3fa7330f"
   },
   "source": [
    "Okay, so we have our first estimate of a nondimensional diffusivity!\n",
    "\n",
    "> <b>💡 Lab memo prompt:</b> Take note of your number and compare with some of the other people in the lab session. How much variation is there? What causes this variation?"
   ]
  },
  {
   "cell_type": "markdown",
   "id": "043697f8",
   "metadata": {
    "id": "043697f8"
   },
   "source": [
    "## Approach 2: Few snapshots of ALL the particles\n",
    "The MD engine also allows us to collect data in the form of snapshots of the locations of ALL particles. Let's try that now. We'll do just one simulation, again for about 3000 timesteps, and collect just four snapshots: One at the start, and one every 1000 timesteps. To set this up, you'll just need to:\n",
    "* Change \"Data type\" to \"All atoms\"\n",
    "* Reset stats, and then manually click \"Write data\" to get your first snapshot. Paste that into the first box below. Again, include ALL the contents of the box!\n",
    "* Run the simulation for about 1000 timesteps, pause, write the data, copy and paste into next box, and continue twice more. Make sure you note the $t$ value each time you pause and modify the numbers in the intervening cells!\n",
    "* Be sure to evaluate all the cells!"
   ]
  },
  {
   "cell_type": "code",
   "execution_count": null,
   "id": "ac52f65d",
   "metadata": {
    "id": "ac52f65d"
   },
   "outputs": [],
   "source": [
    "t0 = 0.0 # you can change this if your first snapshot wasn't at the zero timestamp"
   ]
  },
  {
   "cell_type": "code",
   "execution_count": null,
   "id": "ac25774f",
   "metadata": {
    "id": "ac25774f"
   },
   "outputs": [],
   "source": [
    "snapshot0 = CSV.read(IOBuffer(\"replace this text with your data\"), DataFrame, header=7)[!, [\"x       \",\"y       \"]];\n",
    "rename!(snapshot0, [:x, :y]);\n",
    "snapshot0.num = 1:size(snapshot0,1);"
   ]
  },
  {
   "cell_type": "code",
   "execution_count": null,
   "id": "f2116244",
   "metadata": {
    "id": "f2116244"
   },
   "outputs": [],
   "source": [
    "t1 = 1000.0 # change this number to your actual second timestamp"
   ]
  },
  {
   "cell_type": "code",
   "execution_count": null,
   "id": "82c29061",
   "metadata": {
    "id": "82c29061"
   },
   "outputs": [],
   "source": [
    "snapshot1 = CSV.read(IOBuffer(\"replace this text with your data\"), DataFrame, header=7)[!, [\"x       \",\"y       \"]];\n",
    "rename!(snapshot1, [:x, :y]);\n",
    "snapshot1.num = 1:size(snapshot1,1);"
   ]
  },
  {
   "cell_type": "code",
   "execution_count": null,
   "id": "1e10da24",
   "metadata": {
    "id": "1e10da24"
   },
   "outputs": [],
   "source": [
    "t2 = 2000.0 # update this one too"
   ]
  },
  {
   "cell_type": "code",
   "execution_count": null,
   "id": "35704edc",
   "metadata": {
    "id": "35704edc"
   },
   "outputs": [],
   "source": [
    "snapshot2 = CSV.read(IOBuffer(\"replace this text with your data\"), DataFrame, header=7)[!, [\"x       \",\"y       \"]];\n",
    "rename!(snapshot2, [:x, :y]);\n",
    "snapshot2.num = 1:size(snapshot2,1);"
   ]
  },
  {
   "cell_type": "code",
   "execution_count": null,
   "id": "80735fe4",
   "metadata": {
    "id": "80735fe4"
   },
   "outputs": [],
   "source": [
    "t3 = 3000.0 # don't forget me!"
   ]
  },
  {
   "cell_type": "code",
   "execution_count": null,
   "id": "ef9098d1",
   "metadata": {
    "id": "ef9098d1"
   },
   "outputs": [],
   "source": [
    "snapshot3 = CSV.read(IOBuffer(\"replace this text with your data\"), DataFrame, header=7)[!, [\"x       \",\"y       \"]];\n",
    "rename!(snapshot3, [:x, :y]);\n",
    "snapshot3.num = 1:size(snapshot3,1);"
   ]
  },
  {
   "cell_type": "markdown",
   "id": "e8530750",
   "metadata": {
    "id": "e8530750"
   },
   "source": [
    "Now process some things again..."
   ]
  },
  {
   "cell_type": "code",
   "execution_count": null,
   "id": "2a686378",
   "metadata": {
    "id": "2a686378"
   },
   "outputs": [],
   "source": [
    "n_atoms = size(snapshot0, 1)\n",
    "snapshots = [snapshot0, snapshot1, snapshot2, snapshot3]\n",
    "tvals_allatoms = [t0, t1, t2, t3] .- t0;"
   ]
  },
  {
   "cell_type": "code",
   "execution_count": null,
   "id": "5fcf0643",
   "metadata": {
    "id": "5fcf0643"
   },
   "outputs": [],
   "source": [
    "dsq = zeros(Float64, length(snapshots), n_atoms);\n",
    "\n",
    "for (i, sdf) in enumerate(snapshots)\n",
    "    d = sdf .- snapshots[1]\n",
    "    dsq[i, :] .= d.x .^2 + d.y .^2\n",
    "end\n",
    "\n",
    "msd_allatoms = mean(dsq, dims=2)[:,1];\n",
    "D_allatoms = inv(tvals_allatoms'*tvals_allatoms)*(tvals_allatoms'*msd_allatoms)[1,1]/4\n",
    "\n",
    "plot(tvals_allatoms, msd_allatoms, seriestype=:scatter)\n",
    "plot!(tvals_allatoms, tvals_allatoms .* 4D_allatoms, lc=:black, label=\"line of best fit, D=\"*string(round(D_allatoms, digits=6)))\n",
    "\n",
    "xlabel!(\"Time\")\n",
    "ylabel!(\"MSD\")"
   ]
  },
  {
   "cell_type": "markdown",
   "id": "e175c759",
   "metadata": {
    "id": "e175c759"
   },
   "source": [
    "> <b>💡 Lab memo prompt:</b> How different is this value from the one you obtained above? What do you think the source of this difference might be?\n",
    "\n",
    "We can visualize this average and best-fit line overlaid onto *all* of the data (i.e. squared displacement of each atom at each of the four timepoints) as well..."
   ]
  },
  {
   "cell_type": "code",
   "execution_count": null,
   "id": "5f0ace7e",
   "metadata": {
    "id": "5f0ace7e"
   },
   "outputs": [],
   "source": [
    "plot(tvals_allatoms, dsq[:,1], la=0.05, legend=false)\n",
    "for i in 2:2125\n",
    "    plot!(tvals_allatoms, dsq[:,i], la=0.1, legend=false)\n",
    "end\n",
    "\n",
    "plot!(tvals_allatoms, msd_allatoms, seriestype=:scatter)\n",
    "plot!(tvals_allatoms, tvals_allatoms .* 4D_allatoms, lc=:black, label=\"line of best fit, D=\"*string(round(D_allatoms, digits=6)))\n",
    "\n",
    "xlabel!(\"Time\")\n",
    "ylabel!(\"(M)SD\")"
   ]
  },
  {
   "cell_type": "markdown",
   "id": "235e91e8",
   "metadata": {
    "id": "235e91e8"
   },
   "source": [
    "That's a huge range of behaviors! I wonder if we can explain it somehow...you might have noticed that the particles near the wall seem to be able to \"slide\" along the wall much more easily...what if we sort the particles by how close they are to the wall in the first snapshot?"
   ]
  },
  {
   "cell_type": "code",
   "execution_count": null,
   "id": "c6a326a2",
   "metadata": {
    "id": "c6a326a2"
   },
   "outputs": [],
   "source": [
    "# function to compute initial distance from wall of each particle\n",
    "wall_dist(i) = round(Int, minimum(25 .- abs.([snapshots[1][i, :x], snapshots[1][i, :y]] .- 25)))+1\n",
    "dists = [wall_dist(i) for i in 1:n_atoms];\n",
    "\n",
    "# bin things out based on distance (cutoffs should start with 0)\n",
    "distance_bin(i; cutoffs=[0, 4, 9]) = sum(wall_dist(i) .> cutoffs)\n",
    "labels = [\"very close\", \"kinda close\", \"medium/far\"] # one for each cutoff\n",
    "\n",
    "# split indices by bin (there's almost certainly a smarter way to do this)\n",
    "bins = distance_bin.(1:n_atoms);\n",
    "n_bins = maximum(bins)\n",
    "inds_bins = [[j for j in 1:n_atoms if bins[j]==i] for i in 1:n_bins]\n",
    "\n",
    "# get averages within each bin...there's probably a smarter way to do this too\n",
    "msd_binned = zeros(Float64, length(snapshots), n_bins);\n",
    "\n",
    "for i in 1:length(snapshots)\n",
    "    dsq_here = dsq[i,:]\n",
    "    for j in 1:n_bins\n",
    "        msd_binned[i,j] = mean(dsq_here[inds_bins[j]])\n",
    "    end\n",
    "end"
   ]
  },
  {
   "cell_type": "code",
   "execution_count": null,
   "id": "bfc502c2",
   "metadata": {
    "id": "bfc502c2"
   },
   "outputs": [],
   "source": [
    "# plot averages per distance bin\n",
    "colors = cgrad(:redsblues, n_bins, rev=true, categorical=true)#, scale=:log)\n",
    "\n",
    "plot(tvals_allatoms, msd_binned[:, 1], label=labels[1], lc=colors[1], lw=2)\n",
    "for i in 2:n_bins\n",
    "    plot!(tvals_allatoms, msd_binned[:, i], label=labels[i], lc=colors[i], lw=2)\n",
    "end\n",
    "\n",
    "plot!(tvals_allatoms, msd_allatoms, seriestype=:scatter, label=\"averages\")\n",
    "plot!(tvals_allatoms, tvals_allatoms .* 4D_allatoms, lc=:black, ls=:dash, label=\"line of best fit, D=\"*string(round(D_allatoms, digits=6)))\n",
    "\n",
    "xlabel!(\"Time\")\n",
    "ylabel!(\"MSD\")"
   ]
  },
  {
   "cell_type": "markdown",
   "id": "cfbff223",
   "metadata": {
    "id": "cfbff223"
   },
   "source": [
    "This plot shows both the overall averages and line of best fit from above as well as the averages within each distance bin, that is, how close the particles start to the wall.\n",
    "\n",
    "> <b>💡 Lab memo prompt:</b> What do you notice when we visualize the data this way? How could the plot above help explain the one before?"
   ]
  },
  {
   "cell_type": "markdown",
   "id": "76d7ac9a",
   "metadata": {
    "id": "76d7ac9a"
   },
   "source": [
    "## But is this the same diffusion constant?\n",
    "\n",
    "The way we usually think about diffusivity (and the way we will mostly discuss it in lecture) is as a way to quantify how quickly material \"spreads out\" over time in a continuum setting. We can examine that in this atomistic context as well, by considering the population of atoms that starts in the \"middle strip\" of the box, and watching how they spread out during the simulation..."
   ]
  },
  {
   "cell_type": "code",
   "execution_count": null,
   "id": "db5cbfd8",
   "metadata": {
    "id": "db5cbfd8"
   },
   "outputs": [],
   "source": [
    "# collect the list of indices of the particles that start in the middle strip\n",
    "df = snapshots[1]\n",
    "nums = df[(23.5 .< df.x .< 26.5), :].num;"
   ]
  },
  {
   "cell_type": "code",
   "execution_count": null,
   "id": "f2d17420",
   "metadata": {
    "id": "f2d17420"
   },
   "outputs": [],
   "source": [
    "function concentration_profile(df, nums; slice_size=1.0, box_size=50.0)\n",
    "    bins = 0.0:slice_size:box_size\n",
    "    counts = zeros(Int, length(bins)-1)\n",
    "    df_here = filter(row -> row.num in nums, df)\n",
    "    for i in 1:length(bins)-1\n",
    "        counts[i] = size(df_here[(bins[i] .< df_here.x .< bins[i+1]), :], 1)\n",
    "    end\n",
    "    return 0.5 * (bins[1:end-1] .+ bins[2:end]), counts ./ (box_size*slice_size)\n",
    "end"
   ]
  },
  {
   "cell_type": "code",
   "execution_count": null,
   "id": "f1eed1f9-375a-49ab-939d-90f38f0ae2df",
   "metadata": {
    "id": "f1eed1f9-375a-49ab-939d-90f38f0ae2df"
   },
   "outputs": [],
   "source": [
    "profs = concentration_profile.(snapshots, Ref(nums))\n",
    "plot(profs[1], label=\"t=\"*string(tvals_allatoms[1]))\n",
    "plot!(profs[2], label=\"t=\"*string(tvals_allatoms[2]))\n",
    "plot!(profs[3], label=\"t=\"*string(tvals_allatoms[3]))\n",
    "plot!(profs[4], label=\"t=\"*string(tvals_allatoms[4]))\n",
    "xlabel!(\"x\")\n",
    "ylabel!(\"Concentration\")"
   ]
  },
  {
   "cell_type": "markdown",
   "id": "e9e0f2ea",
   "metadata": {
    "id": "e9e0f2ea"
   },
   "source": [
    "Okay, now hold that thought...\n",
    "# Continuum-Scale Diffusion: Fick's Laws\n",
    "For constant diffusivity $D$, the 1D diffusion equation reads\n",
    "$$\\frac{\\partial c}{\\partial t} = D\\frac{\\partial^2c}{\\partial x^2}$$\n",
    "\n",
    "which for a point release of total mass $M$ at the origin at $t=0$ has the solution\n",
    "\n",
    "$$c(x,t) = \\frac{M}{\\sqrt{4\\pi Dt}}\\exp\\left(-\\frac{x^2}{4Dt}\\right)$$\n",
    "\n",
    "(If you've taken multivariable calculus, you can verify that this $c(x,t)$ indeed satisfies the partial differential equation (PDE) above; if you've taken differential equations, you might even be able to solve the PDE to get this solution! Whether or not you've taken either of these classes, you should think about how good the \"point release\" assumption is for our case here...)\n",
    "\n",
    "In the cell below, modify the $D$ value at the top as needed to get the best fit you think you can between your model and your measured data across all four snapshots."
   ]
  },
  {
   "cell_type": "code",
   "execution_count": null,
   "id": "f696f014-c6df-4675-b790-485989e3bd43",
   "metadata": {
    "id": "f696f014-c6df-4675-b790-485989e3bd43"
   },
   "outputs": [],
   "source": [
    "# SET D VALUE IN THE NEXT LINE, LEAVE REST OF CELL ALONE\n",
    "D = 0.001\n",
    "\n",
    "xvals = 0:50\n",
    "t_offset = 700 # fudge factor to avoid making it try to plot the delta spike at t=0\n",
    "conc(x,t,D) = 2*exp(-(x-25)^2/(4*D*(t+t_offset))) /sqrt(4*pi*D*(t+t_offset))\n",
    "\n",
    "function make_plot(i; xvals=xvals, D=D)\n",
    "    tval = tvals_allatoms[i] + t_offset\n",
    "    c = conc.(xvals, Ref(tval), Ref(D))\n",
    "    p = plot(xvals, c, label=\"modeled\", title=\"timestamp \"*string(i))\n",
    "    plot!(p, profs[i]..., label=\"measured\")\n",
    "    return p\n",
    "end\n",
    "\n",
    "l = @layout [a b c d]\n",
    "plot(make_plot.(1:4)..., layout = l, size=(1000,300))"
   ]
  },
  {
   "cell_type": "markdown",
   "id": "679703f4",
   "metadata": {
    "id": "679703f4"
   },
   "source": [
    "> <b>💡 Lab memo prompt:</b> Which $D$ value seems to fit the data best this way? The one from the individual trajectories? The one from the snapshots? Or some other value? Include images of each timestep for what you visually assess to be the best-fitting value in your report."
   ]
  },
  {
   "cell_type": "code",
   "execution_count": null,
   "id": "hO7ovd-9i3cW",
   "metadata": {
    "id": "hO7ovd-9i3cW"
   },
   "outputs": [],
   "source": []
  }
 ],
 "metadata": {
  "@webio": {
   "lastCommId": null,
   "lastKernelId": null
  },
  "colab": {
   "include_colab_link": true,
   "provenance": []
  },
  "kernelspec": {
   "display_name": "Julia 1.11.5",
   "language": "julia",
   "name": "julia-1.11"
  },
  "language_info": {
   "file_extension": ".jl",
   "mimetype": "application/julia",
   "name": "julia",
   "version": "1.11.5"
  }
 },
 "nbformat": 4,
 "nbformat_minor": 5
}
