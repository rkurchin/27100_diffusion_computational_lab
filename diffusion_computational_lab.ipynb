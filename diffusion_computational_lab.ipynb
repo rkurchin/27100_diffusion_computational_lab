{
 "cells": [
  {
   "cell_type": "markdown",
   "id": "2471b8b6",
   "metadata": {},
   "source": [
    "# 27-100 Computational MSE Lab: Diffusion!\n",
    "Welcome to the computational lab! In these exercises, we'll explore diffusion at both the atomistic and continuum lengthscales. As you've seen by now, one of the hallmarks of \"MSE thinking\" is connecting across lengthscales – for example, understanding dislocation motion and how it leads to plastic deformation. We've talked some in lecture about atomistic mechanisms of diffusion (e.g. via vacancies) as well as how we describe it in a continuum setting (Fick's Laws). Here we'll explore how those ideas are connected to each other through a series of **computational experiments** that you'll be guided through. You will not need to be able to write any code yourself (though if you're curious, you'll be able to see the code that's being run).\n",
    "\n",
    "You'll also be able to see how such **computational experiments** can be very analogous to lab-based ones...keep this in mind as you work, and think about how computation can be similar to/different from experiments, and how the two approaches might complement each other!\n",
    "\n",
    "## What is this thing I'm reading?\n",
    "This is a Jupyter notebook, an environment for **literate programming**, where formatted text (like this) can be interspersed with interactively runnable code cells (like the ones immediately below this). Jupyter comes from Ju (Julia) + Py (Python) + R, and as the name suggests, it can run code in all three of these languages. This particular notebook is running Julia.\n",
    "\n",
    "To run a cell, simply select it by clicking on it and use <kbd>Shift</kbd> + <kbd>Enter</kbd> to execute the code. You'll need to execute each cell for things to work properly – many of them will create an interactive thing for you to work with, for example to paste data into for processing.\n",
    "\n",
    "Go ahead and run these first two cells below now – they will set up the computational environment so that all the needed packages will be loaded. When they've executed successfully, a number should appear to the left."
   ]
  },
  {
   "cell_type": "code",
   "execution_count": 1,
   "id": "0bdeb248",
   "metadata": {},
   "outputs": [
    {
     "name": "stderr",
     "output_type": "stream",
     "text": [
      "\u001b[32m\u001b[1m  Activating\u001b[22m\u001b[39m project at `/Volumes/Data/git_repos/27100_diffusion_computational_lab`\n"
     ]
    }
   ],
   "source": [
    "import Pkg; Pkg.activate(\".\")"
   ]
  },
  {
   "cell_type": "code",
   "execution_count": 112,
   "id": "d358c3ad",
   "metadata": {},
   "outputs": [],
   "source": [
    "using Interact\n",
    "using DataFrames\n",
    "using CSV\n",
    "using Plots\n",
    "using Statistics"
   ]
  },
  {
   "cell_type": "markdown",
   "id": "fac3c6f7",
   "metadata": {},
   "source": [
    "\n",
    "# Atomistic-Scale Diffusion: Molecular Dynamics\n",
    "We'll start by investigating diffusion at the atomistic scale, in a way that only simulations are capable of (at least right now)...by tracking positions of thousands of individual atoms at once! This uses a technique called **molecular dynamics**, where we choose a model interatomic potential (in this case, Lennard-Jones, which you explored on homework 5) and just run Newton's Laws between all pairs of particles to generate atomic trajectories.\n",
    "\n",
    "We'll use a nice online two-dimensional MD engine that you can access [here](https://physics.weber.edu/schroeder/md/). Start by opening it up and playing around a bit to familiarize yourself with the interface (if you explore any of the Presets, just refresh the page at the end to get to the default setup, which is what we'll be using).\n",
    "\n",
    "In an atomistic simulation like this, we can extract diffusion coefficients by tracking the **mean squared displacement (MSD)** of atoms across the system trajectory, and the diffusion coefficient is related to the slope of MSD vs. time: \n",
    "\n",
    "$$MSD = 2nDt$$\n",
    "\n",
    "(where $n$ is the number of dimensions)\n",
    "\n",
    "But things down at the atomistic level are _noisy_, so to get good estimates, we need LOTS of data! We'll explore a few different ways to collect a LOT of data here...\n",
    "\n",
    "## Approach 1: tracking individual atoms\n",
    "One way to collect a LOT of data is to collect very locations of a single particle at many, many time points. Let's try that first.\n",
    "\n",
    "[MORE DIRECTIONS HERE...]\n",
    "\n",
    ".85 (2125/2500), T=.55 roughly\n",
    "\n",
    "select new atom each time, write data every 10 steps, paste raw data into boxes below, etc. (10ish minutes per collection but you can probably run in a couple browser windows at once without much issue, turn down steps per frame if you want to make it faster)\n",
    "\n",
    "Paste in your first trajectory below:"
   ]
  },
  {
   "cell_type": "code",
   "execution_count": 299,
   "id": "f7e37af0",
   "metadata": {},
   "outputs": [
    {
     "data": {
      "application/vnd.webio.node+json": {
       "children": [
        {
         "children": [
          {
           "children": [],
           "instanceArgs": {
            "namespace": "html",
            "tag": "textarea"
           },
           "nodeType": "DOM",
           "props": {
            "attributes": {
             "data-bind": "value: value, valueUpdate: 'input'",
             "placeholder": "paste trajectory data here"
            },
            "className": "textarea ",
            "style": {}
           },
           "type": "node"
          }
         ],
         "instanceArgs": {
          "handlers": {
           "value": [
            "(function (val){return (val!=this.model[\"value\"]()) ? (this.valueFromJulia[\"value\"]=true, this.model[\"value\"](val)) : undefined})"
           ]
          },
          "id": "4240306119568929875",
          "imports": {
           "data": [
            {
             "name": "knockout",
             "type": "js",
             "url": "/assetserver/3268aa453acf20217634de8b759710ecfa84b18e-knockout.js"
            },
            {
             "name": "knockout_punches",
             "type": "js",
             "url": "/assetserver/fe2a192c367289f39b8280b58861b0e90803c10f-knockout_punches.js"
            },
            {
             "name": null,
             "type": "js",
             "url": "/assetserver/8e0549a7824595df033024a9ea05fa3859c5079f-all.js"
            },
            {
             "name": null,
             "type": "css",
             "url": "/assetserver/345b939b64724fad0a8c431b45abd44fe39a5151-style.css"
            },
            {
             "name": null,
             "type": "css",
             "url": "/assetserver/bd82aaaf98c6d450d881a2127a6bfb103be1802f-bulma_confined.min.css"
            }
           ],
           "type": "async_block"
          },
          "mount_callbacks": [
           "function () {\n    var handler = (function (ko, koPunches) {\n    ko.punches.enableAll();\n    ko.bindingHandlers.numericValue = {\n        init: function(element, valueAccessor, allBindings, data, context) {\n            var stringified = ko.observable(ko.unwrap(valueAccessor()));\n            stringified.subscribe(function(value) {\n                var val = parseFloat(value);\n                if (!isNaN(val)) {\n                    valueAccessor()(val);\n                }\n            });\n            valueAccessor().subscribe(function(value) {\n                var str = JSON.stringify(value);\n                if ((str == \"0\") && ([\"-0\", \"-0.\"].indexOf(stringified()) >= 0))\n                     return;\n                 if ([\"null\", \"\"].indexOf(str) >= 0)\n                     return;\n                stringified(str);\n            });\n            ko.applyBindingsToNode(\n                element,\n                {\n                    value: stringified,\n                    valueUpdate: allBindings.get('valueUpdate'),\n                },\n                context,\n            );\n        }\n    };\n    var json_data = {\"value\":WebIO.getval({\"name\":\"value\",\"scope\":\"4240306119568929875\",\"id\":\"74\",\"type\":\"observable\"})};\n    var self = this;\n    function AppViewModel() {\n        for (var key in json_data) {\n            var el = json_data[key];\n            this[key] = Array.isArray(el) ? ko.observableArray(el) : ko.observable(el);\n        }\n        \n        \n        [this[\"value\"].subscribe((function (val){!(this.valueFromJulia[\"value\"]) ? (WebIO.setval({\"name\":\"value\",\"scope\":\"4240306119568929875\",\"id\":\"74\",\"type\":\"observable\"},val)) : undefined; return this.valueFromJulia[\"value\"]=false}),self)]\n        \n    }\n    self.model = new AppViewModel();\n    self.valueFromJulia = {};\n    for (var key in json_data) {\n        self.valueFromJulia[key] = false;\n    }\n    ko.applyBindings(self.model, self.dom);\n}\n);\n    (WebIO.importBlock({\"data\":[{\"name\":\"knockout\",\"type\":\"js\",\"url\":\"/assetserver/3268aa453acf20217634de8b759710ecfa84b18e-knockout.js\"},{\"name\":\"knockout_punches\",\"type\":\"js\",\"url\":\"/assetserver/fe2a192c367289f39b8280b58861b0e90803c10f-knockout_punches.js\"}],\"type\":\"async_block\"})).then((imports) => handler.apply(this, imports));\n}\n"
          ],
          "observables": {
           "value": {
            "id": "74",
            "sync": false,
            "value": ""
           }
          },
          "systemjs_options": null
         },
         "nodeType": "Scope",
         "props": {},
         "type": "node"
        }
       ],
       "instanceArgs": {
        "namespace": "html",
        "tag": "div"
       },
       "nodeType": "DOM",
       "props": {
        "className": "field interact-widget"
       },
       "type": "node"
      },
      "text/html": [
       "<div\n",
       "    class=\"webio-mountpoint\"\n",
       "    data-webio-mountpoint=\"5936735350826713076\"\n",
       ">\n",
       "    <script>\n",
       "    (function(){\n",
       "    // Some integrations (namely, IJulia/Jupyter) use an alternate render pathway than\n",
       "    // just putting the html on the page. If WebIO isn't defined, then it's pretty likely\n",
       "    // that we're in one of those situations and the integration just isn't installed\n",
       "    // correctly.\n",
       "    if (typeof window.WebIO === \"undefined\") {\n",
       "        document\n",
       "            .querySelector('[data-webio-mountpoint=\"5936735350826713076\"]')\n",
       "            .innerHTML = (\n",
       "                '<div style=\"padding: 1em; background-color: #f8d6da; border: 1px solid #f5c6cb; font-weight: bold;\">' +\n",
       "                '<p><strong>WebIO not detected.</strong></p>' +\n",
       "                '<p>Please read ' +\n",
       "                '<a href=\"https://juliagizmos.github.io/WebIO.jl/latest/troubleshooting/not-detected/\" target=\"_blank\">the troubleshooting guide</a> ' +\n",
       "                'for more information on how to resolve this issue.</p>' +\n",
       "                '<p><a href=\"https://juliagizmos.github.io/WebIO.jl/latest/troubleshooting/not-detected/\" target=\"_blank\">https://juliagizmos.github.io/WebIO.jl/latest/troubleshooting/not-detected/</a></p>' +\n",
       "                '</div>'\n",
       "            );\n",
       "        return;\n",
       "    }\n",
       "    WebIO.mount(\n",
       "        document.querySelector('[data-webio-mountpoint=\"5936735350826713076\"]'),\n",
       "        {\"props\":{\"className\":\"field interact-widget\"},\"nodeType\":\"DOM\",\"type\":\"node\",\"instanceArgs\":{\"namespace\":\"html\",\"tag\":\"div\"},\"children\":[{\"props\":{},\"nodeType\":\"Scope\",\"type\":\"node\",\"instanceArgs\":{\"imports\":{\"data\":[{\"name\":\"knockout\",\"type\":\"js\",\"url\":\"\\/assetserver\\/3268aa453acf20217634de8b759710ecfa84b18e-knockout.js\"},{\"name\":\"knockout_punches\",\"type\":\"js\",\"url\":\"\\/assetserver\\/fe2a192c367289f39b8280b58861b0e90803c10f-knockout_punches.js\"},{\"name\":null,\"type\":\"js\",\"url\":\"\\/assetserver\\/8e0549a7824595df033024a9ea05fa3859c5079f-all.js\"},{\"name\":null,\"type\":\"css\",\"url\":\"\\/assetserver\\/345b939b64724fad0a8c431b45abd44fe39a5151-style.css\"},{\"name\":null,\"type\":\"css\",\"url\":\"\\/assetserver\\/bd82aaaf98c6d450d881a2127a6bfb103be1802f-bulma_confined.min.css\"}],\"type\":\"async_block\"},\"id\":\"4240306119568929875\",\"handlers\":{\"value\":[\"(function (val){return (val!=this.model[\\\"value\\\"]()) ? (this.valueFromJulia[\\\"value\\\"]=true, this.model[\\\"value\\\"](val)) : undefined})\"]},\"systemjs_options\":null,\"mount_callbacks\":[\"function () {\\n    var handler = (function (ko, koPunches) {\\n    ko.punches.enableAll();\\n    ko.bindingHandlers.numericValue = {\\n        init: function(element, valueAccessor, allBindings, data, context) {\\n            var stringified = ko.observable(ko.unwrap(valueAccessor()));\\n            stringified.subscribe(function(value) {\\n                var val = parseFloat(value);\\n                if (!isNaN(val)) {\\n                    valueAccessor()(val);\\n                }\\n            });\\n            valueAccessor().subscribe(function(value) {\\n                var str = JSON.stringify(value);\\n                if ((str == \\\"0\\\") && ([\\\"-0\\\", \\\"-0.\\\"].indexOf(stringified()) >= 0))\\n                     return;\\n                 if ([\\\"null\\\", \\\"\\\"].indexOf(str) >= 0)\\n                     return;\\n                stringified(str);\\n            });\\n            ko.applyBindingsToNode(\\n                element,\\n                {\\n                    value: stringified,\\n                    valueUpdate: allBindings.get('valueUpdate'),\\n                },\\n                context,\\n            );\\n        }\\n    };\\n    var json_data = {\\\"value\\\":WebIO.getval({\\\"name\\\":\\\"value\\\",\\\"scope\\\":\\\"4240306119568929875\\\",\\\"id\\\":\\\"74\\\",\\\"type\\\":\\\"observable\\\"})};\\n    var self = this;\\n    function AppViewModel() {\\n        for (var key in json_data) {\\n            var el = json_data[key];\\n            this[key] = Array.isArray(el) ? ko.observableArray(el) : ko.observable(el);\\n        }\\n        \\n        \\n        [this[\\\"value\\\"].subscribe((function (val){!(this.valueFromJulia[\\\"value\\\"]) ? (WebIO.setval({\\\"name\\\":\\\"value\\\",\\\"scope\\\":\\\"4240306119568929875\\\",\\\"id\\\":\\\"74\\\",\\\"type\\\":\\\"observable\\\"},val)) : undefined; return this.valueFromJulia[\\\"value\\\"]=false}),self)]\\n        \\n    }\\n    self.model = new AppViewModel();\\n    self.valueFromJulia = {};\\n    for (var key in json_data) {\\n        self.valueFromJulia[key] = false;\\n    }\\n    ko.applyBindings(self.model, self.dom);\\n}\\n);\\n    (WebIO.importBlock({\\\"data\\\":[{\\\"name\\\":\\\"knockout\\\",\\\"type\\\":\\\"js\\\",\\\"url\\\":\\\"\\/assetserver\\/3268aa453acf20217634de8b759710ecfa84b18e-knockout.js\\\"},{\\\"name\\\":\\\"knockout_punches\\\",\\\"type\\\":\\\"js\\\",\\\"url\\\":\\\"\\/assetserver\\/fe2a192c367289f39b8280b58861b0e90803c10f-knockout_punches.js\\\"}],\\\"type\\\":\\\"async_block\\\"})).then((imports) => handler.apply(this, imports));\\n}\\n\"],\"observables\":{\"value\":{\"sync\":false,\"id\":\"74\",\"value\":\"\"}}},\"children\":[{\"props\":{\"attributes\":{\"placeholder\":\"paste trajectory data here\",\"data-bind\":\"value: value, valueUpdate: 'input'\"},\"className\":\"textarea \",\"style\":{}},\"nodeType\":\"DOM\",\"type\":\"node\",\"instanceArgs\":{\"namespace\":\"html\",\"tag\":\"textarea\"},\"children\":[]}]}]},\n",
       "        window,\n",
       "    );\n",
       "    })()\n",
       "    </script>\n",
       "</div>\n"
      ],
      "text/plain": [
       "Node{WebIO.DOM}(WebIO.DOM(:html, :div), Any[Scope(Node{WebIO.DOM}(WebIO.DOM(:html, :textarea), Any[], Dict{Symbol, Any}(:attributes => Dict{Union{String, Symbol}, Any}(:placeholder => \"paste trajectory data here\", \"data-bind\" => \"value: value, valueUpdate: 'input'\"), :className => \"textarea \", :style => Dict{Any, Any}())), Dict{String, Tuple{AbstractObservable, Union{Nothing, Bool}}}(\"value\" => (Observable(\"\"), nothing)), Set{String}(), nothing, Asset[Asset(\"js\", \"knockout\", \"/Users/rkurchin/.julia/packages/Knockout/HReiN/src/../assets/knockout.js\"), Asset(\"js\", \"knockout_punches\", \"/Users/rkurchin/.julia/packages/Knockout/HReiN/src/../assets/knockout_punches.js\"), Asset(\"js\", nothing, \"/Users/rkurchin/.julia/packages/InteractBase/LJXv3/src/../assets/all.js\"), Asset(\"css\", nothing, \"/Users/rkurchin/.julia/packages/InteractBase/LJXv3/src/../assets/style.css\"), Asset(\"css\", nothing, \"/Users/rkurchin/.julia/packages/Interact/PENUy/src/../assets/bulma_confined.min.css\")], Dict{Any, Any}(\"value\" => Any[WebIO.JSString(\"(function (val){return (val!=this.model[\\\"value\\\"]()) ? (this.valueFromJulia[\\\"value\\\"]=true, this.model[\\\"value\\\"](val)) : undefined})\")]), WebIO.ConnectionPool(Channel{Any}(32), Set{AbstractConnection}(), Base.GenericCondition{ReentrantLock}(Base.InvasiveLinkedList{Task}(Task (runnable) @0x00000001ab4d5f90, Task (runnable) @0x00000001ab4d5f90), ReentrantLock(nothing, 0x00000000, 0x00, Base.GenericCondition{Base.Threads.SpinLock}(Base.InvasiveLinkedList{Task}(nothing, nothing), Base.Threads.SpinLock(0)), (2, 7029653520, 7119806208)))), WebIO.JSString[WebIO.JSString(\"function () {\\n    var handler = (function (ko, koPunches) {\\n    ko.punches.enableAll();\\n    ko.bindingHandlers.numericValue = {\\n        init: function(element, valueAccessor, allBindings, data, context) {\\n            var stringified = ko.observable(ko.unwrap(valueAccessor()));\\n            stringified.subscribe(function(value) {\\n                var val = parseFloat(value);\\n                if (!isNaN(val)) {\\n                    valueAccessor()(val);\\n                }\\n            });\\n            valueAccessor().subscribe(function(value) {\\n                var str = JSON.stringify(value);\\n                if ((str == \\\"0\\\") && ([\\\"-0\\\", \\\"-0.\\\"].indexOf(stringified()) >= 0))\\n                     return;\\n                 if ([\\\"null\\\", \\\"\\\"].indexOf(str) >= 0)\\n                     return;\\n                stringified(str);\\n            });\\n            ko.applyBindingsToNode(\\n                element,\\n                {\\n                    value: stringified,\\n                    valueUpdate: allBindings.get('valueUpdate'),\\n                },\\n                context,\\n            );\\n        }\\n    };\\n    var json_data = {\\\"value\\\":WebIO.getval({\\\"name\\\":\\\"value\\\",\\\"scope\\\":\\\"4240306119568929875\\\",\\\"id\\\":\\\"74\\\",\\\"type\\\":\\\"observable\\\"})};\\n    var self = this;\\n    function AppViewModel() {\\n        for (var key in json_data) {\\n            var el = json_data[key];\\n            this[key] = Array.isArray(el) ? ko.observableArray(el) : ko.observable(el);\\n        }\\n        \\n        \\n        [this[\\\"value\\\"].subscribe((function (val){!(this.valueFromJulia[\\\"value\\\"]) ? (WebIO.setval({\\\"name\\\":\\\"value\\\",\\\"scope\\\":\\\"4240306119568929875\\\",\\\"id\\\":\\\"74\\\",\\\"type\\\":\\\"observable\\\"},val)) : undefined; return this.valueFromJulia[\\\"value\\\"]=false}),self)]\\n        \\n    }\\n    self.model = new AppViewModel();\\n    self.valueFromJulia = {};\\n    for (var key in json_data) {\\n        self.valueFromJulia[key] = false;\\n    }\\n    ko.applyBindings(self.model, self.dom);\\n}\\n);\\n    (WebIO.importBlock({\\\"data\\\":[{\\\"name\\\":\\\"knockout\\\",\\\"type\\\":\\\"js\\\",\\\"url\\\":\\\"/assetserver/3268aa453acf20217634de8b759710ecfa84b18e-knockout.js\\\"},{\\\"name\\\":\\\"knockout_punches\\\",\\\"type\\\":\\\"js\\\",\\\"url\\\":\\\"/assetserver/fe2a192c367289f39b8280b58861b0e90803c10f-knockout_punches.js\\\"}],\\\"type\\\":\\\"async_block\\\"})).then((imports) => handler.apply(this, imports));\\n}\\n\")])], Dict{Symbol, Any}(:className => \"field interact-widget\"))"
      ]
     },
     "execution_count": 299,
     "metadata": {
      "application/vnd.webio.node+json": {
       "kernelId": "4e6e0d91-fec6-4376-b6ac-dd9da4ee78d8"
      }
     },
     "output_type": "execute_result"
    }
   ],
   "source": [
    "data1 = Widgets.textarea(\"paste trajectory data here\")"
   ]
  },
  {
   "cell_type": "markdown",
   "id": "ae191bea",
   "metadata": {},
   "source": [
    "Second trajectory goes here:"
   ]
  },
  {
   "cell_type": "code",
   "execution_count": 300,
   "id": "d0aa2725",
   "metadata": {},
   "outputs": [
    {
     "data": {
      "application/vnd.webio.node+json": {
       "children": [
        {
         "children": [
          {
           "children": [],
           "instanceArgs": {
            "namespace": "html",
            "tag": "textarea"
           },
           "nodeType": "DOM",
           "props": {
            "attributes": {
             "data-bind": "value: value, valueUpdate: 'input'",
             "placeholder": "paste trajectory data here"
            },
            "className": "textarea ",
            "style": {}
           },
           "type": "node"
          }
         ],
         "instanceArgs": {
          "handlers": {
           "value": [
            "(function (val){return (val!=this.model[\"value\"]()) ? (this.valueFromJulia[\"value\"]=true, this.model[\"value\"](val)) : undefined})"
           ]
          },
          "id": "3968705946854792669",
          "imports": {
           "data": [
            {
             "name": "knockout",
             "type": "js",
             "url": "/assetserver/3268aa453acf20217634de8b759710ecfa84b18e-knockout.js"
            },
            {
             "name": "knockout_punches",
             "type": "js",
             "url": "/assetserver/fe2a192c367289f39b8280b58861b0e90803c10f-knockout_punches.js"
            },
            {
             "name": null,
             "type": "js",
             "url": "/assetserver/8e0549a7824595df033024a9ea05fa3859c5079f-all.js"
            },
            {
             "name": null,
             "type": "css",
             "url": "/assetserver/345b939b64724fad0a8c431b45abd44fe39a5151-style.css"
            },
            {
             "name": null,
             "type": "css",
             "url": "/assetserver/bd82aaaf98c6d450d881a2127a6bfb103be1802f-bulma_confined.min.css"
            }
           ],
           "type": "async_block"
          },
          "mount_callbacks": [
           "function () {\n    var handler = (function (ko, koPunches) {\n    ko.punches.enableAll();\n    ko.bindingHandlers.numericValue = {\n        init: function(element, valueAccessor, allBindings, data, context) {\n            var stringified = ko.observable(ko.unwrap(valueAccessor()));\n            stringified.subscribe(function(value) {\n                var val = parseFloat(value);\n                if (!isNaN(val)) {\n                    valueAccessor()(val);\n                }\n            });\n            valueAccessor().subscribe(function(value) {\n                var str = JSON.stringify(value);\n                if ((str == \"0\") && ([\"-0\", \"-0.\"].indexOf(stringified()) >= 0))\n                     return;\n                 if ([\"null\", \"\"].indexOf(str) >= 0)\n                     return;\n                stringified(str);\n            });\n            ko.applyBindingsToNode(\n                element,\n                {\n                    value: stringified,\n                    valueUpdate: allBindings.get('valueUpdate'),\n                },\n                context,\n            );\n        }\n    };\n    var json_data = {\"value\":WebIO.getval({\"name\":\"value\",\"scope\":\"3968705946854792669\",\"id\":\"75\",\"type\":\"observable\"})};\n    var self = this;\n    function AppViewModel() {\n        for (var key in json_data) {\n            var el = json_data[key];\n            this[key] = Array.isArray(el) ? ko.observableArray(el) : ko.observable(el);\n        }\n        \n        \n        [this[\"value\"].subscribe((function (val){!(this.valueFromJulia[\"value\"]) ? (WebIO.setval({\"name\":\"value\",\"scope\":\"3968705946854792669\",\"id\":\"75\",\"type\":\"observable\"},val)) : undefined; return this.valueFromJulia[\"value\"]=false}),self)]\n        \n    }\n    self.model = new AppViewModel();\n    self.valueFromJulia = {};\n    for (var key in json_data) {\n        self.valueFromJulia[key] = false;\n    }\n    ko.applyBindings(self.model, self.dom);\n}\n);\n    (WebIO.importBlock({\"data\":[{\"name\":\"knockout\",\"type\":\"js\",\"url\":\"/assetserver/3268aa453acf20217634de8b759710ecfa84b18e-knockout.js\"},{\"name\":\"knockout_punches\",\"type\":\"js\",\"url\":\"/assetserver/fe2a192c367289f39b8280b58861b0e90803c10f-knockout_punches.js\"}],\"type\":\"async_block\"})).then((imports) => handler.apply(this, imports));\n}\n"
          ],
          "observables": {
           "value": {
            "id": "75",
            "sync": false,
            "value": ""
           }
          },
          "systemjs_options": null
         },
         "nodeType": "Scope",
         "props": {},
         "type": "node"
        }
       ],
       "instanceArgs": {
        "namespace": "html",
        "tag": "div"
       },
       "nodeType": "DOM",
       "props": {
        "className": "field interact-widget"
       },
       "type": "node"
      },
      "text/html": [
       "<div\n",
       "    class=\"webio-mountpoint\"\n",
       "    data-webio-mountpoint=\"14665507319528871792\"\n",
       ">\n",
       "    <script>\n",
       "    (function(){\n",
       "    // Some integrations (namely, IJulia/Jupyter) use an alternate render pathway than\n",
       "    // just putting the html on the page. If WebIO isn't defined, then it's pretty likely\n",
       "    // that we're in one of those situations and the integration just isn't installed\n",
       "    // correctly.\n",
       "    if (typeof window.WebIO === \"undefined\") {\n",
       "        document\n",
       "            .querySelector('[data-webio-mountpoint=\"14665507319528871792\"]')\n",
       "            .innerHTML = (\n",
       "                '<div style=\"padding: 1em; background-color: #f8d6da; border: 1px solid #f5c6cb; font-weight: bold;\">' +\n",
       "                '<p><strong>WebIO not detected.</strong></p>' +\n",
       "                '<p>Please read ' +\n",
       "                '<a href=\"https://juliagizmos.github.io/WebIO.jl/latest/troubleshooting/not-detected/\" target=\"_blank\">the troubleshooting guide</a> ' +\n",
       "                'for more information on how to resolve this issue.</p>' +\n",
       "                '<p><a href=\"https://juliagizmos.github.io/WebIO.jl/latest/troubleshooting/not-detected/\" target=\"_blank\">https://juliagizmos.github.io/WebIO.jl/latest/troubleshooting/not-detected/</a></p>' +\n",
       "                '</div>'\n",
       "            );\n",
       "        return;\n",
       "    }\n",
       "    WebIO.mount(\n",
       "        document.querySelector('[data-webio-mountpoint=\"14665507319528871792\"]'),\n",
       "        {\"props\":{\"className\":\"field interact-widget\"},\"nodeType\":\"DOM\",\"type\":\"node\",\"instanceArgs\":{\"namespace\":\"html\",\"tag\":\"div\"},\"children\":[{\"props\":{},\"nodeType\":\"Scope\",\"type\":\"node\",\"instanceArgs\":{\"imports\":{\"data\":[{\"name\":\"knockout\",\"type\":\"js\",\"url\":\"\\/assetserver\\/3268aa453acf20217634de8b759710ecfa84b18e-knockout.js\"},{\"name\":\"knockout_punches\",\"type\":\"js\",\"url\":\"\\/assetserver\\/fe2a192c367289f39b8280b58861b0e90803c10f-knockout_punches.js\"},{\"name\":null,\"type\":\"js\",\"url\":\"\\/assetserver\\/8e0549a7824595df033024a9ea05fa3859c5079f-all.js\"},{\"name\":null,\"type\":\"css\",\"url\":\"\\/assetserver\\/345b939b64724fad0a8c431b45abd44fe39a5151-style.css\"},{\"name\":null,\"type\":\"css\",\"url\":\"\\/assetserver\\/bd82aaaf98c6d450d881a2127a6bfb103be1802f-bulma_confined.min.css\"}],\"type\":\"async_block\"},\"id\":\"3968705946854792669\",\"handlers\":{\"value\":[\"(function (val){return (val!=this.model[\\\"value\\\"]()) ? (this.valueFromJulia[\\\"value\\\"]=true, this.model[\\\"value\\\"](val)) : undefined})\"]},\"systemjs_options\":null,\"mount_callbacks\":[\"function () {\\n    var handler = (function (ko, koPunches) {\\n    ko.punches.enableAll();\\n    ko.bindingHandlers.numericValue = {\\n        init: function(element, valueAccessor, allBindings, data, context) {\\n            var stringified = ko.observable(ko.unwrap(valueAccessor()));\\n            stringified.subscribe(function(value) {\\n                var val = parseFloat(value);\\n                if (!isNaN(val)) {\\n                    valueAccessor()(val);\\n                }\\n            });\\n            valueAccessor().subscribe(function(value) {\\n                var str = JSON.stringify(value);\\n                if ((str == \\\"0\\\") && ([\\\"-0\\\", \\\"-0.\\\"].indexOf(stringified()) >= 0))\\n                     return;\\n                 if ([\\\"null\\\", \\\"\\\"].indexOf(str) >= 0)\\n                     return;\\n                stringified(str);\\n            });\\n            ko.applyBindingsToNode(\\n                element,\\n                {\\n                    value: stringified,\\n                    valueUpdate: allBindings.get('valueUpdate'),\\n                },\\n                context,\\n            );\\n        }\\n    };\\n    var json_data = {\\\"value\\\":WebIO.getval({\\\"name\\\":\\\"value\\\",\\\"scope\\\":\\\"3968705946854792669\\\",\\\"id\\\":\\\"75\\\",\\\"type\\\":\\\"observable\\\"})};\\n    var self = this;\\n    function AppViewModel() {\\n        for (var key in json_data) {\\n            var el = json_data[key];\\n            this[key] = Array.isArray(el) ? ko.observableArray(el) : ko.observable(el);\\n        }\\n        \\n        \\n        [this[\\\"value\\\"].subscribe((function (val){!(this.valueFromJulia[\\\"value\\\"]) ? (WebIO.setval({\\\"name\\\":\\\"value\\\",\\\"scope\\\":\\\"3968705946854792669\\\",\\\"id\\\":\\\"75\\\",\\\"type\\\":\\\"observable\\\"},val)) : undefined; return this.valueFromJulia[\\\"value\\\"]=false}),self)]\\n        \\n    }\\n    self.model = new AppViewModel();\\n    self.valueFromJulia = {};\\n    for (var key in json_data) {\\n        self.valueFromJulia[key] = false;\\n    }\\n    ko.applyBindings(self.model, self.dom);\\n}\\n);\\n    (WebIO.importBlock({\\\"data\\\":[{\\\"name\\\":\\\"knockout\\\",\\\"type\\\":\\\"js\\\",\\\"url\\\":\\\"\\/assetserver\\/3268aa453acf20217634de8b759710ecfa84b18e-knockout.js\\\"},{\\\"name\\\":\\\"knockout_punches\\\",\\\"type\\\":\\\"js\\\",\\\"url\\\":\\\"\\/assetserver\\/fe2a192c367289f39b8280b58861b0e90803c10f-knockout_punches.js\\\"}],\\\"type\\\":\\\"async_block\\\"})).then((imports) => handler.apply(this, imports));\\n}\\n\"],\"observables\":{\"value\":{\"sync\":false,\"id\":\"75\",\"value\":\"\"}}},\"children\":[{\"props\":{\"attributes\":{\"placeholder\":\"paste trajectory data here\",\"data-bind\":\"value: value, valueUpdate: 'input'\"},\"className\":\"textarea \",\"style\":{}},\"nodeType\":\"DOM\",\"type\":\"node\",\"instanceArgs\":{\"namespace\":\"html\",\"tag\":\"textarea\"},\"children\":[]}]}]},\n",
       "        window,\n",
       "    );\n",
       "    })()\n",
       "    </script>\n",
       "</div>\n"
      ],
      "text/plain": [
       "Node{WebIO.DOM}(WebIO.DOM(:html, :div), Any[Scope(Node{WebIO.DOM}(WebIO.DOM(:html, :textarea), Any[], Dict{Symbol, Any}(:attributes => Dict{Union{String, Symbol}, Any}(:placeholder => \"paste trajectory data here\", \"data-bind\" => \"value: value, valueUpdate: 'input'\"), :className => \"textarea \", :style => Dict{Any, Any}())), Dict{String, Tuple{AbstractObservable, Union{Nothing, Bool}}}(\"value\" => (Observable(\"\"), nothing)), Set{String}(), nothing, Asset[Asset(\"js\", \"knockout\", \"/Users/rkurchin/.julia/packages/Knockout/HReiN/src/../assets/knockout.js\"), Asset(\"js\", \"knockout_punches\", \"/Users/rkurchin/.julia/packages/Knockout/HReiN/src/../assets/knockout_punches.js\"), Asset(\"js\", nothing, \"/Users/rkurchin/.julia/packages/InteractBase/LJXv3/src/../assets/all.js\"), Asset(\"css\", nothing, \"/Users/rkurchin/.julia/packages/InteractBase/LJXv3/src/../assets/style.css\"), Asset(\"css\", nothing, \"/Users/rkurchin/.julia/packages/Interact/PENUy/src/../assets/bulma_confined.min.css\")], Dict{Any, Any}(\"value\" => Any[WebIO.JSString(\"(function (val){return (val!=this.model[\\\"value\\\"]()) ? (this.valueFromJulia[\\\"value\\\"]=true, this.model[\\\"value\\\"](val)) : undefined})\")]), WebIO.ConnectionPool(Channel{Any}(32), Set{AbstractConnection}(), Base.GenericCondition{ReentrantLock}(Base.InvasiveLinkedList{Task}(Task (runnable) @0x00000001ab71ae00, Task (runnable) @0x00000001ab71ae00), ReentrantLock(nothing, 0x00000000, 0x00, Base.GenericCondition{Base.Threads.SpinLock}(Base.InvasiveLinkedList{Task}(nothing, nothing), Base.Threads.SpinLock(0)), (6, 0, 7010825792)))), WebIO.JSString[WebIO.JSString(\"function () {\\n    var handler = (function (ko, koPunches) {\\n    ko.punches.enableAll();\\n    ko.bindingHandlers.numericValue = {\\n        init: function(element, valueAccessor, allBindings, data, context) {\\n            var stringified = ko.observable(ko.unwrap(valueAccessor()));\\n            stringified.subscribe(function(value) {\\n                var val = parseFloat(value);\\n                if (!isNaN(val)) {\\n                    valueAccessor()(val);\\n                }\\n            });\\n            valueAccessor().subscribe(function(value) {\\n                var str = JSON.stringify(value);\\n                if ((str == \\\"0\\\") && ([\\\"-0\\\", \\\"-0.\\\"].indexOf(stringified()) >= 0))\\n                     return;\\n                 if ([\\\"null\\\", \\\"\\\"].indexOf(str) >= 0)\\n                     return;\\n                stringified(str);\\n            });\\n            ko.applyBindingsToNode(\\n                element,\\n                {\\n                    value: stringified,\\n                    valueUpdate: allBindings.get('valueUpdate'),\\n                },\\n                context,\\n            );\\n        }\\n    };\\n    var json_data = {\\\"value\\\":WebIO.getval({\\\"name\\\":\\\"value\\\",\\\"scope\\\":\\\"3968705946854792669\\\",\\\"id\\\":\\\"75\\\",\\\"type\\\":\\\"observable\\\"})};\\n    var self = this;\\n    function AppViewModel() {\\n        for (var key in json_data) {\\n            var el = json_data[key];\\n            this[key] = Array.isArray(el) ? ko.observableArray(el) : ko.observable(el);\\n        }\\n        \\n        \\n        [this[\\\"value\\\"].subscribe((function (val){!(this.valueFromJulia[\\\"value\\\"]) ? (WebIO.setval({\\\"name\\\":\\\"value\\\",\\\"scope\\\":\\\"3968705946854792669\\\",\\\"id\\\":\\\"75\\\",\\\"type\\\":\\\"observable\\\"},val)) : undefined; return this.valueFromJulia[\\\"value\\\"]=false}),self)]\\n        \\n    }\\n    self.model = new AppViewModel();\\n    self.valueFromJulia = {};\\n    for (var key in json_data) {\\n        self.valueFromJulia[key] = false;\\n    }\\n    ko.applyBindings(self.model, self.dom);\\n}\\n);\\n    (WebIO.importBlock({\\\"data\\\":[{\\\"name\\\":\\\"knockout\\\",\\\"type\\\":\\\"js\\\",\\\"url\\\":\\\"/assetserver/3268aa453acf20217634de8b759710ecfa84b18e-knockout.js\\\"},{\\\"name\\\":\\\"knockout_punches\\\",\\\"type\\\":\\\"js\\\",\\\"url\\\":\\\"/assetserver/fe2a192c367289f39b8280b58861b0e90803c10f-knockout_punches.js\\\"}],\\\"type\\\":\\\"async_block\\\"})).then((imports) => handler.apply(this, imports));\\n}\\n\")])], Dict{Symbol, Any}(:className => \"field interact-widget\"))"
      ]
     },
     "execution_count": 300,
     "metadata": {
      "application/vnd.webio.node+json": {
       "kernelId": "4e6e0d91-fec6-4376-b6ac-dd9da4ee78d8"
      }
     },
     "output_type": "execute_result"
    }
   ],
   "source": [
    "data2 = Widgets.textarea(\"paste trajectory data here\")"
   ]
  },
  {
   "cell_type": "markdown",
   "id": "aa1883f1",
   "metadata": {},
   "source": [
    "And the third one:"
   ]
  },
  {
   "cell_type": "code",
   "execution_count": 301,
   "id": "06e3ec4c",
   "metadata": {},
   "outputs": [
    {
     "data": {
      "application/vnd.webio.node+json": {
       "children": [
        {
         "children": [
          {
           "children": [],
           "instanceArgs": {
            "namespace": "html",
            "tag": "textarea"
           },
           "nodeType": "DOM",
           "props": {
            "attributes": {
             "data-bind": "value: value, valueUpdate: 'input'",
             "placeholder": "paste trajectory data here"
            },
            "className": "textarea ",
            "style": {}
           },
           "type": "node"
          }
         ],
         "instanceArgs": {
          "handlers": {
           "value": [
            "(function (val){return (val!=this.model[\"value\"]()) ? (this.valueFromJulia[\"value\"]=true, this.model[\"value\"](val)) : undefined})"
           ]
          },
          "id": "14545974396135267865",
          "imports": {
           "data": [
            {
             "name": "knockout",
             "type": "js",
             "url": "/assetserver/3268aa453acf20217634de8b759710ecfa84b18e-knockout.js"
            },
            {
             "name": "knockout_punches",
             "type": "js",
             "url": "/assetserver/fe2a192c367289f39b8280b58861b0e90803c10f-knockout_punches.js"
            },
            {
             "name": null,
             "type": "js",
             "url": "/assetserver/8e0549a7824595df033024a9ea05fa3859c5079f-all.js"
            },
            {
             "name": null,
             "type": "css",
             "url": "/assetserver/345b939b64724fad0a8c431b45abd44fe39a5151-style.css"
            },
            {
             "name": null,
             "type": "css",
             "url": "/assetserver/bd82aaaf98c6d450d881a2127a6bfb103be1802f-bulma_confined.min.css"
            }
           ],
           "type": "async_block"
          },
          "mount_callbacks": [
           "function () {\n    var handler = (function (ko, koPunches) {\n    ko.punches.enableAll();\n    ko.bindingHandlers.numericValue = {\n        init: function(element, valueAccessor, allBindings, data, context) {\n            var stringified = ko.observable(ko.unwrap(valueAccessor()));\n            stringified.subscribe(function(value) {\n                var val = parseFloat(value);\n                if (!isNaN(val)) {\n                    valueAccessor()(val);\n                }\n            });\n            valueAccessor().subscribe(function(value) {\n                var str = JSON.stringify(value);\n                if ((str == \"0\") && ([\"-0\", \"-0.\"].indexOf(stringified()) >= 0))\n                     return;\n                 if ([\"null\", \"\"].indexOf(str) >= 0)\n                     return;\n                stringified(str);\n            });\n            ko.applyBindingsToNode(\n                element,\n                {\n                    value: stringified,\n                    valueUpdate: allBindings.get('valueUpdate'),\n                },\n                context,\n            );\n        }\n    };\n    var json_data = {\"value\":WebIO.getval({\"name\":\"value\",\"scope\":\"14545974396135267865\",\"id\":\"76\",\"type\":\"observable\"})};\n    var self = this;\n    function AppViewModel() {\n        for (var key in json_data) {\n            var el = json_data[key];\n            this[key] = Array.isArray(el) ? ko.observableArray(el) : ko.observable(el);\n        }\n        \n        \n        [this[\"value\"].subscribe((function (val){!(this.valueFromJulia[\"value\"]) ? (WebIO.setval({\"name\":\"value\",\"scope\":\"14545974396135267865\",\"id\":\"76\",\"type\":\"observable\"},val)) : undefined; return this.valueFromJulia[\"value\"]=false}),self)]\n        \n    }\n    self.model = new AppViewModel();\n    self.valueFromJulia = {};\n    for (var key in json_data) {\n        self.valueFromJulia[key] = false;\n    }\n    ko.applyBindings(self.model, self.dom);\n}\n);\n    (WebIO.importBlock({\"data\":[{\"name\":\"knockout\",\"type\":\"js\",\"url\":\"/assetserver/3268aa453acf20217634de8b759710ecfa84b18e-knockout.js\"},{\"name\":\"knockout_punches\",\"type\":\"js\",\"url\":\"/assetserver/fe2a192c367289f39b8280b58861b0e90803c10f-knockout_punches.js\"}],\"type\":\"async_block\"})).then((imports) => handler.apply(this, imports));\n}\n"
          ],
          "observables": {
           "value": {
            "id": "76",
            "sync": false,
            "value": ""
           }
          },
          "systemjs_options": null
         },
         "nodeType": "Scope",
         "props": {},
         "type": "node"
        }
       ],
       "instanceArgs": {
        "namespace": "html",
        "tag": "div"
       },
       "nodeType": "DOM",
       "props": {
        "className": "field interact-widget"
       },
       "type": "node"
      },
      "text/html": [
       "<div\n",
       "    class=\"webio-mountpoint\"\n",
       "    data-webio-mountpoint=\"1244335590740042301\"\n",
       ">\n",
       "    <script>\n",
       "    (function(){\n",
       "    // Some integrations (namely, IJulia/Jupyter) use an alternate render pathway than\n",
       "    // just putting the html on the page. If WebIO isn't defined, then it's pretty likely\n",
       "    // that we're in one of those situations and the integration just isn't installed\n",
       "    // correctly.\n",
       "    if (typeof window.WebIO === \"undefined\") {\n",
       "        document\n",
       "            .querySelector('[data-webio-mountpoint=\"1244335590740042301\"]')\n",
       "            .innerHTML = (\n",
       "                '<div style=\"padding: 1em; background-color: #f8d6da; border: 1px solid #f5c6cb; font-weight: bold;\">' +\n",
       "                '<p><strong>WebIO not detected.</strong></p>' +\n",
       "                '<p>Please read ' +\n",
       "                '<a href=\"https://juliagizmos.github.io/WebIO.jl/latest/troubleshooting/not-detected/\" target=\"_blank\">the troubleshooting guide</a> ' +\n",
       "                'for more information on how to resolve this issue.</p>' +\n",
       "                '<p><a href=\"https://juliagizmos.github.io/WebIO.jl/latest/troubleshooting/not-detected/\" target=\"_blank\">https://juliagizmos.github.io/WebIO.jl/latest/troubleshooting/not-detected/</a></p>' +\n",
       "                '</div>'\n",
       "            );\n",
       "        return;\n",
       "    }\n",
       "    WebIO.mount(\n",
       "        document.querySelector('[data-webio-mountpoint=\"1244335590740042301\"]'),\n",
       "        {\"props\":{\"className\":\"field interact-widget\"},\"nodeType\":\"DOM\",\"type\":\"node\",\"instanceArgs\":{\"namespace\":\"html\",\"tag\":\"div\"},\"children\":[{\"props\":{},\"nodeType\":\"Scope\",\"type\":\"node\",\"instanceArgs\":{\"imports\":{\"data\":[{\"name\":\"knockout\",\"type\":\"js\",\"url\":\"\\/assetserver\\/3268aa453acf20217634de8b759710ecfa84b18e-knockout.js\"},{\"name\":\"knockout_punches\",\"type\":\"js\",\"url\":\"\\/assetserver\\/fe2a192c367289f39b8280b58861b0e90803c10f-knockout_punches.js\"},{\"name\":null,\"type\":\"js\",\"url\":\"\\/assetserver\\/8e0549a7824595df033024a9ea05fa3859c5079f-all.js\"},{\"name\":null,\"type\":\"css\",\"url\":\"\\/assetserver\\/345b939b64724fad0a8c431b45abd44fe39a5151-style.css\"},{\"name\":null,\"type\":\"css\",\"url\":\"\\/assetserver\\/bd82aaaf98c6d450d881a2127a6bfb103be1802f-bulma_confined.min.css\"}],\"type\":\"async_block\"},\"id\":\"14545974396135267865\",\"handlers\":{\"value\":[\"(function (val){return (val!=this.model[\\\"value\\\"]()) ? (this.valueFromJulia[\\\"value\\\"]=true, this.model[\\\"value\\\"](val)) : undefined})\"]},\"systemjs_options\":null,\"mount_callbacks\":[\"function () {\\n    var handler = (function (ko, koPunches) {\\n    ko.punches.enableAll();\\n    ko.bindingHandlers.numericValue = {\\n        init: function(element, valueAccessor, allBindings, data, context) {\\n            var stringified = ko.observable(ko.unwrap(valueAccessor()));\\n            stringified.subscribe(function(value) {\\n                var val = parseFloat(value);\\n                if (!isNaN(val)) {\\n                    valueAccessor()(val);\\n                }\\n            });\\n            valueAccessor().subscribe(function(value) {\\n                var str = JSON.stringify(value);\\n                if ((str == \\\"0\\\") && ([\\\"-0\\\", \\\"-0.\\\"].indexOf(stringified()) >= 0))\\n                     return;\\n                 if ([\\\"null\\\", \\\"\\\"].indexOf(str) >= 0)\\n                     return;\\n                stringified(str);\\n            });\\n            ko.applyBindingsToNode(\\n                element,\\n                {\\n                    value: stringified,\\n                    valueUpdate: allBindings.get('valueUpdate'),\\n                },\\n                context,\\n            );\\n        }\\n    };\\n    var json_data = {\\\"value\\\":WebIO.getval({\\\"name\\\":\\\"value\\\",\\\"scope\\\":\\\"14545974396135267865\\\",\\\"id\\\":\\\"76\\\",\\\"type\\\":\\\"observable\\\"})};\\n    var self = this;\\n    function AppViewModel() {\\n        for (var key in json_data) {\\n            var el = json_data[key];\\n            this[key] = Array.isArray(el) ? ko.observableArray(el) : ko.observable(el);\\n        }\\n        \\n        \\n        [this[\\\"value\\\"].subscribe((function (val){!(this.valueFromJulia[\\\"value\\\"]) ? (WebIO.setval({\\\"name\\\":\\\"value\\\",\\\"scope\\\":\\\"14545974396135267865\\\",\\\"id\\\":\\\"76\\\",\\\"type\\\":\\\"observable\\\"},val)) : undefined; return this.valueFromJulia[\\\"value\\\"]=false}),self)]\\n        \\n    }\\n    self.model = new AppViewModel();\\n    self.valueFromJulia = {};\\n    for (var key in json_data) {\\n        self.valueFromJulia[key] = false;\\n    }\\n    ko.applyBindings(self.model, self.dom);\\n}\\n);\\n    (WebIO.importBlock({\\\"data\\\":[{\\\"name\\\":\\\"knockout\\\",\\\"type\\\":\\\"js\\\",\\\"url\\\":\\\"\\/assetserver\\/3268aa453acf20217634de8b759710ecfa84b18e-knockout.js\\\"},{\\\"name\\\":\\\"knockout_punches\\\",\\\"type\\\":\\\"js\\\",\\\"url\\\":\\\"\\/assetserver\\/fe2a192c367289f39b8280b58861b0e90803c10f-knockout_punches.js\\\"}],\\\"type\\\":\\\"async_block\\\"})).then((imports) => handler.apply(this, imports));\\n}\\n\"],\"observables\":{\"value\":{\"sync\":false,\"id\":\"76\",\"value\":\"\"}}},\"children\":[{\"props\":{\"attributes\":{\"placeholder\":\"paste trajectory data here\",\"data-bind\":\"value: value, valueUpdate: 'input'\"},\"className\":\"textarea \",\"style\":{}},\"nodeType\":\"DOM\",\"type\":\"node\",\"instanceArgs\":{\"namespace\":\"html\",\"tag\":\"textarea\"},\"children\":[]}]}]},\n",
       "        window,\n",
       "    );\n",
       "    })()\n",
       "    </script>\n",
       "</div>\n"
      ],
      "text/plain": [
       "Node{WebIO.DOM}(WebIO.DOM(:html, :div), Any[Scope(Node{WebIO.DOM}(WebIO.DOM(:html, :textarea), Any[], Dict{Symbol, Any}(:attributes => Dict{Union{String, Symbol}, Any}(:placeholder => \"paste trajectory data here\", \"data-bind\" => \"value: value, valueUpdate: 'input'\"), :className => \"textarea \", :style => Dict{Any, Any}())), Dict{String, Tuple{AbstractObservable, Union{Nothing, Bool}}}(\"value\" => (Observable(\"\"), nothing)), Set{String}(), nothing, Asset[Asset(\"js\", \"knockout\", \"/Users/rkurchin/.julia/packages/Knockout/HReiN/src/../assets/knockout.js\"), Asset(\"js\", \"knockout_punches\", \"/Users/rkurchin/.julia/packages/Knockout/HReiN/src/../assets/knockout_punches.js\"), Asset(\"js\", nothing, \"/Users/rkurchin/.julia/packages/InteractBase/LJXv3/src/../assets/all.js\"), Asset(\"css\", nothing, \"/Users/rkurchin/.julia/packages/InteractBase/LJXv3/src/../assets/style.css\"), Asset(\"css\", nothing, \"/Users/rkurchin/.julia/packages/Interact/PENUy/src/../assets/bulma_confined.min.css\")], Dict{Any, Any}(\"value\" => Any[WebIO.JSString(\"(function (val){return (val!=this.model[\\\"value\\\"]()) ? (this.valueFromJulia[\\\"value\\\"]=true, this.model[\\\"value\\\"](val)) : undefined})\")]), WebIO.ConnectionPool(Channel{Any}(32), Set{AbstractConnection}(), Base.GenericCondition{ReentrantLock}(Base.InvasiveLinkedList{Task}(Task (runnable) @0x00000001aba5d900, Task (runnable) @0x00000001aba5d900), ReentrantLock(nothing, 0x00000000, 0x00, Base.GenericCondition{Base.Threads.SpinLock}(Base.InvasiveLinkedList{Task}(nothing, nothing), Base.Threads.SpinLock(0)), (0, 7113492992, 4801178928)))), WebIO.JSString[WebIO.JSString(\"function () {\\n    var handler = (function (ko, koPunches) {\\n    ko.punches.enableAll();\\n    ko.bindingHandlers.numericValue = {\\n        init: function(element, valueAccessor, allBindings, data, context) {\\n            var stringified = ko.observable(ko.unwrap(valueAccessor()));\\n            stringified.subscribe(function(value) {\\n                var val = parseFloat(value);\\n                if (!isNaN(val)) {\\n                    valueAccessor()(val);\\n                }\\n            });\\n            valueAccessor().subscribe(function(value) {\\n                var str = JSON.stringify(value);\\n                if ((str == \\\"0\\\") && ([\\\"-0\\\", \\\"-0.\\\"].indexOf(stringified()) >= 0))\\n                     return;\\n                 if ([\\\"null\\\", \\\"\\\"].indexOf(str) >= 0)\\n                     return;\\n                stringified(str);\\n            });\\n            ko.applyBindingsToNode(\\n                element,\\n                {\\n                    value: stringified,\\n                    valueUpdate: allBindings.get('valueUpdate'),\\n                },\\n                context,\\n            );\\n        }\\n    };\\n    var json_data = {\\\"value\\\":WebIO.getval({\\\"name\\\":\\\"value\\\",\\\"scope\\\":\\\"14545974396135267865\\\",\\\"id\\\":\\\"76\\\",\\\"type\\\":\\\"observable\\\"})};\\n    var self = this;\\n    function AppViewModel() {\\n        for (var key in json_data) {\\n            var el = json_data[key];\\n            this[key] = Array.isArray(el) ? ko.observableArray(el) : ko.observable(el);\\n        }\\n        \\n        \\n        [this[\\\"value\\\"].subscribe((function (val){!(this.valueFromJulia[\\\"value\\\"]) ? (WebIO.setval({\\\"name\\\":\\\"value\\\",\\\"scope\\\":\\\"14545974396135267865\\\",\\\"id\\\":\\\"76\\\",\\\"type\\\":\\\"observable\\\"},val)) : undefined; return this.valueFromJulia[\\\"value\\\"]=false}),self)]\\n        \\n    }\\n    self.model = new AppViewModel();\\n    self.valueFromJulia = {};\\n    for (var key in json_data) {\\n        self.valueFromJulia[key] = false;\\n    }\\n    ko.applyBindings(self.model, self.dom);\\n}\\n);\\n    (WebIO.importBlock({\\\"data\\\":[{\\\"name\\\":\\\"knockout\\\",\\\"type\\\":\\\"js\\\",\\\"url\\\":\\\"/assetserver/3268aa453acf20217634de8b759710ecfa84b18e-knockout.js\\\"},{\\\"name\\\":\\\"knockout_punches\\\",\\\"type\\\":\\\"js\\\",\\\"url\\\":\\\"/assetserver/fe2a192c367289f39b8280b58861b0e90803c10f-knockout_punches.js\\\"}],\\\"type\\\":\\\"async_block\\\"})).then((imports) => handler.apply(this, imports));\\n}\\n\")])], Dict{Symbol, Any}(:className => \"field interact-widget\"))"
      ]
     },
     "execution_count": 301,
     "metadata": {
      "application/vnd.webio.node+json": {
       "kernelId": "4e6e0d91-fec6-4376-b6ac-dd9da4ee78d8"
      }
     },
     "output_type": "execute_result"
    }
   ],
   "source": [
    "data3 = Widgets.textarea(\"paste trajectory data here\")"
   ]
  },
  {
   "cell_type": "markdown",
   "id": "2ccee2ec",
   "metadata": {},
   "source": [
    "You get the idea..."
   ]
  },
  {
   "cell_type": "code",
   "execution_count": 303,
   "id": "b345ca2e",
   "metadata": {},
   "outputs": [
    {
     "data": {
      "application/vnd.webio.node+json": {
       "children": [
        {
         "children": [
          {
           "children": [],
           "instanceArgs": {
            "namespace": "html",
            "tag": "textarea"
           },
           "nodeType": "DOM",
           "props": {
            "attributes": {
             "data-bind": "value: value, valueUpdate: 'input'",
             "placeholder": "paste trajectory data here"
            },
            "className": "textarea ",
            "style": {}
           },
           "type": "node"
          }
         ],
         "instanceArgs": {
          "handlers": {
           "value": [
            "(function (val){return (val!=this.model[\"value\"]()) ? (this.valueFromJulia[\"value\"]=true, this.model[\"value\"](val)) : undefined})"
           ]
          },
          "id": "11301822223989417677",
          "imports": {
           "data": [
            {
             "name": "knockout",
             "type": "js",
             "url": "/assetserver/3268aa453acf20217634de8b759710ecfa84b18e-knockout.js"
            },
            {
             "name": "knockout_punches",
             "type": "js",
             "url": "/assetserver/fe2a192c367289f39b8280b58861b0e90803c10f-knockout_punches.js"
            },
            {
             "name": null,
             "type": "js",
             "url": "/assetserver/8e0549a7824595df033024a9ea05fa3859c5079f-all.js"
            },
            {
             "name": null,
             "type": "css",
             "url": "/assetserver/345b939b64724fad0a8c431b45abd44fe39a5151-style.css"
            },
            {
             "name": null,
             "type": "css",
             "url": "/assetserver/bd82aaaf98c6d450d881a2127a6bfb103be1802f-bulma_confined.min.css"
            }
           ],
           "type": "async_block"
          },
          "mount_callbacks": [
           "function () {\n    var handler = (function (ko, koPunches) {\n    ko.punches.enableAll();\n    ko.bindingHandlers.numericValue = {\n        init: function(element, valueAccessor, allBindings, data, context) {\n            var stringified = ko.observable(ko.unwrap(valueAccessor()));\n            stringified.subscribe(function(value) {\n                var val = parseFloat(value);\n                if (!isNaN(val)) {\n                    valueAccessor()(val);\n                }\n            });\n            valueAccessor().subscribe(function(value) {\n                var str = JSON.stringify(value);\n                if ((str == \"0\") && ([\"-0\", \"-0.\"].indexOf(stringified()) >= 0))\n                     return;\n                 if ([\"null\", \"\"].indexOf(str) >= 0)\n                     return;\n                stringified(str);\n            });\n            ko.applyBindingsToNode(\n                element,\n                {\n                    value: stringified,\n                    valueUpdate: allBindings.get('valueUpdate'),\n                },\n                context,\n            );\n        }\n    };\n    var json_data = {\"value\":WebIO.getval({\"name\":\"value\",\"scope\":\"11301822223989417677\",\"id\":\"77\",\"type\":\"observable\"})};\n    var self = this;\n    function AppViewModel() {\n        for (var key in json_data) {\n            var el = json_data[key];\n            this[key] = Array.isArray(el) ? ko.observableArray(el) : ko.observable(el);\n        }\n        \n        \n        [this[\"value\"].subscribe((function (val){!(this.valueFromJulia[\"value\"]) ? (WebIO.setval({\"name\":\"value\",\"scope\":\"11301822223989417677\",\"id\":\"77\",\"type\":\"observable\"},val)) : undefined; return this.valueFromJulia[\"value\"]=false}),self)]\n        \n    }\n    self.model = new AppViewModel();\n    self.valueFromJulia = {};\n    for (var key in json_data) {\n        self.valueFromJulia[key] = false;\n    }\n    ko.applyBindings(self.model, self.dom);\n}\n);\n    (WebIO.importBlock({\"data\":[{\"name\":\"knockout\",\"type\":\"js\",\"url\":\"/assetserver/3268aa453acf20217634de8b759710ecfa84b18e-knockout.js\"},{\"name\":\"knockout_punches\",\"type\":\"js\",\"url\":\"/assetserver/fe2a192c367289f39b8280b58861b0e90803c10f-knockout_punches.js\"}],\"type\":\"async_block\"})).then((imports) => handler.apply(this, imports));\n}\n"
          ],
          "observables": {
           "value": {
            "id": "77",
            "sync": false,
            "value": ""
           }
          },
          "systemjs_options": null
         },
         "nodeType": "Scope",
         "props": {},
         "type": "node"
        }
       ],
       "instanceArgs": {
        "namespace": "html",
        "tag": "div"
       },
       "nodeType": "DOM",
       "props": {
        "className": "field interact-widget"
       },
       "type": "node"
      },
      "text/html": [
       "<div\n",
       "    class=\"webio-mountpoint\"\n",
       "    data-webio-mountpoint=\"10372484664997079535\"\n",
       ">\n",
       "    <script>\n",
       "    (function(){\n",
       "    // Some integrations (namely, IJulia/Jupyter) use an alternate render pathway than\n",
       "    // just putting the html on the page. If WebIO isn't defined, then it's pretty likely\n",
       "    // that we're in one of those situations and the integration just isn't installed\n",
       "    // correctly.\n",
       "    if (typeof window.WebIO === \"undefined\") {\n",
       "        document\n",
       "            .querySelector('[data-webio-mountpoint=\"10372484664997079535\"]')\n",
       "            .innerHTML = (\n",
       "                '<div style=\"padding: 1em; background-color: #f8d6da; border: 1px solid #f5c6cb; font-weight: bold;\">' +\n",
       "                '<p><strong>WebIO not detected.</strong></p>' +\n",
       "                '<p>Please read ' +\n",
       "                '<a href=\"https://juliagizmos.github.io/WebIO.jl/latest/troubleshooting/not-detected/\" target=\"_blank\">the troubleshooting guide</a> ' +\n",
       "                'for more information on how to resolve this issue.</p>' +\n",
       "                '<p><a href=\"https://juliagizmos.github.io/WebIO.jl/latest/troubleshooting/not-detected/\" target=\"_blank\">https://juliagizmos.github.io/WebIO.jl/latest/troubleshooting/not-detected/</a></p>' +\n",
       "                '</div>'\n",
       "            );\n",
       "        return;\n",
       "    }\n",
       "    WebIO.mount(\n",
       "        document.querySelector('[data-webio-mountpoint=\"10372484664997079535\"]'),\n",
       "        {\"props\":{\"className\":\"field interact-widget\"},\"nodeType\":\"DOM\",\"type\":\"node\",\"instanceArgs\":{\"namespace\":\"html\",\"tag\":\"div\"},\"children\":[{\"props\":{},\"nodeType\":\"Scope\",\"type\":\"node\",\"instanceArgs\":{\"imports\":{\"data\":[{\"name\":\"knockout\",\"type\":\"js\",\"url\":\"\\/assetserver\\/3268aa453acf20217634de8b759710ecfa84b18e-knockout.js\"},{\"name\":\"knockout_punches\",\"type\":\"js\",\"url\":\"\\/assetserver\\/fe2a192c367289f39b8280b58861b0e90803c10f-knockout_punches.js\"},{\"name\":null,\"type\":\"js\",\"url\":\"\\/assetserver\\/8e0549a7824595df033024a9ea05fa3859c5079f-all.js\"},{\"name\":null,\"type\":\"css\",\"url\":\"\\/assetserver\\/345b939b64724fad0a8c431b45abd44fe39a5151-style.css\"},{\"name\":null,\"type\":\"css\",\"url\":\"\\/assetserver\\/bd82aaaf98c6d450d881a2127a6bfb103be1802f-bulma_confined.min.css\"}],\"type\":\"async_block\"},\"id\":\"11301822223989417677\",\"handlers\":{\"value\":[\"(function (val){return (val!=this.model[\\\"value\\\"]()) ? (this.valueFromJulia[\\\"value\\\"]=true, this.model[\\\"value\\\"](val)) : undefined})\"]},\"systemjs_options\":null,\"mount_callbacks\":[\"function () {\\n    var handler = (function (ko, koPunches) {\\n    ko.punches.enableAll();\\n    ko.bindingHandlers.numericValue = {\\n        init: function(element, valueAccessor, allBindings, data, context) {\\n            var stringified = ko.observable(ko.unwrap(valueAccessor()));\\n            stringified.subscribe(function(value) {\\n                var val = parseFloat(value);\\n                if (!isNaN(val)) {\\n                    valueAccessor()(val);\\n                }\\n            });\\n            valueAccessor().subscribe(function(value) {\\n                var str = JSON.stringify(value);\\n                if ((str == \\\"0\\\") && ([\\\"-0\\\", \\\"-0.\\\"].indexOf(stringified()) >= 0))\\n                     return;\\n                 if ([\\\"null\\\", \\\"\\\"].indexOf(str) >= 0)\\n                     return;\\n                stringified(str);\\n            });\\n            ko.applyBindingsToNode(\\n                element,\\n                {\\n                    value: stringified,\\n                    valueUpdate: allBindings.get('valueUpdate'),\\n                },\\n                context,\\n            );\\n        }\\n    };\\n    var json_data = {\\\"value\\\":WebIO.getval({\\\"name\\\":\\\"value\\\",\\\"scope\\\":\\\"11301822223989417677\\\",\\\"id\\\":\\\"77\\\",\\\"type\\\":\\\"observable\\\"})};\\n    var self = this;\\n    function AppViewModel() {\\n        for (var key in json_data) {\\n            var el = json_data[key];\\n            this[key] = Array.isArray(el) ? ko.observableArray(el) : ko.observable(el);\\n        }\\n        \\n        \\n        [this[\\\"value\\\"].subscribe((function (val){!(this.valueFromJulia[\\\"value\\\"]) ? (WebIO.setval({\\\"name\\\":\\\"value\\\",\\\"scope\\\":\\\"11301822223989417677\\\",\\\"id\\\":\\\"77\\\",\\\"type\\\":\\\"observable\\\"},val)) : undefined; return this.valueFromJulia[\\\"value\\\"]=false}),self)]\\n        \\n    }\\n    self.model = new AppViewModel();\\n    self.valueFromJulia = {};\\n    for (var key in json_data) {\\n        self.valueFromJulia[key] = false;\\n    }\\n    ko.applyBindings(self.model, self.dom);\\n}\\n);\\n    (WebIO.importBlock({\\\"data\\\":[{\\\"name\\\":\\\"knockout\\\",\\\"type\\\":\\\"js\\\",\\\"url\\\":\\\"\\/assetserver\\/3268aa453acf20217634de8b759710ecfa84b18e-knockout.js\\\"},{\\\"name\\\":\\\"knockout_punches\\\",\\\"type\\\":\\\"js\\\",\\\"url\\\":\\\"\\/assetserver\\/fe2a192c367289f39b8280b58861b0e90803c10f-knockout_punches.js\\\"}],\\\"type\\\":\\\"async_block\\\"})).then((imports) => handler.apply(this, imports));\\n}\\n\"],\"observables\":{\"value\":{\"sync\":false,\"id\":\"77\",\"value\":\"\"}}},\"children\":[{\"props\":{\"attributes\":{\"placeholder\":\"paste trajectory data here\",\"data-bind\":\"value: value, valueUpdate: 'input'\"},\"className\":\"textarea \",\"style\":{}},\"nodeType\":\"DOM\",\"type\":\"node\",\"instanceArgs\":{\"namespace\":\"html\",\"tag\":\"textarea\"},\"children\":[]}]}]},\n",
       "        window,\n",
       "    );\n",
       "    })()\n",
       "    </script>\n",
       "</div>\n"
      ],
      "text/plain": [
       "Node{WebIO.DOM}(WebIO.DOM(:html, :div), Any[Scope(Node{WebIO.DOM}(WebIO.DOM(:html, :textarea), Any[], Dict{Symbol, Any}(:attributes => Dict{Union{String, Symbol}, Any}(:placeholder => \"paste trajectory data here\", \"data-bind\" => \"value: value, valueUpdate: 'input'\"), :className => \"textarea \", :style => Dict{Any, Any}())), Dict{String, Tuple{AbstractObservable, Union{Nothing, Bool}}}(\"value\" => (Observable(\"\"), nothing)), Set{String}(), nothing, Asset[Asset(\"js\", \"knockout\", \"/Users/rkurchin/.julia/packages/Knockout/HReiN/src/../assets/knockout.js\"), Asset(\"js\", \"knockout_punches\", \"/Users/rkurchin/.julia/packages/Knockout/HReiN/src/../assets/knockout_punches.js\"), Asset(\"js\", nothing, \"/Users/rkurchin/.julia/packages/InteractBase/LJXv3/src/../assets/all.js\"), Asset(\"css\", nothing, \"/Users/rkurchin/.julia/packages/InteractBase/LJXv3/src/../assets/style.css\"), Asset(\"css\", nothing, \"/Users/rkurchin/.julia/packages/Interact/PENUy/src/../assets/bulma_confined.min.css\")], Dict{Any, Any}(\"value\" => Any[WebIO.JSString(\"(function (val){return (val!=this.model[\\\"value\\\"]()) ? (this.valueFromJulia[\\\"value\\\"]=true, this.model[\\\"value\\\"](val)) : undefined})\")]), WebIO.ConnectionPool(Channel{Any}(32), Set{AbstractConnection}(), Base.GenericCondition{ReentrantLock}(Base.InvasiveLinkedList{Task}(Task (runnable) @0x00000001abd70a90, Task (runnable) @0x00000001abd70a90), ReentrantLock(nothing, 0x00000000, 0x00, Base.GenericCondition{Base.Threads.SpinLock}(Base.InvasiveLinkedList{Task}(nothing, nothing), Base.Threads.SpinLock(0)), (2, 4872459504, 4863445536)))), WebIO.JSString[WebIO.JSString(\"function () {\\n    var handler = (function (ko, koPunches) {\\n    ko.punches.enableAll();\\n    ko.bindingHandlers.numericValue = {\\n        init: function(element, valueAccessor, allBindings, data, context) {\\n            var stringified = ko.observable(ko.unwrap(valueAccessor()));\\n            stringified.subscribe(function(value) {\\n                var val = parseFloat(value);\\n                if (!isNaN(val)) {\\n                    valueAccessor()(val);\\n                }\\n            });\\n            valueAccessor().subscribe(function(value) {\\n                var str = JSON.stringify(value);\\n                if ((str == \\\"0\\\") && ([\\\"-0\\\", \\\"-0.\\\"].indexOf(stringified()) >= 0))\\n                     return;\\n                 if ([\\\"null\\\", \\\"\\\"].indexOf(str) >= 0)\\n                     return;\\n                stringified(str);\\n            });\\n            ko.applyBindingsToNode(\\n                element,\\n                {\\n                    value: stringified,\\n                    valueUpdate: allBindings.get('valueUpdate'),\\n                },\\n                context,\\n            );\\n        }\\n    };\\n    var json_data = {\\\"value\\\":WebIO.getval({\\\"name\\\":\\\"value\\\",\\\"scope\\\":\\\"11301822223989417677\\\",\\\"id\\\":\\\"77\\\",\\\"type\\\":\\\"observable\\\"})};\\n    var self = this;\\n    function AppViewModel() {\\n        for (var key in json_data) {\\n            var el = json_data[key];\\n            this[key] = Array.isArray(el) ? ko.observableArray(el) : ko.observable(el);\\n        }\\n        \\n        \\n        [this[\\\"value\\\"].subscribe((function (val){!(this.valueFromJulia[\\\"value\\\"]) ? (WebIO.setval({\\\"name\\\":\\\"value\\\",\\\"scope\\\":\\\"11301822223989417677\\\",\\\"id\\\":\\\"77\\\",\\\"type\\\":\\\"observable\\\"},val)) : undefined; return this.valueFromJulia[\\\"value\\\"]=false}),self)]\\n        \\n    }\\n    self.model = new AppViewModel();\\n    self.valueFromJulia = {};\\n    for (var key in json_data) {\\n        self.valueFromJulia[key] = false;\\n    }\\n    ko.applyBindings(self.model, self.dom);\\n}\\n);\\n    (WebIO.importBlock({\\\"data\\\":[{\\\"name\\\":\\\"knockout\\\",\\\"type\\\":\\\"js\\\",\\\"url\\\":\\\"/assetserver/3268aa453acf20217634de8b759710ecfa84b18e-knockout.js\\\"},{\\\"name\\\":\\\"knockout_punches\\\",\\\"type\\\":\\\"js\\\",\\\"url\\\":\\\"/assetserver/fe2a192c367289f39b8280b58861b0e90803c10f-knockout_punches.js\\\"}],\\\"type\\\":\\\"async_block\\\"})).then((imports) => handler.apply(this, imports));\\n}\\n\")])], Dict{Symbol, Any}(:className => \"field interact-widget\"))"
      ]
     },
     "execution_count": 303,
     "metadata": {
      "application/vnd.webio.node+json": {
       "kernelId": "4e6e0d91-fec6-4376-b6ac-dd9da4ee78d8"
      }
     },
     "output_type": "execute_result"
    }
   ],
   "source": [
    "data4 = Widgets.textarea(\"paste trajectory data here\")"
   ]
  },
  {
   "cell_type": "code",
   "execution_count": 304,
   "id": "fb5caac4",
   "metadata": {},
   "outputs": [
    {
     "data": {
      "application/vnd.webio.node+json": {
       "children": [
        {
         "children": [
          {
           "children": [],
           "instanceArgs": {
            "namespace": "html",
            "tag": "textarea"
           },
           "nodeType": "DOM",
           "props": {
            "attributes": {
             "data-bind": "value: value, valueUpdate: 'input'",
             "placeholder": "paste trajectory data here"
            },
            "className": "textarea ",
            "style": {}
           },
           "type": "node"
          }
         ],
         "instanceArgs": {
          "handlers": {
           "value": [
            "(function (val){return (val!=this.model[\"value\"]()) ? (this.valueFromJulia[\"value\"]=true, this.model[\"value\"](val)) : undefined})"
           ]
          },
          "id": "14014978754336589943",
          "imports": {
           "data": [
            {
             "name": "knockout",
             "type": "js",
             "url": "/assetserver/3268aa453acf20217634de8b759710ecfa84b18e-knockout.js"
            },
            {
             "name": "knockout_punches",
             "type": "js",
             "url": "/assetserver/fe2a192c367289f39b8280b58861b0e90803c10f-knockout_punches.js"
            },
            {
             "name": null,
             "type": "js",
             "url": "/assetserver/8e0549a7824595df033024a9ea05fa3859c5079f-all.js"
            },
            {
             "name": null,
             "type": "css",
             "url": "/assetserver/345b939b64724fad0a8c431b45abd44fe39a5151-style.css"
            },
            {
             "name": null,
             "type": "css",
             "url": "/assetserver/bd82aaaf98c6d450d881a2127a6bfb103be1802f-bulma_confined.min.css"
            }
           ],
           "type": "async_block"
          },
          "mount_callbacks": [
           "function () {\n    var handler = (function (ko, koPunches) {\n    ko.punches.enableAll();\n    ko.bindingHandlers.numericValue = {\n        init: function(element, valueAccessor, allBindings, data, context) {\n            var stringified = ko.observable(ko.unwrap(valueAccessor()));\n            stringified.subscribe(function(value) {\n                var val = parseFloat(value);\n                if (!isNaN(val)) {\n                    valueAccessor()(val);\n                }\n            });\n            valueAccessor().subscribe(function(value) {\n                var str = JSON.stringify(value);\n                if ((str == \"0\") && ([\"-0\", \"-0.\"].indexOf(stringified()) >= 0))\n                     return;\n                 if ([\"null\", \"\"].indexOf(str) >= 0)\n                     return;\n                stringified(str);\n            });\n            ko.applyBindingsToNode(\n                element,\n                {\n                    value: stringified,\n                    valueUpdate: allBindings.get('valueUpdate'),\n                },\n                context,\n            );\n        }\n    };\n    var json_data = {\"value\":WebIO.getval({\"name\":\"value\",\"scope\":\"14014978754336589943\",\"id\":\"78\",\"type\":\"observable\"})};\n    var self = this;\n    function AppViewModel() {\n        for (var key in json_data) {\n            var el = json_data[key];\n            this[key] = Array.isArray(el) ? ko.observableArray(el) : ko.observable(el);\n        }\n        \n        \n        [this[\"value\"].subscribe((function (val){!(this.valueFromJulia[\"value\"]) ? (WebIO.setval({\"name\":\"value\",\"scope\":\"14014978754336589943\",\"id\":\"78\",\"type\":\"observable\"},val)) : undefined; return this.valueFromJulia[\"value\"]=false}),self)]\n        \n    }\n    self.model = new AppViewModel();\n    self.valueFromJulia = {};\n    for (var key in json_data) {\n        self.valueFromJulia[key] = false;\n    }\n    ko.applyBindings(self.model, self.dom);\n}\n);\n    (WebIO.importBlock({\"data\":[{\"name\":\"knockout\",\"type\":\"js\",\"url\":\"/assetserver/3268aa453acf20217634de8b759710ecfa84b18e-knockout.js\"},{\"name\":\"knockout_punches\",\"type\":\"js\",\"url\":\"/assetserver/fe2a192c367289f39b8280b58861b0e90803c10f-knockout_punches.js\"}],\"type\":\"async_block\"})).then((imports) => handler.apply(this, imports));\n}\n"
          ],
          "observables": {
           "value": {
            "id": "78",
            "sync": false,
            "value": ""
           }
          },
          "systemjs_options": null
         },
         "nodeType": "Scope",
         "props": {},
         "type": "node"
        }
       ],
       "instanceArgs": {
        "namespace": "html",
        "tag": "div"
       },
       "nodeType": "DOM",
       "props": {
        "className": "field interact-widget"
       },
       "type": "node"
      },
      "text/html": [
       "<div\n",
       "    class=\"webio-mountpoint\"\n",
       "    data-webio-mountpoint=\"3440419247484284131\"\n",
       ">\n",
       "    <script>\n",
       "    (function(){\n",
       "    // Some integrations (namely, IJulia/Jupyter) use an alternate render pathway than\n",
       "    // just putting the html on the page. If WebIO isn't defined, then it's pretty likely\n",
       "    // that we're in one of those situations and the integration just isn't installed\n",
       "    // correctly.\n",
       "    if (typeof window.WebIO === \"undefined\") {\n",
       "        document\n",
       "            .querySelector('[data-webio-mountpoint=\"3440419247484284131\"]')\n",
       "            .innerHTML = (\n",
       "                '<div style=\"padding: 1em; background-color: #f8d6da; border: 1px solid #f5c6cb; font-weight: bold;\">' +\n",
       "                '<p><strong>WebIO not detected.</strong></p>' +\n",
       "                '<p>Please read ' +\n",
       "                '<a href=\"https://juliagizmos.github.io/WebIO.jl/latest/troubleshooting/not-detected/\" target=\"_blank\">the troubleshooting guide</a> ' +\n",
       "                'for more information on how to resolve this issue.</p>' +\n",
       "                '<p><a href=\"https://juliagizmos.github.io/WebIO.jl/latest/troubleshooting/not-detected/\" target=\"_blank\">https://juliagizmos.github.io/WebIO.jl/latest/troubleshooting/not-detected/</a></p>' +\n",
       "                '</div>'\n",
       "            );\n",
       "        return;\n",
       "    }\n",
       "    WebIO.mount(\n",
       "        document.querySelector('[data-webio-mountpoint=\"3440419247484284131\"]'),\n",
       "        {\"props\":{\"className\":\"field interact-widget\"},\"nodeType\":\"DOM\",\"type\":\"node\",\"instanceArgs\":{\"namespace\":\"html\",\"tag\":\"div\"},\"children\":[{\"props\":{},\"nodeType\":\"Scope\",\"type\":\"node\",\"instanceArgs\":{\"imports\":{\"data\":[{\"name\":\"knockout\",\"type\":\"js\",\"url\":\"\\/assetserver\\/3268aa453acf20217634de8b759710ecfa84b18e-knockout.js\"},{\"name\":\"knockout_punches\",\"type\":\"js\",\"url\":\"\\/assetserver\\/fe2a192c367289f39b8280b58861b0e90803c10f-knockout_punches.js\"},{\"name\":null,\"type\":\"js\",\"url\":\"\\/assetserver\\/8e0549a7824595df033024a9ea05fa3859c5079f-all.js\"},{\"name\":null,\"type\":\"css\",\"url\":\"\\/assetserver\\/345b939b64724fad0a8c431b45abd44fe39a5151-style.css\"},{\"name\":null,\"type\":\"css\",\"url\":\"\\/assetserver\\/bd82aaaf98c6d450d881a2127a6bfb103be1802f-bulma_confined.min.css\"}],\"type\":\"async_block\"},\"id\":\"14014978754336589943\",\"handlers\":{\"value\":[\"(function (val){return (val!=this.model[\\\"value\\\"]()) ? (this.valueFromJulia[\\\"value\\\"]=true, this.model[\\\"value\\\"](val)) : undefined})\"]},\"systemjs_options\":null,\"mount_callbacks\":[\"function () {\\n    var handler = (function (ko, koPunches) {\\n    ko.punches.enableAll();\\n    ko.bindingHandlers.numericValue = {\\n        init: function(element, valueAccessor, allBindings, data, context) {\\n            var stringified = ko.observable(ko.unwrap(valueAccessor()));\\n            stringified.subscribe(function(value) {\\n                var val = parseFloat(value);\\n                if (!isNaN(val)) {\\n                    valueAccessor()(val);\\n                }\\n            });\\n            valueAccessor().subscribe(function(value) {\\n                var str = JSON.stringify(value);\\n                if ((str == \\\"0\\\") && ([\\\"-0\\\", \\\"-0.\\\"].indexOf(stringified()) >= 0))\\n                     return;\\n                 if ([\\\"null\\\", \\\"\\\"].indexOf(str) >= 0)\\n                     return;\\n                stringified(str);\\n            });\\n            ko.applyBindingsToNode(\\n                element,\\n                {\\n                    value: stringified,\\n                    valueUpdate: allBindings.get('valueUpdate'),\\n                },\\n                context,\\n            );\\n        }\\n    };\\n    var json_data = {\\\"value\\\":WebIO.getval({\\\"name\\\":\\\"value\\\",\\\"scope\\\":\\\"14014978754336589943\\\",\\\"id\\\":\\\"78\\\",\\\"type\\\":\\\"observable\\\"})};\\n    var self = this;\\n    function AppViewModel() {\\n        for (var key in json_data) {\\n            var el = json_data[key];\\n            this[key] = Array.isArray(el) ? ko.observableArray(el) : ko.observable(el);\\n        }\\n        \\n        \\n        [this[\\\"value\\\"].subscribe((function (val){!(this.valueFromJulia[\\\"value\\\"]) ? (WebIO.setval({\\\"name\\\":\\\"value\\\",\\\"scope\\\":\\\"14014978754336589943\\\",\\\"id\\\":\\\"78\\\",\\\"type\\\":\\\"observable\\\"},val)) : undefined; return this.valueFromJulia[\\\"value\\\"]=false}),self)]\\n        \\n    }\\n    self.model = new AppViewModel();\\n    self.valueFromJulia = {};\\n    for (var key in json_data) {\\n        self.valueFromJulia[key] = false;\\n    }\\n    ko.applyBindings(self.model, self.dom);\\n}\\n);\\n    (WebIO.importBlock({\\\"data\\\":[{\\\"name\\\":\\\"knockout\\\",\\\"type\\\":\\\"js\\\",\\\"url\\\":\\\"\\/assetserver\\/3268aa453acf20217634de8b759710ecfa84b18e-knockout.js\\\"},{\\\"name\\\":\\\"knockout_punches\\\",\\\"type\\\":\\\"js\\\",\\\"url\\\":\\\"\\/assetserver\\/fe2a192c367289f39b8280b58861b0e90803c10f-knockout_punches.js\\\"}],\\\"type\\\":\\\"async_block\\\"})).then((imports) => handler.apply(this, imports));\\n}\\n\"],\"observables\":{\"value\":{\"sync\":false,\"id\":\"78\",\"value\":\"\"}}},\"children\":[{\"props\":{\"attributes\":{\"placeholder\":\"paste trajectory data here\",\"data-bind\":\"value: value, valueUpdate: 'input'\"},\"className\":\"textarea \",\"style\":{}},\"nodeType\":\"DOM\",\"type\":\"node\",\"instanceArgs\":{\"namespace\":\"html\",\"tag\":\"textarea\"},\"children\":[]}]}]},\n",
       "        window,\n",
       "    );\n",
       "    })()\n",
       "    </script>\n",
       "</div>\n"
      ],
      "text/plain": [
       "Node{WebIO.DOM}(WebIO.DOM(:html, :div), Any[Scope(Node{WebIO.DOM}(WebIO.DOM(:html, :textarea), Any[], Dict{Symbol, Any}(:attributes => Dict{Union{String, Symbol}, Any}(:placeholder => \"paste trajectory data here\", \"data-bind\" => \"value: value, valueUpdate: 'input'\"), :className => \"textarea \", :style => Dict{Any, Any}())), Dict{String, Tuple{AbstractObservable, Union{Nothing, Bool}}}(\"value\" => (Observable(\"\"), nothing)), Set{String}(), nothing, Asset[Asset(\"js\", \"knockout\", \"/Users/rkurchin/.julia/packages/Knockout/HReiN/src/../assets/knockout.js\"), Asset(\"js\", \"knockout_punches\", \"/Users/rkurchin/.julia/packages/Knockout/HReiN/src/../assets/knockout_punches.js\"), Asset(\"js\", nothing, \"/Users/rkurchin/.julia/packages/InteractBase/LJXv3/src/../assets/all.js\"), Asset(\"css\", nothing, \"/Users/rkurchin/.julia/packages/InteractBase/LJXv3/src/../assets/style.css\"), Asset(\"css\", nothing, \"/Users/rkurchin/.julia/packages/Interact/PENUy/src/../assets/bulma_confined.min.css\")], Dict{Any, Any}(\"value\" => Any[WebIO.JSString(\"(function (val){return (val!=this.model[\\\"value\\\"]()) ? (this.valueFromJulia[\\\"value\\\"]=true, this.model[\\\"value\\\"](val)) : undefined})\")]), WebIO.ConnectionPool(Channel{Any}(32), Set{AbstractConnection}(), Base.GenericCondition{ReentrantLock}(Base.InvasiveLinkedList{Task}(Task (runnable) @0x00000001abd731f0, Task (runnable) @0x00000001abd731f0), ReentrantLock(nothing, 0x00000000, 0x00, Base.GenericCondition{Base.Threads.SpinLock}(Base.InvasiveLinkedList{Task}(nothing, nothing), Base.Threads.SpinLock(0)), (0, 4393001472, 7036591952)))), WebIO.JSString[WebIO.JSString(\"function () {\\n    var handler = (function (ko, koPunches) {\\n    ko.punches.enableAll();\\n    ko.bindingHandlers.numericValue = {\\n        init: function(element, valueAccessor, allBindings, data, context) {\\n            var stringified = ko.observable(ko.unwrap(valueAccessor()));\\n            stringified.subscribe(function(value) {\\n                var val = parseFloat(value);\\n                if (!isNaN(val)) {\\n                    valueAccessor()(val);\\n                }\\n            });\\n            valueAccessor().subscribe(function(value) {\\n                var str = JSON.stringify(value);\\n                if ((str == \\\"0\\\") && ([\\\"-0\\\", \\\"-0.\\\"].indexOf(stringified()) >= 0))\\n                     return;\\n                 if ([\\\"null\\\", \\\"\\\"].indexOf(str) >= 0)\\n                     return;\\n                stringified(str);\\n            });\\n            ko.applyBindingsToNode(\\n                element,\\n                {\\n                    value: stringified,\\n                    valueUpdate: allBindings.get('valueUpdate'),\\n                },\\n                context,\\n            );\\n        }\\n    };\\n    var json_data = {\\\"value\\\":WebIO.getval({\\\"name\\\":\\\"value\\\",\\\"scope\\\":\\\"14014978754336589943\\\",\\\"id\\\":\\\"78\\\",\\\"type\\\":\\\"observable\\\"})};\\n    var self = this;\\n    function AppViewModel() {\\n        for (var key in json_data) {\\n            var el = json_data[key];\\n            this[key] = Array.isArray(el) ? ko.observableArray(el) : ko.observable(el);\\n        }\\n        \\n        \\n        [this[\\\"value\\\"].subscribe((function (val){!(this.valueFromJulia[\\\"value\\\"]) ? (WebIO.setval({\\\"name\\\":\\\"value\\\",\\\"scope\\\":\\\"14014978754336589943\\\",\\\"id\\\":\\\"78\\\",\\\"type\\\":\\\"observable\\\"},val)) : undefined; return this.valueFromJulia[\\\"value\\\"]=false}),self)]\\n        \\n    }\\n    self.model = new AppViewModel();\\n    self.valueFromJulia = {};\\n    for (var key in json_data) {\\n        self.valueFromJulia[key] = false;\\n    }\\n    ko.applyBindings(self.model, self.dom);\\n}\\n);\\n    (WebIO.importBlock({\\\"data\\\":[{\\\"name\\\":\\\"knockout\\\",\\\"type\\\":\\\"js\\\",\\\"url\\\":\\\"/assetserver/3268aa453acf20217634de8b759710ecfa84b18e-knockout.js\\\"},{\\\"name\\\":\\\"knockout_punches\\\",\\\"type\\\":\\\"js\\\",\\\"url\\\":\\\"/assetserver/fe2a192c367289f39b8280b58861b0e90803c10f-knockout_punches.js\\\"}],\\\"type\\\":\\\"async_block\\\"})).then((imports) => handler.apply(this, imports));\\n}\\n\")])], Dict{Symbol, Any}(:className => \"field interact-widget\"))"
      ]
     },
     "execution_count": 304,
     "metadata": {
      "application/vnd.webio.node+json": {
       "kernelId": "4e6e0d91-fec6-4376-b6ac-dd9da4ee78d8"
      }
     },
     "output_type": "execute_result"
    }
   ],
   "source": [
    "data5 = Widgets.textarea(\"paste trajectory data here\")"
   ]
  },
  {
   "cell_type": "markdown",
   "id": "68a78d93",
   "metadata": {},
   "source": [
    "Run the cell below to define the function that will process the text you pasted in into a format we can work with."
   ]
  },
  {
   "cell_type": "code",
   "execution_count": null,
   "id": "b098eb70",
   "metadata": {},
   "outputs": [],
   "source": [
    "function process_raw_data(datawidget)\n",
    "    # read in data and put it in a DataFrame\n",
    "    st = datawidget.output;\n",
    "    df = CSV.read(IOBuffer(st.val), DataFrame);\n",
    "    # process: calculate squared displacement and offset time axis to start at 0\n",
    "    df[:, :dsq] .= (df[:, :x].-df[1, :x]).^2 .+ (df[:, :y].-df[1,:y]).^2; \n",
    "    df[:, :t] .= df[:, :t] .- df[1,:t];\n",
    "    return df\n",
    "end"
   ]
  },
  {
   "cell_type": "markdown",
   "id": "c27e5905",
   "metadata": {},
   "source": [
    "Now we can read in each of the datasets using that function..."
   ]
  },
  {
   "cell_type": "code",
   "execution_count": 306,
   "id": "8721abf6",
   "metadata": {},
   "outputs": [],
   "source": [
    "dfs = process_raw_data.([data1, data2, data3, data4, data5]);"
   ]
  },
  {
   "cell_type": "markdown",
   "id": "892729fc",
   "metadata": {},
   "source": [
    "...and visualize the squared displacement of each atom over time in a plot:"
   ]
  },
  {
   "cell_type": "code",
   "execution_count": 307,
   "id": "a70a7af9",
   "metadata": {},
   "outputs": [
    {
     "data": {
      "image/svg+xml": [
       "<?xml version=\"1.0\" encoding=\"utf-8\"?>\n",
       "<svg xmlns=\"http://www.w3.org/2000/svg\" xmlns:xlink=\"http://www.w3.org/1999/xlink\" width=\"600\" height=\"400\" viewBox=\"0 0 2400 1600\">\n",
       "<defs>\n",
       "  <clipPath id=\"clip230\">\n",
       "    <rect x=\"0\" y=\"0\" width=\"2400\" height=\"1600\"/>\n",
       "  </clipPath>\n",
       "</defs>\n",
       "<path clip-path=\"url(#clip230)\" d=\"M0 1600 L2400 1600 L2400 0 L0 0  Z\" fill=\"#ffffff\" fill-rule=\"evenodd\" fill-opacity=\"1\"/>\n",
       "<defs>\n",
       "  <clipPath id=\"clip231\">\n",
       "    <rect x=\"480\" y=\"0\" width=\"1681\" height=\"1600\"/>\n",
       "  </clipPath>\n",
       "</defs>\n",
       "<path clip-path=\"url(#clip230)\" d=\"M203.964 1423.18 L2352.76 1423.18 L2352.76 47.2441 L203.964 47.2441  Z\" fill=\"#ffffff\" fill-rule=\"evenodd\" fill-opacity=\"1\"/>\n",
       "<defs>\n",
       "  <clipPath id=\"clip232\">\n",
       "    <rect x=\"203\" y=\"47\" width=\"2150\" height=\"1377\"/>\n",
       "  </clipPath>\n",
       "</defs>\n",
       "<polyline clip-path=\"url(#clip232)\" style=\"stroke:#000000; stroke-linecap:round; stroke-linejoin:round; stroke-width:2; stroke-opacity:0.1; fill:none\" points=\"264.778,1423.18 264.778,47.2441 \"/>\n",
       "<polyline clip-path=\"url(#clip232)\" style=\"stroke:#000000; stroke-linecap:round; stroke-linejoin:round; stroke-width:2; stroke-opacity:0.1; fill:none\" points=\"594.398,1423.18 594.398,47.2441 \"/>\n",
       "<polyline clip-path=\"url(#clip232)\" style=\"stroke:#000000; stroke-linecap:round; stroke-linejoin:round; stroke-width:2; stroke-opacity:0.1; fill:none\" points=\"924.018,1423.18 924.018,47.2441 \"/>\n",
       "<polyline clip-path=\"url(#clip232)\" style=\"stroke:#000000; stroke-linecap:round; stroke-linejoin:round; stroke-width:2; stroke-opacity:0.1; fill:none\" points=\"1253.64,1423.18 1253.64,47.2441 \"/>\n",
       "<polyline clip-path=\"url(#clip232)\" style=\"stroke:#000000; stroke-linecap:round; stroke-linejoin:round; stroke-width:2; stroke-opacity:0.1; fill:none\" points=\"1583.26,1423.18 1583.26,47.2441 \"/>\n",
       "<polyline clip-path=\"url(#clip232)\" style=\"stroke:#000000; stroke-linecap:round; stroke-linejoin:round; stroke-width:2; stroke-opacity:0.1; fill:none\" points=\"1912.88,1423.18 1912.88,47.2441 \"/>\n",
       "<polyline clip-path=\"url(#clip232)\" style=\"stroke:#000000; stroke-linecap:round; stroke-linejoin:round; stroke-width:2; stroke-opacity:0.1; fill:none\" points=\"2242.5,1423.18 2242.5,47.2441 \"/>\n",
       "<polyline clip-path=\"url(#clip232)\" style=\"stroke:#000000; stroke-linecap:round; stroke-linejoin:round; stroke-width:2; stroke-opacity:0.1; fill:none\" points=\"203.964,1384.24 2352.76,1384.24 \"/>\n",
       "<polyline clip-path=\"url(#clip232)\" style=\"stroke:#000000; stroke-linecap:round; stroke-linejoin:round; stroke-width:2; stroke-opacity:0.1; fill:none\" points=\"203.964,1110.47 2352.76,1110.47 \"/>\n",
       "<polyline clip-path=\"url(#clip232)\" style=\"stroke:#000000; stroke-linecap:round; stroke-linejoin:round; stroke-width:2; stroke-opacity:0.1; fill:none\" points=\"203.964,836.692 2352.76,836.692 \"/>\n",
       "<polyline clip-path=\"url(#clip232)\" style=\"stroke:#000000; stroke-linecap:round; stroke-linejoin:round; stroke-width:2; stroke-opacity:0.1; fill:none\" points=\"203.964,562.92 2352.76,562.92 \"/>\n",
       "<polyline clip-path=\"url(#clip232)\" style=\"stroke:#000000; stroke-linecap:round; stroke-linejoin:round; stroke-width:2; stroke-opacity:0.1; fill:none\" points=\"203.964,289.147 2352.76,289.147 \"/>\n",
       "<polyline clip-path=\"url(#clip230)\" style=\"stroke:#000000; stroke-linecap:round; stroke-linejoin:round; stroke-width:4; stroke-opacity:1; fill:none\" points=\"203.964,1423.18 2352.76,1423.18 \"/>\n",
       "<polyline clip-path=\"url(#clip230)\" style=\"stroke:#000000; stroke-linecap:round; stroke-linejoin:round; stroke-width:4; stroke-opacity:1; fill:none\" points=\"264.778,1423.18 264.778,1404.28 \"/>\n",
       "<polyline clip-path=\"url(#clip230)\" style=\"stroke:#000000; stroke-linecap:round; stroke-linejoin:round; stroke-width:4; stroke-opacity:1; fill:none\" points=\"594.398,1423.18 594.398,1404.28 \"/>\n",
       "<polyline clip-path=\"url(#clip230)\" style=\"stroke:#000000; stroke-linecap:round; stroke-linejoin:round; stroke-width:4; stroke-opacity:1; fill:none\" points=\"924.018,1423.18 924.018,1404.28 \"/>\n",
       "<polyline clip-path=\"url(#clip230)\" style=\"stroke:#000000; stroke-linecap:round; stroke-linejoin:round; stroke-width:4; stroke-opacity:1; fill:none\" points=\"1253.64,1423.18 1253.64,1404.28 \"/>\n",
       "<polyline clip-path=\"url(#clip230)\" style=\"stroke:#000000; stroke-linecap:round; stroke-linejoin:round; stroke-width:4; stroke-opacity:1; fill:none\" points=\"1583.26,1423.18 1583.26,1404.28 \"/>\n",
       "<polyline clip-path=\"url(#clip230)\" style=\"stroke:#000000; stroke-linecap:round; stroke-linejoin:round; stroke-width:4; stroke-opacity:1; fill:none\" points=\"1912.88,1423.18 1912.88,1404.28 \"/>\n",
       "<polyline clip-path=\"url(#clip230)\" style=\"stroke:#000000; stroke-linecap:round; stroke-linejoin:round; stroke-width:4; stroke-opacity:1; fill:none\" points=\"2242.5,1423.18 2242.5,1404.28 \"/>\n",
       "<path clip-path=\"url(#clip230)\" d=\"M264.778 1454.1 Q261.167 1454.1 259.339 1457.66 Q257.533 1461.2 257.533 1468.33 Q257.533 1475.44 259.339 1479.01 Q261.167 1482.55 264.778 1482.55 Q268.413 1482.55 270.218 1479.01 Q272.047 1475.44 272.047 1468.33 Q272.047 1461.2 270.218 1457.66 Q268.413 1454.1 264.778 1454.1 M264.778 1450.39 Q270.589 1450.39 273.644 1455 Q276.723 1459.58 276.723 1468.33 Q276.723 1477.06 273.644 1481.67 Q270.589 1486.25 264.778 1486.25 Q258.968 1486.25 255.89 1481.67 Q252.834 1477.06 252.834 1468.33 Q252.834 1459.58 255.89 1455 Q258.968 1450.39 264.778 1450.39 Z\" fill=\"#000000\" fill-rule=\"nonzero\" fill-opacity=\"1\" /><path clip-path=\"url(#clip230)\" d=\"M538.924 1481.64 L546.563 1481.64 L546.563 1455.28 L538.253 1456.95 L538.253 1452.69 L546.516 1451.02 L551.192 1451.02 L551.192 1481.64 L558.831 1481.64 L558.831 1485.58 L538.924 1485.58 L538.924 1481.64 Z\" fill=\"#000000\" fill-rule=\"nonzero\" fill-opacity=\"1\" /><path clip-path=\"url(#clip230)\" d=\"M578.275 1454.1 Q574.664 1454.1 572.836 1457.66 Q571.03 1461.2 571.03 1468.33 Q571.03 1475.44 572.836 1479.01 Q574.664 1482.55 578.275 1482.55 Q581.91 1482.55 583.715 1479.01 Q585.544 1475.44 585.544 1468.33 Q585.544 1461.2 583.715 1457.66 Q581.91 1454.1 578.275 1454.1 M578.275 1450.39 Q584.086 1450.39 587.141 1455 Q590.22 1459.58 590.22 1468.33 Q590.22 1477.06 587.141 1481.67 Q584.086 1486.25 578.275 1486.25 Q572.465 1486.25 569.387 1481.67 Q566.331 1477.06 566.331 1468.33 Q566.331 1459.58 569.387 1455 Q572.465 1450.39 578.275 1450.39 Z\" fill=\"#000000\" fill-rule=\"nonzero\" fill-opacity=\"1\" /><path clip-path=\"url(#clip230)\" d=\"M608.437 1454.1 Q604.826 1454.1 602.998 1457.66 Q601.192 1461.2 601.192 1468.33 Q601.192 1475.44 602.998 1479.01 Q604.826 1482.55 608.437 1482.55 Q612.072 1482.55 613.877 1479.01 Q615.706 1475.44 615.706 1468.33 Q615.706 1461.2 613.877 1457.66 Q612.072 1454.1 608.437 1454.1 M608.437 1450.39 Q614.247 1450.39 617.303 1455 Q620.382 1459.58 620.382 1468.33 Q620.382 1477.06 617.303 1481.67 Q614.247 1486.25 608.437 1486.25 Q602.627 1486.25 599.548 1481.67 Q596.493 1477.06 596.493 1468.33 Q596.493 1459.58 599.548 1455 Q602.627 1450.39 608.437 1450.39 Z\" fill=\"#000000\" fill-rule=\"nonzero\" fill-opacity=\"1\" /><path clip-path=\"url(#clip230)\" d=\"M638.599 1454.1 Q634.988 1454.1 633.159 1457.66 Q631.354 1461.2 631.354 1468.33 Q631.354 1475.44 633.159 1479.01 Q634.988 1482.55 638.599 1482.55 Q642.233 1482.55 644.039 1479.01 Q645.868 1475.44 645.868 1468.33 Q645.868 1461.2 644.039 1457.66 Q642.233 1454.1 638.599 1454.1 M638.599 1450.39 Q644.409 1450.39 647.465 1455 Q650.544 1459.58 650.544 1468.33 Q650.544 1477.06 647.465 1481.67 Q644.409 1486.25 638.599 1486.25 Q632.789 1486.25 629.71 1481.67 Q626.655 1477.06 626.655 1468.33 Q626.655 1459.58 629.71 1455 Q632.789 1450.39 638.599 1450.39 Z\" fill=\"#000000\" fill-rule=\"nonzero\" fill-opacity=\"1\" /><path clip-path=\"url(#clip230)\" d=\"M872.629 1481.64 L888.948 1481.64 L888.948 1485.58 L867.004 1485.58 L867.004 1481.64 Q869.666 1478.89 874.249 1474.26 Q878.856 1469.61 880.036 1468.27 Q882.282 1465.74 883.161 1464.01 Q884.064 1462.25 884.064 1460.56 Q884.064 1457.8 882.12 1456.07 Q880.198 1454.33 877.097 1454.33 Q874.898 1454.33 872.444 1455.09 Q870.013 1455.86 867.236 1457.41 L867.236 1452.69 Q870.06 1451.55 872.513 1450.97 Q874.967 1450.39 877.004 1450.39 Q882.374 1450.39 885.569 1453.08 Q888.763 1455.77 888.763 1460.26 Q888.763 1462.39 887.953 1464.31 Q887.166 1466.2 885.06 1468.8 Q884.481 1469.47 881.379 1472.69 Q878.277 1475.88 872.629 1481.64 Z\" fill=\"#000000\" fill-rule=\"nonzero\" fill-opacity=\"1\" /><path clip-path=\"url(#clip230)\" d=\"M908.763 1454.1 Q905.152 1454.1 903.323 1457.66 Q901.518 1461.2 901.518 1468.33 Q901.518 1475.44 903.323 1479.01 Q905.152 1482.55 908.763 1482.55 Q912.397 1482.55 914.203 1479.01 Q916.032 1475.44 916.032 1468.33 Q916.032 1461.2 914.203 1457.66 Q912.397 1454.1 908.763 1454.1 M908.763 1450.39 Q914.573 1450.39 917.629 1455 Q920.708 1459.58 920.708 1468.33 Q920.708 1477.06 917.629 1481.67 Q914.573 1486.25 908.763 1486.25 Q902.953 1486.25 899.874 1481.67 Q896.819 1477.06 896.819 1468.33 Q896.819 1459.58 899.874 1455 Q902.953 1450.39 908.763 1450.39 Z\" fill=\"#000000\" fill-rule=\"nonzero\" fill-opacity=\"1\" /><path clip-path=\"url(#clip230)\" d=\"M938.925 1454.1 Q935.314 1454.1 933.485 1457.66 Q931.68 1461.2 931.68 1468.33 Q931.68 1475.44 933.485 1479.01 Q935.314 1482.55 938.925 1482.55 Q942.559 1482.55 944.365 1479.01 Q946.193 1475.44 946.193 1468.33 Q946.193 1461.2 944.365 1457.66 Q942.559 1454.1 938.925 1454.1 M938.925 1450.39 Q944.735 1450.39 947.791 1455 Q950.869 1459.58 950.869 1468.33 Q950.869 1477.06 947.791 1481.67 Q944.735 1486.25 938.925 1486.25 Q933.115 1486.25 930.036 1481.67 Q926.981 1477.06 926.981 1468.33 Q926.981 1459.58 930.036 1455 Q933.115 1450.39 938.925 1450.39 Z\" fill=\"#000000\" fill-rule=\"nonzero\" fill-opacity=\"1\" /><path clip-path=\"url(#clip230)\" d=\"M969.087 1454.1 Q965.476 1454.1 963.647 1457.66 Q961.842 1461.2 961.842 1468.33 Q961.842 1475.44 963.647 1479.01 Q965.476 1482.55 969.087 1482.55 Q972.721 1482.55 974.527 1479.01 Q976.355 1475.44 976.355 1468.33 Q976.355 1461.2 974.527 1457.66 Q972.721 1454.1 969.087 1454.1 M969.087 1450.39 Q974.897 1450.39 977.953 1455 Q981.031 1459.58 981.031 1468.33 Q981.031 1477.06 977.953 1481.67 Q974.897 1486.25 969.087 1486.25 Q963.277 1486.25 960.198 1481.67 Q957.142 1477.06 957.142 1468.33 Q957.142 1459.58 960.198 1455 Q963.277 1450.39 969.087 1450.39 Z\" fill=\"#000000\" fill-rule=\"nonzero\" fill-opacity=\"1\" /><path clip-path=\"url(#clip230)\" d=\"M1212.32 1466.95 Q1215.67 1467.66 1217.55 1469.93 Q1219.45 1472.2 1219.45 1475.53 Q1219.45 1480.65 1215.93 1483.45 Q1212.41 1486.25 1205.93 1486.25 Q1203.75 1486.25 1201.44 1485.81 Q1199.15 1485.39 1196.69 1484.54 L1196.69 1480.02 Q1198.64 1481.16 1200.95 1481.74 Q1203.27 1482.32 1205.79 1482.32 Q1210.19 1482.32 1212.48 1480.58 Q1214.79 1478.84 1214.79 1475.53 Q1214.79 1472.48 1212.64 1470.77 Q1210.51 1469.03 1206.69 1469.03 L1202.67 1469.03 L1202.67 1465.19 L1206.88 1465.19 Q1210.33 1465.19 1212.16 1463.82 Q1213.98 1462.43 1213.98 1459.84 Q1213.98 1457.18 1212.09 1455.77 Q1210.21 1454.33 1206.69 1454.33 Q1204.77 1454.33 1202.57 1454.75 Q1200.37 1455.16 1197.73 1456.04 L1197.73 1451.88 Q1200.4 1451.14 1202.71 1450.77 Q1205.05 1450.39 1207.11 1450.39 Q1212.43 1450.39 1215.54 1452.83 Q1218.64 1455.23 1218.64 1459.35 Q1218.64 1462.22 1216.99 1464.21 Q1215.35 1466.18 1212.32 1466.95 Z\" fill=\"#000000\" fill-rule=\"nonzero\" fill-opacity=\"1\" /><path clip-path=\"url(#clip230)\" d=\"M1238.31 1454.1 Q1234.7 1454.1 1232.87 1457.66 Q1231.07 1461.2 1231.07 1468.33 Q1231.07 1475.44 1232.87 1479.01 Q1234.7 1482.55 1238.31 1482.55 Q1241.95 1482.55 1243.75 1479.01 Q1245.58 1475.44 1245.58 1468.33 Q1245.58 1461.2 1243.75 1457.66 Q1241.95 1454.1 1238.31 1454.1 M1238.31 1450.39 Q1244.12 1450.39 1247.18 1455 Q1250.26 1459.58 1250.26 1468.33 Q1250.26 1477.06 1247.18 1481.67 Q1244.12 1486.25 1238.31 1486.25 Q1232.5 1486.25 1229.42 1481.67 Q1226.37 1477.06 1226.37 1468.33 Q1226.37 1459.58 1229.42 1455 Q1232.5 1450.39 1238.31 1450.39 Z\" fill=\"#000000\" fill-rule=\"nonzero\" fill-opacity=\"1\" /><path clip-path=\"url(#clip230)\" d=\"M1268.48 1454.1 Q1264.86 1454.1 1263.04 1457.66 Q1261.23 1461.2 1261.23 1468.33 Q1261.23 1475.44 1263.04 1479.01 Q1264.86 1482.55 1268.48 1482.55 Q1272.11 1482.55 1273.91 1479.01 Q1275.74 1475.44 1275.74 1468.33 Q1275.74 1461.2 1273.91 1457.66 Q1272.11 1454.1 1268.48 1454.1 M1268.48 1450.39 Q1274.29 1450.39 1277.34 1455 Q1280.42 1459.58 1280.42 1468.33 Q1280.42 1477.06 1277.34 1481.67 Q1274.29 1486.25 1268.48 1486.25 Q1262.67 1486.25 1259.59 1481.67 Q1256.53 1477.06 1256.53 1468.33 Q1256.53 1459.58 1259.59 1455 Q1262.67 1450.39 1268.48 1450.39 Z\" fill=\"#000000\" fill-rule=\"nonzero\" fill-opacity=\"1\" /><path clip-path=\"url(#clip230)\" d=\"M1298.64 1454.1 Q1295.03 1454.1 1293.2 1457.66 Q1291.39 1461.2 1291.39 1468.33 Q1291.39 1475.44 1293.2 1479.01 Q1295.03 1482.55 1298.64 1482.55 Q1302.27 1482.55 1304.08 1479.01 Q1305.91 1475.44 1305.91 1468.33 Q1305.91 1461.2 1304.08 1457.66 Q1302.27 1454.1 1298.64 1454.1 M1298.64 1450.39 Q1304.45 1450.39 1307.5 1455 Q1310.58 1459.58 1310.58 1468.33 Q1310.58 1477.06 1307.5 1481.67 Q1304.45 1486.25 1298.64 1486.25 Q1292.83 1486.25 1289.75 1481.67 Q1286.69 1477.06 1286.69 1468.33 Q1286.69 1459.58 1289.75 1455 Q1292.83 1450.39 1298.64 1450.39 Z\" fill=\"#000000\" fill-rule=\"nonzero\" fill-opacity=\"1\" /><path clip-path=\"url(#clip230)\" d=\"M1541.27 1455.09 L1529.46 1473.54 L1541.27 1473.54 L1541.27 1455.09 M1540.04 1451.02 L1545.92 1451.02 L1545.92 1473.54 L1550.85 1473.54 L1550.85 1477.43 L1545.92 1477.43 L1545.92 1485.58 L1541.27 1485.58 L1541.27 1477.43 L1525.66 1477.43 L1525.66 1472.92 L1540.04 1451.02 Z\" fill=\"#000000\" fill-rule=\"nonzero\" fill-opacity=\"1\" /><path clip-path=\"url(#clip230)\" d=\"M1568.58 1454.1 Q1564.97 1454.1 1563.14 1457.66 Q1561.34 1461.2 1561.34 1468.33 Q1561.34 1475.44 1563.14 1479.01 Q1564.97 1482.55 1568.58 1482.55 Q1572.22 1482.55 1574.02 1479.01 Q1575.85 1475.44 1575.85 1468.33 Q1575.85 1461.2 1574.02 1457.66 Q1572.22 1454.1 1568.58 1454.1 M1568.58 1450.39 Q1574.39 1450.39 1577.45 1455 Q1580.53 1459.58 1580.53 1468.33 Q1580.53 1477.06 1577.45 1481.67 Q1574.39 1486.25 1568.58 1486.25 Q1562.77 1486.25 1559.69 1481.67 Q1556.64 1477.06 1556.64 1468.33 Q1556.64 1459.58 1559.69 1455 Q1562.77 1450.39 1568.58 1450.39 Z\" fill=\"#000000\" fill-rule=\"nonzero\" fill-opacity=\"1\" /><path clip-path=\"url(#clip230)\" d=\"M1598.74 1454.1 Q1595.13 1454.1 1593.3 1457.66 Q1591.5 1461.2 1591.5 1468.33 Q1591.5 1475.44 1593.3 1479.01 Q1595.13 1482.55 1598.74 1482.55 Q1602.38 1482.55 1604.18 1479.01 Q1606.01 1475.44 1606.01 1468.33 Q1606.01 1461.2 1604.18 1457.66 Q1602.38 1454.1 1598.74 1454.1 M1598.74 1450.39 Q1604.55 1450.39 1607.61 1455 Q1610.69 1459.58 1610.69 1468.33 Q1610.69 1477.06 1607.61 1481.67 Q1604.55 1486.25 1598.74 1486.25 Q1592.93 1486.25 1589.85 1481.67 Q1586.8 1477.06 1586.8 1468.33 Q1586.8 1459.58 1589.85 1455 Q1592.93 1450.39 1598.74 1450.39 Z\" fill=\"#000000\" fill-rule=\"nonzero\" fill-opacity=\"1\" /><path clip-path=\"url(#clip230)\" d=\"M1628.9 1454.1 Q1625.29 1454.1 1623.47 1457.66 Q1621.66 1461.2 1621.66 1468.33 Q1621.66 1475.44 1623.47 1479.01 Q1625.29 1482.55 1628.9 1482.55 Q1632.54 1482.55 1634.34 1479.01 Q1636.17 1475.44 1636.17 1468.33 Q1636.17 1461.2 1634.34 1457.66 Q1632.54 1454.1 1628.9 1454.1 M1628.9 1450.39 Q1634.71 1450.39 1637.77 1455 Q1640.85 1459.58 1640.85 1468.33 Q1640.85 1477.06 1637.77 1481.67 Q1634.71 1486.25 1628.9 1486.25 Q1623.09 1486.25 1620.02 1481.67 Q1616.96 1477.06 1616.96 1468.33 Q1616.96 1459.58 1620.02 1455 Q1623.09 1450.39 1628.9 1450.39 Z\" fill=\"#000000\" fill-rule=\"nonzero\" fill-opacity=\"1\" /><path clip-path=\"url(#clip230)\" d=\"M1857.41 1451.02 L1875.77 1451.02 L1875.77 1454.96 L1861.7 1454.96 L1861.7 1463.43 Q1862.71 1463.08 1863.73 1462.92 Q1864.75 1462.73 1865.77 1462.73 Q1871.56 1462.73 1874.94 1465.9 Q1878.32 1469.08 1878.32 1474.49 Q1878.32 1480.07 1874.84 1483.17 Q1871.37 1486.25 1865.05 1486.25 Q1862.88 1486.25 1860.61 1485.88 Q1858.36 1485.51 1855.96 1484.77 L1855.96 1480.07 Q1858.04 1481.2 1860.26 1481.76 Q1862.48 1482.32 1864.96 1482.32 Q1868.96 1482.32 1871.3 1480.21 Q1873.64 1478.1 1873.64 1474.49 Q1873.64 1470.88 1871.3 1468.77 Q1868.96 1466.67 1864.96 1466.67 Q1863.09 1466.67 1861.21 1467.08 Q1859.36 1467.5 1857.41 1468.38 L1857.41 1451.02 Z\" fill=\"#000000\" fill-rule=\"nonzero\" fill-opacity=\"1\" /><path clip-path=\"url(#clip230)\" d=\"M1897.53 1454.1 Q1893.92 1454.1 1892.09 1457.66 Q1890.28 1461.2 1890.28 1468.33 Q1890.28 1475.44 1892.09 1479.01 Q1893.92 1482.55 1897.53 1482.55 Q1901.16 1482.55 1902.97 1479.01 Q1904.8 1475.44 1904.8 1468.33 Q1904.8 1461.2 1902.97 1457.66 Q1901.16 1454.1 1897.53 1454.1 M1897.53 1450.39 Q1903.34 1450.39 1906.4 1455 Q1909.47 1459.58 1909.47 1468.33 Q1909.47 1477.06 1906.4 1481.67 Q1903.34 1486.25 1897.53 1486.25 Q1891.72 1486.25 1888.64 1481.67 Q1885.58 1477.06 1885.58 1468.33 Q1885.58 1459.58 1888.64 1455 Q1891.72 1450.39 1897.53 1450.39 Z\" fill=\"#000000\" fill-rule=\"nonzero\" fill-opacity=\"1\" /><path clip-path=\"url(#clip230)\" d=\"M1927.69 1454.1 Q1924.08 1454.1 1922.25 1457.66 Q1920.45 1461.2 1920.45 1468.33 Q1920.45 1475.44 1922.25 1479.01 Q1924.08 1482.55 1927.69 1482.55 Q1931.33 1482.55 1933.13 1479.01 Q1934.96 1475.44 1934.96 1468.33 Q1934.96 1461.2 1933.13 1457.66 Q1931.33 1454.1 1927.69 1454.1 M1927.69 1450.39 Q1933.5 1450.39 1936.56 1455 Q1939.64 1459.58 1939.64 1468.33 Q1939.64 1477.06 1936.56 1481.67 Q1933.5 1486.25 1927.69 1486.25 Q1921.88 1486.25 1918.8 1481.67 Q1915.75 1477.06 1915.75 1468.33 Q1915.75 1459.58 1918.8 1455 Q1921.88 1450.39 1927.69 1450.39 Z\" fill=\"#000000\" fill-rule=\"nonzero\" fill-opacity=\"1\" /><path clip-path=\"url(#clip230)\" d=\"M1957.85 1454.1 Q1954.24 1454.1 1952.41 1457.66 Q1950.61 1461.2 1950.61 1468.33 Q1950.61 1475.44 1952.41 1479.01 Q1954.24 1482.55 1957.85 1482.55 Q1961.49 1482.55 1963.29 1479.01 Q1965.12 1475.44 1965.12 1468.33 Q1965.12 1461.2 1963.29 1457.66 Q1961.49 1454.1 1957.85 1454.1 M1957.85 1450.39 Q1963.66 1450.39 1966.72 1455 Q1969.8 1459.58 1969.8 1468.33 Q1969.8 1477.06 1966.72 1481.67 Q1963.66 1486.25 1957.85 1486.25 Q1952.04 1486.25 1948.96 1481.67 Q1945.91 1477.06 1945.91 1468.33 Q1945.91 1459.58 1948.96 1455 Q1952.04 1450.39 1957.85 1450.39 Z\" fill=\"#000000\" fill-rule=\"nonzero\" fill-opacity=\"1\" /><path clip-path=\"url(#clip230)\" d=\"M2197.74 1466.44 Q2194.59 1466.44 2192.74 1468.59 Q2190.91 1470.74 2190.91 1474.49 Q2190.91 1478.22 2192.74 1480.39 Q2194.59 1482.55 2197.74 1482.55 Q2200.89 1482.55 2202.72 1480.39 Q2204.57 1478.22 2204.57 1474.49 Q2204.57 1470.74 2202.72 1468.59 Q2200.89 1466.44 2197.74 1466.44 M2207.02 1451.78 L2207.02 1456.04 Q2205.26 1455.21 2203.46 1454.77 Q2201.67 1454.33 2199.92 1454.33 Q2195.29 1454.33 2192.83 1457.45 Q2190.4 1460.58 2190.05 1466.9 Q2191.42 1464.89 2193.48 1463.82 Q2195.54 1462.73 2198.02 1462.73 Q2203.23 1462.73 2206.23 1465.9 Q2209.27 1469.05 2209.27 1474.49 Q2209.27 1479.82 2206.12 1483.03 Q2202.97 1486.25 2197.74 1486.25 Q2191.74 1486.25 2188.57 1481.67 Q2185.4 1477.06 2185.4 1468.33 Q2185.4 1460.14 2189.29 1455.28 Q2193.18 1450.39 2199.73 1450.39 Q2201.49 1450.39 2203.27 1450.74 Q2205.08 1451.09 2207.02 1451.78 Z\" fill=\"#000000\" fill-rule=\"nonzero\" fill-opacity=\"1\" /><path clip-path=\"url(#clip230)\" d=\"M2227.32 1454.1 Q2223.71 1454.1 2221.88 1457.66 Q2220.08 1461.2 2220.08 1468.33 Q2220.08 1475.44 2221.88 1479.01 Q2223.71 1482.55 2227.32 1482.55 Q2230.96 1482.55 2232.76 1479.01 Q2234.59 1475.44 2234.59 1468.33 Q2234.59 1461.2 2232.76 1457.66 Q2230.96 1454.1 2227.32 1454.1 M2227.32 1450.39 Q2233.13 1450.39 2236.19 1455 Q2239.27 1459.58 2239.27 1468.33 Q2239.27 1477.06 2236.19 1481.67 Q2233.13 1486.25 2227.32 1486.25 Q2221.51 1486.25 2218.43 1481.67 Q2215.38 1477.06 2215.38 1468.33 Q2215.38 1459.58 2218.43 1455 Q2221.51 1450.39 2227.32 1450.39 Z\" fill=\"#000000\" fill-rule=\"nonzero\" fill-opacity=\"1\" /><path clip-path=\"url(#clip230)\" d=\"M2257.48 1454.1 Q2253.87 1454.1 2252.04 1457.66 Q2250.24 1461.2 2250.24 1468.33 Q2250.24 1475.44 2252.04 1479.01 Q2253.87 1482.55 2257.48 1482.55 Q2261.12 1482.55 2262.92 1479.01 Q2264.75 1475.44 2264.75 1468.33 Q2264.75 1461.2 2262.92 1457.66 Q2261.12 1454.1 2257.48 1454.1 M2257.48 1450.39 Q2263.29 1450.39 2266.35 1455 Q2269.43 1459.58 2269.43 1468.33 Q2269.43 1477.06 2266.35 1481.67 Q2263.29 1486.25 2257.48 1486.25 Q2251.67 1486.25 2248.6 1481.67 Q2245.54 1477.06 2245.54 1468.33 Q2245.54 1459.58 2248.6 1455 Q2251.67 1450.39 2257.48 1450.39 Z\" fill=\"#000000\" fill-rule=\"nonzero\" fill-opacity=\"1\" /><path clip-path=\"url(#clip230)\" d=\"M2287.65 1454.1 Q2284.04 1454.1 2282.21 1457.66 Q2280.4 1461.2 2280.4 1468.33 Q2280.4 1475.44 2282.21 1479.01 Q2284.04 1482.55 2287.65 1482.55 Q2291.28 1482.55 2293.09 1479.01 Q2294.91 1475.44 2294.91 1468.33 Q2294.91 1461.2 2293.09 1457.66 Q2291.28 1454.1 2287.65 1454.1 M2287.65 1450.39 Q2293.46 1450.39 2296.51 1455 Q2299.59 1459.58 2299.59 1468.33 Q2299.59 1477.06 2296.51 1481.67 Q2293.46 1486.25 2287.65 1486.25 Q2281.84 1486.25 2278.76 1481.67 Q2275.7 1477.06 2275.7 1468.33 Q2275.7 1459.58 2278.76 1455 Q2281.84 1450.39 2287.65 1450.39 Z\" fill=\"#000000\" fill-rule=\"nonzero\" fill-opacity=\"1\" /><path clip-path=\"url(#clip230)\" d=\"M1200.24 1520.52 L1240.44 1520.52 L1240.44 1525.93 L1223.57 1525.93 L1223.57 1568.04 L1217.11 1568.04 L1217.11 1525.93 L1200.24 1525.93 L1200.24 1520.52 Z\" fill=\"#000000\" fill-rule=\"nonzero\" fill-opacity=\"1\" /><path clip-path=\"url(#clip230)\" d=\"M1244.38 1532.4 L1250.24 1532.4 L1250.24 1568.04 L1244.38 1568.04 L1244.38 1532.4 M1244.38 1518.52 L1250.24 1518.52 L1250.24 1525.93 L1244.38 1525.93 L1244.38 1518.52 Z\" fill=\"#000000\" fill-rule=\"nonzero\" fill-opacity=\"1\" /><path clip-path=\"url(#clip230)\" d=\"M1290.25 1539.24 Q1292.44 1535.29 1295.5 1533.41 Q1298.55 1531.54 1302.69 1531.54 Q1308.26 1531.54 1311.29 1535.45 Q1314.31 1539.33 1314.31 1546.53 L1314.31 1568.04 L1308.42 1568.04 L1308.42 1546.72 Q1308.42 1541.59 1306.61 1539.11 Q1304.79 1536.63 1301.07 1536.63 Q1296.52 1536.63 1293.88 1539.65 Q1291.23 1542.68 1291.23 1547.9 L1291.23 1568.04 L1285.35 1568.04 L1285.35 1546.72 Q1285.35 1541.56 1283.53 1539.11 Q1281.72 1536.63 1277.93 1536.63 Q1273.44 1536.63 1270.8 1539.68 Q1268.16 1542.71 1268.16 1547.9 L1268.16 1568.04 L1262.27 1568.04 L1262.27 1532.4 L1268.16 1532.4 L1268.16 1537.93 Q1270.16 1534.66 1272.96 1533.1 Q1275.77 1531.54 1279.62 1531.54 Q1283.5 1531.54 1286.21 1533.51 Q1288.94 1535.48 1290.25 1539.24 Z\" fill=\"#000000\" fill-rule=\"nonzero\" fill-opacity=\"1\" /><path clip-path=\"url(#clip230)\" d=\"M1356.48 1548.76 L1356.48 1551.62 L1329.56 1551.62 Q1329.94 1557.67 1333.18 1560.85 Q1336.46 1564 1342.29 1564 Q1345.66 1564 1348.81 1563.17 Q1352 1562.35 1355.11 1560.69 L1355.11 1566.23 Q1351.96 1567.57 1348.65 1568.27 Q1345.34 1568.97 1341.94 1568.97 Q1333.41 1568.97 1328.41 1564 Q1323.44 1559.04 1323.44 1550.57 Q1323.44 1541.82 1328.16 1536.69 Q1332.9 1531.54 1340.92 1531.54 Q1348.11 1531.54 1352.28 1536.18 Q1356.48 1540.8 1356.48 1548.76 M1350.63 1547.04 Q1350.56 1542.23 1347.92 1539.37 Q1345.31 1536.5 1340.98 1536.5 Q1336.08 1536.5 1333.12 1539.27 Q1330.19 1542.04 1329.75 1547.07 L1350.63 1547.04 Z\" fill=\"#000000\" fill-rule=\"nonzero\" fill-opacity=\"1\" /><polyline clip-path=\"url(#clip230)\" style=\"stroke:#000000; stroke-linecap:round; stroke-linejoin:round; stroke-width:4; stroke-opacity:1; fill:none\" points=\"203.964,1423.18 203.964,47.2441 \"/>\n",
       "<polyline clip-path=\"url(#clip230)\" style=\"stroke:#000000; stroke-linecap:round; stroke-linejoin:round; stroke-width:4; stroke-opacity:1; fill:none\" points=\"203.964,1384.24 222.861,1384.24 \"/>\n",
       "<polyline clip-path=\"url(#clip230)\" style=\"stroke:#000000; stroke-linecap:round; stroke-linejoin:round; stroke-width:4; stroke-opacity:1; fill:none\" points=\"203.964,1110.47 222.861,1110.47 \"/>\n",
       "<polyline clip-path=\"url(#clip230)\" style=\"stroke:#000000; stroke-linecap:round; stroke-linejoin:round; stroke-width:4; stroke-opacity:1; fill:none\" points=\"203.964,836.692 222.861,836.692 \"/>\n",
       "<polyline clip-path=\"url(#clip230)\" style=\"stroke:#000000; stroke-linecap:round; stroke-linejoin:round; stroke-width:4; stroke-opacity:1; fill:none\" points=\"203.964,562.92 222.861,562.92 \"/>\n",
       "<polyline clip-path=\"url(#clip230)\" style=\"stroke:#000000; stroke-linecap:round; stroke-linejoin:round; stroke-width:4; stroke-opacity:1; fill:none\" points=\"203.964,289.147 222.861,289.147 \"/>\n",
       "<path clip-path=\"url(#clip230)\" d=\"M156.019 1370.04 Q152.408 1370.04 150.579 1373.6 Q148.774 1377.14 148.774 1384.27 Q148.774 1391.38 150.579 1394.94 Q152.408 1398.49 156.019 1398.49 Q159.653 1398.49 161.459 1394.94 Q163.288 1391.38 163.288 1384.27 Q163.288 1377.14 161.459 1373.6 Q159.653 1370.04 156.019 1370.04 M156.019 1366.33 Q161.829 1366.33 164.885 1370.94 Q167.964 1375.52 167.964 1384.27 Q167.964 1393 164.885 1397.61 Q161.829 1402.19 156.019 1402.19 Q150.209 1402.19 147.13 1397.61 Q144.075 1393 144.075 1384.27 Q144.075 1375.52 147.13 1370.94 Q150.209 1366.33 156.019 1366.33 Z\" fill=\"#000000\" fill-rule=\"nonzero\" fill-opacity=\"1\" /><path clip-path=\"url(#clip230)\" d=\"M147.061 1093.19 L165.417 1093.19 L165.417 1097.12 L151.343 1097.12 L151.343 1105.59 Q152.362 1105.25 153.38 1105.08 Q154.399 1104.9 155.417 1104.9 Q161.204 1104.9 164.584 1108.07 Q167.964 1111.24 167.964 1116.66 Q167.964 1122.24 164.491 1125.34 Q161.019 1128.42 154.7 1128.42 Q152.524 1128.42 150.255 1128.05 Q148.01 1127.68 145.603 1126.94 L145.603 1122.24 Q147.686 1123.37 149.908 1123.93 Q152.13 1124.48 154.607 1124.48 Q158.612 1124.48 160.95 1122.38 Q163.288 1120.27 163.288 1116.66 Q163.288 1113.05 160.95 1110.94 Q158.612 1108.83 154.607 1108.83 Q152.732 1108.83 150.857 1109.25 Q149.005 1109.67 147.061 1110.55 L147.061 1093.19 Z\" fill=\"#000000\" fill-rule=\"nonzero\" fill-opacity=\"1\" /><path clip-path=\"url(#clip230)\" d=\"M116.668 850.037 L124.306 850.037 L124.306 823.672 L115.996 825.338 L115.996 821.079 L124.26 819.412 L128.936 819.412 L128.936 850.037 L136.575 850.037 L136.575 853.972 L116.668 853.972 L116.668 850.037 Z\" fill=\"#000000\" fill-rule=\"nonzero\" fill-opacity=\"1\" /><path clip-path=\"url(#clip230)\" d=\"M156.019 822.491 Q152.408 822.491 150.579 826.056 Q148.774 829.598 148.774 836.727 Q148.774 843.834 150.579 847.398 Q152.408 850.94 156.019 850.94 Q159.653 850.94 161.459 847.398 Q163.288 843.834 163.288 836.727 Q163.288 829.598 161.459 826.056 Q159.653 822.491 156.019 822.491 M156.019 818.787 Q161.829 818.787 164.885 823.394 Q167.964 827.977 167.964 836.727 Q167.964 845.454 164.885 850.06 Q161.829 854.644 156.019 854.644 Q150.209 854.644 147.13 850.06 Q144.075 845.454 144.075 836.727 Q144.075 827.977 147.13 823.394 Q150.209 818.787 156.019 818.787 Z\" fill=\"#000000\" fill-rule=\"nonzero\" fill-opacity=\"1\" /><path clip-path=\"url(#clip230)\" d=\"M117.663 576.264 L125.302 576.264 L125.302 549.899 L116.992 551.565 L116.992 547.306 L125.255 545.64 L129.931 545.64 L129.931 576.264 L137.57 576.264 L137.57 580.2 L117.663 580.2 L117.663 576.264 Z\" fill=\"#000000\" fill-rule=\"nonzero\" fill-opacity=\"1\" /><path clip-path=\"url(#clip230)\" d=\"M147.061 545.64 L165.417 545.64 L165.417 549.575 L151.343 549.575 L151.343 558.047 Q152.362 557.7 153.38 557.538 Q154.399 557.352 155.417 557.352 Q161.204 557.352 164.584 560.524 Q167.964 563.695 167.964 569.112 Q167.964 574.69 164.491 577.792 Q161.019 580.871 154.7 580.871 Q152.524 580.871 150.255 580.5 Q148.01 580.13 145.603 579.389 L145.603 574.69 Q147.686 575.825 149.908 576.38 Q152.13 576.936 154.607 576.936 Q158.612 576.936 160.95 574.829 Q163.288 572.723 163.288 569.112 Q163.288 565.501 160.95 563.394 Q158.612 561.288 154.607 561.288 Q152.732 561.288 150.857 561.704 Q149.005 562.121 147.061 563.001 L147.061 545.64 Z\" fill=\"#000000\" fill-rule=\"nonzero\" fill-opacity=\"1\" /><path clip-path=\"url(#clip230)\" d=\"M119.885 302.491 L136.204 302.491 L136.204 306.427 L114.26 306.427 L114.26 302.491 Q116.922 299.737 121.505 295.107 Q126.112 290.454 127.292 289.112 Q129.538 286.589 130.417 284.853 Q131.32 283.093 131.32 281.404 Q131.32 278.649 129.376 276.913 Q127.455 275.177 124.353 275.177 Q122.154 275.177 119.7 275.941 Q117.269 276.705 114.492 278.255 L114.492 273.533 Q117.316 272.399 119.769 271.82 Q122.223 271.242 124.26 271.242 Q129.63 271.242 132.825 273.927 Q136.019 276.612 136.019 281.103 Q136.019 283.232 135.209 285.154 Q134.422 287.052 132.316 289.644 Q131.737 290.316 128.635 293.533 Q125.533 296.728 119.885 302.491 Z\" fill=\"#000000\" fill-rule=\"nonzero\" fill-opacity=\"1\" /><path clip-path=\"url(#clip230)\" d=\"M156.019 274.945 Q152.408 274.945 150.579 278.51 Q148.774 282.052 148.774 289.181 Q148.774 296.288 150.579 299.853 Q152.408 303.394 156.019 303.394 Q159.653 303.394 161.459 299.853 Q163.288 296.288 163.288 289.181 Q163.288 282.052 161.459 278.51 Q159.653 274.945 156.019 274.945 M156.019 271.242 Q161.829 271.242 164.885 275.848 Q167.964 280.431 167.964 289.181 Q167.964 297.908 164.885 302.515 Q161.829 307.098 156.019 307.098 Q150.209 307.098 147.13 302.515 Q144.075 297.908 144.075 289.181 Q144.075 280.431 147.13 275.848 Q150.209 271.242 156.019 271.242 Z\" fill=\"#000000\" fill-rule=\"nonzero\" fill-opacity=\"1\" /><path clip-path=\"url(#clip230)\" d=\"M16.4842 803.993 L16.4842 794.413 L48.8219 782.286 L16.4842 770.096 L16.4842 760.516 L64.0042 760.516 L64.0042 766.786 L22.277 766.786 L54.8694 779.04 L54.8694 785.501 L22.277 797.755 L64.0042 797.755 L64.0042 803.993 L16.4842 803.993 Z\" fill=\"#000000\" fill-rule=\"nonzero\" fill-opacity=\"1\" /><path clip-path=\"url(#clip230)\" d=\"M18.0438 719.266 L24.314 719.266 Q22.5634 722.926 21.704 726.173 Q20.8447 729.419 20.8447 732.443 Q20.8447 737.695 22.8817 740.559 Q24.9187 743.392 28.6745 743.392 Q31.8255 743.392 33.4488 741.514 Q35.0402 739.604 36.0269 734.321 L36.8226 730.438 Q38.1912 723.244 41.6605 719.839 Q45.098 716.401 50.8908 716.401 Q57.7976 716.401 61.3624 721.048 Q64.9272 725.663 64.9272 734.607 Q64.9272 737.981 64.1633 741.8 Q63.3994 745.588 61.9035 749.662 L55.2831 749.662 Q57.4793 745.747 58.5933 741.991 Q59.7073 738.236 59.7073 734.607 Q59.7073 729.101 57.543 726.109 Q55.3786 723.117 51.3682 723.117 Q47.8671 723.117 45.8937 725.281 Q43.9204 727.414 42.9337 732.316 L42.1698 736.23 Q40.7375 743.424 37.682 746.638 Q34.6264 749.853 29.1837 749.853 Q22.8817 749.853 19.2532 745.429 Q15.6248 740.973 15.6248 733.175 Q15.6248 729.833 16.2295 726.364 Q16.8343 722.894 18.0438 719.266 Z\" fill=\"#000000\" fill-rule=\"nonzero\" fill-opacity=\"1\" /><path clip-path=\"url(#clip230)\" d=\"M21.7677 699.946 L58.7206 699.946 L58.7206 692.18 Q58.7206 682.345 54.2646 677.793 Q49.8086 673.21 40.1964 673.21 Q30.6479 673.21 26.2237 677.793 Q21.7677 682.345 21.7677 692.18 L21.7677 699.946 M16.4842 706.375 L16.4842 693.166 Q16.4842 679.353 22.2451 672.892 Q27.9743 666.431 40.1964 666.431 Q52.4822 666.431 58.2432 672.924 Q64.0042 679.417 64.0042 693.166 L64.0042 706.375 L16.4842 706.375 Z\" fill=\"#000000\" fill-rule=\"nonzero\" fill-opacity=\"1\" /><polyline clip-path=\"url(#clip232)\" style=\"stroke:#009af9; stroke-linecap:round; stroke-linejoin:round; stroke-width:4; stroke-opacity:1; fill:none\" points=\"264.778,1384.24 268.077,1382.4 271.376,1382.28 274.669,1381.03 277.968,1382.9 281.261,1375.14 284.56,1381.55 287.852,1378.07 291.151,1381.74 294.444,1383.27 297.743,1383.43 301.042,1384.14 304.335,1382.8 307.634,1382.91 310.927,1377.48 314.225,1384.05 317.518,1384.14 320.817,1382.96 324.11,1381.14 327.409,1383.89 330.708,1372.47 334.001,1383.19 337.299,1377.98 340.592,1381.18 343.891,1379.74 347.184,1371.76 350.483,1380.29 353.782,1379.68 357.075,1365.43 360.373,1377.31 363.666,1383.24 366.965,1383.06 370.258,1379.36 373.557,1381.42 376.85,1373.55 380.149,1380.57 383.447,1383.11 386.74,1383.22 390.039,1384.01 393.332,1375.86 396.631,1383.61 399.924,1373.98 403.223,1383.16 406.516,1381.55 409.814,1365.02 413.113,1381.72 416.406,1379.54 419.705,1378.65 422.998,1383.41 426.297,1381.45 429.59,1383.26 432.888,1367.08 436.181,1381.97 439.48,1379.88 442.779,1378.29 446.072,1382.61 449.371,1379.03 452.664,1380.93 455.962,1383.33 459.255,1384.01 462.554,1382.13 465.847,1382.28 469.146,1377.23 472.445,1379.79 475.738,1378.5 479.036,1380.77 482.329,1380.19 485.628,1382.61 488.921,1382.03 492.22,1380.59 495.513,1383.81 498.812,1381.28 502.111,1380.55 505.403,1375.87 508.702,1375.41 511.995,1383.66 515.294,1378.34 518.587,1382.96 521.886,1377.46 525.179,1384.16 528.477,1382 531.77,1379.17 535.069,1375.4 538.368,1383.66 541.661,1379.35 544.96,1383.33 548.253,1376.46 551.551,1383.84 554.844,1379.69 558.143,1372.62 561.436,1378.37 564.735,1381.44 568.034,1381.89 571.327,1370.02 574.625,1383.33 577.918,1373.86 581.217,1382.15 584.51,1381.55 587.809,1381.09 591.102,1381.74 594.401,1383.18 597.7,1379.66 600.992,1373.06 604.291,1382.63 607.584,1383.91 610.883,1381.8 614.176,1381.17 617.475,1380.73 620.768,1381.84 624.066,1379.99 627.365,1384.22 630.658,1373.24 633.957,1374.96 637.25,1383.53 640.549,1366.15 643.842,1376.74 647.14,1381.22 650.433,1380.4 653.732,1382.15 657.031,1379.79 660.324,1383.43 663.623,1383.82 666.916,1381.03 670.215,1379.31 673.507,1383.55 676.806,1382.23 680.099,1384.2 683.398,1383.67 686.697,1375.46 689.99,1382.77 693.289,1377.57 696.581,1381.99 699.88,1380.22 703.173,1375.62 706.472,1384 709.765,1377.1 713.064,1380.4 716.363,1382.83 719.655,1379.2 722.954,1382.92 726.247,1380.14 729.546,1382.51 732.839,1380.64 736.138,1374.45 739.431,1380.18 742.73,1383.51 746.028,1380.96 749.321,1380.5 752.62,1373.61 755.913,1377.11 759.212,1378.69 762.505,1380.82 765.804,1382.79 769.096,1383.65 772.395,1379.74 775.694,1383.17 778.987,1383.77 782.286,1377.26 785.579,1378.64 788.878,1377.17 792.17,1380.58 795.469,1380.37 798.762,1379.72 802.061,1382.36 805.36,1377.94 808.653,1383.86 811.952,1382.78 815.245,1380.29 818.543,1382.4 821.836,1382.97 825.135,1381.74 828.428,1383.84 831.727,1381.74 835.026,1382.02 838.319,1382.6 841.617,1381.7 844.91,1383.46 848.209,1381.17 851.502,1382.44 854.801,1381.59 858.094,1382.59 861.393,1382.44 864.691,1384.07 867.984,1374.78 871.283,1384.2 874.576,1383.14 877.875,1383.45 881.168,1381.94 884.467,1381.57 887.76,1381.05 891.058,1376.61 894.357,1379.15 897.65,1381.81 900.949,1383.99 904.242,1379.31 907.541,1382.99 910.834,1382.82 914.132,1383.3 917.425,1381.55 920.724,1384.14 924.023,1383.49 927.316,1380.23 930.615,1380.58 933.908,1378.13 937.206,1381.91 940.499,1380.77 943.798,1384.11 947.091,1382.19 950.39,1377.17 953.689,1374.86 956.982,1378.78 960.28,1384.09 963.573,1380.44 966.872,1379.98 970.165,1381.34 973.464,1383.69 976.757,1379.43 980.056,1380.39 983.354,1382.52 986.647,1375.67 989.946,1381.64 993.239,1370.82 996.538,1381.03 999.831,1382.62 1003.13,1381.39 1006.42,1380.35 1009.72,1382.04 1013.02,1381.68 1016.31,1381.37 1019.61,1381.02 1022.9,1383.67 1026.2,1381.69 1029.5,1377.04 1032.8,1383.87 1036.09,1381.62 1039.39,1377.69 1042.69,1378.57 1045.98,1381.21 1049.28,1382.75 1052.57,1381.9 1055.87,1382.14 1059.16,1382.13 1062.46,1383.15 1065.75,1378.23 1069.05,1379.22 1072.35,1373.37 1075.64,1383.67 1078.94,1381.89 1082.24,1380.84 1085.54,1381.81 1088.83,1379.88 1092.13,1383.77 1095.42,1378.45 1098.72,1377.4 1102.02,1384.07 1105.31,1382.05 1108.61,1377.7 1111.9,1381.06 1115.2,1378.91 1118.49,1382.91 1121.79,1384.08 1125.09,1383.21 1128.38,1379.36 1131.68,1382.11 1134.98,1381.59 1138.28,1384.14 1141.57,1381.13 1144.87,1383.6 1148.16,1383.42 1151.46,1382.83 1154.75,1381.79 1158.05,1376.66 1161.35,1382.44 1164.64,1383.72 1167.94,1380.17 1171.23,1379.74 1174.53,1384.15 1177.83,1383.6 1181.12,1381.45 1184.42,1369.38 1187.72,1378.46 1191.01,1377.97 1194.31,1367.89 1197.61,1383.4 1200.9,1384.04 1204.2,1379.79 1207.49,1382.97 1210.79,1379.36 1214.08,1383.14 1217.38,1383 1220.68,1381.76 1223.97,1380.85 1227.27,1383.53 1230.57,1382.38 1233.86,1375.62 1237.16,1372.63 1240.46,1384.04 1243.75,1383.73 1247.05,1381.92 1250.35,1376.52 1253.64,1379.89 1256.94,1383.29 1260.23,1383.59 1263.53,1381.54 1266.82,1383.6 1270.12,1371.14 1273.41,1379.79 1276.71,1382.63 1280.01,1382.85 1283.31,1381.96 1286.6,1382.9 1289.9,1382.94 1293.2,1378.53 1296.49,1382.72 1299.79,1383.03 1303.08,1384.23 1306.38,1375.11 1309.68,1383.74 1312.97,1383.23 1316.27,1383.09 1319.56,1383.18 1322.86,1378.06 1326.15,1380.86 1329.45,1376.11 1332.75,1376.16 1336.04,1378.91 1339.34,1383.14 1342.64,1369.87 1345.94,1367.81 1349.23,1377.52 1352.53,1374.58 1355.82,1383.3 1359.12,1378.55 1362.41,1373.09 1365.71,1381.33 1369.01,1384.06 1372.3,1374.9 1375.6,1368.95 1378.89,1376.27 1382.19,1375.58 1385.49,1375.85 1388.78,1378.34 1392.08,1381.12 1395.38,1378.63 1398.68,1382.4 1401.97,1379.87 1405.27,1381.47 1408.56,1379.85 1411.86,1383.33 1415.15,1383.61 1418.45,1378.84 1421.74,1379.65 1425.04,1382.17 1428.34,1380.46 1431.63,1383.04 1434.93,1379.68 1438.23,1378.79 1441.52,1380.94 1444.82,1372.44 1448.12,1383.53 1451.41,1383.8 1454.71,1382.9 1458.01,1381.4 1461.3,1377.12 1464.6,1381.07 1467.89,1382.15 1471.19,1383.79 1474.48,1379.57 1477.78,1374.18 1481.07,1380.63 1484.37,1376.82 1487.67,1383.68 1490.97,1380.63 1494.26,1379.12 1497.56,1380.74 1500.86,1376.36 1504.15,1382.84 1507.45,1379.44 1510.74,1383.33 1514.04,1377.88 1517.34,1377.16 1520.63,1378.82 1523.93,1370.28 1527.22,1383.37 1530.52,1370.27 1533.81,1384.13 1537.11,1383.03 1540.41,1383.95 1543.71,1383.21 1547,1381.81 1550.3,1381.55 1553.6,1384.02 1556.89,1380.7 1560.19,1382.94 1563.48,1382.06 1566.78,1383.14 1570.07,1379.96 1573.37,1381.71 1576.67,1377.52 1579.96,1383.83 1583.26,1373.53 1586.55,1374.32 1589.85,1378.45 1593.15,1377.41 1596.44,1383.68 1599.74,1381.54 1603.04,1384.15 1606.34,1383.66 1609.63,1383.95 1612.93,1381.99 1616.22,1382.49 1619.52,1376.32 1622.81,1377.19 1626.11,1380.7 1629.4,1380.08 1632.7,1381.45 1636,1380.15 1639.29,1384.2 1642.59,1383.29 1645.89,1375.29 1649.18,1381.55 1652.48,1383.16 1655.78,1383.07 1659.07,1381.89 1662.37,1381.33 1665.67,1382.8 1668.96,1383.35 1672.26,1382.06 1675.55,1371.92 1678.85,1381.55 1682.14,1382.96 1685.44,1383.84 1688.74,1382.9 1692.03,1383.34 1695.33,1381.54 1698.63,1383.04 1701.92,1383.9 1705.22,1383.99 1708.52,1382.56 1711.81,1374.36 1715.11,1381.41 1718.4,1379.83 1721.7,1379.36 1725,1378.89 1728.29,1379.53 1731.59,1384.13 1734.88,1376.45 1738.18,1368.27 1741.47,1355.89 1744.77,1383.02 1748.07,1363.12 1751.37,1379.49 1754.66,1376.68 1757.96,1381.17 1761.26,1379.9 1764.55,1372.31 1767.85,1374.63 1771.14,1381.36 1774.44,1381.92 1777.73,1380.83 1781.03,1376.15 1784.33,1377.83 1787.62,1377.03 1790.92,1383.96 1794.21,1380.72 1797.51,1377.23 1800.81,1381.68 1804.11,1374.19 1807.4,1371.7 1810.7,1381.64 1814,1376.06 1817.29,1371.36 1820.59,1369.46 1823.88,1375.88 1827.18,1377.6 1830.47,1371.16 1833.77,1379.09 1837.06,1365.85 1840.36,1383.98 1843.66,1377.2 1846.95,1368.43 1850.25,1380.7 1853.55,1377.35 1856.85,1378 1860.14,1380.84 1863.44,1372.29 1866.73,1379.38 1870.03,1368.1 1873.33,1381.33 1876.62,1377.93 1879.92,1367.72 1883.21,1372.02 1886.51,1379.47 1889.8,1373 1893.1,1384.01 1896.4,1381.15 1899.69,1381.53 1902.99,1374.09 1906.29,1382.95 1909.58,1377.94 1912.88,1384 1916.18,1379.6 1919.47,1380.83 1922.77,1375.52 1926.06,1382.77 1929.36,1379.07 1932.66,1380.73 1935.95,1378.76 1939.25,1382.56 1942.54,1378.27 1945.84,1383.03 1949.14,1371.71 1952.43,1383.32 1955.73,1380.02 1959.03,1378.58 1962.32,1374.94 1965.62,1380.4 1968.92,1381.7 1972.21,1382.1 1975.51,1376.87 1978.8,1380.19 1982.1,1380 1985.39,1380.87 1988.69,1380.85 1991.99,1381.49 1995.28,1371.38 1998.58,1380.37 2001.88,1372.26 2005.17,1383.88 2008.47,1378.34 2011.77,1366.29 2015.06,1378.64 2018.36,1364.06 2021.66,1382.97 2024.95,1378.68 2028.25,1379.39 2031.54,1379.99 2034.84,1371.44 2038.13,1383.91 2041.43,1373.79 2044.72,1375.19 2048.02,1369.75 2051.32,1382.57 2054.61,1364.11 2057.91,1370.64 2061.21,1379.56 2064.51,1382.21 2067.8,1381.32 2071.1,1371.11 2074.39,1382.74 2077.69,1383.78 2080.99,1377.46 2084.28,1381.45 2087.58,1383.06 2090.87,1365.77 2094.17,1382.82 2097.46,1370.27 2100.76,1379.72 2104.06,1381.42 2107.35,1372.86 2110.65,1373.42 2113.95,1380.26 2117.25,1377.52 2120.54,1374.16 2123.84,1380.27 2127.13,1371.77 2130.43,1382.79 2133.72,1377.93 2137.02,1370.15 2140.32,1374.07 2143.61,1377.76 2146.91,1383.55 2150.2,1374.01 2153.5,1382.87 2156.8,1377.18 2160.09,1381.12 2163.39,1379.9 2166.69,1374.93 2169.99,1381.2 2173.28,1378.44 2176.58,1382.34 2179.87,1381.45 2183.17,1383.45 2186.46,1377.65 2189.76,1382.09 2193.05,1380.52 2196.35,1381.15 2199.65,1383.47 2202.94,1378.75 2206.24,1383.27 2209.54,1383.52 2212.83,1379.28 2216.13,1379.48 2219.43,1378.82 2222.72,1381.17 2226.02,1379.59 2229.32,1377.89 2232.61,1380.54 2235.91,1382.09 2239.2,1378.77 2242.5,1383.54 2245.79,1381.27 2249.09,1379.98 2252.38,1382.01 2255.68,1380.93 2258.98,1383.81 2262.28,1382.64 2265.57,1381.39 2268.87,1382.99 \"/>\n",
       "<polyline clip-path=\"url(#clip232)\" style=\"stroke:#e26f46; stroke-linecap:round; stroke-linejoin:round; stroke-width:4; stroke-opacity:1; fill:none\" points=\"264.778,1384.24 268.077,1382.4 271.376,1382.28 274.669,1381.03 277.968,1382.9 281.261,1375.14 284.56,1381.55 287.852,1378.07 291.151,1381.74 294.444,1383.27 297.743,1383.43 301.042,1384.14 304.335,1382.8 307.634,1382.91 310.927,1377.48 314.225,1384.05 317.518,1384.14 320.817,1382.96 324.11,1381.14 327.409,1383.89 330.708,1372.47 334.001,1383.19 337.299,1377.98 340.592,1381.18 343.891,1379.74 347.184,1371.76 350.483,1380.29 353.782,1379.68 357.075,1365.43 360.373,1377.31 363.666,1383.24 366.965,1383.06 370.258,1379.36 373.557,1381.42 376.85,1373.55 380.149,1380.57 383.447,1383.11 386.74,1383.22 390.039,1384.01 393.332,1375.86 396.631,1383.61 399.924,1373.98 403.223,1383.16 406.516,1381.55 409.814,1365.02 413.113,1381.72 416.406,1379.54 419.705,1378.65 422.998,1383.41 426.297,1381.45 429.59,1383.26 432.888,1367.08 436.181,1381.97 439.48,1379.88 442.779,1378.29 446.072,1382.61 449.371,1379.03 452.664,1380.93 455.962,1383.33 459.255,1384.01 462.554,1382.13 465.847,1382.28 469.146,1377.23 472.445,1379.79 475.738,1378.5 479.036,1380.77 482.329,1380.19 485.628,1382.61 488.921,1382.03 492.22,1380.59 495.513,1383.81 498.812,1381.28 502.111,1380.55 505.403,1375.87 508.702,1375.41 511.995,1383.66 515.294,1378.34 518.587,1382.96 521.886,1377.46 525.179,1384.16 528.477,1382 531.77,1379.17 535.069,1375.4 538.368,1383.66 541.661,1379.35 544.96,1383.33 548.253,1376.46 551.551,1383.84 554.844,1379.69 558.143,1372.62 561.436,1378.37 564.735,1381.44 568.034,1381.89 571.327,1370.02 574.625,1383.33 577.918,1373.86 581.217,1382.15 584.51,1381.55 587.809,1381.09 591.102,1381.74 594.401,1383.18 597.7,1379.66 600.992,1373.06 604.291,1382.63 607.584,1383.91 610.883,1381.8 614.176,1381.17 617.475,1380.73 620.768,1381.84 624.066,1379.99 627.365,1384.22 630.658,1373.24 633.957,1374.96 637.25,1383.53 640.549,1366.15 643.842,1376.74 647.14,1381.22 650.433,1380.4 653.732,1382.15 657.031,1379.79 660.324,1383.43 663.623,1383.82 666.916,1381.03 670.215,1379.31 673.507,1383.55 676.806,1382.23 680.099,1384.2 683.398,1383.67 686.697,1375.46 689.99,1382.77 693.289,1377.57 696.581,1381.99 699.88,1380.22 703.173,1375.62 706.472,1384 709.765,1377.1 713.064,1380.4 716.363,1382.83 719.655,1379.2 722.954,1382.92 726.247,1380.14 729.546,1382.51 732.839,1380.64 736.138,1374.45 739.431,1380.18 742.73,1383.51 746.028,1380.96 749.321,1380.5 752.62,1373.61 755.913,1377.11 759.212,1378.69 762.505,1380.82 765.804,1382.79 769.096,1383.65 772.395,1379.74 775.694,1383.17 778.987,1383.77 782.286,1377.26 785.579,1378.64 788.878,1377.17 792.17,1380.58 795.469,1380.37 798.762,1379.72 802.061,1382.36 805.36,1377.94 808.653,1383.86 811.952,1382.78 815.245,1380.29 818.543,1382.4 821.836,1382.97 825.135,1381.74 828.428,1383.84 831.727,1381.74 835.026,1382.02 838.319,1382.6 841.617,1381.7 844.91,1383.46 848.209,1381.17 851.502,1382.44 854.801,1381.59 858.094,1382.59 861.393,1382.44 864.691,1384.07 867.984,1374.78 871.283,1384.2 874.576,1383.14 877.875,1383.45 881.168,1381.94 884.467,1381.57 887.76,1381.05 891.058,1376.61 894.357,1379.15 897.65,1381.81 900.949,1383.99 904.242,1379.31 907.541,1382.99 910.834,1382.82 914.132,1383.3 917.425,1381.55 920.724,1384.14 924.023,1383.49 927.316,1380.23 930.615,1380.58 933.908,1378.13 937.206,1381.91 940.499,1380.77 943.798,1384.11 947.091,1382.19 950.39,1377.17 953.689,1374.86 956.982,1378.78 960.28,1384.09 963.573,1380.44 966.872,1379.98 970.165,1381.34 973.464,1383.69 976.757,1379.43 980.056,1380.39 983.354,1382.52 986.647,1375.67 989.946,1381.64 993.239,1370.82 996.538,1381.03 999.831,1382.62 1003.13,1381.39 1006.42,1380.35 1009.72,1382.04 1013.02,1381.68 1016.31,1381.37 1019.61,1381.02 1022.9,1383.67 1026.2,1381.69 1029.5,1377.04 1032.8,1383.87 1036.09,1381.62 1039.39,1377.69 1042.69,1378.57 1045.98,1381.21 1049.28,1382.75 1052.57,1381.9 1055.87,1382.14 1059.16,1382.13 1062.46,1383.15 1065.75,1378.23 1069.05,1379.22 1072.35,1373.37 1075.64,1383.67 1078.94,1381.89 1082.24,1380.84 1085.54,1381.81 1088.83,1379.88 1092.13,1383.77 1095.42,1378.45 1098.72,1377.4 1102.02,1384.07 1105.31,1382.05 1108.61,1377.7 1111.9,1381.06 1115.2,1378.91 1118.49,1382.91 1121.79,1384.08 1125.09,1383.21 1128.38,1379.36 1131.68,1382.11 1134.98,1381.59 1138.28,1384.14 1141.57,1381.13 1144.87,1383.6 1148.16,1383.42 1151.46,1382.83 1154.75,1381.79 1158.05,1376.66 1161.35,1382.44 1164.64,1383.72 1167.94,1380.17 1171.23,1379.74 1174.53,1384.15 1177.83,1383.6 1181.12,1381.45 1184.42,1369.38 1187.72,1378.46 1191.01,1377.97 1194.31,1367.89 1197.61,1383.4 1200.9,1384.04 1204.2,1379.79 1207.49,1382.97 1210.79,1379.36 1214.08,1383.14 1217.38,1383 1220.68,1381.76 1223.97,1380.85 1227.27,1383.53 1230.57,1382.38 1233.86,1375.62 1237.16,1372.63 1240.46,1384.04 1243.75,1383.73 1247.05,1381.92 1250.35,1376.52 1253.64,1379.89 1256.94,1383.29 1260.23,1383.59 1263.53,1381.54 1266.82,1383.6 1270.12,1371.14 1273.41,1379.79 1276.71,1382.63 1280.01,1382.85 1283.31,1381.96 1286.6,1382.9 1289.9,1382.94 1293.2,1378.53 1296.49,1382.72 1299.79,1383.03 1303.08,1384.23 1306.38,1375.11 1309.68,1383.74 1312.97,1383.23 1316.27,1383.09 1319.56,1383.18 1322.86,1378.06 1326.15,1380.86 1329.45,1376.11 1332.75,1376.16 1336.04,1378.91 1339.34,1383.14 1342.64,1369.87 1345.94,1367.81 1349.23,1377.52 1352.53,1374.58 1355.82,1383.3 1359.12,1378.55 1362.41,1373.09 1365.71,1381.33 1369.01,1384.06 1372.3,1374.9 1375.6,1368.95 1378.89,1376.27 1382.19,1375.58 1385.49,1375.85 1388.78,1378.34 1392.08,1381.12 1395.38,1378.63 1398.68,1382.4 1401.97,1379.87 1405.27,1381.47 1408.56,1379.85 1411.86,1383.33 1415.15,1383.61 1418.45,1378.84 1421.74,1379.65 1425.04,1382.17 1428.34,1380.46 1431.63,1383.04 1434.93,1379.68 1438.23,1378.79 1441.52,1380.94 1444.82,1372.44 1448.12,1383.53 1451.41,1383.8 1454.71,1382.9 1458.01,1381.4 1461.3,1377.12 1464.6,1381.07 1467.89,1382.15 1471.19,1383.79 1474.48,1379.57 1477.78,1374.18 1481.07,1380.63 1484.37,1376.82 1487.67,1383.68 1490.97,1380.63 1494.26,1379.12 1497.56,1380.74 1500.86,1376.36 1504.15,1382.84 1507.45,1379.44 1510.74,1383.33 1514.04,1377.88 1517.34,1377.16 1520.63,1378.82 1523.93,1370.28 1527.22,1383.37 1530.52,1370.27 1533.81,1384.13 1537.11,1383.03 1540.41,1383.95 1543.71,1383.21 1547,1381.81 1550.3,1381.55 1553.6,1384.02 1556.89,1380.7 1560.19,1382.94 1563.48,1382.06 1566.78,1383.14 1570.07,1379.96 1573.37,1381.71 1576.67,1377.52 1579.96,1383.83 1583.26,1373.53 1586.55,1374.32 1589.85,1378.45 1593.15,1377.41 1596.44,1383.68 1599.74,1381.54 1603.04,1384.15 1606.34,1383.66 1609.63,1383.95 1612.93,1381.99 1616.22,1382.49 1619.52,1376.32 1622.81,1377.19 1626.11,1380.7 1629.4,1380.08 1632.7,1381.45 1636,1380.15 1639.29,1384.2 1642.59,1383.29 1645.89,1375.29 1649.18,1381.55 1652.48,1383.16 1655.78,1383.07 1659.07,1381.89 1662.37,1381.33 1665.67,1382.8 1668.96,1383.35 1672.26,1382.06 1675.55,1371.92 1678.85,1381.55 1682.14,1382.96 1685.44,1383.84 1688.74,1382.9 1692.03,1383.34 1695.33,1381.54 1698.63,1383.04 1701.92,1383.9 1705.22,1383.99 1708.52,1382.56 1711.81,1374.36 1715.11,1381.41 1718.4,1379.83 1721.7,1379.36 1725,1378.89 1728.29,1379.53 1731.59,1384.13 1734.88,1376.45 1738.18,1368.27 1741.47,1355.89 1744.77,1383.02 1748.07,1363.12 1751.37,1379.49 1754.66,1376.68 1757.96,1381.17 1761.26,1379.9 1764.55,1372.31 1767.85,1374.63 1771.14,1381.36 1774.44,1381.92 1777.73,1380.83 1781.03,1376.15 1784.33,1377.83 1787.62,1377.03 1790.92,1383.96 1794.21,1380.72 1797.51,1377.23 1800.81,1381.68 1804.11,1374.19 1807.4,1371.7 1810.7,1381.64 1814,1376.06 1817.29,1371.36 1820.59,1369.46 1823.88,1375.88 1827.18,1377.6 1830.47,1371.16 1833.77,1379.09 1837.06,1365.85 1840.36,1383.98 1843.66,1377.2 1846.95,1368.43 1850.25,1380.7 1853.55,1377.35 1856.85,1378 1860.14,1380.84 1863.44,1372.29 1866.73,1379.38 1870.03,1368.1 1873.33,1381.33 1876.62,1377.93 1879.92,1367.72 1883.21,1372.02 1886.51,1379.47 1889.8,1373 1893.1,1384.01 1896.4,1381.15 1899.69,1381.53 1902.99,1374.09 1906.29,1382.95 1909.58,1377.94 1912.88,1384 1916.18,1379.6 1919.47,1380.83 1922.77,1375.52 1926.06,1382.77 1929.36,1379.07 1932.66,1380.73 1935.95,1378.76 1939.25,1382.56 1942.54,1378.27 1945.84,1383.03 1949.14,1371.71 1952.43,1383.32 1955.73,1380.02 1959.03,1378.58 1962.32,1374.94 1965.62,1380.4 1968.92,1381.7 1972.21,1382.1 1975.51,1376.87 1978.8,1380.19 1982.1,1380 1985.39,1380.87 1988.69,1380.85 1991.99,1381.49 1995.28,1371.38 1998.58,1380.37 2001.88,1372.26 2005.17,1383.88 2008.47,1378.34 2011.77,1366.29 2015.06,1378.64 2018.36,1364.06 2021.66,1382.97 2024.95,1378.68 2028.25,1379.39 2031.54,1379.99 2034.84,1371.44 2038.13,1383.91 2041.43,1373.79 2044.72,1375.19 2048.02,1369.75 2051.32,1382.57 2054.61,1364.11 2057.91,1370.64 2061.21,1379.56 2064.51,1382.21 2067.8,1381.32 2071.1,1371.11 2074.39,1382.74 2077.69,1383.78 2080.99,1377.46 2084.28,1381.45 2087.58,1383.06 2090.87,1365.77 2094.17,1382.82 2097.46,1370.27 2100.76,1379.72 2104.06,1381.42 2107.35,1372.86 2110.65,1373.42 2113.95,1380.26 2117.25,1377.52 2120.54,1374.16 2123.84,1380.27 2127.13,1371.77 2130.43,1382.79 2133.72,1377.93 2137.02,1370.15 2140.32,1374.07 2143.61,1377.76 2146.91,1383.55 2150.2,1374.01 2153.5,1382.87 2156.8,1377.18 2160.09,1381.12 2163.39,1379.9 2166.69,1374.93 2169.99,1381.2 2173.28,1378.44 2176.58,1382.34 2179.87,1381.45 2183.17,1383.45 2186.46,1377.65 2189.76,1382.09 2193.05,1380.52 2196.35,1381.15 2199.65,1383.47 2202.94,1378.75 2206.24,1383.27 2209.54,1383.52 2212.83,1379.28 2216.13,1379.48 2219.43,1378.82 2222.72,1381.17 2226.02,1379.59 2229.32,1377.89 2232.61,1380.54 2235.91,1382.09 2239.2,1378.77 2242.5,1383.54 2245.79,1381.27 2249.09,1379.98 2252.38,1382.01 2255.68,1380.93 2258.98,1383.81 2262.28,1382.64 2265.57,1381.39 2268.87,1382.99 \"/>\n",
       "<polyline clip-path=\"url(#clip232)\" style=\"stroke:#3da44d; stroke-linecap:round; stroke-linejoin:round; stroke-width:4; stroke-opacity:1; fill:none\" points=\"264.778,1384.24 268.077,1382.48 271.376,1367.97 274.669,1371.5 277.968,1373.86 281.261,1363.89 284.56,1378.47 287.852,1378.86 291.151,1379.06 294.444,1380.52 297.743,1367.17 301.042,1375.73 304.335,1374.87 307.634,1374.11 310.927,1367.66 314.225,1380.5 317.518,1374.68 320.817,1365.47 324.11,1376.48 327.409,1370.65 330.708,1363.51 334.001,1382.46 337.299,1378.84 340.592,1374.54 343.891,1362.81 347.184,1381.84 350.483,1378.16 353.782,1371.09 357.075,1362.25 360.373,1376.67 363.666,1372.37 366.965,1381.37 370.258,1378.65 373.557,1382.89 376.85,1380.92 380.149,1363.62 383.447,1383.91 386.74,1378.88 390.039,1379.65 393.332,1380.11 396.631,1381.17 399.924,1380.97 403.223,1383.96 406.516,1379.26 409.814,1381.27 413.113,1381.99 416.406,1376.96 419.705,1382.99 422.998,1382.58 426.297,1380.58 429.59,1376.11 432.888,1378.66 436.181,1380.75 439.48,1382.35 442.779,1381.34 446.072,1370.83 449.371,1381.58 452.664,1382.34 455.962,1381.99 459.255,1382.54 462.554,1379.02 465.847,1382.75 469.146,1377.79 472.445,1380.08 475.738,1383.16 479.036,1380.74 482.329,1374.73 485.628,1378.02 488.921,1383.9 492.22,1377.72 495.513,1379.28 498.812,1371.36 502.111,1378.17 505.403,1381.44 508.702,1375.69 511.995,1372.64 515.294,1380.54 518.587,1373.96 521.886,1380.58 525.179,1379.78 528.477,1377.04 531.77,1377.53 535.069,1382.96 538.368,1371.39 541.661,1378.67 544.96,1381.44 548.253,1314.79 551.551,1380.69 554.844,1381.98 558.143,1379.64 561.436,1379.1 564.735,1375.06 568.034,1373.52 571.327,1380.23 574.625,1381.47 577.918,1371.03 581.217,1382.76 584.51,1381.49 587.809,1380.95 591.102,1383.14 594.401,1382.29 597.7,1379.97 600.992,1382.34 604.291,1381.45 607.584,1376.78 610.883,1375.39 614.176,1376.79 617.475,1378.15 620.768,1380.32 624.066,1366.72 627.365,1371.49 630.658,1378.86 633.957,1377.68 637.25,1379.8 640.549,1380.03 643.842,1383.7 647.14,1383.52 650.433,1373.17 653.732,1379.37 657.031,1375.35 660.324,1373.66 663.623,1382.47 666.916,1368.8 670.215,1382.84 673.507,1379.38 676.806,1376.13 680.099,1380.49 683.398,1382.75 686.697,1384.08 689.99,1383.58 693.289,1377.9 696.581,1379.86 699.88,1378.95 703.173,1382.38 706.472,1378.51 709.765,1376.44 713.064,1372.48 716.363,1379.13 719.655,1379.71 722.954,1383.83 726.247,1376.54 729.546,1378.87 732.839,1378.88 736.138,1380.44 739.431,1374.5 742.73,1368.26 746.028,1371.16 749.321,1376.85 752.62,1370.34 755.913,1367.29 759.212,1374.04 762.505,1379.64 765.804,1370.32 769.096,1372.69 772.395,1379.99 775.694,1383.24 778.987,1376.36 782.286,1378.37 785.579,1376.63 788.878,1362.27 792.17,1362.33 795.469,1365.62 798.762,1375.6 802.061,1380.06 805.36,1379.05 808.653,1365.63 811.952,1374.84 815.245,1374.71 818.543,1376.17 821.836,1375.3 825.135,1365.02 828.428,1378.87 831.727,1382.39 835.026,1372.98 838.319,1363.19 841.617,1370.46 844.91,1379.97 848.209,1364.15 851.502,1381.74 854.801,1374.61 858.094,1381.81 861.393,1370.02 864.691,1356.45 867.984,1366.21 871.283,1358.44 874.576,1372.51 877.875,1365.79 881.168,1366.93 884.467,1363.65 887.76,1375.27 891.058,1365.87 894.357,1373.8 897.65,1370.76 900.949,1374.43 904.242,1371.21 907.541,1372.88 910.834,1376.66 914.132,1381.42 917.425,1366.67 920.724,1379.64 924.023,1370.42 927.316,1382.21 930.615,1370.59 933.908,1361.96 937.206,1377.8 940.499,1381.24 943.798,1375.5 947.091,1372.65 950.39,1379.83 953.689,1381.07 956.982,1371.7 960.28,1365.95 963.573,1380.43 966.872,1347.07 970.165,1375.51 973.464,1372.93 976.757,1354.08 980.056,1369.01 983.354,1372.38 986.647,1374.42 989.946,1376.9 993.239,1379.47 996.538,1372.37 999.831,1379.83 1003.13,1363.62 1006.42,1380.08 1009.72,1378.63 1013.02,1371.68 1016.31,1383.92 1019.61,1376.39 1022.9,1363.83 1026.2,1373.88 1029.5,1366.51 1032.8,1374.3 1036.09,1380.15 1039.39,1372.39 1042.69,1382.48 1045.98,1376.61 1049.28,1382.68 1052.57,1376.43 1055.87,1375.72 1059.16,1383.49 1062.46,1370.39 1065.75,1374.71 1069.05,1374.48 1072.35,1380.36 1075.64,1379.91 1078.94,1381.11 1082.24,1377.99 1085.54,1383.65 1088.83,1377.58 1092.13,1377.54 1095.42,1369.84 1098.72,1382.92 1102.02,1380.54 1105.31,1376.89 1108.61,1374.57 1111.9,1377.75 1115.2,1376.4 1118.49,1384.04 1121.79,1379.19 1125.09,1382.62 1128.38,1361.8 1131.68,1380.43 1134.98,1278.77 1138.28,1298.3 1141.57,1265.65 1144.87,1298.73 1148.16,1290 1151.46,1298.52 1154.75,1294.29 1158.05,1265.69 1161.35,1288.54 1164.64,1231.14 1167.94,1277.26 1171.23,1269.23 1174.53,1293.87 1177.83,1252.09 1181.12,1293.34 1184.42,1230.8 1187.72,1259.03 1191.01,1285.66 1194.31,1269.14 1197.61,1228.87 1200.9,1314.21 1204.2,1257.41 1207.49,1266.8 1210.79,1253.69 1214.08,1236.55 1217.38,1265.71 1220.68,1271.22 1223.97,1241.76 1227.27,1232.5 1230.57,1300.57 1233.86,1269.19 1237.16,1231.06 1240.46,1302.31 1243.75,1292.85 1247.05,1291.1 1250.35,1268.37 1253.64,1291.95 1256.94,1284.71 1260.23,1269.44 1263.53,1301.79 1266.82,1287.07 1270.12,1278.96 1273.41,1261.95 1276.71,1246.28 1280.01,1239.86 1283.31,1273.75 1286.6,1271.39 1289.9,1295.58 1293.2,1276.06 1296.49,1262.06 1299.79,1263.45 1303.08,1254.79 1306.38,1276.26 1309.68,1259.35 1312.97,1300.66 1316.27,1305.68 1319.56,1262.45 1322.86,1284.7 1326.15,1260.81 1329.45,1230.13 1332.75,1258.49 1336.04,1244.34 1339.34,1264.54 1342.64,1285.2 1345.94,1247.94 1349.23,1306.03 1352.53,1266.12 1355.82,1302.31 1359.12,1204.09 1362.41,1228.91 1365.71,1260.99 1369.01,1280.78 1372.3,1257.44 1375.6,1291.67 1378.89,1227.24 1382.19,1266.31 1385.49,1258.67 1388.78,1294.61 1392.08,1244.04 1395.38,1300.61 1398.68,1316.47 1401.97,1253.82 1405.27,1294.41 1408.56,1298.99 1411.86,1260.13 1415.15,1293.12 1418.45,1295.64 1421.74,1262.09 1425.04,1292.11 1428.34,1255.32 1431.63,1271.36 1434.93,1286.69 1438.23,1255.29 1441.52,1270.49 1444.82,1272.96 1448.12,1238.24 1451.41,1274.63 1454.71,1283.52 1458.01,1264.95 1461.3,1210.97 1464.6,1285.77 1467.89,1305.16 1471.19,1258.78 1474.48,1251.76 1477.78,1306.13 1481.07,1279.35 1484.37,1316.32 1487.67,1271.93 1490.97,1274.18 1494.26,1283.97 1497.56,1293.25 1500.86,1286.71 1504.15,1272.23 1507.45,1273.89 1510.74,1297.16 1514.04,1272.78 1517.34,1252.81 1520.63,1280.61 1523.93,1290.68 1527.22,1249.58 1530.52,1269.8 1533.81,1283.77 1537.11,1275.84 1540.41,1226.13 1543.71,1236.09 1547,1239.14 1550.3,1265.76 1553.6,1280.93 1556.89,1249.65 1560.19,1266.47 1563.48,1265.32 1566.78,1218.07 1570.07,1271.19 1573.37,1264.76 1576.67,1248.73 1579.96,1280.6 1583.26,1251.52 1586.55,1222.13 1589.85,1280.53 1593.15,1289.66 1596.44,1231.1 1599.74,1291.48 1603.04,1308.44 1606.34,1230.93 1609.63,1274.75 1612.93,1266.77 1616.22,1224.85 1619.52,1227.38 1622.81,1236.99 1626.11,1267.15 1629.4,1286.32 1632.7,1302.66 1636,1300.93 1639.29,1269.99 1642.59,1336.12 1645.89,1255.77 1649.18,1297.69 1652.48,1288.61 1655.78,1294.89 1659.07,1301.26 1662.37,1286.45 1665.67,1281.76 1668.96,1259.47 1672.26,1309 1675.55,1309.27 1678.85,1277.96 1682.14,1301.93 1685.44,1274.08 1688.74,1224.84 1692.03,1290.79 1695.33,1294.2 1698.63,1263.59 1701.92,1287.52 1705.22,1287.15 1708.52,1305.32 1711.81,1272.57 1715.11,1248.01 1718.4,1266.49 1721.7,1234.53 1725,1289.56 1728.29,1232.13 1731.59,1287.11 1734.88,1308.94 1738.18,1267.86 1741.47,1270.88 1744.77,1226.12 1748.07,1265.88 1751.37,1233.63 1754.66,1258.86 1757.96,1305.59 1761.26,1196.34 1764.55,1248.29 1767.85,1321.39 1771.14,1252.55 1774.44,1234 1777.73,1224.45 1781.03,1247.64 1784.33,1267.29 1787.62,1238.39 1790.92,1238.49 1794.21,1218.99 1797.51,1263.41 1800.81,1259.48 1804.11,1270.15 1807.4,1209.13 1810.7,1278.96 1814,1253.36 1817.29,1259.47 1820.59,1314.48 1823.88,1274.82 1827.18,1240.59 1830.47,1274.18 1833.77,1235.29 1837.06,1306.61 1840.36,1273.07 1843.66,1280.52 1846.95,1256.61 1850.25,1251.76 1853.55,1268.01 1856.85,1249.03 1860.14,1286.74 1863.44,1242.09 1866.73,1258.35 1870.03,1288.72 1873.33,1245.89 1876.62,1285.71 1879.92,1245.07 1883.21,1258.9 1886.51,1231.23 1889.8,1301.47 1893.1,1275.63 1896.4,1292.41 1899.69,1235.93 1902.99,1307.39 1906.29,1240.35 1909.58,1281.77 1912.88,1286.51 1916.18,1302.71 1919.47,1277.54 1922.77,1327.48 1926.06,1274.38 1929.36,1255.94 1932.66,1258.92 1935.95,1304.1 1939.25,1289.38 1942.54,1308.91 1945.84,1284.46 1949.14,1299.27 1952.43,1282.88 1955.73,1278.22 1959.03,1238.04 1962.32,1259.96 1965.62,1291.24 1968.92,1279.79 1972.21,1329.99 1975.51,1317.14 1978.8,1294.15 1982.1,1290 1985.39,1298.81 1988.69,1255.33 1991.99,1286.19 1995.28,1283.79 1998.58,1269.17 2001.88,1255.81 2005.17,1273.14 2008.47,1279.08 2011.77,1259.57 2015.06,1280.7 2018.36,1256.65 2021.66,1258.85 2024.95,1278.84 2028.25,1323.13 2031.54,1301.55 2034.84,1300.65 2038.13,1289.8 2041.43,1290.24 2044.72,1255.17 2048.02,1271.66 2051.32,1292.53 2054.61,1311.97 2057.91,1281.3 2061.21,1274.49 2064.51,1283.17 2067.8,1299.78 2071.1,1273.2 2074.39,1337.34 2077.69,1298.07 2080.99,1249.73 2084.28,1244.26 2087.58,1286.59 2090.87,1289.13 2094.17,1323.91 2097.46,1306.62 2100.76,1275.8 2104.06,1293.35 2107.35,1252.53 2110.65,1276.33 2113.95,1283.14 2117.25,1279.58 2120.54,1295.91 2123.84,1203.76 2127.13,1241.6 2130.43,1283.05 2133.72,1284.63 2137.02,1293.08 2140.32,1282.09 2143.61,1259.79 2146.91,1279.88 2150.2,1285.61 2153.5,1284.93 2156.8,1279.04 2160.09,1264.51 2163.39,1237 2166.69,1258.85 2169.99,1259.74 2173.28,1291.94 2176.58,1242.38 2179.87,1305.09 2183.17,1261.75 2186.46,1323.78 2189.76,1328.21 2193.05,1287.25 2196.35,1181.39 2199.65,1278.61 2202.94,1317.74 2206.24,1299.4 2209.54,1273.7 2212.83,1265.6 2216.13,1284.15 2219.43,1278.32 2222.72,1324.95 2226.02,1261.53 2229.32,1269.53 2232.61,1266.52 2235.91,1280.19 2239.2,1280.54 \"/>\n",
       "<polyline clip-path=\"url(#clip232)\" style=\"stroke:#c271d2; stroke-linecap:round; stroke-linejoin:round; stroke-width:4; stroke-opacity:1; fill:none\" points=\"264.778,1384.24 265.52,1381.16 268.813,1381.18 272.112,1379.25 275.411,1379.57 278.704,1383.05 282.002,1382.47 285.295,1382.76 288.594,1383.67 291.887,1380.79 295.186,1383.88 298.479,1383.65 301.778,1383.67 305.076,1383 308.369,1381.63 311.668,1382.36 314.961,1384.07 318.26,1381.31 321.553,1339.72 324.852,1309.88 328.15,1309.75 331.443,1294.78 334.742,1322.42 338.035,1283.65 341.334,1313.56 344.627,1305.78 347.926,1286.88 351.219,1338.97 354.517,1333.44 357.816,1314.66 361.109,1323.91 364.408,1342.79 367.701,1329.94 371,1324.31 374.293,1318.41 377.591,1308.43 380.884,1297.32 384.183,1319.43 387.482,1315.97 390.775,1311.65 394.074,1354.79 397.367,1312.21 400.665,1325.53 403.958,1327.37 407.257,1278.08 410.55,1320.39 413.849,1337.71 417.148,1314.58 420.441,1313.36 423.739,1317.65 427.032,1318.36 430.331,1339.36 433.624,1351.78 436.923,1332.81 440.216,1354.55 443.515,1338.7 446.814,1303.68 450.106,1338.62 453.405,1319.05 456.698,1341.56 459.997,1348.31 463.29,1353.78 466.589,1318.74 469.882,1343.15 473.18,1344.19 476.479,1352.26 479.772,1313.56 483.071,1318.47 486.364,1345.26 489.663,1299.68 492.956,1327.22 496.254,1337.73 499.547,1321.75 502.846,1334.39 506.139,1336.53 509.438,1343.46 512.737,1297.98 516.03,1309.31 519.329,1316.44 522.621,1305.59 525.92,1342.82 529.213,1328.33 532.512,1325.78 535.805,1324.97 539.104,1332.28 542.403,1353.3 545.695,1343.53 548.994,1332.77 552.287,1337.76 555.586,1318.76 558.879,1338.45 562.178,1335.36 565.471,1356.66 568.769,1304.13 572.068,1343.09 575.361,1321.11 578.66,1323.47 581.953,1352.18 585.252,1330.23 588.545,1302.27 591.844,1312.84 595.136,1322.66 598.435,1327.84 601.734,1360.11 605.027,1290.32 608.326,1128.14 611.619,1165.86 614.918,1179.78 618.21,1197.21 621.509,1091.64 624.802,1183.39 628.101,1131.69 631.4,1090.35 634.693,1164.58 637.992,1090.75 641.284,1095.17 644.583,1124.12 647.876,1103.88 651.175,1180.1 654.468,1152.16 657.767,1184.47 661.066,1163.51 664.359,1102.78 667.657,1174.38 670.95,1068.57 674.249,1185.54 677.542,1186.17 680.841,1102.05 684.134,1109.61 687.433,1113.45 690.731,1185.63 694.024,1138.65 697.323,1113.33 700.616,1122.13 703.915,1094.95 707.208,1124.77 710.507,1133.24 713.799,1184.94 717.098,1179.6 720.397,1154.27 723.69,1156.08 726.989,1144.87 730.282,1104.98 733.581,1149.49 736.873,1148.2 740.172,1198.38 743.465,1139.55 746.764,1089.29 750.063,1110.59 753.356,1128.92 756.655,1049.34 759.948,1066.97 763.246,1138.4 766.539,1122.64 769.838,1112.11 773.131,1146.92 776.43,1137.14 779.729,1118.97 783.022,1097.78 786.32,1127.34 789.613,1139.35 792.912,1110.49 796.205,1106.92 799.504,1111.28 802.797,1142.74 806.096,1082.15 809.394,1105.72 812.687,1128.73 815.986,1137.53 819.279,1100.69 822.578,1105.95 825.871,1141.82 829.17,1101.67 832.463,1102.64 835.761,1141.06 839.06,1192.07 842.353,1085.69 845.652,1086.83 848.945,1122.63 852.244,1168.72 855.537,1091.76 858.835,1134.19 862.128,1096.34 865.427,1072.62 868.726,1092.44 872.019,1194.97 875.318,1102.21 878.611,1174.04 881.909,1110.88 885.202,1162.72 888.501,1217.41 891.794,1190.74 895.093,1254.29 898.392,893.677 901.685,1210.69 904.983,1243.38 908.276,1276.04 911.575,1182.79 914.868,1230.52 918.167,1219.01 921.46,1222.79 924.759,1217.24 928.057,1174.52 931.35,1233.29 934.649,1211.95 937.942,1210.02 941.241,1215.36 944.534,1170.06 947.833,1165.19 951.126,1138.57 954.424,1161.97 957.723,1163.29 961.016,1177.28 964.315,1177.75 967.608,1115.06 970.907,1138.33 974.2,1111.68 977.498,1191.7 980.791,1149.8 984.09,1191.59 987.389,1121.67 990.682,1188.64 993.981,1171.48 997.274,1111.18 1000.57,1174.61 1003.87,1138.75 1007.16,1177.28 1010.46,1134.28 1013.76,1127.97 1017.05,1192.65 1020.35,1159 1023.65,1176.77 1026.94,1218.43 1030.24,1133.2 1033.53,1232.28 1036.83,1241.15 1040.12,1192.89 1043.42,1202.43 1046.72,1112.91 1050.01,1204.15 1053.31,1185.1 1056.61,1239.72 1059.9,1201.15 1063.2,1254.67 1066.5,1187.99 1069.79,1227.51 1073.09,1148.83 1076.39,1172.7 1079.68,1110.38 1082.98,1122.31 1086.27,1177.04 1089.57,1207.53 1092.86,1227.61 1096.16,1200.58 1099.45,1160.37 1102.75,1165.23 1106.05,1204.1 1109.34,1226.99 1112.64,1216.75 1115.94,1237.76 1119.24,1235.28 1122.53,1248.04 1125.83,1218.09 1129.12,1240.75 1132.42,1207.57 1135.72,1142.63 1139.01,1169.37 1142.31,1237.06 1145.6,1229.95 1148.9,1184.24 1152.19,1229.44 1155.49,1207.97 1158.79,1135.62 1162.08,1222.83 1165.38,1178.5 1168.68,1185.3 1171.98,1241.4 1175.27,1193.34 1178.57,1192.39 1181.86,1149.83 1185.16,1175.84 1188.45,1162.04 1191.75,1199.33 1195.05,1192.43 1198.34,1138.41 1201.64,1184.75 1204.93,1204.97 1208.23,1189.74 1211.53,1208.71 1214.82,1167.89 1218.12,1163.19 1221.42,1162.06 1224.72,1106.15 1228.01,1198.87 1231.31,1223.06 1234.6,1108.92 1237.9,1198.04 1241.19,1140.52 1244.49,1209.16 1247.78,1145.88 1251.08,1184.56 1254.38,1163.77 1257.67,1205.39 1260.97,1329.73 1264.27,1336.96 1267.56,1318.35 1270.86,1343.5 1274.16,1336.28 1277.45,1364.85 1280.75,1362.67 1284.05,1355.56 1287.34,1376.45 1290.64,1365.66 1293.93,1353.53 1297.23,1370.77 1300.52,1354.97 1303.82,1348.31 1307.11,1334.96 1310.41,1375.28 1313.71,1339.73 1317.01,1375.73 1320.3,1364.32 1323.6,1367.95 1326.9,1369.47 1330.19,1373.74 1333.49,1362.92 1336.78,1369.9 1340.08,1373.17 1343.38,1364.82 1346.67,1370.57 1349.97,1360.54 1353.26,1369.58 1356.56,1341.33 1359.85,1374.76 1363.15,1360.23 1366.45,1362.27 1369.75,1370.79 1373.04,1342.62 1376.34,1372.99 1379.64,1368.18 1382.93,1363.27 1386.23,1380.92 1389.52,1380.99 1392.82,1344.08 1396.11,1365.83 1399.41,1355.38 1402.71,1372.14 1406,1371.39 1409.3,1360.06 1412.59,1373.8 1415.89,1359.4 1419.19,1370.84 1422.48,1368.72 1425.78,1358.82 1429.08,1372.82 1432.38,1372.47 1435.67,1354.77 1438.97,1364.85 1442.26,1359.79 1445.56,1364.74 1448.85,1371.69 1452.15,1363.53 1455.44,1371.05 1458.74,1363.9 1462.04,1372.79 1465.33,1375.52 1468.63,1370.49 1471.93,1378.43 1475.22,1366.64 1478.52,1351.41 1481.82,1347.77 1485.11,1370.39 1488.41,1371.71 1491.71,1377.07 1495,1366.65 1498.3,1376.1 1501.59,1369.58 1504.89,1375.47 1508.18,1368.73 1511.48,1377.92 1514.78,1367.79 1518.07,1374.95 1521.37,1355.71 1524.67,1353.9 1527.96,1372.95 1531.26,1370.4 1534.56,1346.93 1537.85,1381.01 1541.15,1374.99 1544.44,1380.49 1547.74,1374.19 1551.04,1367.08 1554.33,1371.89 1557.63,1377.5 1560.92,1366.6 1564.22,1367.78 1567.51,1345.46 1570.81,1366.38 1574.11,1342.86 1577.41,1370.87 1580.7,1369.73 1584,1367.97 1587.3,1349.31 1590.59,1367.43 1593.89,1367.56 1597.18,1365.19 1600.48,1367.71 1603.77,1366.31 1607.07,1375.82 1610.37,1365.47 1613.66,1372.01 1616.96,1380.49 1620.25,1372.69 1623.55,1375.8 1626.85,1377.75 1630.15,1373.74 1633.44,1384.14 1636.74,1380.53 1640.04,1381.04 1643.33,1381.82 1646.63,1380.69 1649.92,1373.49 1653.22,1380.51 1656.51,1383.77 1659.81,1370.86 1663.1,1380.97 1666.4,1366.34 1669.7,1362.36 1672.99,1380.32 1676.29,1383.37 1679.59,1380.73 1682.89,1381.44 1686.18,1377.79 1689.48,1371.61 1692.77,1383.57 1696.07,1379.69 1699.37,1376.88 1702.66,1376.99 1705.96,1381.14 1709.25,1377.51 1712.55,1383.36 1715.84,1378.79 1719.14,1369.99 1722.44,1383.07 1725.73,1378.4 1729.03,1373.74 1732.33,1376.09 1735.62,1372.03 1738.92,1363.7 1742.22,1380.84 1745.51,1366.45 1748.81,1342.12 1752.1,1330.13 1755.4,1339.04 1758.7,1266.26 1761.99,1305.69 1765.29,1332.91 1768.58,1336.83 1771.88,1347.53 1775.18,1317.61 1778.47,1346.77 1781.77,1332.96 1785.07,1370.25 1788.36,1338.67 1791.66,1358.59 1794.96,1344.54 1798.25,1342.59 1801.55,1360.72 1804.84,1353.44 1808.14,1363.74 1811.43,1372.36 1814.73,1351.59 1818.03,1294.19 1821.32,1201.51 1824.62,1141.5 1827.92,1106.18 1831.21,1083.24 1834.51,1131.57 1837.81,1160.73 1841.1,1105.23 1844.4,1108.57 1847.7,1113.87 1850.99,1138.99 1854.29,1211.11 1857.58,1111.73 1860.88,1106.83 1864.17,1064.83 1867.47,1068.54 1870.76,1064.28 1874.06,1139.63 1877.36,1128.37 1880.65,1085.26 1883.95,1164.63 1887.25,1109.94 1890.55,1124.49 1893.84,1205.99 1897.14,1133.98 1900.43,1160.92 1903.73,1184.29 1907.03,1236.62 1910.32,1125.11 1913.62,1191.87 1916.91,1163.13 1920.21,1159.74 1923.5,1220.53 1926.8,1176.18 1930.1,1201.13 1933.39,1145.52 1936.69,1153.34 1939.99,1163.54 1943.29,1145.72 1946.58,1136.77 1949.88,1148.94 1953.17,1154.26 1956.47,1247.18 1959.76,1208.96 1963.06,1192.5 1966.36,1188.29 1969.65,1102.59 1972.95,1145.87 1976.24,1131.56 1979.54,1170.89 1982.84,1203.45 1986.13,1174.19 1989.43,1154.78 1992.73,1169.75 1996.03,1119.12 1999.32,1134.75 2002.62,1142.63 2005.91,1187.21 2009.21,1151.61 2012.5,1167.45 2015.8,1182.67 2019.09,1123.27 2022.39,1193.23 2025.69,1138.03 2028.98,1080.39 2032.28,1112.74 2035.58,1110.19 2038.87,1114.73 2042.17,1058.59 2045.47,1154.59 2048.76,1105.9 2052.06,1310.05 2055.36,1358.55 2058.65,1352.92 2061.95,1345.97 2065.24,1311.32 2068.54,1340.4 2071.83,1333.37 2075.13,1333.65 2078.42,1357.95 2081.72,1315.06 2085.02,1335.68 2088.32,1339.15 2091.61,1341.88 2094.91,1360.14 2098.21,1343.6 2101.5,1346.85 2104.8,1332.45 2108.09,1347.9 2111.39,1355.02 2114.69,1342.55 2117.98,1354.44 2121.28,1357.76 2124.57,1298.34 2127.87,1317.57 2131.16,1355.97 2134.46,1380.19 2137.76,1380.34 2141.06,1380.67 2144.35,1379.88 2147.65,1383.26 2150.95,1367.9 2154.24,1246.71 2157.54,1321.88 2160.83,1333.95 2164.13,1323.27 2167.42,1329.03 2170.72,1331.33 2174.02,1314.11 2177.31,1331.6 2180.61,1313.69 2183.9,1313.74 2187.2,1306.37 2190.5,1325.46 2193.79,1309.87 2197.09,1312.55 2200.39,1343.98 2203.69,1333.29 2206.98,1321.09 2210.28,1315.21 2213.57,1289.33 2216.87,1316.69 2220.16,1327.29 2223.46,1295.53 2226.75,1326.99 2230.05,1297.41 2233.35,1326.01 2236.64,1319.86 2239.94,1341.58 2243.24,1337.99 2246.53,1328.93 2249.83,1307.99 \"/>\n",
       "<polyline clip-path=\"url(#clip232)\" style=\"stroke:#ac8d18; stroke-linecap:round; stroke-linejoin:round; stroke-width:4; stroke-opacity:1; fill:none\" points=\"264.778,1384.24 280.448,1383.25 283.742,1372.59 287.036,1381.44 290.337,1377.96 293.631,1371.82 296.925,1365.05 300.226,1370.35 303.52,1368.15 306.814,1365.25 310.115,1379.24 313.409,1368.71 316.703,1321.27 320.004,1372.62 323.298,1364.45 326.592,1376.3 329.892,1381.46 333.187,1371.21 336.481,1373.84 339.775,1367.53 343.076,1321.43 346.37,1344.08 349.664,1314.54 352.965,1339.3 356.259,1356.38 359.553,1377.41 362.853,1358.79 366.148,1307.82 369.442,1346.27 372.742,1360.21 376.037,1366.66 379.331,1346.76 382.631,1383.89 385.926,1283.53 389.22,1239.41 392.52,1243.92 395.814,1255.46 399.109,1146.3 402.403,1267.6 405.703,1205.31 408.998,1218.12 412.292,1209.15 415.592,1199.27 418.886,1231.18 422.181,1202.66 425.481,1141.58 428.775,1175.35 432.07,1206.61 435.37,1243.26 438.664,1249.29 441.959,1176.07 445.259,1210.79 448.553,1210.61 451.847,1149.94 455.148,1140.25 458.442,1191.74 461.736,1213.05 465.031,1159.84 468.331,1157.09 471.625,1173.38 474.92,1147.03 478.22,1171.61 481.514,1180.22 484.808,1175.41 488.109,1247.13 491.403,1227.3 494.697,1199.84 497.998,1194.94 501.292,1153.02 504.586,1105.59 507.887,1215.48 511.181,1203.38 514.475,1130.75 517.776,1149.85 521.07,1205.56 524.364,1161.98 527.658,1167.03 530.959,1188.2 534.253,1157.94 537.547,1160.93 540.848,1192.93 544.142,1187.06 547.436,1232.84 550.737,1198.73 554.031,1137.82 557.325,1186.86 560.626,1113.27 563.92,1128.62 567.214,1148.23 570.514,1168.49 573.809,1128.43 577.103,1174.32 580.403,1242.14 583.698,1159.75 586.992,1206.47 590.286,1225.68 593.587,1252.43 596.881,1185.32 600.175,1119.27 603.475,1154.37 606.77,1191.98 610.064,1129.13 613.364,1119.31 616.659,1203.74 619.953,1155.16 623.253,1142.34 626.548,1155.48 629.842,1150.44 633.142,1134.29 636.436,1160.22 639.731,1155.93 643.031,1101.09 646.325,1094.6 649.62,1155.63 652.914,1110.82 656.214,1131.4 659.508,1124.31 662.803,1197.01 666.103,1187.73 669.397,1179.67 672.692,1188.39 675.992,1190.83 679.286,1219.22 682.581,1169.71 685.881,1180.79 689.175,1198.74 692.469,1152.4 695.77,1178.7 699.064,1170.12 702.358,1201.15 705.659,1149.75 708.953,1188.3 712.247,1133.47 715.542,1176.49 718.842,1183.3 722.136,1194.01 725.43,1189.86 728.731,1165.75 732.025,1126.7 735.319,1158.03 738.62,1194.82 741.914,1150.72 745.208,1156.05 748.509,1182.81 751.803,1192.27 755.097,1145.45 758.398,1113.5 761.692,1122.9 764.986,1163.64 768.287,1090.36 771.581,1177.76 774.875,1201.32 778.169,1208.66 781.47,1096.19 784.764,1078.02 788.058,1194.28 791.359,1201.64 794.653,1143.97 797.947,1160.6 801.248,1136.51 804.542,1194.61 807.836,1236.84 811.136,1137.24 814.431,1185.17 817.725,1181.37 821.025,1131.21 824.32,1220.48 827.614,1180.39 830.914,1199.08 834.209,1247.5 837.503,1167.99 840.797,1140.61 844.097,1182.64 847.392,1131.31 850.686,1144.56 853.986,1183.28 857.281,1155.73 860.575,1164.22 863.875,1100.67 867.169,1074.43 870.464,1183.09 873.764,1102.27 877.058,1176.02 880.353,1141.78 883.653,1188.67 886.947,1161.47 890.242,1168.19 893.542,1160.75 896.836,1195.87 900.13,1167.81 903.431,1141.35 906.725,1098.67 910.019,1117.09 913.314,1152.29 916.614,1218.4 919.908,1130.72 923.203,1150.18 926.503,1233.15 929.797,1139.28 933.091,1193.56 936.392,1166.89 939.686,1192.49 942.98,1109.01 946.281,1121.95 949.575,1197.61 952.869,1120.62 956.17,1209.45 959.464,1182.21 962.758,1171.8 966.059,1143.84 969.353,1187.24 972.647,1177.73 975.941,1199.94 979.242,1162 982.536,1136.8 985.83,1137.11 989.131,1135.35 992.425,1159.85 995.719,1172.03 999.02,1118.84 1002.31,1165.66 1005.61,1143.74 1008.91,1152.76 1012.2,1118.55 1015.5,1158.38 1018.8,1168.69 1022.09,1153.06 1025.39,1128.83 1028.69,1212.86 1031.98,1169.03 1035.27,1198.6 1038.57,1160.52 1041.87,1178.76 1045.16,1129.81 1048.46,1221.26 1051.76,1154.92 1055.05,1180.07 1058.35,1200.15 1061.65,1170.4 1064.94,1213.31 1068.24,1175.7 1071.54,1179.49 1074.83,1217.2 1078.12,1217.99 1081.43,1184.53 1084.72,1233.27 1088.01,1181.55 1091.31,1192.54 1094.61,1205 1097.9,1149.46 1101.2,1237.11 1104.5,1088.84 1107.79,1207.3 1111.09,1219.77 1114.39,1163.75 1117.68,1227.57 1120.97,1237.42 1124.28,1233.68 1127.57,1171.13 1130.86,1208.35 1134.16,1191.73 1137.46,1173.56 1140.75,1124.9 1144.05,1265.17 1147.35,1210.37 1150.64,1211.98 1153.94,1180.44 1157.24,1193.5 1160.53,1190.22 1163.82,1200.8 1167.12,1184.82 1170.42,1198.37 1173.71,1145.59 1177.01,1187.31 1180.31,1184 1183.6,1232.33 1186.9,1187.29 1190.2,1189.05 1193.49,1192.68 1196.79,1185.6 1200.09,1174.47 1203.38,1140.53 1206.68,1183.43 1209.97,1158.65 1213.27,1190.89 1216.57,1176.28 1219.86,1179.63 1223.16,1219.15 1226.45,1139.64 1229.75,1188 1233.05,1161.1 1236.34,1195.96 1239.64,1170.92 1242.94,1169.91 1246.23,1169.65 1249.53,1116.12 1252.82,1168.16 1256.12,1155.21 1259.42,1129.08 1262.71,1143.93 1266.01,1192.95 1269.31,1116.43 1272.6,1148.9 1275.9,1235.97 1279.2,1104.18 1282.49,1154.57 1285.79,1259.11 1289.08,1153.23 1292.38,1144.35 1295.67,1236.44 1298.97,1163.67 1302.27,1155.1 1305.56,1277.16 1308.86,1183.29 1312.16,1164.86 1315.45,1227.84 1318.75,1201.89 1322.05,1195.66 1325.34,1178.87 1328.64,1231.54 1331.94,1190.09 1335.23,1162.68 1338.52,1197.17 1341.83,1187.44 1345.12,1135.14 1348.41,1170.3 1351.71,1132.4 1355.01,1191.99 1358.3,1180.85 1361.6,1135.06 1364.9,1202.07 1368.19,1230.68 1371.49,1211.93 1374.79,1151.63 1378.08,1230.63 1381.37,1204.35 1384.67,1082.74 1387.97,967.699 1391.26,1005.31 1394.56,884.777 1397.86,832.897 1401.15,944.571 1404.45,892.222 1407.75,887.769 1411.04,850.975 1414.34,895.228 1417.64,799.146 1420.93,817.633 1424.22,744.422 1427.52,829.051 1430.82,737.868 1434.11,830.272 1437.41,842.139 1440.71,751.823 1444,763.662 1447.3,685.919 1450.6,900.188 1453.89,848.839 1457.19,791.8 1460.49,805.39 1463.78,868.769 1467.08,898.984 1470.37,950.016 1473.67,888.766 1476.96,839.792 1480.26,944.757 1483.56,781.552 1486.85,760.777 1490.15,796.491 1493.45,885.804 1496.74,769.625 1500.04,727.956 1503.34,826.204 1506.63,866.394 1509.93,775.155 1513.22,885.485 1516.52,924.811 1519.82,838.74 1523.11,889.137 1526.41,569.591 1529.71,545.085 1533,316.122 1536.3,488.124 1539.59,387.61 1542.89,524.182 1546.19,657.749 1549.48,437.546 1552.78,296.072 1556.07,315.002 1559.37,384.422 1562.67,296.108 1565.96,243.05 1569.26,276.425 1572.56,378.419 1575.85,404.157 1579.15,346.035 1582.45,415.588 1585.74,446.042 1589.04,210.124 1592.34,574.306 1595.63,477.013 1598.92,338.043 1602.22,291.565 1605.52,642.351 1608.81,533.911 1612.11,543.492 1615.41,500.115 1618.7,584.171 1622,513.934 1625.3,682.107 1628.59,461.534 1631.89,399.59 1635.19,534.224 1638.48,584.734 1641.77,677.712 1645.07,580.249 1648.37,601.773 1651.66,656.492 1654.96,595.823 1658.26,533.238 1661.55,332.224 1664.85,174.55 1668.15,86.1857 1671.44,383.484 1674.74,453.111 1678.04,444.843 1681.33,523.584 1684.62,382.551 1687.92,527.01 1691.22,432.787 1694.51,623.28 1697.81,601.408 1701.11,537.625 1704.4,482.076 1707.7,515.071 1711,542.584 1714.29,576.986 1717.59,515.073 1720.89,596.174 1724.18,570.832 1727.47,484.232 1730.77,606.441 1734.07,520.384 1737.36,665.267 1740.66,617.526 1743.96,460.171 1747.25,551.089 1750.55,504.992 1753.85,527.045 1757.14,661.632 1760.44,678.065 1763.74,614.108 1767.03,559.556 1770.33,675.73 1773.62,625.248 1776.92,629.735 1780.22,964.982 1783.51,909.614 1786.81,947.099 1790.1,831.891 1793.4,997.62 1796.7,937.167 1799.99,1040.92 1803.29,882.986 1806.59,998.455 1809.88,1136.32 1813.18,1077.31 1816.47,1183.79 1819.77,1179.49 1823.07,1198.57 1826.36,1195.91 1829.66,1243.15 1832.96,1180.31 1836.25,1184.17 1839.55,1147.9 1842.85,1149.85 1846.14,1107.32 1849.44,1229.15 1852.73,1090.41 1856.03,1168.57 1859.32,1229.17 1862.62,1112.64 1865.92,1206.77 1869.21,1153.96 1872.51,1177.68 1875.81,1237.78 1879.1,1142.54 1882.4,1217.96 1885.7,1139.73 1888.99,1129.84 1892.29,1166.11 1895.59,1199.16 1898.88,1210.2 1902.17,1169.08 1905.47,1170.33 1908.77,1177.05 1912.06,1174.6 1915.36,1190.83 1918.66,1099.54 1921.95,1211.64 1925.25,1130.18 1928.55,1158.89 1931.84,1175.44 1935.14,1193.25 1938.44,1206.54 1941.73,1186.55 1945.02,1174.57 1948.32,1153.4 1951.62,1121.41 1954.91,1198.11 1958.21,1245.53 1961.51,1163.03 1964.8,1237.01 1968.1,1205.79 1971.4,1164.95 1974.69,1263.62 1977.98,1193.75 1981.29,1213.36 1984.58,1223.53 1987.87,1106.22 1991.17,1180.85 1994.47,1158.73 1997.76,1183.65 2001.06,1144.05 2004.36,1156.17 2007.65,1207.52 2010.95,1187.05 2014.25,1154.7 2017.54,1244.45 2020.84,1175.57 2024.14,1153.41 2027.43,1160.04 2030.73,1164.54 2034.02,1216.59 2037.32,1174.66 2040.61,1167.93 2043.91,1190.09 2047.21,1176.34 2050.5,1211.21 2053.8,1162.56 2057.1,1179.32 2060.39,1181.93 2063.69,1209.18 2066.99,1169.88 2070.28,1136.68 2073.58,1150.95 2076.87,1219.27 2080.17,1172.37 2083.47,1193.08 2086.76,1164.5 2090.06,1194.74 2093.36,1177.37 2096.65,1196.52 2099.95,1202.21 2103.24,1173.21 2106.54,1208.49 2109.84,1182.24 2113.13,1296.81 2116.43,1181.9 2119.72,1172.82 2123.02,1187.81 2126.32,1206.67 2129.61,1179.79 2132.91,1202.46 2136.21,1181.59 2139.5,1353.38 2142.8,1272 2146.1,1223.56 2149.39,1267.67 2152.68,1290.53 2155.99,1309.54 2159.28,1247.88 2162.57,1310.92 2165.87,1289.87 2169.17,1277.04 2172.46,1250.82 2175.76,1260.41 2179.06,1256.84 2182.35,1280.78 2185.65,1266.08 2188.95,1271.65 2192.24,1282.39 2195.53,1288.46 2198.84,1263.3 2202.13,1297.88 2205.42,1287.36 2208.72,1298.67 2212.02,1257.11 2215.31,1290.45 \"/>\n",
       "<polyline clip-path=\"url(#clip232)\" style=\"stroke:#00a9ad; stroke-linecap:round; stroke-linejoin:round; stroke-width:4; stroke-opacity:1; fill:none\" points=\"264.778,1384.24 268.077,1379.92 271.376,1298.33 274.669,1333 277.968,1296.11 281.261,1259.08 284.56,1111.94 287.852,1094.5 291.151,1106.39 294.444,1091.18 297.743,1183.83 301.042,1286.11 304.335,1300.03 307.634,1278.27 310.927,1322.43 314.225,1277.95 317.518,1313.06 320.817,1285.49 324.11,1295.27 327.409,1261.46 330.708,1296.29 334.001,1281.44 337.299,1319.32 340.592,1304.76 343.891,1272.12 347.184,1310.77 350.483,1315.28 353.782,1304.42 357.075,1317.67 360.373,1289.01 363.666,1306.29 366.965,1311.21 370.258,1314.6 373.557,1299.02 376.85,1291.25 380.149,1330.87 383.447,1301.8 386.74,1310.43 390.039,1306.24 393.332,1313.61 396.631,1306.23 399.924,1303.13 403.223,1309.53 406.516,1321.03 409.814,1292.8 413.113,1322 416.406,1291.12 419.705,1295.78 422.998,1305.17 426.297,1313.16 429.59,1321.95 432.888,1322.97 436.181,1322.57 439.48,1280.21 442.779,1302.27 446.072,1310.62 449.371,1268.27 452.664,1329.28 455.962,1319.72 459.255,1319.97 462.554,1316.32 465.847,1310.48 469.146,1271.1 472.445,1287.66 475.738,1176.19 479.036,1164.92 482.329,1276.36 485.628,1193.03 488.921,1164.38 492.22,1187.5 495.513,1196.32 498.812,1143.9 502.111,1161.98 505.403,1323.23 508.702,1320.05 511.995,1361.74 515.294,1348.15 518.587,1288.44 521.886,1366.03 525.179,1319.47 528.477,1343.84 531.77,1355.14 535.069,1319.15 538.368,1316.41 541.661,1320.74 544.96,1344.87 548.253,1343.04 551.551,1313.16 554.844,1307.86 558.143,1335.58 561.436,1333.52 564.735,1287.43 568.034,1325.67 571.327,1332.14 574.625,1317.92 577.918,1338.56 581.217,1343.63 584.51,1336.3 587.809,1340.92 591.102,1341.19 594.401,1312.29 597.7,1340.49 600.992,1332.4 604.291,1312.35 607.584,1337.06 610.883,1342.15 614.176,1329.79 617.475,1349.52 620.768,1328.02 624.066,1322.02 627.365,1349.06 630.658,1343.72 633.957,1321.22 637.25,1332.31 640.549,1334.24 643.842,1336.35 647.14,1326.1 650.433,1315.49 653.732,1344.91 657.031,1331.19 660.324,1340.23 663.623,1347.1 666.916,1301.68 670.215,1351.98 673.507,1332.94 676.806,1323.16 680.099,1327.02 683.398,1320.17 686.697,1358.26 689.99,1345.8 693.289,1338.69 696.581,1280.36 699.88,1341.35 703.173,1329.96 706.472,1297.27 709.765,1335.71 713.064,1351.35 716.363,1326.02 719.655,1289.21 722.954,1311.64 726.247,1338.5 729.546,1316.61 732.839,1341.57 736.138,1345.34 739.431,1357.65 742.73,1354.31 746.028,1354.94 749.321,1358.25 752.62,1337.7 755.913,1340.71 759.212,1315.37 762.505,1344.62 765.804,1305.29 769.096,1340.07 772.395,1356.7 775.694,1332.11 778.987,1330.08 782.286,1330.85 785.579,1340.18 788.878,1355.73 792.17,1303.78 795.469,1337.22 798.762,1322.74 802.061,1345 805.36,1326.7 808.653,1354.1 811.952,1336.63 815.245,1349.62 818.543,1370.35 821.836,1338.21 825.135,1336.71 828.428,1357.26 831.727,1343.41 835.026,1338.85 838.319,1341.73 841.617,1329.56 844.91,1302.11 848.209,1345.31 851.502,1305.71 854.801,1339.51 858.094,1345.74 861.393,1321.3 864.691,1352.74 867.984,1328.47 871.283,1354.88 874.576,1314.82 877.875,1343.22 881.168,1342.21 884.467,1316.8 887.76,1344.2 891.058,1333.47 894.357,1349.33 897.65,1322.92 900.949,1340.26 904.242,1358.62 907.541,1327.46 910.834,1327 914.132,1363.68 917.425,1305.08 920.724,1343.76 924.023,1355.53 927.316,1358.39 930.615,1331.75 933.908,1364.27 937.206,1335.75 940.499,1363.66 943.798,1348.07 947.091,1287.2 950.39,1338.06 953.689,1334.12 956.982,1321.72 960.28,1352.49 963.573,1343.36 966.872,1345.32 970.165,1351.49 973.464,1329.64 976.757,1314.58 980.056,1344.82 983.354,1344.88 986.647,1348.77 989.946,1347.28 993.239,1338.11 996.538,1341.5 999.831,1333.05 1003.13,1360.42 1006.42,1362.35 1009.72,1319.02 1013.02,1339.95 1016.31,1353.44 1019.61,1349.77 1022.9,1343.82 1026.2,1328.88 1029.5,1319.61 1032.8,1341.41 1036.09,1323.14 1039.39,1334.07 1042.69,1333.06 1045.98,1339.31 1049.28,1347.29 1052.57,1334.23 1055.87,1338.97 1059.16,1344.08 1062.46,1336.19 1065.75,1339.09 1069.05,1332.72 1072.35,1336.69 1075.64,1325.17 1078.94,1324.34 1082.24,1371.27 1085.54,1324.86 1088.83,1321.48 1092.13,1333.33 1095.42,1336.99 1098.72,1323.33 1102.02,1338.47 1105.31,1315.02 1108.61,1352.4 1111.9,1358.13 1115.2,1339.78 1118.49,1335.57 1121.79,1334.15 1125.09,1341.32 1128.38,1329.87 1131.68,1293.65 1134.98,1341.47 1138.28,1359.9 1141.57,1327.21 1144.87,1336.56 1148.16,1326.87 1151.46,1319.07 1154.75,1358.12 1158.05,1359.94 1161.35,1328.94 1164.64,1345.05 1167.94,1349.81 1171.23,1307.14 1174.53,1350.81 1177.83,1320.79 1181.12,1313.18 1184.42,1353.87 1187.72,1325.59 1191.01,1346.73 1194.31,1339.25 1197.61,1337 1200.9,1340.73 1204.2,1348.37 1207.49,1347.3 1210.79,1343.33 1214.08,1357.88 1217.38,1336.43 1220.68,1350.74 1223.97,1356.16 1227.27,1341.95 1230.57,1340.47 1233.86,1344.24 1237.16,1316.04 1240.46,1365.51 1243.75,1347.68 1247.05,1337.14 1250.35,1364.12 1253.64,1334.72 1256.94,1340.82 1260.23,1351.48 1263.53,1329.61 1266.82,1334.32 1270.12,1342.13 1273.41,1319.78 1276.71,1309.52 1280.01,1347.83 1283.31,1309.32 1286.6,1337.81 1289.9,1335.26 1293.2,1328.74 1296.49,1303.95 1299.79,1288.69 1303.08,1338.26 1306.38,1322.67 1309.68,1341.8 1312.97,1343.28 1316.27,1341.7 1319.56,1360.47 1322.86,1343.93 1326.15,1338.8 1329.45,1322.3 1332.75,1341.23 1336.04,1361.72 1339.34,1355.14 1342.64,1334.25 1345.94,1349.5 1349.23,1331.52 1352.53,1336.56 1355.82,1349.16 1359.12,1363.71 1362.41,1319.83 1365.71,1325.26 1369.01,1314.06 1372.3,1337.19 1375.6,1323.66 1378.89,1329.99 1382.19,1343.56 1385.49,1366.63 1388.78,1334.88 1392.08,1344.95 1395.38,1354.08 1398.68,1358.2 1401.97,1354.77 1405.27,1325.19 1408.56,1308.53 1411.86,1338.69 1415.15,1342.29 1418.45,1342.93 1421.74,1318.33 1425.04,1331.36 1428.34,1326.3 1431.63,1343.55 1434.93,1349.71 1438.23,1352.45 1441.52,1359 1444.82,1345.78 1448.12,1336.11 1451.41,1356.3 1454.71,1335.38 1458.01,1306.29 1461.3,1336.47 1464.6,1338.79 1467.89,1326.02 1471.19,1317.5 1474.48,1331.06 1477.78,1342.84 1481.07,1297.46 1484.37,1333.71 1487.67,1327.65 1490.97,1347.47 1494.26,1327.7 1497.56,1342.86 1500.86,1336.6 1504.15,1350.61 1507.45,1361.38 1510.74,1328.41 1514.04,1352.31 1517.34,1304.76 1520.63,1320.23 1523.93,1351.95 1527.22,1346.77 1530.52,1308.72 1533.81,1333.66 1537.11,1319.23 1540.41,1355.56 1543.71,1345.65 1547,1339.79 1550.3,1334.13 1553.6,1332.5 1556.89,1334.93 1560.19,1339.46 1563.48,1335.9 1566.78,1317.23 1570.07,1316.05 1573.37,1327.61 1576.67,1324.3 1579.96,1308.37 1583.26,1267.88 1586.55,1348.93 1589.85,1355.19 1593.15,1327.74 1596.44,1335.64 1599.74,1319.96 1603.04,1332.33 1606.34,1356.01 1609.63,1344.48 1612.93,1319.02 1616.22,1357.14 1619.52,1343.01 1622.81,1348.47 1626.11,1316.02 1629.4,1327.19 1632.7,1333.78 1636,1326.22 1639.29,1342.98 1642.59,1343.73 1645.89,1356.27 1649.18,1329.33 1652.48,1354.43 1655.78,1340.69 1659.07,1353.42 1662.37,1327.07 1665.67,1322.97 1668.96,1326.7 1672.26,1327.55 1675.55,1313.21 1678.85,1346.73 1682.14,1349.65 1685.44,1314.4 1688.74,1325.7 1692.03,1342.06 1695.33,1354.01 1698.63,1354.25 1701.92,1321.34 1705.22,1347.65 1708.52,1341.13 1711.81,1351.01 1715.11,1333.46 1718.4,1344.08 1721.7,1310.05 1725,1351.87 1728.29,1349.22 1731.59,1334.91 1734.88,1351.08 1738.18,1347.96 1741.47,1332.5 1744.77,1345.92 1748.07,1326.21 1751.37,1352.69 1754.66,1350.95 1757.96,1329.05 1761.26,1348.58 1764.55,1320.44 1767.85,1346.53 1771.14,1355.25 1774.44,1325.95 1777.73,1334.76 1781.03,1337.58 1784.33,1324.64 1787.62,1345.59 1790.92,1334.29 1794.21,1294.07 1797.51,1316.41 1800.81,1349.91 1804.11,1355.19 1807.4,1354.81 1810.7,1346.89 1814,1316.02 1817.29,1336.38 1820.59,1349.89 1823.88,1350.35 1827.18,1340.09 1830.47,1337.85 1833.77,1349.88 1837.06,1331.34 1840.36,1275.41 1843.66,1339.43 1846.95,1352.88 1850.25,1331.32 1853.55,1339.85 1856.85,1332.01 1860.14,1327.37 1863.44,1338.37 1866.73,1345.81 1870.03,1358.47 1873.33,1318.87 1876.62,1330.73 1879.92,1331.31 1883.21,1329.72 1886.51,1345.62 1889.8,1349.7 1893.1,1326.17 1896.4,1331.99 1899.69,1355.02 1902.99,1322.56 1906.29,1342.06 1909.58,1351.99 1912.88,1327.42 1916.18,1360.52 1919.47,1324.11 1922.77,1300.26 1926.06,1314.03 1929.36,1324.74 1932.66,1348.25 1935.95,1332.62 1939.25,1345.16 1942.54,1326.16 1945.84,1316.22 1949.14,1347.76 1952.43,1351.15 1955.73,1323.96 1959.03,1342.13 1962.32,1321.17 1965.62,1333.19 1968.92,1349.99 1972.21,1336.42 1975.51,1320.3 1978.8,1329.43 1982.1,1329.99 1985.39,1348.96 1988.69,1328.44 1991.99,1338.15 1995.28,1313.35 1998.58,1326.78 2001.88,1319.2 2005.17,1338.43 2008.47,1339.64 2011.77,1317.03 2015.06,1322.33 2018.36,1353.19 2021.66,1334.63 2024.95,1331.86 2028.25,1336.53 2031.54,1329.53 2034.84,1344.31 2038.13,1336.69 2041.43,1337.93 2044.72,1349.35 2048.02,1353.26 2051.32,1333.19 2054.61,1332.12 2057.91,1342.85 2061.21,1323.01 2064.51,1356.1 2067.8,1335.25 2071.1,1353.36 2074.39,1359.46 2077.69,1340.83 2080.99,1352.32 2084.28,1331.52 2087.58,1335.28 2090.87,1348.64 2094.17,1340.79 2097.46,1356.19 2100.76,1328.18 2104.06,1333.64 2107.35,1338.77 2110.65,1356.22 2113.95,1353.69 2117.25,1357.58 2120.54,1357.77 2123.84,1365.9 2127.13,1344.46 2130.43,1350.83 2133.72,1357.16 2137.02,1343.55 2140.32,1338.45 2143.61,1339.44 2146.91,1338.14 2150.2,1299.81 2153.5,1347.8 2156.8,1345.29 2160.09,1347.57 2163.39,1342.8 2166.69,1346.45 2169.99,1354.14 2173.28,1354 2176.58,1352.4 2179.87,1344.61 2183.17,1340.47 2186.46,1339.93 2189.76,1327.61 2193.05,1320.92 2196.35,1349.15 2199.65,1348.87 2202.94,1331.44 2206.24,1327.34 2209.54,1347.97 2212.83,1327.76 2216.13,1306.33 2219.43,1349.24 2222.72,1326.74 2226.02,1318.76 2229.32,1353.63 2232.61,1335.99 2235.91,1334.62 2239.2,1348.2 2242.5,1336.7 2245.79,1326.1 2249.09,1338.92 2252.38,1341.38 2255.68,1335.89 2258.98,1346.73 2262.28,1326.2 2265.57,1338.14 2268.87,1341.76 2272.17,1335.63 2275.46,1348.98 2278.76,1353.84 2282.05,1323 2285.35,1327.22 2288.65,1335.09 2291.94,1332.91 \"/>\n",
       "<path clip-path=\"url(#clip230)\" d=\"M1903.7 455.989 L2281.13 455.989 L2281.13 93.1086 L1903.7 93.1086  Z\" fill=\"#ffffff\" fill-rule=\"evenodd\" fill-opacity=\"1\"/>\n",
       "<polyline clip-path=\"url(#clip230)\" style=\"stroke:#000000; stroke-linecap:round; stroke-linejoin:round; stroke-width:4; stroke-opacity:1; fill:none\" points=\"1903.7,455.989 2281.13,455.989 2281.13,93.1086 1903.7,93.1086 1903.7,455.989 \"/>\n",
       "<polyline clip-path=\"url(#clip230)\" style=\"stroke:#009af9; stroke-linecap:round; stroke-linejoin:round; stroke-width:4; stroke-opacity:1; fill:none\" points=\"1927.58,144.949 2070.83,144.949 \"/>\n",
       "<path clip-path=\"url(#clip230)\" d=\"M2108.11 149.196 Q2102.95 149.196 2100.96 150.377 Q2098.97 151.557 2098.97 154.405 Q2098.97 156.673 2100.45 158.016 Q2101.95 159.335 2104.52 159.335 Q2108.07 159.335 2110.19 156.835 Q2112.35 154.312 2112.35 150.145 L2112.35 149.196 L2108.11 149.196 M2116.61 147.437 L2116.61 162.229 L2112.35 162.229 L2112.35 158.293 Q2110.89 160.655 2108.71 161.789 Q2106.54 162.9 2103.39 162.9 Q2099.41 162.9 2097.05 160.678 Q2094.71 158.432 2094.71 154.682 Q2094.71 150.307 2097.63 148.085 Q2100.57 145.863 2106.38 145.863 L2112.35 145.863 L2112.35 145.446 Q2112.35 142.507 2110.4 140.909 Q2108.48 139.289 2104.99 139.289 Q2102.76 139.289 2100.66 139.821 Q2098.55 140.354 2096.61 141.419 L2096.61 137.483 Q2098.94 136.581 2101.14 136.141 Q2103.34 135.678 2105.43 135.678 Q2111.05 135.678 2113.83 138.594 Q2116.61 141.511 2116.61 147.437 Z\" fill=\"#000000\" fill-rule=\"nonzero\" fill-opacity=\"1\" /><path clip-path=\"url(#clip230)\" d=\"M2129.59 128.942 L2129.59 136.303 L2138.37 136.303 L2138.37 139.613 L2129.59 139.613 L2129.59 153.687 Q2129.59 156.858 2130.45 157.761 Q2131.33 158.664 2133.99 158.664 L2138.37 158.664 L2138.37 162.229 L2133.99 162.229 Q2129.06 162.229 2127.19 160.4 Q2125.31 158.548 2125.31 153.687 L2125.31 139.613 L2122.19 139.613 L2122.19 136.303 L2125.31 136.303 L2125.31 128.942 L2129.59 128.942 Z\" fill=\"#000000\" fill-rule=\"nonzero\" fill-opacity=\"1\" /><path clip-path=\"url(#clip230)\" d=\"M2154.01 139.289 Q2150.59 139.289 2148.6 141.974 Q2146.61 144.636 2146.61 149.289 Q2146.61 153.942 2148.57 156.627 Q2150.56 159.289 2154.01 159.289 Q2157.42 159.289 2159.41 156.604 Q2161.4 153.918 2161.4 149.289 Q2161.4 144.682 2159.41 141.997 Q2157.42 139.289 2154.01 139.289 M2154.01 135.678 Q2159.57 135.678 2162.74 139.289 Q2165.91 142.9 2165.91 149.289 Q2165.91 155.655 2162.74 159.289 Q2159.57 162.9 2154.01 162.9 Q2148.44 162.9 2145.26 159.289 Q2142.12 155.655 2142.12 149.289 Q2142.12 142.9 2145.26 139.289 Q2148.44 135.678 2154.01 135.678 Z\" fill=\"#000000\" fill-rule=\"nonzero\" fill-opacity=\"1\" /><path clip-path=\"url(#clip230)\" d=\"M2193.16 141.28 Q2194.75 138.409 2196.98 137.044 Q2199.2 135.678 2202.21 135.678 Q2206.26 135.678 2208.46 138.525 Q2210.66 141.349 2210.66 146.581 L2210.66 162.229 L2206.37 162.229 L2206.37 146.719 Q2206.37 142.993 2205.06 141.187 Q2203.74 139.382 2201.03 139.382 Q2197.72 139.382 2195.8 141.581 Q2193.87 143.78 2193.87 147.576 L2193.87 162.229 L2189.59 162.229 L2189.59 146.719 Q2189.59 142.969 2188.27 141.187 Q2186.95 139.382 2184.2 139.382 Q2180.93 139.382 2179.01 141.604 Q2177.09 143.803 2177.09 147.576 L2177.09 162.229 L2172.81 162.229 L2172.81 136.303 L2177.09 136.303 L2177.09 140.331 Q2178.55 137.946 2180.59 136.812 Q2182.62 135.678 2185.43 135.678 Q2188.25 135.678 2190.22 137.113 Q2192.21 138.548 2193.16 141.28 Z\" fill=\"#000000\" fill-rule=\"nonzero\" fill-opacity=\"1\" /><path clip-path=\"url(#clip230)\" d=\"M2235.63 158.293 L2243.27 158.293 L2243.27 131.928 L2234.96 133.595 L2234.96 129.335 L2243.23 127.669 L2247.9 127.669 L2247.9 158.293 L2255.54 158.293 L2255.54 162.229 L2235.63 162.229 L2235.63 158.293 Z\" fill=\"#000000\" fill-rule=\"nonzero\" fill-opacity=\"1\" /><polyline clip-path=\"url(#clip230)\" style=\"stroke:#e26f46; stroke-linecap:round; stroke-linejoin:round; stroke-width:4; stroke-opacity:1; fill:none\" points=\"1927.58,196.789 2070.83,196.789 \"/>\n",
       "<path clip-path=\"url(#clip230)\" d=\"M2108.11 201.036 Q2102.95 201.036 2100.96 202.217 Q2098.97 203.397 2098.97 206.245 Q2098.97 208.513 2100.45 209.856 Q2101.95 211.175 2104.52 211.175 Q2108.07 211.175 2110.19 208.675 Q2112.35 206.152 2112.35 201.985 L2112.35 201.036 L2108.11 201.036 M2116.61 199.277 L2116.61 214.069 L2112.35 214.069 L2112.35 210.133 Q2110.89 212.495 2108.71 213.629 Q2106.54 214.74 2103.39 214.74 Q2099.41 214.74 2097.05 212.518 Q2094.71 210.272 2094.71 206.522 Q2094.71 202.147 2097.63 199.925 Q2100.57 197.703 2106.38 197.703 L2112.35 197.703 L2112.35 197.286 Q2112.35 194.347 2110.4 192.749 Q2108.48 191.129 2104.99 191.129 Q2102.76 191.129 2100.66 191.661 Q2098.55 192.194 2096.61 193.259 L2096.61 189.323 Q2098.94 188.421 2101.14 187.981 Q2103.34 187.518 2105.43 187.518 Q2111.05 187.518 2113.83 190.434 Q2116.61 193.351 2116.61 199.277 Z\" fill=\"#000000\" fill-rule=\"nonzero\" fill-opacity=\"1\" /><path clip-path=\"url(#clip230)\" d=\"M2129.59 180.782 L2129.59 188.143 L2138.37 188.143 L2138.37 191.453 L2129.59 191.453 L2129.59 205.527 Q2129.59 208.698 2130.45 209.601 Q2131.33 210.504 2133.99 210.504 L2138.37 210.504 L2138.37 214.069 L2133.99 214.069 Q2129.06 214.069 2127.19 212.24 Q2125.31 210.388 2125.31 205.527 L2125.31 191.453 L2122.19 191.453 L2122.19 188.143 L2125.31 188.143 L2125.31 180.782 L2129.59 180.782 Z\" fill=\"#000000\" fill-rule=\"nonzero\" fill-opacity=\"1\" /><path clip-path=\"url(#clip230)\" d=\"M2154.01 191.129 Q2150.59 191.129 2148.6 193.814 Q2146.61 196.476 2146.61 201.129 Q2146.61 205.782 2148.57 208.467 Q2150.56 211.129 2154.01 211.129 Q2157.42 211.129 2159.41 208.444 Q2161.4 205.758 2161.4 201.129 Q2161.4 196.522 2159.41 193.837 Q2157.42 191.129 2154.01 191.129 M2154.01 187.518 Q2159.57 187.518 2162.74 191.129 Q2165.91 194.74 2165.91 201.129 Q2165.91 207.495 2162.74 211.129 Q2159.57 214.74 2154.01 214.74 Q2148.44 214.74 2145.26 211.129 Q2142.12 207.495 2142.12 201.129 Q2142.12 194.74 2145.26 191.129 Q2148.44 187.518 2154.01 187.518 Z\" fill=\"#000000\" fill-rule=\"nonzero\" fill-opacity=\"1\" /><path clip-path=\"url(#clip230)\" d=\"M2193.16 193.12 Q2194.75 190.249 2196.98 188.884 Q2199.2 187.518 2202.21 187.518 Q2206.26 187.518 2208.46 190.365 Q2210.66 193.189 2210.66 198.421 L2210.66 214.069 L2206.37 214.069 L2206.37 198.559 Q2206.37 194.833 2205.06 193.027 Q2203.74 191.222 2201.03 191.222 Q2197.72 191.222 2195.8 193.421 Q2193.87 195.62 2193.87 199.416 L2193.87 214.069 L2189.59 214.069 L2189.59 198.559 Q2189.59 194.809 2188.27 193.027 Q2186.95 191.222 2184.2 191.222 Q2180.93 191.222 2179.01 193.444 Q2177.09 195.643 2177.09 199.416 L2177.09 214.069 L2172.81 214.069 L2172.81 188.143 L2177.09 188.143 L2177.09 192.171 Q2178.55 189.786 2180.59 188.652 Q2182.62 187.518 2185.43 187.518 Q2188.25 187.518 2190.22 188.953 Q2192.21 190.388 2193.16 193.12 Z\" fill=\"#000000\" fill-rule=\"nonzero\" fill-opacity=\"1\" /><path clip-path=\"url(#clip230)\" d=\"M2235.63 210.133 L2243.27 210.133 L2243.27 183.768 L2234.96 185.435 L2234.96 181.175 L2243.23 179.509 L2247.9 179.509 L2247.9 210.133 L2255.54 210.133 L2255.54 214.069 L2235.63 214.069 L2235.63 210.133 Z\" fill=\"#000000\" fill-rule=\"nonzero\" fill-opacity=\"1\" /><polyline clip-path=\"url(#clip230)\" style=\"stroke:#3da44d; stroke-linecap:round; stroke-linejoin:round; stroke-width:4; stroke-opacity:1; fill:none\" points=\"1927.58,248.629 2070.83,248.629 \"/>\n",
       "<path clip-path=\"url(#clip230)\" d=\"M2108.11 252.876 Q2102.95 252.876 2100.96 254.057 Q2098.97 255.237 2098.97 258.085 Q2098.97 260.353 2100.45 261.696 Q2101.95 263.015 2104.52 263.015 Q2108.07 263.015 2110.19 260.515 Q2112.35 257.992 2112.35 253.825 L2112.35 252.876 L2108.11 252.876 M2116.61 251.117 L2116.61 265.909 L2112.35 265.909 L2112.35 261.973 Q2110.89 264.335 2108.71 265.469 Q2106.54 266.58 2103.39 266.58 Q2099.41 266.58 2097.05 264.358 Q2094.71 262.112 2094.71 258.362 Q2094.71 253.987 2097.63 251.765 Q2100.57 249.543 2106.38 249.543 L2112.35 249.543 L2112.35 249.126 Q2112.35 246.187 2110.4 244.589 Q2108.48 242.969 2104.99 242.969 Q2102.76 242.969 2100.66 243.501 Q2098.55 244.034 2096.61 245.099 L2096.61 241.163 Q2098.94 240.261 2101.14 239.821 Q2103.34 239.358 2105.43 239.358 Q2111.05 239.358 2113.83 242.274 Q2116.61 245.191 2116.61 251.117 Z\" fill=\"#000000\" fill-rule=\"nonzero\" fill-opacity=\"1\" /><path clip-path=\"url(#clip230)\" d=\"M2129.59 232.622 L2129.59 239.983 L2138.37 239.983 L2138.37 243.293 L2129.59 243.293 L2129.59 257.367 Q2129.59 260.538 2130.45 261.441 Q2131.33 262.344 2133.99 262.344 L2138.37 262.344 L2138.37 265.909 L2133.99 265.909 Q2129.06 265.909 2127.19 264.08 Q2125.31 262.228 2125.31 257.367 L2125.31 243.293 L2122.19 243.293 L2122.19 239.983 L2125.31 239.983 L2125.31 232.622 L2129.59 232.622 Z\" fill=\"#000000\" fill-rule=\"nonzero\" fill-opacity=\"1\" /><path clip-path=\"url(#clip230)\" d=\"M2154.01 242.969 Q2150.59 242.969 2148.6 245.654 Q2146.61 248.316 2146.61 252.969 Q2146.61 257.622 2148.57 260.307 Q2150.56 262.969 2154.01 262.969 Q2157.42 262.969 2159.41 260.284 Q2161.4 257.598 2161.4 252.969 Q2161.4 248.362 2159.41 245.677 Q2157.42 242.969 2154.01 242.969 M2154.01 239.358 Q2159.57 239.358 2162.74 242.969 Q2165.91 246.58 2165.91 252.969 Q2165.91 259.335 2162.74 262.969 Q2159.57 266.58 2154.01 266.58 Q2148.44 266.58 2145.26 262.969 Q2142.12 259.335 2142.12 252.969 Q2142.12 246.58 2145.26 242.969 Q2148.44 239.358 2154.01 239.358 Z\" fill=\"#000000\" fill-rule=\"nonzero\" fill-opacity=\"1\" /><path clip-path=\"url(#clip230)\" d=\"M2193.16 244.96 Q2194.75 242.089 2196.98 240.724 Q2199.2 239.358 2202.21 239.358 Q2206.26 239.358 2208.46 242.205 Q2210.66 245.029 2210.66 250.261 L2210.66 265.909 L2206.37 265.909 L2206.37 250.399 Q2206.37 246.673 2205.06 244.867 Q2203.74 243.062 2201.03 243.062 Q2197.72 243.062 2195.8 245.261 Q2193.87 247.46 2193.87 251.256 L2193.87 265.909 L2189.59 265.909 L2189.59 250.399 Q2189.59 246.649 2188.27 244.867 Q2186.95 243.062 2184.2 243.062 Q2180.93 243.062 2179.01 245.284 Q2177.09 247.483 2177.09 251.256 L2177.09 265.909 L2172.81 265.909 L2172.81 239.983 L2177.09 239.983 L2177.09 244.011 Q2178.55 241.626 2180.59 240.492 Q2182.62 239.358 2185.43 239.358 Q2188.25 239.358 2190.22 240.793 Q2192.21 242.228 2193.16 244.96 Z\" fill=\"#000000\" fill-rule=\"nonzero\" fill-opacity=\"1\" /><path clip-path=\"url(#clip230)\" d=\"M2238.85 261.973 L2255.17 261.973 L2255.17 265.909 L2233.23 265.909 L2233.23 261.973 Q2235.89 259.219 2240.47 254.589 Q2245.08 249.936 2246.26 248.594 Q2248.5 246.071 2249.38 244.335 Q2250.29 242.575 2250.29 240.886 Q2250.29 238.131 2248.34 236.395 Q2246.42 234.659 2243.32 234.659 Q2241.12 234.659 2238.67 235.423 Q2236.24 236.187 2233.46 237.737 L2233.46 233.015 Q2236.28 231.881 2238.74 231.302 Q2241.19 230.724 2243.23 230.724 Q2248.6 230.724 2251.79 233.409 Q2254.99 236.094 2254.99 240.585 Q2254.99 242.714 2254.18 244.636 Q2253.39 246.534 2251.28 249.126 Q2250.7 249.798 2247.6 253.015 Q2244.5 256.21 2238.85 261.973 Z\" fill=\"#000000\" fill-rule=\"nonzero\" fill-opacity=\"1\" /><polyline clip-path=\"url(#clip230)\" style=\"stroke:#c271d2; stroke-linecap:round; stroke-linejoin:round; stroke-width:4; stroke-opacity:1; fill:none\" points=\"1927.58,300.469 2070.83,300.469 \"/>\n",
       "<path clip-path=\"url(#clip230)\" d=\"M2108.11 304.716 Q2102.95 304.716 2100.96 305.897 Q2098.97 307.077 2098.97 309.925 Q2098.97 312.193 2100.45 313.536 Q2101.95 314.855 2104.52 314.855 Q2108.07 314.855 2110.19 312.355 Q2112.35 309.832 2112.35 305.665 L2112.35 304.716 L2108.11 304.716 M2116.61 302.957 L2116.61 317.749 L2112.35 317.749 L2112.35 313.813 Q2110.89 316.175 2108.71 317.309 Q2106.54 318.42 2103.39 318.42 Q2099.41 318.42 2097.05 316.198 Q2094.71 313.952 2094.71 310.202 Q2094.71 305.827 2097.63 303.605 Q2100.57 301.383 2106.38 301.383 L2112.35 301.383 L2112.35 300.966 Q2112.35 298.027 2110.4 296.429 Q2108.48 294.809 2104.99 294.809 Q2102.76 294.809 2100.66 295.341 Q2098.55 295.874 2096.61 296.939 L2096.61 293.003 Q2098.94 292.101 2101.14 291.661 Q2103.34 291.198 2105.43 291.198 Q2111.05 291.198 2113.83 294.114 Q2116.61 297.031 2116.61 302.957 Z\" fill=\"#000000\" fill-rule=\"nonzero\" fill-opacity=\"1\" /><path clip-path=\"url(#clip230)\" d=\"M2129.59 284.462 L2129.59 291.823 L2138.37 291.823 L2138.37 295.133 L2129.59 295.133 L2129.59 309.207 Q2129.59 312.378 2130.45 313.281 Q2131.33 314.184 2133.99 314.184 L2138.37 314.184 L2138.37 317.749 L2133.99 317.749 Q2129.06 317.749 2127.19 315.92 Q2125.31 314.068 2125.31 309.207 L2125.31 295.133 L2122.19 295.133 L2122.19 291.823 L2125.31 291.823 L2125.31 284.462 L2129.59 284.462 Z\" fill=\"#000000\" fill-rule=\"nonzero\" fill-opacity=\"1\" /><path clip-path=\"url(#clip230)\" d=\"M2154.01 294.809 Q2150.59 294.809 2148.6 297.494 Q2146.61 300.156 2146.61 304.809 Q2146.61 309.462 2148.57 312.147 Q2150.56 314.809 2154.01 314.809 Q2157.42 314.809 2159.41 312.124 Q2161.4 309.438 2161.4 304.809 Q2161.4 300.202 2159.41 297.517 Q2157.42 294.809 2154.01 294.809 M2154.01 291.198 Q2159.57 291.198 2162.74 294.809 Q2165.91 298.42 2165.91 304.809 Q2165.91 311.175 2162.74 314.809 Q2159.57 318.42 2154.01 318.42 Q2148.44 318.42 2145.26 314.809 Q2142.12 311.175 2142.12 304.809 Q2142.12 298.42 2145.26 294.809 Q2148.44 291.198 2154.01 291.198 Z\" fill=\"#000000\" fill-rule=\"nonzero\" fill-opacity=\"1\" /><path clip-path=\"url(#clip230)\" d=\"M2193.16 296.8 Q2194.75 293.929 2196.98 292.564 Q2199.2 291.198 2202.21 291.198 Q2206.26 291.198 2208.46 294.045 Q2210.66 296.869 2210.66 302.101 L2210.66 317.749 L2206.37 317.749 L2206.37 302.239 Q2206.37 298.513 2205.06 296.707 Q2203.74 294.902 2201.03 294.902 Q2197.72 294.902 2195.8 297.101 Q2193.87 299.3 2193.87 303.096 L2193.87 317.749 L2189.59 317.749 L2189.59 302.239 Q2189.59 298.489 2188.27 296.707 Q2186.95 294.902 2184.2 294.902 Q2180.93 294.902 2179.01 297.124 Q2177.09 299.323 2177.09 303.096 L2177.09 317.749 L2172.81 317.749 L2172.81 291.823 L2177.09 291.823 L2177.09 295.851 Q2178.55 293.466 2180.59 292.332 Q2182.62 291.198 2185.43 291.198 Q2188.25 291.198 2190.22 292.633 Q2192.21 294.068 2193.16 296.8 Z\" fill=\"#000000\" fill-rule=\"nonzero\" fill-opacity=\"1\" /><path clip-path=\"url(#clip230)\" d=\"M2248.99 299.114 Q2252.35 299.832 2254.22 302.101 Q2256.12 304.369 2256.12 307.702 Q2256.12 312.818 2252.6 315.619 Q2249.08 318.42 2242.6 318.42 Q2240.43 318.42 2238.11 317.98 Q2235.82 317.563 2233.37 316.707 L2233.37 312.193 Q2235.31 313.327 2237.62 313.906 Q2239.94 314.485 2242.46 314.485 Q2246.86 314.485 2249.15 312.749 Q2251.47 311.013 2251.47 307.702 Q2251.47 304.647 2249.31 302.934 Q2247.18 301.198 2243.37 301.198 L2239.34 301.198 L2239.34 297.355 L2243.55 297.355 Q2247 297.355 2248.83 295.989 Q2250.66 294.601 2250.66 292.008 Q2250.66 289.346 2248.76 287.934 Q2246.88 286.499 2243.37 286.499 Q2241.44 286.499 2239.24 286.915 Q2237.05 287.332 2234.41 288.212 L2234.41 284.045 Q2237.07 283.304 2239.38 282.934 Q2241.72 282.564 2243.78 282.564 Q2249.11 282.564 2252.21 284.994 Q2255.31 287.402 2255.31 291.522 Q2255.31 294.392 2253.67 296.383 Q2252.02 298.351 2248.99 299.114 Z\" fill=\"#000000\" fill-rule=\"nonzero\" fill-opacity=\"1\" /><polyline clip-path=\"url(#clip230)\" style=\"stroke:#ac8d18; stroke-linecap:round; stroke-linejoin:round; stroke-width:4; stroke-opacity:1; fill:none\" points=\"1927.58,352.309 2070.83,352.309 \"/>\n",
       "<path clip-path=\"url(#clip230)\" d=\"M2108.11 356.556 Q2102.95 356.556 2100.96 357.737 Q2098.97 358.917 2098.97 361.765 Q2098.97 364.033 2100.45 365.376 Q2101.95 366.695 2104.52 366.695 Q2108.07 366.695 2110.19 364.195 Q2112.35 361.672 2112.35 357.505 L2112.35 356.556 L2108.11 356.556 M2116.61 354.797 L2116.61 369.589 L2112.35 369.589 L2112.35 365.653 Q2110.89 368.015 2108.71 369.149 Q2106.54 370.26 2103.39 370.26 Q2099.41 370.26 2097.05 368.038 Q2094.71 365.792 2094.71 362.042 Q2094.71 357.667 2097.63 355.445 Q2100.57 353.223 2106.38 353.223 L2112.35 353.223 L2112.35 352.806 Q2112.35 349.867 2110.4 348.269 Q2108.48 346.649 2104.99 346.649 Q2102.76 346.649 2100.66 347.181 Q2098.55 347.714 2096.61 348.779 L2096.61 344.843 Q2098.94 343.941 2101.14 343.501 Q2103.34 343.038 2105.43 343.038 Q2111.05 343.038 2113.83 345.954 Q2116.61 348.871 2116.61 354.797 Z\" fill=\"#000000\" fill-rule=\"nonzero\" fill-opacity=\"1\" /><path clip-path=\"url(#clip230)\" d=\"M2129.59 336.302 L2129.59 343.663 L2138.37 343.663 L2138.37 346.973 L2129.59 346.973 L2129.59 361.047 Q2129.59 364.218 2130.45 365.121 Q2131.33 366.024 2133.99 366.024 L2138.37 366.024 L2138.37 369.589 L2133.99 369.589 Q2129.06 369.589 2127.19 367.76 Q2125.31 365.908 2125.31 361.047 L2125.31 346.973 L2122.19 346.973 L2122.19 343.663 L2125.31 343.663 L2125.31 336.302 L2129.59 336.302 Z\" fill=\"#000000\" fill-rule=\"nonzero\" fill-opacity=\"1\" /><path clip-path=\"url(#clip230)\" d=\"M2154.01 346.649 Q2150.59 346.649 2148.6 349.334 Q2146.61 351.996 2146.61 356.649 Q2146.61 361.302 2148.57 363.987 Q2150.56 366.649 2154.01 366.649 Q2157.42 366.649 2159.41 363.964 Q2161.4 361.278 2161.4 356.649 Q2161.4 352.042 2159.41 349.357 Q2157.42 346.649 2154.01 346.649 M2154.01 343.038 Q2159.57 343.038 2162.74 346.649 Q2165.91 350.26 2165.91 356.649 Q2165.91 363.015 2162.74 366.649 Q2159.57 370.26 2154.01 370.26 Q2148.44 370.26 2145.26 366.649 Q2142.12 363.015 2142.12 356.649 Q2142.12 350.26 2145.26 346.649 Q2148.44 343.038 2154.01 343.038 Z\" fill=\"#000000\" fill-rule=\"nonzero\" fill-opacity=\"1\" /><path clip-path=\"url(#clip230)\" d=\"M2193.16 348.64 Q2194.75 345.769 2196.98 344.404 Q2199.2 343.038 2202.21 343.038 Q2206.26 343.038 2208.46 345.885 Q2210.66 348.709 2210.66 353.941 L2210.66 369.589 L2206.37 369.589 L2206.37 354.079 Q2206.37 350.353 2205.06 348.547 Q2203.74 346.742 2201.03 346.742 Q2197.72 346.742 2195.8 348.941 Q2193.87 351.14 2193.87 354.936 L2193.87 369.589 L2189.59 369.589 L2189.59 354.079 Q2189.59 350.329 2188.27 348.547 Q2186.95 346.742 2184.2 346.742 Q2180.93 346.742 2179.01 348.964 Q2177.09 351.163 2177.09 354.936 L2177.09 369.589 L2172.81 369.589 L2172.81 343.663 L2177.09 343.663 L2177.09 347.691 Q2178.55 345.306 2180.59 344.172 Q2182.62 343.038 2185.43 343.038 Q2188.25 343.038 2190.22 344.473 Q2192.21 345.908 2193.16 348.64 Z\" fill=\"#000000\" fill-rule=\"nonzero\" fill-opacity=\"1\" /><path clip-path=\"url(#clip230)\" d=\"M2247.67 339.103 L2235.87 357.552 L2247.67 357.552 L2247.67 339.103 M2246.44 335.029 L2252.32 335.029 L2252.32 357.552 L2257.25 357.552 L2257.25 361.441 L2252.32 361.441 L2252.32 369.589 L2247.67 369.589 L2247.67 361.441 L2232.07 361.441 L2232.07 356.927 L2246.44 335.029 Z\" fill=\"#000000\" fill-rule=\"nonzero\" fill-opacity=\"1\" /><polyline clip-path=\"url(#clip230)\" style=\"stroke:#00a9ad; stroke-linecap:round; stroke-linejoin:round; stroke-width:4; stroke-opacity:1; fill:none\" points=\"1927.58,404.149 2070.83,404.149 \"/>\n",
       "<path clip-path=\"url(#clip230)\" d=\"M2108.11 408.396 Q2102.95 408.396 2100.96 409.577 Q2098.97 410.757 2098.97 413.605 Q2098.97 415.873 2100.45 417.216 Q2101.95 418.535 2104.52 418.535 Q2108.07 418.535 2110.19 416.035 Q2112.35 413.512 2112.35 409.345 L2112.35 408.396 L2108.11 408.396 M2116.61 406.637 L2116.61 421.429 L2112.35 421.429 L2112.35 417.493 Q2110.89 419.855 2108.71 420.989 Q2106.54 422.1 2103.39 422.1 Q2099.41 422.1 2097.05 419.878 Q2094.71 417.632 2094.71 413.882 Q2094.71 409.507 2097.63 407.285 Q2100.57 405.063 2106.38 405.063 L2112.35 405.063 L2112.35 404.646 Q2112.35 401.707 2110.4 400.109 Q2108.48 398.489 2104.99 398.489 Q2102.76 398.489 2100.66 399.021 Q2098.55 399.554 2096.61 400.619 L2096.61 396.683 Q2098.94 395.781 2101.14 395.341 Q2103.34 394.878 2105.43 394.878 Q2111.05 394.878 2113.83 397.794 Q2116.61 400.711 2116.61 406.637 Z\" fill=\"#000000\" fill-rule=\"nonzero\" fill-opacity=\"1\" /><path clip-path=\"url(#clip230)\" d=\"M2129.59 388.142 L2129.59 395.503 L2138.37 395.503 L2138.37 398.813 L2129.59 398.813 L2129.59 412.887 Q2129.59 416.058 2130.45 416.961 Q2131.33 417.864 2133.99 417.864 L2138.37 417.864 L2138.37 421.429 L2133.99 421.429 Q2129.06 421.429 2127.19 419.6 Q2125.31 417.748 2125.31 412.887 L2125.31 398.813 L2122.19 398.813 L2122.19 395.503 L2125.31 395.503 L2125.31 388.142 L2129.59 388.142 Z\" fill=\"#000000\" fill-rule=\"nonzero\" fill-opacity=\"1\" /><path clip-path=\"url(#clip230)\" d=\"M2154.01 398.489 Q2150.59 398.489 2148.6 401.174 Q2146.61 403.836 2146.61 408.489 Q2146.61 413.142 2148.57 415.827 Q2150.56 418.489 2154.01 418.489 Q2157.42 418.489 2159.41 415.804 Q2161.4 413.118 2161.4 408.489 Q2161.4 403.882 2159.41 401.197 Q2157.42 398.489 2154.01 398.489 M2154.01 394.878 Q2159.57 394.878 2162.74 398.489 Q2165.91 402.1 2165.91 408.489 Q2165.91 414.855 2162.74 418.489 Q2159.57 422.1 2154.01 422.1 Q2148.44 422.1 2145.26 418.489 Q2142.12 414.855 2142.12 408.489 Q2142.12 402.1 2145.26 398.489 Q2148.44 394.878 2154.01 394.878 Z\" fill=\"#000000\" fill-rule=\"nonzero\" fill-opacity=\"1\" /><path clip-path=\"url(#clip230)\" d=\"M2193.16 400.48 Q2194.75 397.609 2196.98 396.244 Q2199.2 394.878 2202.21 394.878 Q2206.26 394.878 2208.46 397.725 Q2210.66 400.549 2210.66 405.781 L2210.66 421.429 L2206.37 421.429 L2206.37 405.919 Q2206.37 402.193 2205.06 400.387 Q2203.74 398.582 2201.03 398.582 Q2197.72 398.582 2195.8 400.781 Q2193.87 402.98 2193.87 406.776 L2193.87 421.429 L2189.59 421.429 L2189.59 405.919 Q2189.59 402.169 2188.27 400.387 Q2186.95 398.582 2184.2 398.582 Q2180.93 398.582 2179.01 400.804 Q2177.09 403.003 2177.09 406.776 L2177.09 421.429 L2172.81 421.429 L2172.81 395.503 L2177.09 395.503 L2177.09 399.531 Q2178.55 397.146 2180.59 396.012 Q2182.62 394.878 2185.43 394.878 Q2188.25 394.878 2190.22 396.313 Q2192.21 397.748 2193.16 400.48 Z\" fill=\"#000000\" fill-rule=\"nonzero\" fill-opacity=\"1\" /><path clip-path=\"url(#clip230)\" d=\"M2234.87 386.869 L2253.23 386.869 L2253.23 390.804 L2239.15 390.804 L2239.15 399.276 Q2240.17 398.929 2241.19 398.767 Q2242.21 398.582 2243.23 398.582 Q2249.01 398.582 2252.39 401.753 Q2255.77 404.924 2255.77 410.341 Q2255.77 415.919 2252.3 419.021 Q2248.83 422.1 2242.51 422.1 Q2240.33 422.1 2238.06 421.73 Q2235.82 421.359 2233.41 420.618 L2233.41 415.919 Q2235.49 417.054 2237.72 417.609 Q2239.94 418.165 2242.42 418.165 Q2246.42 418.165 2248.76 416.058 Q2251.1 413.952 2251.1 410.341 Q2251.1 406.73 2248.76 404.623 Q2246.42 402.517 2242.42 402.517 Q2240.54 402.517 2238.67 402.933 Q2236.81 403.35 2234.87 404.23 L2234.87 386.869 Z\" fill=\"#000000\" fill-rule=\"nonzero\" fill-opacity=\"1\" /></svg>\n"
      ]
     },
     "execution_count": 307,
     "metadata": {},
     "output_type": "execute_result"
    }
   ],
   "source": [
    "plot(dfs[1][:, :t], dfs[1][:, :dsq], label=\"atom 1\")\n",
    "\n",
    "for (i, df) in enumerate(dfs)\n",
    "    plot!(df[:, :t], df[:, :dsq], label=\"atom \"*string(i))\n",
    "end\n",
    "    \n",
    "xlabel!(\"Time\")\n",
    "ylabel!(\"MSD\")"
   ]
  },
  {
   "cell_type": "markdown",
   "id": "f232a697",
   "metadata": {},
   "source": [
    "To estimate $D$, we'll take the average over all three trajectories and fit a line to that data..."
   ]
  },
  {
   "cell_type": "code",
   "execution_count": null,
   "id": "34e5ab60",
   "metadata": {},
   "outputs": [],
   "source": [
    "# TODO: will probably need to interpolate to do the averaging"
   ]
  },
  {
   "cell_type": "code",
   "execution_count": null,
   "id": "20879188",
   "metadata": {},
   "outputs": [],
   "source": []
  },
  {
   "cell_type": "code",
   "execution_count": null,
   "id": "7f5d0390",
   "metadata": {},
   "outputs": [],
   "source": []
  },
  {
   "cell_type": "markdown",
   "id": "32bfb18c",
   "metadata": {},
   "source": [
    "MORE HERE...compare with other people and see how varied the answers are..."
   ]
  },
  {
   "cell_type": "code",
   "execution_count": 309,
   "id": "f2d3f51a",
   "metadata": {},
   "outputs": [
    {
     "data": {
      "text/plain": [
       "3018"
      ]
     },
     "execution_count": 309,
     "metadata": {},
     "output_type": "execute_result"
    }
   ],
   "source": [
    "total_datapts = sum(size.(dfs, Ref(1)))"
   ]
  },
  {
   "cell_type": "markdown",
   "id": "7842067f",
   "metadata": {},
   "source": [
    "## Approach 2: Few snapshots of ALL the particles\n",
    "[MORE DIRECTIONS HERE]"
   ]
  },
  {
   "cell_type": "code",
   "execution_count": 197,
   "id": "774804c7",
   "metadata": {},
   "outputs": [],
   "source": [
    "n_atoms = 2125;"
   ]
  },
  {
   "cell_type": "code",
   "execution_count": 167,
   "id": "f53b23a4",
   "metadata": {},
   "outputs": [
    {
     "data": {
      "application/vnd.webio.node+json": {
       "children": [
        {
         "children": [
          {
           "children": [],
           "instanceArgs": {
            "namespace": "html",
            "tag": "input"
           },
           "nodeType": "DOM",
           "props": {
            "attributes": {
             "data-bind": "numericValue: value, valueUpdate: 'input', event: {change: function (){this.changes(this.changes()+1)}}",
             "type": "number"
            },
            "className": "input ",
            "placeholder": "enter timestamp for first snapshot",
            "style": {}
           },
           "type": "node"
          }
         ],
         "instanceArgs": {
          "handlers": {
           "changes": [
            "(function (val){return (val!=this.model[\"changes\"]()) ? (this.valueFromJulia[\"changes\"]=true, this.model[\"changes\"](val)) : undefined})"
           ],
           "value": [
            "(function (val){return (val!=this.model[\"value\"]()) ? (this.valueFromJulia[\"value\"]=true, this.model[\"value\"](val)) : undefined})"
           ]
          },
          "id": "4291214710647940719",
          "imports": {
           "data": [
            {
             "name": "knockout",
             "type": "js",
             "url": "/assetserver/3268aa453acf20217634de8b759710ecfa84b18e-knockout.js"
            },
            {
             "name": "knockout_punches",
             "type": "js",
             "url": "/assetserver/fe2a192c367289f39b8280b58861b0e90803c10f-knockout_punches.js"
            },
            {
             "name": null,
             "type": "js",
             "url": "/assetserver/8e0549a7824595df033024a9ea05fa3859c5079f-all.js"
            },
            {
             "name": null,
             "type": "css",
             "url": "/assetserver/345b939b64724fad0a8c431b45abd44fe39a5151-style.css"
            },
            {
             "name": null,
             "type": "css",
             "url": "/assetserver/bd82aaaf98c6d450d881a2127a6bfb103be1802f-bulma_confined.min.css"
            }
           ],
           "type": "async_block"
          },
          "mount_callbacks": [
           "function () {\n    var handler = (function (ko, koPunches) {\n    ko.punches.enableAll();\n    ko.bindingHandlers.numericValue = {\n        init: function(element, valueAccessor, allBindings, data, context) {\n            var stringified = ko.observable(ko.unwrap(valueAccessor()));\n            stringified.subscribe(function(value) {\n                var val = parseFloat(value);\n                if (!isNaN(val)) {\n                    valueAccessor()(val);\n                }\n            });\n            valueAccessor().subscribe(function(value) {\n                var str = JSON.stringify(value);\n                if ((str == \"0\") && ([\"-0\", \"-0.\"].indexOf(stringified()) >= 0))\n                     return;\n                 if ([\"null\", \"\"].indexOf(str) >= 0)\n                     return;\n                stringified(str);\n            });\n            ko.applyBindingsToNode(\n                element,\n                {\n                    value: stringified,\n                    valueUpdate: allBindings.get('valueUpdate'),\n                },\n                context,\n            );\n        }\n    };\n    var json_data = {\"changes\":WebIO.getval({\"name\":\"changes\",\"scope\":\"4291214710647940719\",\"id\":\"29\",\"type\":\"observable\"}),\"value\":WebIO.getval({\"name\":\"value\",\"scope\":\"4291214710647940719\",\"id\":\"28\",\"type\":\"observable\"})};\n    var self = this;\n    function AppViewModel() {\n        for (var key in json_data) {\n            var el = json_data[key];\n            this[key] = Array.isArray(el) ? ko.observableArray(el) : ko.observable(el);\n        }\n        \n        \n        [this[\"changes\"].subscribe((function (val){!(this.valueFromJulia[\"changes\"]) ? (WebIO.setval({\"name\":\"changes\",\"scope\":\"4291214710647940719\",\"id\":\"29\",\"type\":\"observable\"},val)) : undefined; return this.valueFromJulia[\"changes\"]=false}),self),this[\"value\"].subscribe((function (val){!(this.valueFromJulia[\"value\"]) ? (WebIO.setval({\"name\":\"value\",\"scope\":\"4291214710647940719\",\"id\":\"28\",\"type\":\"observable\"},val)) : undefined; return this.valueFromJulia[\"value\"]=false}),self)]\n        \n    }\n    self.model = new AppViewModel();\n    self.valueFromJulia = {};\n    for (var key in json_data) {\n        self.valueFromJulia[key] = false;\n    }\n    ko.applyBindings(self.model, self.dom);\n}\n);\n    (WebIO.importBlock({\"data\":[{\"name\":\"knockout\",\"type\":\"js\",\"url\":\"/assetserver/3268aa453acf20217634de8b759710ecfa84b18e-knockout.js\"},{\"name\":\"knockout_punches\",\"type\":\"js\",\"url\":\"/assetserver/fe2a192c367289f39b8280b58861b0e90803c10f-knockout_punches.js\"}],\"type\":\"async_block\"})).then((imports) => handler.apply(this, imports));\n}\n"
          ],
          "observables": {
           "changes": {
            "id": "29",
            "sync": false,
            "value": 0
           },
           "value": {
            "id": "28",
            "sync": false,
            "value": null
           }
          },
          "systemjs_options": null
         },
         "nodeType": "Scope",
         "props": {},
         "type": "node"
        }
       ],
       "instanceArgs": {
        "namespace": "html",
        "tag": "div"
       },
       "nodeType": "DOM",
       "props": {
        "className": "field interact-widget"
       },
       "type": "node"
      },
      "text/html": [
       "<div\n",
       "    class=\"webio-mountpoint\"\n",
       "    data-webio-mountpoint=\"18446545141657060743\"\n",
       ">\n",
       "    <script>\n",
       "    (function(){\n",
       "    // Some integrations (namely, IJulia/Jupyter) use an alternate render pathway than\n",
       "    // just putting the html on the page. If WebIO isn't defined, then it's pretty likely\n",
       "    // that we're in one of those situations and the integration just isn't installed\n",
       "    // correctly.\n",
       "    if (typeof window.WebIO === \"undefined\") {\n",
       "        document\n",
       "            .querySelector('[data-webio-mountpoint=\"18446545141657060743\"]')\n",
       "            .innerHTML = (\n",
       "                '<div style=\"padding: 1em; background-color: #f8d6da; border: 1px solid #f5c6cb; font-weight: bold;\">' +\n",
       "                '<p><strong>WebIO not detected.</strong></p>' +\n",
       "                '<p>Please read ' +\n",
       "                '<a href=\"https://juliagizmos.github.io/WebIO.jl/latest/troubleshooting/not-detected/\" target=\"_blank\">the troubleshooting guide</a> ' +\n",
       "                'for more information on how to resolve this issue.</p>' +\n",
       "                '<p><a href=\"https://juliagizmos.github.io/WebIO.jl/latest/troubleshooting/not-detected/\" target=\"_blank\">https://juliagizmos.github.io/WebIO.jl/latest/troubleshooting/not-detected/</a></p>' +\n",
       "                '</div>'\n",
       "            );\n",
       "        return;\n",
       "    }\n",
       "    WebIO.mount(\n",
       "        document.querySelector('[data-webio-mountpoint=\"18446545141657060743\"]'),\n",
       "        {\"props\":{\"className\":\"field interact-widget\"},\"nodeType\":\"DOM\",\"type\":\"node\",\"instanceArgs\":{\"namespace\":\"html\",\"tag\":\"div\"},\"children\":[{\"props\":{},\"nodeType\":\"Scope\",\"type\":\"node\",\"instanceArgs\":{\"imports\":{\"data\":[{\"name\":\"knockout\",\"type\":\"js\",\"url\":\"\\/assetserver\\/3268aa453acf20217634de8b759710ecfa84b18e-knockout.js\"},{\"name\":\"knockout_punches\",\"type\":\"js\",\"url\":\"\\/assetserver\\/fe2a192c367289f39b8280b58861b0e90803c10f-knockout_punches.js\"},{\"name\":null,\"type\":\"js\",\"url\":\"\\/assetserver\\/8e0549a7824595df033024a9ea05fa3859c5079f-all.js\"},{\"name\":null,\"type\":\"css\",\"url\":\"\\/assetserver\\/345b939b64724fad0a8c431b45abd44fe39a5151-style.css\"},{\"name\":null,\"type\":\"css\",\"url\":\"\\/assetserver\\/bd82aaaf98c6d450d881a2127a6bfb103be1802f-bulma_confined.min.css\"}],\"type\":\"async_block\"},\"id\":\"4291214710647940719\",\"handlers\":{\"changes\":[\"(function (val){return (val!=this.model[\\\"changes\\\"]()) ? (this.valueFromJulia[\\\"changes\\\"]=true, this.model[\\\"changes\\\"](val)) : undefined})\"],\"value\":[\"(function (val){return (val!=this.model[\\\"value\\\"]()) ? (this.valueFromJulia[\\\"value\\\"]=true, this.model[\\\"value\\\"](val)) : undefined})\"]},\"systemjs_options\":null,\"mount_callbacks\":[\"function () {\\n    var handler = (function (ko, koPunches) {\\n    ko.punches.enableAll();\\n    ko.bindingHandlers.numericValue = {\\n        init: function(element, valueAccessor, allBindings, data, context) {\\n            var stringified = ko.observable(ko.unwrap(valueAccessor()));\\n            stringified.subscribe(function(value) {\\n                var val = parseFloat(value);\\n                if (!isNaN(val)) {\\n                    valueAccessor()(val);\\n                }\\n            });\\n            valueAccessor().subscribe(function(value) {\\n                var str = JSON.stringify(value);\\n                if ((str == \\\"0\\\") && ([\\\"-0\\\", \\\"-0.\\\"].indexOf(stringified()) >= 0))\\n                     return;\\n                 if ([\\\"null\\\", \\\"\\\"].indexOf(str) >= 0)\\n                     return;\\n                stringified(str);\\n            });\\n            ko.applyBindingsToNode(\\n                element,\\n                {\\n                    value: stringified,\\n                    valueUpdate: allBindings.get('valueUpdate'),\\n                },\\n                context,\\n            );\\n        }\\n    };\\n    var json_data = {\\\"changes\\\":WebIO.getval({\\\"name\\\":\\\"changes\\\",\\\"scope\\\":\\\"4291214710647940719\\\",\\\"id\\\":\\\"29\\\",\\\"type\\\":\\\"observable\\\"}),\\\"value\\\":WebIO.getval({\\\"name\\\":\\\"value\\\",\\\"scope\\\":\\\"4291214710647940719\\\",\\\"id\\\":\\\"28\\\",\\\"type\\\":\\\"observable\\\"})};\\n    var self = this;\\n    function AppViewModel() {\\n        for (var key in json_data) {\\n            var el = json_data[key];\\n            this[key] = Array.isArray(el) ? ko.observableArray(el) : ko.observable(el);\\n        }\\n        \\n        \\n        [this[\\\"changes\\\"].subscribe((function (val){!(this.valueFromJulia[\\\"changes\\\"]) ? (WebIO.setval({\\\"name\\\":\\\"changes\\\",\\\"scope\\\":\\\"4291214710647940719\\\",\\\"id\\\":\\\"29\\\",\\\"type\\\":\\\"observable\\\"},val)) : undefined; return this.valueFromJulia[\\\"changes\\\"]=false}),self),this[\\\"value\\\"].subscribe((function (val){!(this.valueFromJulia[\\\"value\\\"]) ? (WebIO.setval({\\\"name\\\":\\\"value\\\",\\\"scope\\\":\\\"4291214710647940719\\\",\\\"id\\\":\\\"28\\\",\\\"type\\\":\\\"observable\\\"},val)) : undefined; return this.valueFromJulia[\\\"value\\\"]=false}),self)]\\n        \\n    }\\n    self.model = new AppViewModel();\\n    self.valueFromJulia = {};\\n    for (var key in json_data) {\\n        self.valueFromJulia[key] = false;\\n    }\\n    ko.applyBindings(self.model, self.dom);\\n}\\n);\\n    (WebIO.importBlock({\\\"data\\\":[{\\\"name\\\":\\\"knockout\\\",\\\"type\\\":\\\"js\\\",\\\"url\\\":\\\"\\/assetserver\\/3268aa453acf20217634de8b759710ecfa84b18e-knockout.js\\\"},{\\\"name\\\":\\\"knockout_punches\\\",\\\"type\\\":\\\"js\\\",\\\"url\\\":\\\"\\/assetserver\\/fe2a192c367289f39b8280b58861b0e90803c10f-knockout_punches.js\\\"}],\\\"type\\\":\\\"async_block\\\"})).then((imports) => handler.apply(this, imports));\\n}\\n\"],\"observables\":{\"changes\":{\"sync\":false,\"id\":\"29\",\"value\":0},\"value\":{\"sync\":false,\"id\":\"28\",\"value\":null}}},\"children\":[{\"props\":{\"attributes\":{\"type\":\"number\",\"data-bind\":\"numericValue: value, valueUpdate: 'input', event: {change: function (){this.changes(this.changes()+1)}}\"},\"placeholder\":\"enter timestamp for first snapshot\",\"className\":\"input \",\"style\":{}},\"nodeType\":\"DOM\",\"type\":\"node\",\"instanceArgs\":{\"namespace\":\"html\",\"tag\":\"input\"},\"children\":[]}]}]},\n",
       "        window,\n",
       "    );\n",
       "    })()\n",
       "    </script>\n",
       "</div>\n"
      ],
      "text/plain": [
       "Node{WebIO.DOM}(WebIO.DOM(:html, :div), Any[Scope(Node{WebIO.DOM}(WebIO.DOM(:html, :input), Any[], Dict{Symbol, Any}(:attributes => Dict{Any, Any}(:type => \"number\", Symbol(\"data-bind\") => \"numericValue: value, valueUpdate: 'input', event: {change: function (){this.changes(this.changes()+1)}}\"), :placeholder => \"enter timestamp for first snapshot\", :className => \"input \", :style => Dict{Any, Any}())), Dict{String, Tuple{AbstractObservable, Union{Nothing, Bool}}}(\"changes\" => (Observable(0), nothing), \"value\" => (Observable{Union{Nothing, Float64}}(nothing), nothing)), Set{String}(), nothing, Asset[Asset(\"js\", \"knockout\", \"/Users/rkurchin/.julia/packages/Knockout/HReiN/src/../assets/knockout.js\"), Asset(\"js\", \"knockout_punches\", \"/Users/rkurchin/.julia/packages/Knockout/HReiN/src/../assets/knockout_punches.js\"), Asset(\"js\", nothing, \"/Users/rkurchin/.julia/packages/InteractBase/LJXv3/src/../assets/all.js\"), Asset(\"css\", nothing, \"/Users/rkurchin/.julia/packages/InteractBase/LJXv3/src/../assets/style.css\"), Asset(\"css\", nothing, \"/Users/rkurchin/.julia/packages/Interact/PENUy/src/../assets/bulma_confined.min.css\")], Dict{Any, Any}(\"changes\" => Any[WebIO.JSString(\"(function (val){return (val!=this.model[\\\"changes\\\"]()) ? (this.valueFromJulia[\\\"changes\\\"]=true, this.model[\\\"changes\\\"](val)) : undefined})\")], \"value\" => Any[WebIO.JSString(\"(function (val){return (val!=this.model[\\\"value\\\"]()) ? (this.valueFromJulia[\\\"value\\\"]=true, this.model[\\\"value\\\"](val)) : undefined})\")]), WebIO.ConnectionPool(Channel{Any}(32), Set{AbstractConnection}(), Base.GenericCondition{ReentrantLock}(Base.InvasiveLinkedList{Task}(Task (runnable) @0x00000001a0978e80, Task (runnable) @0x00000001a0978e80), ReentrantLock(nothing, 0x00000000, 0x00, Base.GenericCondition{Base.Threads.SpinLock}(Base.InvasiveLinkedList{Task}(nothing, nothing), Base.Threads.SpinLock(0)), (2, 6962898800, 4587480416)))), WebIO.JSString[WebIO.JSString(\"function () {\\n    var handler = (function (ko, koPunches) {\\n    ko.punches.enableAll();\\n    ko.bindingHandlers.numericValue = {\\n        init: function(element, valueAccessor, allBindings, data, context) {\\n            var stringified = ko.observable(ko.unwrap(valueAccessor()));\\n            stringified.subscribe(function(value) {\\n                var val = parseFloat(value);\\n                if (!isNaN(val)) {\\n                    valueAccessor()(val);\\n                }\\n            });\\n            valueAccessor().subscribe(function(value) {\\n                var str = JSON.stringify(value);\\n                if ((str == \\\"0\\\") && ([\\\"-0\\\", \\\"-0.\\\"].indexOf(stringified()) >= 0))\\n                     return;\\n                 if ([\\\"null\\\", \\\"\\\"].indexOf(str) >= 0)\\n                     return;\\n                stringified(str);\\n            });\\n            ko.applyBindingsToNode(\\n                element,\\n                {\\n                    value: stringified,\\n                    valueUpdate: allBindings.get('valueUpdate'),\\n                },\\n                context,\\n            );\\n        }\\n    };\\n    var json_data = {\\\"changes\\\":WebIO.getval({\\\"name\\\":\\\"changes\\\",\\\"scope\\\":\\\"4291214710647940719\\\",\\\"id\\\":\\\"29\\\",\\\"type\\\":\\\"observable\\\"}),\\\"value\\\":WebIO.getval({\\\"name\\\":\\\"value\\\",\\\"scope\\\":\\\"4291214710647940719\\\",\\\"id\\\":\\\"28\\\",\\\"type\\\":\\\"observable\\\"})};\\n    var self = this;\\n    function AppViewModel() {\\n        for (var key in json_data) {\\n            var el = json_data[key];\\n            this[key] = Array.isArray(el) ? ko.observableArray(el) : ko.observable(el);\\n        }\\n        \\n        \\n        [this[\\\"changes\\\"].subscribe((function (val){!(this.valueFromJulia[\\\"changes\\\"]) ? (WebIO.setval({\\\"name\\\":\\\"changes\\\",\\\"scope\\\":\\\"4291214710647940719\\\",\\\"id\\\":\\\"29\\\",\\\"type\\\":\\\"observable\\\"},val)) : undefined; return this.valueFromJulia[\\\"changes\\\"]=false}),self),this[\\\"value\\\"].subscribe((function (val){!(this.valueFromJulia[\\\"value\\\"]) ? (WebIO.setval({\\\"name\\\":\\\"value\\\",\\\"scope\\\":\\\"4291214710647940719\\\",\\\"id\\\":\\\"28\\\",\\\"type\\\":\\\"observable\\\"},val)) : undefined; return this.valueFromJulia[\\\"value\\\"]=false}),self)]\\n        \\n    }\\n    self.model = new AppViewModel();\\n    self.valueFromJulia = {};\\n    for (var key in json_data) {\\n        self.valueFromJulia[key] = false;\\n    }\\n    ko.applyBindings(self.model, self.dom);\\n}\\n);\\n    (WebIO.importBlock({\\\"data\\\":[{\\\"name\\\":\\\"knockout\\\",\\\"type\\\":\\\"js\\\",\\\"url\\\":\\\"/assetserver/3268aa453acf20217634de8b759710ecfa84b18e-knockout.js\\\"},{\\\"name\\\":\\\"knockout_punches\\\",\\\"type\\\":\\\"js\\\",\\\"url\\\":\\\"/assetserver/fe2a192c367289f39b8280b58861b0e90803c10f-knockout_punches.js\\\"}],\\\"type\\\":\\\"async_block\\\"})).then((imports) => handler.apply(this, imports));\\n}\\n\")])], Dict{Symbol, Any}(:className => \"field interact-widget\"))"
      ]
     },
     "execution_count": 167,
     "metadata": {
      "application/vnd.webio.node+json": {
       "kernelId": "4e6e0d91-fec6-4376-b6ac-dd9da4ee78d8"
      }
     },
     "output_type": "execute_result"
    }
   ],
   "source": [
    "t1 = Widgets.spinbox(\"enter timestamp for first snapshot\")"
   ]
  },
  {
   "cell_type": "code",
   "execution_count": 184,
   "id": "9228eacf",
   "metadata": {},
   "outputs": [
    {
     "data": {
      "application/vnd.webio.node+json": {
       "children": [
        {
         "children": [
          {
           "children": [],
           "instanceArgs": {
            "namespace": "html",
            "tag": "textarea"
           },
           "nodeType": "DOM",
           "props": {
            "attributes": {
             "data-bind": "value: value, valueUpdate: 'input'",
             "placeholder": "paste snapshot data here"
            },
            "className": "textarea ",
            "style": {}
           },
           "type": "node"
          }
         ],
         "instanceArgs": {
          "handlers": {
           "value": [
            "(function (val){return (val!=this.model[\"value\"]()) ? (this.valueFromJulia[\"value\"]=true, this.model[\"value\"](val)) : undefined})"
           ]
          },
          "id": "10445036993716100312",
          "imports": {
           "data": [
            {
             "name": "knockout",
             "type": "js",
             "url": "/assetserver/3268aa453acf20217634de8b759710ecfa84b18e-knockout.js"
            },
            {
             "name": "knockout_punches",
             "type": "js",
             "url": "/assetserver/fe2a192c367289f39b8280b58861b0e90803c10f-knockout_punches.js"
            },
            {
             "name": null,
             "type": "js",
             "url": "/assetserver/8e0549a7824595df033024a9ea05fa3859c5079f-all.js"
            },
            {
             "name": null,
             "type": "css",
             "url": "/assetserver/345b939b64724fad0a8c431b45abd44fe39a5151-style.css"
            },
            {
             "name": null,
             "type": "css",
             "url": "/assetserver/bd82aaaf98c6d450d881a2127a6bfb103be1802f-bulma_confined.min.css"
            }
           ],
           "type": "async_block"
          },
          "mount_callbacks": [
           "function () {\n    var handler = (function (ko, koPunches) {\n    ko.punches.enableAll();\n    ko.bindingHandlers.numericValue = {\n        init: function(element, valueAccessor, allBindings, data, context) {\n            var stringified = ko.observable(ko.unwrap(valueAccessor()));\n            stringified.subscribe(function(value) {\n                var val = parseFloat(value);\n                if (!isNaN(val)) {\n                    valueAccessor()(val);\n                }\n            });\n            valueAccessor().subscribe(function(value) {\n                var str = JSON.stringify(value);\n                if ((str == \"0\") && ([\"-0\", \"-0.\"].indexOf(stringified()) >= 0))\n                     return;\n                 if ([\"null\", \"\"].indexOf(str) >= 0)\n                     return;\n                stringified(str);\n            });\n            ko.applyBindingsToNode(\n                element,\n                {\n                    value: stringified,\n                    valueUpdate: allBindings.get('valueUpdate'),\n                },\n                context,\n            );\n        }\n    };\n    var json_data = {\"value\":WebIO.getval({\"name\":\"value\",\"scope\":\"10445036993716100312\",\"id\":\"46\",\"type\":\"observable\"})};\n    var self = this;\n    function AppViewModel() {\n        for (var key in json_data) {\n            var el = json_data[key];\n            this[key] = Array.isArray(el) ? ko.observableArray(el) : ko.observable(el);\n        }\n        \n        \n        [this[\"value\"].subscribe((function (val){!(this.valueFromJulia[\"value\"]) ? (WebIO.setval({\"name\":\"value\",\"scope\":\"10445036993716100312\",\"id\":\"46\",\"type\":\"observable\"},val)) : undefined; return this.valueFromJulia[\"value\"]=false}),self)]\n        \n    }\n    self.model = new AppViewModel();\n    self.valueFromJulia = {};\n    for (var key in json_data) {\n        self.valueFromJulia[key] = false;\n    }\n    ko.applyBindings(self.model, self.dom);\n}\n);\n    (WebIO.importBlock({\"data\":[{\"name\":\"knockout\",\"type\":\"js\",\"url\":\"/assetserver/3268aa453acf20217634de8b759710ecfa84b18e-knockout.js\"},{\"name\":\"knockout_punches\",\"type\":\"js\",\"url\":\"/assetserver/fe2a192c367289f39b8280b58861b0e90803c10f-knockout_punches.js\"}],\"type\":\"async_block\"})).then((imports) => handler.apply(this, imports));\n}\n"
          ],
          "observables": {
           "value": {
            "id": "46",
            "sync": false,
            "value": ""
           }
          },
          "systemjs_options": null
         },
         "nodeType": "Scope",
         "props": {},
         "type": "node"
        }
       ],
       "instanceArgs": {
        "namespace": "html",
        "tag": "div"
       },
       "nodeType": "DOM",
       "props": {
        "className": "field interact-widget"
       },
       "type": "node"
      },
      "text/html": [
       "<div\n",
       "    class=\"webio-mountpoint\"\n",
       "    data-webio-mountpoint=\"7149849542130353154\"\n",
       ">\n",
       "    <script>\n",
       "    (function(){\n",
       "    // Some integrations (namely, IJulia/Jupyter) use an alternate render pathway than\n",
       "    // just putting the html on the page. If WebIO isn't defined, then it's pretty likely\n",
       "    // that we're in one of those situations and the integration just isn't installed\n",
       "    // correctly.\n",
       "    if (typeof window.WebIO === \"undefined\") {\n",
       "        document\n",
       "            .querySelector('[data-webio-mountpoint=\"7149849542130353154\"]')\n",
       "            .innerHTML = (\n",
       "                '<div style=\"padding: 1em; background-color: #f8d6da; border: 1px solid #f5c6cb; font-weight: bold;\">' +\n",
       "                '<p><strong>WebIO not detected.</strong></p>' +\n",
       "                '<p>Please read ' +\n",
       "                '<a href=\"https://juliagizmos.github.io/WebIO.jl/latest/troubleshooting/not-detected/\" target=\"_blank\">the troubleshooting guide</a> ' +\n",
       "                'for more information on how to resolve this issue.</p>' +\n",
       "                '<p><a href=\"https://juliagizmos.github.io/WebIO.jl/latest/troubleshooting/not-detected/\" target=\"_blank\">https://juliagizmos.github.io/WebIO.jl/latest/troubleshooting/not-detected/</a></p>' +\n",
       "                '</div>'\n",
       "            );\n",
       "        return;\n",
       "    }\n",
       "    WebIO.mount(\n",
       "        document.querySelector('[data-webio-mountpoint=\"7149849542130353154\"]'),\n",
       "        {\"props\":{\"className\":\"field interact-widget\"},\"nodeType\":\"DOM\",\"type\":\"node\",\"instanceArgs\":{\"namespace\":\"html\",\"tag\":\"div\"},\"children\":[{\"props\":{},\"nodeType\":\"Scope\",\"type\":\"node\",\"instanceArgs\":{\"imports\":{\"data\":[{\"name\":\"knockout\",\"type\":\"js\",\"url\":\"\\/assetserver\\/3268aa453acf20217634de8b759710ecfa84b18e-knockout.js\"},{\"name\":\"knockout_punches\",\"type\":\"js\",\"url\":\"\\/assetserver\\/fe2a192c367289f39b8280b58861b0e90803c10f-knockout_punches.js\"},{\"name\":null,\"type\":\"js\",\"url\":\"\\/assetserver\\/8e0549a7824595df033024a9ea05fa3859c5079f-all.js\"},{\"name\":null,\"type\":\"css\",\"url\":\"\\/assetserver\\/345b939b64724fad0a8c431b45abd44fe39a5151-style.css\"},{\"name\":null,\"type\":\"css\",\"url\":\"\\/assetserver\\/bd82aaaf98c6d450d881a2127a6bfb103be1802f-bulma_confined.min.css\"}],\"type\":\"async_block\"},\"id\":\"10445036993716100312\",\"handlers\":{\"value\":[\"(function (val){return (val!=this.model[\\\"value\\\"]()) ? (this.valueFromJulia[\\\"value\\\"]=true, this.model[\\\"value\\\"](val)) : undefined})\"]},\"systemjs_options\":null,\"mount_callbacks\":[\"function () {\\n    var handler = (function (ko, koPunches) {\\n    ko.punches.enableAll();\\n    ko.bindingHandlers.numericValue = {\\n        init: function(element, valueAccessor, allBindings, data, context) {\\n            var stringified = ko.observable(ko.unwrap(valueAccessor()));\\n            stringified.subscribe(function(value) {\\n                var val = parseFloat(value);\\n                if (!isNaN(val)) {\\n                    valueAccessor()(val);\\n                }\\n            });\\n            valueAccessor().subscribe(function(value) {\\n                var str = JSON.stringify(value);\\n                if ((str == \\\"0\\\") && ([\\\"-0\\\", \\\"-0.\\\"].indexOf(stringified()) >= 0))\\n                     return;\\n                 if ([\\\"null\\\", \\\"\\\"].indexOf(str) >= 0)\\n                     return;\\n                stringified(str);\\n            });\\n            ko.applyBindingsToNode(\\n                element,\\n                {\\n                    value: stringified,\\n                    valueUpdate: allBindings.get('valueUpdate'),\\n                },\\n                context,\\n            );\\n        }\\n    };\\n    var json_data = {\\\"value\\\":WebIO.getval({\\\"name\\\":\\\"value\\\",\\\"scope\\\":\\\"10445036993716100312\\\",\\\"id\\\":\\\"46\\\",\\\"type\\\":\\\"observable\\\"})};\\n    var self = this;\\n    function AppViewModel() {\\n        for (var key in json_data) {\\n            var el = json_data[key];\\n            this[key] = Array.isArray(el) ? ko.observableArray(el) : ko.observable(el);\\n        }\\n        \\n        \\n        [this[\\\"value\\\"].subscribe((function (val){!(this.valueFromJulia[\\\"value\\\"]) ? (WebIO.setval({\\\"name\\\":\\\"value\\\",\\\"scope\\\":\\\"10445036993716100312\\\",\\\"id\\\":\\\"46\\\",\\\"type\\\":\\\"observable\\\"},val)) : undefined; return this.valueFromJulia[\\\"value\\\"]=false}),self)]\\n        \\n    }\\n    self.model = new AppViewModel();\\n    self.valueFromJulia = {};\\n    for (var key in json_data) {\\n        self.valueFromJulia[key] = false;\\n    }\\n    ko.applyBindings(self.model, self.dom);\\n}\\n);\\n    (WebIO.importBlock({\\\"data\\\":[{\\\"name\\\":\\\"knockout\\\",\\\"type\\\":\\\"js\\\",\\\"url\\\":\\\"\\/assetserver\\/3268aa453acf20217634de8b759710ecfa84b18e-knockout.js\\\"},{\\\"name\\\":\\\"knockout_punches\\\",\\\"type\\\":\\\"js\\\",\\\"url\\\":\\\"\\/assetserver\\/fe2a192c367289f39b8280b58861b0e90803c10f-knockout_punches.js\\\"}],\\\"type\\\":\\\"async_block\\\"})).then((imports) => handler.apply(this, imports));\\n}\\n\"],\"observables\":{\"value\":{\"sync\":false,\"id\":\"46\",\"value\":\"\"}}},\"children\":[{\"props\":{\"attributes\":{\"placeholder\":\"paste snapshot data here\",\"data-bind\":\"value: value, valueUpdate: 'input'\"},\"className\":\"textarea \",\"style\":{}},\"nodeType\":\"DOM\",\"type\":\"node\",\"instanceArgs\":{\"namespace\":\"html\",\"tag\":\"textarea\"},\"children\":[]}]}]},\n",
       "        window,\n",
       "    );\n",
       "    })()\n",
       "    </script>\n",
       "</div>\n"
      ],
      "text/plain": [
       "Node{WebIO.DOM}(WebIO.DOM(:html, :div), Any[Scope(Node{WebIO.DOM}(WebIO.DOM(:html, :textarea), Any[], Dict{Symbol, Any}(:attributes => Dict{Union{String, Symbol}, Any}(:placeholder => \"paste snapshot data here\", \"data-bind\" => \"value: value, valueUpdate: 'input'\"), :className => \"textarea \", :style => Dict{Any, Any}())), Dict{String, Tuple{AbstractObservable, Union{Nothing, Bool}}}(\"value\" => (Observable(\"\"), nothing)), Set{String}(), nothing, Asset[Asset(\"js\", \"knockout\", \"/Users/rkurchin/.julia/packages/Knockout/HReiN/src/../assets/knockout.js\"), Asset(\"js\", \"knockout_punches\", \"/Users/rkurchin/.julia/packages/Knockout/HReiN/src/../assets/knockout_punches.js\"), Asset(\"js\", nothing, \"/Users/rkurchin/.julia/packages/InteractBase/LJXv3/src/../assets/all.js\"), Asset(\"css\", nothing, \"/Users/rkurchin/.julia/packages/InteractBase/LJXv3/src/../assets/style.css\"), Asset(\"css\", nothing, \"/Users/rkurchin/.julia/packages/Interact/PENUy/src/../assets/bulma_confined.min.css\")], Dict{Any, Any}(\"value\" => Any[WebIO.JSString(\"(function (val){return (val!=this.model[\\\"value\\\"]()) ? (this.valueFromJulia[\\\"value\\\"]=true, this.model[\\\"value\\\"](val)) : undefined})\")]), WebIO.ConnectionPool(Channel{Any}(32), Set{AbstractConnection}(), Base.GenericCondition{ReentrantLock}(Base.InvasiveLinkedList{Task}(Task (runnable) @0x00000001b4c2d900, Task (runnable) @0x00000001b4c2d900), ReentrantLock(nothing, 0x00000000, 0x00, Base.GenericCondition{Base.Threads.SpinLock}(Base.InvasiveLinkedList{Task}(nothing, nothing), Base.Threads.SpinLock(0)), (4789765600, 7315971760, 0)))), WebIO.JSString[WebIO.JSString(\"function () {\\n    var handler = (function (ko, koPunches) {\\n    ko.punches.enableAll();\\n    ko.bindingHandlers.numericValue = {\\n        init: function(element, valueAccessor, allBindings, data, context) {\\n            var stringified = ko.observable(ko.unwrap(valueAccessor()));\\n            stringified.subscribe(function(value) {\\n                var val = parseFloat(value);\\n                if (!isNaN(val)) {\\n                    valueAccessor()(val);\\n                }\\n            });\\n            valueAccessor().subscribe(function(value) {\\n                var str = JSON.stringify(value);\\n                if ((str == \\\"0\\\") && ([\\\"-0\\\", \\\"-0.\\\"].indexOf(stringified()) >= 0))\\n                     return;\\n                 if ([\\\"null\\\", \\\"\\\"].indexOf(str) >= 0)\\n                     return;\\n                stringified(str);\\n            });\\n            ko.applyBindingsToNode(\\n                element,\\n                {\\n                    value: stringified,\\n                    valueUpdate: allBindings.get('valueUpdate'),\\n                },\\n                context,\\n            );\\n        }\\n    };\\n    var json_data = {\\\"value\\\":WebIO.getval({\\\"name\\\":\\\"value\\\",\\\"scope\\\":\\\"10445036993716100312\\\",\\\"id\\\":\\\"46\\\",\\\"type\\\":\\\"observable\\\"})};\\n    var self = this;\\n    function AppViewModel() {\\n        for (var key in json_data) {\\n            var el = json_data[key];\\n            this[key] = Array.isArray(el) ? ko.observableArray(el) : ko.observable(el);\\n        }\\n        \\n        \\n        [this[\\\"value\\\"].subscribe((function (val){!(this.valueFromJulia[\\\"value\\\"]) ? (WebIO.setval({\\\"name\\\":\\\"value\\\",\\\"scope\\\":\\\"10445036993716100312\\\",\\\"id\\\":\\\"46\\\",\\\"type\\\":\\\"observable\\\"},val)) : undefined; return this.valueFromJulia[\\\"value\\\"]=false}),self)]\\n        \\n    }\\n    self.model = new AppViewModel();\\n    self.valueFromJulia = {};\\n    for (var key in json_data) {\\n        self.valueFromJulia[key] = false;\\n    }\\n    ko.applyBindings(self.model, self.dom);\\n}\\n);\\n    (WebIO.importBlock({\\\"data\\\":[{\\\"name\\\":\\\"knockout\\\",\\\"type\\\":\\\"js\\\",\\\"url\\\":\\\"/assetserver/3268aa453acf20217634de8b759710ecfa84b18e-knockout.js\\\"},{\\\"name\\\":\\\"knockout_punches\\\",\\\"type\\\":\\\"js\\\",\\\"url\\\":\\\"/assetserver/fe2a192c367289f39b8280b58861b0e90803c10f-knockout_punches.js\\\"}],\\\"type\\\":\\\"async_block\\\"})).then((imports) => handler.apply(this, imports));\\n}\\n\")])], Dict{Symbol, Any}(:className => \"field interact-widget\"))"
      ]
     },
     "execution_count": 184,
     "metadata": {
      "application/vnd.webio.node+json": {
       "kernelId": "4e6e0d91-fec6-4376-b6ac-dd9da4ee78d8"
      }
     },
     "output_type": "execute_result"
    }
   ],
   "source": [
    "snapshot1 = Widgets.textarea(\"paste snapshot data here\")"
   ]
  },
  {
   "cell_type": "code",
   "execution_count": 289,
   "id": "b201cb42",
   "metadata": {},
   "outputs": [
    {
     "data": {
      "application/vnd.webio.node+json": {
       "children": [
        {
         "children": [
          {
           "children": [],
           "instanceArgs": {
            "namespace": "html",
            "tag": "input"
           },
           "nodeType": "DOM",
           "props": {
            "attributes": {
             "data-bind": "numericValue: value, valueUpdate: 'input', event: {change: function (){this.changes(this.changes()+1)}}",
             "type": "number"
            },
            "className": "input ",
            "placeholder": "enter timestamp for second snapshot",
            "style": {}
           },
           "type": "node"
          }
         ],
         "instanceArgs": {
          "handlers": {
           "changes": [
            "(function (val){return (val!=this.model[\"changes\"]()) ? (this.valueFromJulia[\"changes\"]=true, this.model[\"changes\"](val)) : undefined})"
           ],
           "value": [
            "(function (val){return (val!=this.model[\"value\"]()) ? (this.valueFromJulia[\"value\"]=true, this.model[\"value\"](val)) : undefined})"
           ]
          },
          "id": "13879691570840592151",
          "imports": {
           "data": [
            {
             "name": "knockout",
             "type": "js",
             "url": "/assetserver/3268aa453acf20217634de8b759710ecfa84b18e-knockout.js"
            },
            {
             "name": "knockout_punches",
             "type": "js",
             "url": "/assetserver/fe2a192c367289f39b8280b58861b0e90803c10f-knockout_punches.js"
            },
            {
             "name": null,
             "type": "js",
             "url": "/assetserver/8e0549a7824595df033024a9ea05fa3859c5079f-all.js"
            },
            {
             "name": null,
             "type": "css",
             "url": "/assetserver/345b939b64724fad0a8c431b45abd44fe39a5151-style.css"
            },
            {
             "name": null,
             "type": "css",
             "url": "/assetserver/bd82aaaf98c6d450d881a2127a6bfb103be1802f-bulma_confined.min.css"
            }
           ],
           "type": "async_block"
          },
          "mount_callbacks": [
           "function () {\n    var handler = (function (ko, koPunches) {\n    ko.punches.enableAll();\n    ko.bindingHandlers.numericValue = {\n        init: function(element, valueAccessor, allBindings, data, context) {\n            var stringified = ko.observable(ko.unwrap(valueAccessor()));\n            stringified.subscribe(function(value) {\n                var val = parseFloat(value);\n                if (!isNaN(val)) {\n                    valueAccessor()(val);\n                }\n            });\n            valueAccessor().subscribe(function(value) {\n                var str = JSON.stringify(value);\n                if ((str == \"0\") && ([\"-0\", \"-0.\"].indexOf(stringified()) >= 0))\n                     return;\n                 if ([\"null\", \"\"].indexOf(str) >= 0)\n                     return;\n                stringified(str);\n            });\n            ko.applyBindingsToNode(\n                element,\n                {\n                    value: stringified,\n                    valueUpdate: allBindings.get('valueUpdate'),\n                },\n                context,\n            );\n        }\n    };\n    var json_data = {\"changes\":WebIO.getval({\"name\":\"changes\",\"scope\":\"13879691570840592151\",\"id\":\"66\",\"type\":\"observable\"}),\"value\":WebIO.getval({\"name\":\"value\",\"scope\":\"13879691570840592151\",\"id\":\"65\",\"type\":\"observable\"})};\n    var self = this;\n    function AppViewModel() {\n        for (var key in json_data) {\n            var el = json_data[key];\n            this[key] = Array.isArray(el) ? ko.observableArray(el) : ko.observable(el);\n        }\n        \n        \n        [this[\"changes\"].subscribe((function (val){!(this.valueFromJulia[\"changes\"]) ? (WebIO.setval({\"name\":\"changes\",\"scope\":\"13879691570840592151\",\"id\":\"66\",\"type\":\"observable\"},val)) : undefined; return this.valueFromJulia[\"changes\"]=false}),self),this[\"value\"].subscribe((function (val){!(this.valueFromJulia[\"value\"]) ? (WebIO.setval({\"name\":\"value\",\"scope\":\"13879691570840592151\",\"id\":\"65\",\"type\":\"observable\"},val)) : undefined; return this.valueFromJulia[\"value\"]=false}),self)]\n        \n    }\n    self.model = new AppViewModel();\n    self.valueFromJulia = {};\n    for (var key in json_data) {\n        self.valueFromJulia[key] = false;\n    }\n    ko.applyBindings(self.model, self.dom);\n}\n);\n    (WebIO.importBlock({\"data\":[{\"name\":\"knockout\",\"type\":\"js\",\"url\":\"/assetserver/3268aa453acf20217634de8b759710ecfa84b18e-knockout.js\"},{\"name\":\"knockout_punches\",\"type\":\"js\",\"url\":\"/assetserver/fe2a192c367289f39b8280b58861b0e90803c10f-knockout_punches.js\"}],\"type\":\"async_block\"})).then((imports) => handler.apply(this, imports));\n}\n"
          ],
          "observables": {
           "changes": {
            "id": "66",
            "sync": false,
            "value": 0
           },
           "value": {
            "id": "65",
            "sync": false,
            "value": null
           }
          },
          "systemjs_options": null
         },
         "nodeType": "Scope",
         "props": {},
         "type": "node"
        }
       ],
       "instanceArgs": {
        "namespace": "html",
        "tag": "div"
       },
       "nodeType": "DOM",
       "props": {
        "className": "field interact-widget"
       },
       "type": "node"
      },
      "text/html": [
       "<div\n",
       "    class=\"webio-mountpoint\"\n",
       "    data-webio-mountpoint=\"8874407377073932717\"\n",
       ">\n",
       "    <script>\n",
       "    (function(){\n",
       "    // Some integrations (namely, IJulia/Jupyter) use an alternate render pathway than\n",
       "    // just putting the html on the page. If WebIO isn't defined, then it's pretty likely\n",
       "    // that we're in one of those situations and the integration just isn't installed\n",
       "    // correctly.\n",
       "    if (typeof window.WebIO === \"undefined\") {\n",
       "        document\n",
       "            .querySelector('[data-webio-mountpoint=\"8874407377073932717\"]')\n",
       "            .innerHTML = (\n",
       "                '<div style=\"padding: 1em; background-color: #f8d6da; border: 1px solid #f5c6cb; font-weight: bold;\">' +\n",
       "                '<p><strong>WebIO not detected.</strong></p>' +\n",
       "                '<p>Please read ' +\n",
       "                '<a href=\"https://juliagizmos.github.io/WebIO.jl/latest/troubleshooting/not-detected/\" target=\"_blank\">the troubleshooting guide</a> ' +\n",
       "                'for more information on how to resolve this issue.</p>' +\n",
       "                '<p><a href=\"https://juliagizmos.github.io/WebIO.jl/latest/troubleshooting/not-detected/\" target=\"_blank\">https://juliagizmos.github.io/WebIO.jl/latest/troubleshooting/not-detected/</a></p>' +\n",
       "                '</div>'\n",
       "            );\n",
       "        return;\n",
       "    }\n",
       "    WebIO.mount(\n",
       "        document.querySelector('[data-webio-mountpoint=\"8874407377073932717\"]'),\n",
       "        {\"props\":{\"className\":\"field interact-widget\"},\"nodeType\":\"DOM\",\"type\":\"node\",\"instanceArgs\":{\"namespace\":\"html\",\"tag\":\"div\"},\"children\":[{\"props\":{},\"nodeType\":\"Scope\",\"type\":\"node\",\"instanceArgs\":{\"imports\":{\"data\":[{\"name\":\"knockout\",\"type\":\"js\",\"url\":\"\\/assetserver\\/3268aa453acf20217634de8b759710ecfa84b18e-knockout.js\"},{\"name\":\"knockout_punches\",\"type\":\"js\",\"url\":\"\\/assetserver\\/fe2a192c367289f39b8280b58861b0e90803c10f-knockout_punches.js\"},{\"name\":null,\"type\":\"js\",\"url\":\"\\/assetserver\\/8e0549a7824595df033024a9ea05fa3859c5079f-all.js\"},{\"name\":null,\"type\":\"css\",\"url\":\"\\/assetserver\\/345b939b64724fad0a8c431b45abd44fe39a5151-style.css\"},{\"name\":null,\"type\":\"css\",\"url\":\"\\/assetserver\\/bd82aaaf98c6d450d881a2127a6bfb103be1802f-bulma_confined.min.css\"}],\"type\":\"async_block\"},\"id\":\"13879691570840592151\",\"handlers\":{\"changes\":[\"(function (val){return (val!=this.model[\\\"changes\\\"]()) ? (this.valueFromJulia[\\\"changes\\\"]=true, this.model[\\\"changes\\\"](val)) : undefined})\"],\"value\":[\"(function (val){return (val!=this.model[\\\"value\\\"]()) ? (this.valueFromJulia[\\\"value\\\"]=true, this.model[\\\"value\\\"](val)) : undefined})\"]},\"systemjs_options\":null,\"mount_callbacks\":[\"function () {\\n    var handler = (function (ko, koPunches) {\\n    ko.punches.enableAll();\\n    ko.bindingHandlers.numericValue = {\\n        init: function(element, valueAccessor, allBindings, data, context) {\\n            var stringified = ko.observable(ko.unwrap(valueAccessor()));\\n            stringified.subscribe(function(value) {\\n                var val = parseFloat(value);\\n                if (!isNaN(val)) {\\n                    valueAccessor()(val);\\n                }\\n            });\\n            valueAccessor().subscribe(function(value) {\\n                var str = JSON.stringify(value);\\n                if ((str == \\\"0\\\") && ([\\\"-0\\\", \\\"-0.\\\"].indexOf(stringified()) >= 0))\\n                     return;\\n                 if ([\\\"null\\\", \\\"\\\"].indexOf(str) >= 0)\\n                     return;\\n                stringified(str);\\n            });\\n            ko.applyBindingsToNode(\\n                element,\\n                {\\n                    value: stringified,\\n                    valueUpdate: allBindings.get('valueUpdate'),\\n                },\\n                context,\\n            );\\n        }\\n    };\\n    var json_data = {\\\"changes\\\":WebIO.getval({\\\"name\\\":\\\"changes\\\",\\\"scope\\\":\\\"13879691570840592151\\\",\\\"id\\\":\\\"66\\\",\\\"type\\\":\\\"observable\\\"}),\\\"value\\\":WebIO.getval({\\\"name\\\":\\\"value\\\",\\\"scope\\\":\\\"13879691570840592151\\\",\\\"id\\\":\\\"65\\\",\\\"type\\\":\\\"observable\\\"})};\\n    var self = this;\\n    function AppViewModel() {\\n        for (var key in json_data) {\\n            var el = json_data[key];\\n            this[key] = Array.isArray(el) ? ko.observableArray(el) : ko.observable(el);\\n        }\\n        \\n        \\n        [this[\\\"changes\\\"].subscribe((function (val){!(this.valueFromJulia[\\\"changes\\\"]) ? (WebIO.setval({\\\"name\\\":\\\"changes\\\",\\\"scope\\\":\\\"13879691570840592151\\\",\\\"id\\\":\\\"66\\\",\\\"type\\\":\\\"observable\\\"},val)) : undefined; return this.valueFromJulia[\\\"changes\\\"]=false}),self),this[\\\"value\\\"].subscribe((function (val){!(this.valueFromJulia[\\\"value\\\"]) ? (WebIO.setval({\\\"name\\\":\\\"value\\\",\\\"scope\\\":\\\"13879691570840592151\\\",\\\"id\\\":\\\"65\\\",\\\"type\\\":\\\"observable\\\"},val)) : undefined; return this.valueFromJulia[\\\"value\\\"]=false}),self)]\\n        \\n    }\\n    self.model = new AppViewModel();\\n    self.valueFromJulia = {};\\n    for (var key in json_data) {\\n        self.valueFromJulia[key] = false;\\n    }\\n    ko.applyBindings(self.model, self.dom);\\n}\\n);\\n    (WebIO.importBlock({\\\"data\\\":[{\\\"name\\\":\\\"knockout\\\",\\\"type\\\":\\\"js\\\",\\\"url\\\":\\\"\\/assetserver\\/3268aa453acf20217634de8b759710ecfa84b18e-knockout.js\\\"},{\\\"name\\\":\\\"knockout_punches\\\",\\\"type\\\":\\\"js\\\",\\\"url\\\":\\\"\\/assetserver\\/fe2a192c367289f39b8280b58861b0e90803c10f-knockout_punches.js\\\"}],\\\"type\\\":\\\"async_block\\\"})).then((imports) => handler.apply(this, imports));\\n}\\n\"],\"observables\":{\"changes\":{\"sync\":false,\"id\":\"66\",\"value\":0},\"value\":{\"sync\":false,\"id\":\"65\",\"value\":null}}},\"children\":[{\"props\":{\"attributes\":{\"type\":\"number\",\"data-bind\":\"numericValue: value, valueUpdate: 'input', event: {change: function (){this.changes(this.changes()+1)}}\"},\"placeholder\":\"enter timestamp for second snapshot\",\"className\":\"input \",\"style\":{}},\"nodeType\":\"DOM\",\"type\":\"node\",\"instanceArgs\":{\"namespace\":\"html\",\"tag\":\"input\"},\"children\":[]}]}]},\n",
       "        window,\n",
       "    );\n",
       "    })()\n",
       "    </script>\n",
       "</div>\n"
      ],
      "text/plain": [
       "Node{WebIO.DOM}(WebIO.DOM(:html, :div), Any[Scope(Node{WebIO.DOM}(WebIO.DOM(:html, :input), Any[], Dict{Symbol, Any}(:attributes => Dict{Any, Any}(:type => \"number\", Symbol(\"data-bind\") => \"numericValue: value, valueUpdate: 'input', event: {change: function (){this.changes(this.changes()+1)}}\"), :placeholder => \"enter timestamp for second snapshot\", :className => \"input \", :style => Dict{Any, Any}())), Dict{String, Tuple{AbstractObservable, Union{Nothing, Bool}}}(\"changes\" => (Observable(0), nothing), \"value\" => (Observable{Union{Nothing, Float64}}(nothing), nothing)), Set{String}(), nothing, Asset[Asset(\"js\", \"knockout\", \"/Users/rkurchin/.julia/packages/Knockout/HReiN/src/../assets/knockout.js\"), Asset(\"js\", \"knockout_punches\", \"/Users/rkurchin/.julia/packages/Knockout/HReiN/src/../assets/knockout_punches.js\"), Asset(\"js\", nothing, \"/Users/rkurchin/.julia/packages/InteractBase/LJXv3/src/../assets/all.js\"), Asset(\"css\", nothing, \"/Users/rkurchin/.julia/packages/InteractBase/LJXv3/src/../assets/style.css\"), Asset(\"css\", nothing, \"/Users/rkurchin/.julia/packages/Interact/PENUy/src/../assets/bulma_confined.min.css\")], Dict{Any, Any}(\"changes\" => Any[WebIO.JSString(\"(function (val){return (val!=this.model[\\\"changes\\\"]()) ? (this.valueFromJulia[\\\"changes\\\"]=true, this.model[\\\"changes\\\"](val)) : undefined})\")], \"value\" => Any[WebIO.JSString(\"(function (val){return (val!=this.model[\\\"value\\\"]()) ? (this.valueFromJulia[\\\"value\\\"]=true, this.model[\\\"value\\\"](val)) : undefined})\")]), WebIO.ConnectionPool(Channel{Any}(32), Set{AbstractConnection}(), Base.GenericCondition{ReentrantLock}(Base.InvasiveLinkedList{Task}(Task (runnable) @0x00000001a9ba9270, Task (runnable) @0x00000001a9ba9270), ReentrantLock(nothing, 0x00000000, 0x00, Base.GenericCondition{Base.Threads.SpinLock}(Base.InvasiveLinkedList{Task}(nothing, nothing), Base.Threads.SpinLock(0)), (0, 4294973440, 1)))), WebIO.JSString[WebIO.JSString(\"function () {\\n    var handler = (function (ko, koPunches) {\\n    ko.punches.enableAll();\\n    ko.bindingHandlers.numericValue = {\\n        init: function(element, valueAccessor, allBindings, data, context) {\\n            var stringified = ko.observable(ko.unwrap(valueAccessor()));\\n            stringified.subscribe(function(value) {\\n                var val = parseFloat(value);\\n                if (!isNaN(val)) {\\n                    valueAccessor()(val);\\n                }\\n            });\\n            valueAccessor().subscribe(function(value) {\\n                var str = JSON.stringify(value);\\n                if ((str == \\\"0\\\") && ([\\\"-0\\\", \\\"-0.\\\"].indexOf(stringified()) >= 0))\\n                     return;\\n                 if ([\\\"null\\\", \\\"\\\"].indexOf(str) >= 0)\\n                     return;\\n                stringified(str);\\n            });\\n            ko.applyBindingsToNode(\\n                element,\\n                {\\n                    value: stringified,\\n                    valueUpdate: allBindings.get('valueUpdate'),\\n                },\\n                context,\\n            );\\n        }\\n    };\\n    var json_data = {\\\"changes\\\":WebIO.getval({\\\"name\\\":\\\"changes\\\",\\\"scope\\\":\\\"13879691570840592151\\\",\\\"id\\\":\\\"66\\\",\\\"type\\\":\\\"observable\\\"}),\\\"value\\\":WebIO.getval({\\\"name\\\":\\\"value\\\",\\\"scope\\\":\\\"13879691570840592151\\\",\\\"id\\\":\\\"65\\\",\\\"type\\\":\\\"observable\\\"})};\\n    var self = this;\\n    function AppViewModel() {\\n        for (var key in json_data) {\\n            var el = json_data[key];\\n            this[key] = Array.isArray(el) ? ko.observableArray(el) : ko.observable(el);\\n        }\\n        \\n        \\n        [this[\\\"changes\\\"].subscribe((function (val){!(this.valueFromJulia[\\\"changes\\\"]) ? (WebIO.setval({\\\"name\\\":\\\"changes\\\",\\\"scope\\\":\\\"13879691570840592151\\\",\\\"id\\\":\\\"66\\\",\\\"type\\\":\\\"observable\\\"},val)) : undefined; return this.valueFromJulia[\\\"changes\\\"]=false}),self),this[\\\"value\\\"].subscribe((function (val){!(this.valueFromJulia[\\\"value\\\"]) ? (WebIO.setval({\\\"name\\\":\\\"value\\\",\\\"scope\\\":\\\"13879691570840592151\\\",\\\"id\\\":\\\"65\\\",\\\"type\\\":\\\"observable\\\"},val)) : undefined; return this.valueFromJulia[\\\"value\\\"]=false}),self)]\\n        \\n    }\\n    self.model = new AppViewModel();\\n    self.valueFromJulia = {};\\n    for (var key in json_data) {\\n        self.valueFromJulia[key] = false;\\n    }\\n    ko.applyBindings(self.model, self.dom);\\n}\\n);\\n    (WebIO.importBlock({\\\"data\\\":[{\\\"name\\\":\\\"knockout\\\",\\\"type\\\":\\\"js\\\",\\\"url\\\":\\\"/assetserver/3268aa453acf20217634de8b759710ecfa84b18e-knockout.js\\\"},{\\\"name\\\":\\\"knockout_punches\\\",\\\"type\\\":\\\"js\\\",\\\"url\\\":\\\"/assetserver/fe2a192c367289f39b8280b58861b0e90803c10f-knockout_punches.js\\\"}],\\\"type\\\":\\\"async_block\\\"})).then((imports) => handler.apply(this, imports));\\n}\\n\")])], Dict{Symbol, Any}(:className => \"field interact-widget\"))"
      ]
     },
     "execution_count": 289,
     "metadata": {
      "application/vnd.webio.node+json": {
       "kernelId": "4e6e0d91-fec6-4376-b6ac-dd9da4ee78d8"
      }
     },
     "output_type": "execute_result"
    }
   ],
   "source": [
    "t2 = Widgets.spinbox(\"enter timestamp for second snapshot\")"
   ]
  },
  {
   "cell_type": "code",
   "execution_count": 290,
   "id": "032372f2",
   "metadata": {},
   "outputs": [
    {
     "data": {
      "application/vnd.webio.node+json": {
       "children": [
        {
         "children": [
          {
           "children": [],
           "instanceArgs": {
            "namespace": "html",
            "tag": "textarea"
           },
           "nodeType": "DOM",
           "props": {
            "attributes": {
             "data-bind": "value: value, valueUpdate: 'input'",
             "placeholder": "paste snapshot data here"
            },
            "className": "textarea ",
            "style": {}
           },
           "type": "node"
          }
         ],
         "instanceArgs": {
          "handlers": {
           "value": [
            "(function (val){return (val!=this.model[\"value\"]()) ? (this.valueFromJulia[\"value\"]=true, this.model[\"value\"](val)) : undefined})"
           ]
          },
          "id": "596283502622809701",
          "imports": {
           "data": [
            {
             "name": "knockout",
             "type": "js",
             "url": "/assetserver/3268aa453acf20217634de8b759710ecfa84b18e-knockout.js"
            },
            {
             "name": "knockout_punches",
             "type": "js",
             "url": "/assetserver/fe2a192c367289f39b8280b58861b0e90803c10f-knockout_punches.js"
            },
            {
             "name": null,
             "type": "js",
             "url": "/assetserver/8e0549a7824595df033024a9ea05fa3859c5079f-all.js"
            },
            {
             "name": null,
             "type": "css",
             "url": "/assetserver/345b939b64724fad0a8c431b45abd44fe39a5151-style.css"
            },
            {
             "name": null,
             "type": "css",
             "url": "/assetserver/bd82aaaf98c6d450d881a2127a6bfb103be1802f-bulma_confined.min.css"
            }
           ],
           "type": "async_block"
          },
          "mount_callbacks": [
           "function () {\n    var handler = (function (ko, koPunches) {\n    ko.punches.enableAll();\n    ko.bindingHandlers.numericValue = {\n        init: function(element, valueAccessor, allBindings, data, context) {\n            var stringified = ko.observable(ko.unwrap(valueAccessor()));\n            stringified.subscribe(function(value) {\n                var val = parseFloat(value);\n                if (!isNaN(val)) {\n                    valueAccessor()(val);\n                }\n            });\n            valueAccessor().subscribe(function(value) {\n                var str = JSON.stringify(value);\n                if ((str == \"0\") && ([\"-0\", \"-0.\"].indexOf(stringified()) >= 0))\n                     return;\n                 if ([\"null\", \"\"].indexOf(str) >= 0)\n                     return;\n                stringified(str);\n            });\n            ko.applyBindingsToNode(\n                element,\n                {\n                    value: stringified,\n                    valueUpdate: allBindings.get('valueUpdate'),\n                },\n                context,\n            );\n        }\n    };\n    var json_data = {\"value\":WebIO.getval({\"name\":\"value\",\"scope\":\"596283502622809701\",\"id\":\"67\",\"type\":\"observable\"})};\n    var self = this;\n    function AppViewModel() {\n        for (var key in json_data) {\n            var el = json_data[key];\n            this[key] = Array.isArray(el) ? ko.observableArray(el) : ko.observable(el);\n        }\n        \n        \n        [this[\"value\"].subscribe((function (val){!(this.valueFromJulia[\"value\"]) ? (WebIO.setval({\"name\":\"value\",\"scope\":\"596283502622809701\",\"id\":\"67\",\"type\":\"observable\"},val)) : undefined; return this.valueFromJulia[\"value\"]=false}),self)]\n        \n    }\n    self.model = new AppViewModel();\n    self.valueFromJulia = {};\n    for (var key in json_data) {\n        self.valueFromJulia[key] = false;\n    }\n    ko.applyBindings(self.model, self.dom);\n}\n);\n    (WebIO.importBlock({\"data\":[{\"name\":\"knockout\",\"type\":\"js\",\"url\":\"/assetserver/3268aa453acf20217634de8b759710ecfa84b18e-knockout.js\"},{\"name\":\"knockout_punches\",\"type\":\"js\",\"url\":\"/assetserver/fe2a192c367289f39b8280b58861b0e90803c10f-knockout_punches.js\"}],\"type\":\"async_block\"})).then((imports) => handler.apply(this, imports));\n}\n"
          ],
          "observables": {
           "value": {
            "id": "67",
            "sync": false,
            "value": ""
           }
          },
          "systemjs_options": null
         },
         "nodeType": "Scope",
         "props": {},
         "type": "node"
        }
       ],
       "instanceArgs": {
        "namespace": "html",
        "tag": "div"
       },
       "nodeType": "DOM",
       "props": {
        "className": "field interact-widget"
       },
       "type": "node"
      },
      "text/html": [
       "<div\n",
       "    class=\"webio-mountpoint\"\n",
       "    data-webio-mountpoint=\"10225163082111102223\"\n",
       ">\n",
       "    <script>\n",
       "    (function(){\n",
       "    // Some integrations (namely, IJulia/Jupyter) use an alternate render pathway than\n",
       "    // just putting the html on the page. If WebIO isn't defined, then it's pretty likely\n",
       "    // that we're in one of those situations and the integration just isn't installed\n",
       "    // correctly.\n",
       "    if (typeof window.WebIO === \"undefined\") {\n",
       "        document\n",
       "            .querySelector('[data-webio-mountpoint=\"10225163082111102223\"]')\n",
       "            .innerHTML = (\n",
       "                '<div style=\"padding: 1em; background-color: #f8d6da; border: 1px solid #f5c6cb; font-weight: bold;\">' +\n",
       "                '<p><strong>WebIO not detected.</strong></p>' +\n",
       "                '<p>Please read ' +\n",
       "                '<a href=\"https://juliagizmos.github.io/WebIO.jl/latest/troubleshooting/not-detected/\" target=\"_blank\">the troubleshooting guide</a> ' +\n",
       "                'for more information on how to resolve this issue.</p>' +\n",
       "                '<p><a href=\"https://juliagizmos.github.io/WebIO.jl/latest/troubleshooting/not-detected/\" target=\"_blank\">https://juliagizmos.github.io/WebIO.jl/latest/troubleshooting/not-detected/</a></p>' +\n",
       "                '</div>'\n",
       "            );\n",
       "        return;\n",
       "    }\n",
       "    WebIO.mount(\n",
       "        document.querySelector('[data-webio-mountpoint=\"10225163082111102223\"]'),\n",
       "        {\"props\":{\"className\":\"field interact-widget\"},\"nodeType\":\"DOM\",\"type\":\"node\",\"instanceArgs\":{\"namespace\":\"html\",\"tag\":\"div\"},\"children\":[{\"props\":{},\"nodeType\":\"Scope\",\"type\":\"node\",\"instanceArgs\":{\"imports\":{\"data\":[{\"name\":\"knockout\",\"type\":\"js\",\"url\":\"\\/assetserver\\/3268aa453acf20217634de8b759710ecfa84b18e-knockout.js\"},{\"name\":\"knockout_punches\",\"type\":\"js\",\"url\":\"\\/assetserver\\/fe2a192c367289f39b8280b58861b0e90803c10f-knockout_punches.js\"},{\"name\":null,\"type\":\"js\",\"url\":\"\\/assetserver\\/8e0549a7824595df033024a9ea05fa3859c5079f-all.js\"},{\"name\":null,\"type\":\"css\",\"url\":\"\\/assetserver\\/345b939b64724fad0a8c431b45abd44fe39a5151-style.css\"},{\"name\":null,\"type\":\"css\",\"url\":\"\\/assetserver\\/bd82aaaf98c6d450d881a2127a6bfb103be1802f-bulma_confined.min.css\"}],\"type\":\"async_block\"},\"id\":\"596283502622809701\",\"handlers\":{\"value\":[\"(function (val){return (val!=this.model[\\\"value\\\"]()) ? (this.valueFromJulia[\\\"value\\\"]=true, this.model[\\\"value\\\"](val)) : undefined})\"]},\"systemjs_options\":null,\"mount_callbacks\":[\"function () {\\n    var handler = (function (ko, koPunches) {\\n    ko.punches.enableAll();\\n    ko.bindingHandlers.numericValue = {\\n        init: function(element, valueAccessor, allBindings, data, context) {\\n            var stringified = ko.observable(ko.unwrap(valueAccessor()));\\n            stringified.subscribe(function(value) {\\n                var val = parseFloat(value);\\n                if (!isNaN(val)) {\\n                    valueAccessor()(val);\\n                }\\n            });\\n            valueAccessor().subscribe(function(value) {\\n                var str = JSON.stringify(value);\\n                if ((str == \\\"0\\\") && ([\\\"-0\\\", \\\"-0.\\\"].indexOf(stringified()) >= 0))\\n                     return;\\n                 if ([\\\"null\\\", \\\"\\\"].indexOf(str) >= 0)\\n                     return;\\n                stringified(str);\\n            });\\n            ko.applyBindingsToNode(\\n                element,\\n                {\\n                    value: stringified,\\n                    valueUpdate: allBindings.get('valueUpdate'),\\n                },\\n                context,\\n            );\\n        }\\n    };\\n    var json_data = {\\\"value\\\":WebIO.getval({\\\"name\\\":\\\"value\\\",\\\"scope\\\":\\\"596283502622809701\\\",\\\"id\\\":\\\"67\\\",\\\"type\\\":\\\"observable\\\"})};\\n    var self = this;\\n    function AppViewModel() {\\n        for (var key in json_data) {\\n            var el = json_data[key];\\n            this[key] = Array.isArray(el) ? ko.observableArray(el) : ko.observable(el);\\n        }\\n        \\n        \\n        [this[\\\"value\\\"].subscribe((function (val){!(this.valueFromJulia[\\\"value\\\"]) ? (WebIO.setval({\\\"name\\\":\\\"value\\\",\\\"scope\\\":\\\"596283502622809701\\\",\\\"id\\\":\\\"67\\\",\\\"type\\\":\\\"observable\\\"},val)) : undefined; return this.valueFromJulia[\\\"value\\\"]=false}),self)]\\n        \\n    }\\n    self.model = new AppViewModel();\\n    self.valueFromJulia = {};\\n    for (var key in json_data) {\\n        self.valueFromJulia[key] = false;\\n    }\\n    ko.applyBindings(self.model, self.dom);\\n}\\n);\\n    (WebIO.importBlock({\\\"data\\\":[{\\\"name\\\":\\\"knockout\\\",\\\"type\\\":\\\"js\\\",\\\"url\\\":\\\"\\/assetserver\\/3268aa453acf20217634de8b759710ecfa84b18e-knockout.js\\\"},{\\\"name\\\":\\\"knockout_punches\\\",\\\"type\\\":\\\"js\\\",\\\"url\\\":\\\"\\/assetserver\\/fe2a192c367289f39b8280b58861b0e90803c10f-knockout_punches.js\\\"}],\\\"type\\\":\\\"async_block\\\"})).then((imports) => handler.apply(this, imports));\\n}\\n\"],\"observables\":{\"value\":{\"sync\":false,\"id\":\"67\",\"value\":\"\"}}},\"children\":[{\"props\":{\"attributes\":{\"placeholder\":\"paste snapshot data here\",\"data-bind\":\"value: value, valueUpdate: 'input'\"},\"className\":\"textarea \",\"style\":{}},\"nodeType\":\"DOM\",\"type\":\"node\",\"instanceArgs\":{\"namespace\":\"html\",\"tag\":\"textarea\"},\"children\":[]}]}]},\n",
       "        window,\n",
       "    );\n",
       "    })()\n",
       "    </script>\n",
       "</div>\n"
      ],
      "text/plain": [
       "Node{WebIO.DOM}(WebIO.DOM(:html, :div), Any[Scope(Node{WebIO.DOM}(WebIO.DOM(:html, :textarea), Any[], Dict{Symbol, Any}(:attributes => Dict{Union{String, Symbol}, Any}(:placeholder => \"paste snapshot data here\", \"data-bind\" => \"value: value, valueUpdate: 'input'\"), :className => \"textarea \", :style => Dict{Any, Any}())), Dict{String, Tuple{AbstractObservable, Union{Nothing, Bool}}}(\"value\" => (Observable(\"\"), nothing)), Set{String}(), nothing, Asset[Asset(\"js\", \"knockout\", \"/Users/rkurchin/.julia/packages/Knockout/HReiN/src/../assets/knockout.js\"), Asset(\"js\", \"knockout_punches\", \"/Users/rkurchin/.julia/packages/Knockout/HReiN/src/../assets/knockout_punches.js\"), Asset(\"js\", nothing, \"/Users/rkurchin/.julia/packages/InteractBase/LJXv3/src/../assets/all.js\"), Asset(\"css\", nothing, \"/Users/rkurchin/.julia/packages/InteractBase/LJXv3/src/../assets/style.css\"), Asset(\"css\", nothing, \"/Users/rkurchin/.julia/packages/Interact/PENUy/src/../assets/bulma_confined.min.css\")], Dict{Any, Any}(\"value\" => Any[WebIO.JSString(\"(function (val){return (val!=this.model[\\\"value\\\"]()) ? (this.valueFromJulia[\\\"value\\\"]=true, this.model[\\\"value\\\"](val)) : undefined})\")]), WebIO.ConnectionPool(Channel{Any}(32), Set{AbstractConnection}(), Base.GenericCondition{ReentrantLock}(Base.InvasiveLinkedList{Task}(Task (runnable) @0x00000001a9bab880, Task (runnable) @0x00000001a9bab880), ReentrantLock(nothing, 0x00000000, 0x00, Base.GenericCondition{Base.Threads.SpinLock}(Base.InvasiveLinkedList{Task}(nothing, nothing), Base.Threads.SpinLock(0)), (0, 7066297216, 7018905792)))), WebIO.JSString[WebIO.JSString(\"function () {\\n    var handler = (function (ko, koPunches) {\\n    ko.punches.enableAll();\\n    ko.bindingHandlers.numericValue = {\\n        init: function(element, valueAccessor, allBindings, data, context) {\\n            var stringified = ko.observable(ko.unwrap(valueAccessor()));\\n            stringified.subscribe(function(value) {\\n                var val = parseFloat(value);\\n                if (!isNaN(val)) {\\n                    valueAccessor()(val);\\n                }\\n            });\\n            valueAccessor().subscribe(function(value) {\\n                var str = JSON.stringify(value);\\n                if ((str == \\\"0\\\") && ([\\\"-0\\\", \\\"-0.\\\"].indexOf(stringified()) >= 0))\\n                     return;\\n                 if ([\\\"null\\\", \\\"\\\"].indexOf(str) >= 0)\\n                     return;\\n                stringified(str);\\n            });\\n            ko.applyBindingsToNode(\\n                element,\\n                {\\n                    value: stringified,\\n                    valueUpdate: allBindings.get('valueUpdate'),\\n                },\\n                context,\\n            );\\n        }\\n    };\\n    var json_data = {\\\"value\\\":WebIO.getval({\\\"name\\\":\\\"value\\\",\\\"scope\\\":\\\"596283502622809701\\\",\\\"id\\\":\\\"67\\\",\\\"type\\\":\\\"observable\\\"})};\\n    var self = this;\\n    function AppViewModel() {\\n        for (var key in json_data) {\\n            var el = json_data[key];\\n            this[key] = Array.isArray(el) ? ko.observableArray(el) : ko.observable(el);\\n        }\\n        \\n        \\n        [this[\\\"value\\\"].subscribe((function (val){!(this.valueFromJulia[\\\"value\\\"]) ? (WebIO.setval({\\\"name\\\":\\\"value\\\",\\\"scope\\\":\\\"596283502622809701\\\",\\\"id\\\":\\\"67\\\",\\\"type\\\":\\\"observable\\\"},val)) : undefined; return this.valueFromJulia[\\\"value\\\"]=false}),self)]\\n        \\n    }\\n    self.model = new AppViewModel();\\n    self.valueFromJulia = {};\\n    for (var key in json_data) {\\n        self.valueFromJulia[key] = false;\\n    }\\n    ko.applyBindings(self.model, self.dom);\\n}\\n);\\n    (WebIO.importBlock({\\\"data\\\":[{\\\"name\\\":\\\"knockout\\\",\\\"type\\\":\\\"js\\\",\\\"url\\\":\\\"/assetserver/3268aa453acf20217634de8b759710ecfa84b18e-knockout.js\\\"},{\\\"name\\\":\\\"knockout_punches\\\",\\\"type\\\":\\\"js\\\",\\\"url\\\":\\\"/assetserver/fe2a192c367289f39b8280b58861b0e90803c10f-knockout_punches.js\\\"}],\\\"type\\\":\\\"async_block\\\"})).then((imports) => handler.apply(this, imports));\\n}\\n\")])], Dict{Symbol, Any}(:className => \"field interact-widget\"))"
      ]
     },
     "execution_count": 290,
     "metadata": {
      "application/vnd.webio.node+json": {
       "kernelId": "4e6e0d91-fec6-4376-b6ac-dd9da4ee78d8"
      }
     },
     "output_type": "execute_result"
    }
   ],
   "source": [
    "snapshot2 = Widgets.textarea(\"paste snapshot data here\")"
   ]
  },
  {
   "cell_type": "code",
   "execution_count": 291,
   "id": "4f37f835",
   "metadata": {},
   "outputs": [
    {
     "data": {
      "application/vnd.webio.node+json": {
       "children": [
        {
         "children": [
          {
           "children": [],
           "instanceArgs": {
            "namespace": "html",
            "tag": "input"
           },
           "nodeType": "DOM",
           "props": {
            "attributes": {
             "data-bind": "numericValue: value, valueUpdate: 'input', event: {change: function (){this.changes(this.changes()+1)}}",
             "type": "number"
            },
            "className": "input ",
            "placeholder": "enter timestamp for third snapshot",
            "style": {}
           },
           "type": "node"
          }
         ],
         "instanceArgs": {
          "handlers": {
           "changes": [
            "(function (val){return (val!=this.model[\"changes\"]()) ? (this.valueFromJulia[\"changes\"]=true, this.model[\"changes\"](val)) : undefined})"
           ],
           "value": [
            "(function (val){return (val!=this.model[\"value\"]()) ? (this.valueFromJulia[\"value\"]=true, this.model[\"value\"](val)) : undefined})"
           ]
          },
          "id": "4616498300151347002",
          "imports": {
           "data": [
            {
             "name": "knockout",
             "type": "js",
             "url": "/assetserver/3268aa453acf20217634de8b759710ecfa84b18e-knockout.js"
            },
            {
             "name": "knockout_punches",
             "type": "js",
             "url": "/assetserver/fe2a192c367289f39b8280b58861b0e90803c10f-knockout_punches.js"
            },
            {
             "name": null,
             "type": "js",
             "url": "/assetserver/8e0549a7824595df033024a9ea05fa3859c5079f-all.js"
            },
            {
             "name": null,
             "type": "css",
             "url": "/assetserver/345b939b64724fad0a8c431b45abd44fe39a5151-style.css"
            },
            {
             "name": null,
             "type": "css",
             "url": "/assetserver/bd82aaaf98c6d450d881a2127a6bfb103be1802f-bulma_confined.min.css"
            }
           ],
           "type": "async_block"
          },
          "mount_callbacks": [
           "function () {\n    var handler = (function (ko, koPunches) {\n    ko.punches.enableAll();\n    ko.bindingHandlers.numericValue = {\n        init: function(element, valueAccessor, allBindings, data, context) {\n            var stringified = ko.observable(ko.unwrap(valueAccessor()));\n            stringified.subscribe(function(value) {\n                var val = parseFloat(value);\n                if (!isNaN(val)) {\n                    valueAccessor()(val);\n                }\n            });\n            valueAccessor().subscribe(function(value) {\n                var str = JSON.stringify(value);\n                if ((str == \"0\") && ([\"-0\", \"-0.\"].indexOf(stringified()) >= 0))\n                     return;\n                 if ([\"null\", \"\"].indexOf(str) >= 0)\n                     return;\n                stringified(str);\n            });\n            ko.applyBindingsToNode(\n                element,\n                {\n                    value: stringified,\n                    valueUpdate: allBindings.get('valueUpdate'),\n                },\n                context,\n            );\n        }\n    };\n    var json_data = {\"changes\":WebIO.getval({\"name\":\"changes\",\"scope\":\"4616498300151347002\",\"id\":\"69\",\"type\":\"observable\"}),\"value\":WebIO.getval({\"name\":\"value\",\"scope\":\"4616498300151347002\",\"id\":\"68\",\"type\":\"observable\"})};\n    var self = this;\n    function AppViewModel() {\n        for (var key in json_data) {\n            var el = json_data[key];\n            this[key] = Array.isArray(el) ? ko.observableArray(el) : ko.observable(el);\n        }\n        \n        \n        [this[\"changes\"].subscribe((function (val){!(this.valueFromJulia[\"changes\"]) ? (WebIO.setval({\"name\":\"changes\",\"scope\":\"4616498300151347002\",\"id\":\"69\",\"type\":\"observable\"},val)) : undefined; return this.valueFromJulia[\"changes\"]=false}),self),this[\"value\"].subscribe((function (val){!(this.valueFromJulia[\"value\"]) ? (WebIO.setval({\"name\":\"value\",\"scope\":\"4616498300151347002\",\"id\":\"68\",\"type\":\"observable\"},val)) : undefined; return this.valueFromJulia[\"value\"]=false}),self)]\n        \n    }\n    self.model = new AppViewModel();\n    self.valueFromJulia = {};\n    for (var key in json_data) {\n        self.valueFromJulia[key] = false;\n    }\n    ko.applyBindings(self.model, self.dom);\n}\n);\n    (WebIO.importBlock({\"data\":[{\"name\":\"knockout\",\"type\":\"js\",\"url\":\"/assetserver/3268aa453acf20217634de8b759710ecfa84b18e-knockout.js\"},{\"name\":\"knockout_punches\",\"type\":\"js\",\"url\":\"/assetserver/fe2a192c367289f39b8280b58861b0e90803c10f-knockout_punches.js\"}],\"type\":\"async_block\"})).then((imports) => handler.apply(this, imports));\n}\n"
          ],
          "observables": {
           "changes": {
            "id": "69",
            "sync": false,
            "value": 0
           },
           "value": {
            "id": "68",
            "sync": false,
            "value": null
           }
          },
          "systemjs_options": null
         },
         "nodeType": "Scope",
         "props": {},
         "type": "node"
        }
       ],
       "instanceArgs": {
        "namespace": "html",
        "tag": "div"
       },
       "nodeType": "DOM",
       "props": {
        "className": "field interact-widget"
       },
       "type": "node"
      },
      "text/html": [
       "<div\n",
       "    class=\"webio-mountpoint\"\n",
       "    data-webio-mountpoint=\"10337933307110625977\"\n",
       ">\n",
       "    <script>\n",
       "    (function(){\n",
       "    // Some integrations (namely, IJulia/Jupyter) use an alternate render pathway than\n",
       "    // just putting the html on the page. If WebIO isn't defined, then it's pretty likely\n",
       "    // that we're in one of those situations and the integration just isn't installed\n",
       "    // correctly.\n",
       "    if (typeof window.WebIO === \"undefined\") {\n",
       "        document\n",
       "            .querySelector('[data-webio-mountpoint=\"10337933307110625977\"]')\n",
       "            .innerHTML = (\n",
       "                '<div style=\"padding: 1em; background-color: #f8d6da; border: 1px solid #f5c6cb; font-weight: bold;\">' +\n",
       "                '<p><strong>WebIO not detected.</strong></p>' +\n",
       "                '<p>Please read ' +\n",
       "                '<a href=\"https://juliagizmos.github.io/WebIO.jl/latest/troubleshooting/not-detected/\" target=\"_blank\">the troubleshooting guide</a> ' +\n",
       "                'for more information on how to resolve this issue.</p>' +\n",
       "                '<p><a href=\"https://juliagizmos.github.io/WebIO.jl/latest/troubleshooting/not-detected/\" target=\"_blank\">https://juliagizmos.github.io/WebIO.jl/latest/troubleshooting/not-detected/</a></p>' +\n",
       "                '</div>'\n",
       "            );\n",
       "        return;\n",
       "    }\n",
       "    WebIO.mount(\n",
       "        document.querySelector('[data-webio-mountpoint=\"10337933307110625977\"]'),\n",
       "        {\"props\":{\"className\":\"field interact-widget\"},\"nodeType\":\"DOM\",\"type\":\"node\",\"instanceArgs\":{\"namespace\":\"html\",\"tag\":\"div\"},\"children\":[{\"props\":{},\"nodeType\":\"Scope\",\"type\":\"node\",\"instanceArgs\":{\"imports\":{\"data\":[{\"name\":\"knockout\",\"type\":\"js\",\"url\":\"\\/assetserver\\/3268aa453acf20217634de8b759710ecfa84b18e-knockout.js\"},{\"name\":\"knockout_punches\",\"type\":\"js\",\"url\":\"\\/assetserver\\/fe2a192c367289f39b8280b58861b0e90803c10f-knockout_punches.js\"},{\"name\":null,\"type\":\"js\",\"url\":\"\\/assetserver\\/8e0549a7824595df033024a9ea05fa3859c5079f-all.js\"},{\"name\":null,\"type\":\"css\",\"url\":\"\\/assetserver\\/345b939b64724fad0a8c431b45abd44fe39a5151-style.css\"},{\"name\":null,\"type\":\"css\",\"url\":\"\\/assetserver\\/bd82aaaf98c6d450d881a2127a6bfb103be1802f-bulma_confined.min.css\"}],\"type\":\"async_block\"},\"id\":\"4616498300151347002\",\"handlers\":{\"changes\":[\"(function (val){return (val!=this.model[\\\"changes\\\"]()) ? (this.valueFromJulia[\\\"changes\\\"]=true, this.model[\\\"changes\\\"](val)) : undefined})\"],\"value\":[\"(function (val){return (val!=this.model[\\\"value\\\"]()) ? (this.valueFromJulia[\\\"value\\\"]=true, this.model[\\\"value\\\"](val)) : undefined})\"]},\"systemjs_options\":null,\"mount_callbacks\":[\"function () {\\n    var handler = (function (ko, koPunches) {\\n    ko.punches.enableAll();\\n    ko.bindingHandlers.numericValue = {\\n        init: function(element, valueAccessor, allBindings, data, context) {\\n            var stringified = ko.observable(ko.unwrap(valueAccessor()));\\n            stringified.subscribe(function(value) {\\n                var val = parseFloat(value);\\n                if (!isNaN(val)) {\\n                    valueAccessor()(val);\\n                }\\n            });\\n            valueAccessor().subscribe(function(value) {\\n                var str = JSON.stringify(value);\\n                if ((str == \\\"0\\\") && ([\\\"-0\\\", \\\"-0.\\\"].indexOf(stringified()) >= 0))\\n                     return;\\n                 if ([\\\"null\\\", \\\"\\\"].indexOf(str) >= 0)\\n                     return;\\n                stringified(str);\\n            });\\n            ko.applyBindingsToNode(\\n                element,\\n                {\\n                    value: stringified,\\n                    valueUpdate: allBindings.get('valueUpdate'),\\n                },\\n                context,\\n            );\\n        }\\n    };\\n    var json_data = {\\\"changes\\\":WebIO.getval({\\\"name\\\":\\\"changes\\\",\\\"scope\\\":\\\"4616498300151347002\\\",\\\"id\\\":\\\"69\\\",\\\"type\\\":\\\"observable\\\"}),\\\"value\\\":WebIO.getval({\\\"name\\\":\\\"value\\\",\\\"scope\\\":\\\"4616498300151347002\\\",\\\"id\\\":\\\"68\\\",\\\"type\\\":\\\"observable\\\"})};\\n    var self = this;\\n    function AppViewModel() {\\n        for (var key in json_data) {\\n            var el = json_data[key];\\n            this[key] = Array.isArray(el) ? ko.observableArray(el) : ko.observable(el);\\n        }\\n        \\n        \\n        [this[\\\"changes\\\"].subscribe((function (val){!(this.valueFromJulia[\\\"changes\\\"]) ? (WebIO.setval({\\\"name\\\":\\\"changes\\\",\\\"scope\\\":\\\"4616498300151347002\\\",\\\"id\\\":\\\"69\\\",\\\"type\\\":\\\"observable\\\"},val)) : undefined; return this.valueFromJulia[\\\"changes\\\"]=false}),self),this[\\\"value\\\"].subscribe((function (val){!(this.valueFromJulia[\\\"value\\\"]) ? (WebIO.setval({\\\"name\\\":\\\"value\\\",\\\"scope\\\":\\\"4616498300151347002\\\",\\\"id\\\":\\\"68\\\",\\\"type\\\":\\\"observable\\\"},val)) : undefined; return this.valueFromJulia[\\\"value\\\"]=false}),self)]\\n        \\n    }\\n    self.model = new AppViewModel();\\n    self.valueFromJulia = {};\\n    for (var key in json_data) {\\n        self.valueFromJulia[key] = false;\\n    }\\n    ko.applyBindings(self.model, self.dom);\\n}\\n);\\n    (WebIO.importBlock({\\\"data\\\":[{\\\"name\\\":\\\"knockout\\\",\\\"type\\\":\\\"js\\\",\\\"url\\\":\\\"\\/assetserver\\/3268aa453acf20217634de8b759710ecfa84b18e-knockout.js\\\"},{\\\"name\\\":\\\"knockout_punches\\\",\\\"type\\\":\\\"js\\\",\\\"url\\\":\\\"\\/assetserver\\/fe2a192c367289f39b8280b58861b0e90803c10f-knockout_punches.js\\\"}],\\\"type\\\":\\\"async_block\\\"})).then((imports) => handler.apply(this, imports));\\n}\\n\"],\"observables\":{\"changes\":{\"sync\":false,\"id\":\"69\",\"value\":0},\"value\":{\"sync\":false,\"id\":\"68\",\"value\":null}}},\"children\":[{\"props\":{\"attributes\":{\"type\":\"number\",\"data-bind\":\"numericValue: value, valueUpdate: 'input', event: {change: function (){this.changes(this.changes()+1)}}\"},\"placeholder\":\"enter timestamp for third snapshot\",\"className\":\"input \",\"style\":{}},\"nodeType\":\"DOM\",\"type\":\"node\",\"instanceArgs\":{\"namespace\":\"html\",\"tag\":\"input\"},\"children\":[]}]}]},\n",
       "        window,\n",
       "    );\n",
       "    })()\n",
       "    </script>\n",
       "</div>\n"
      ],
      "text/plain": [
       "Node{WebIO.DOM}(WebIO.DOM(:html, :div), Any[Scope(Node{WebIO.DOM}(WebIO.DOM(:html, :input), Any[], Dict{Symbol, Any}(:attributes => Dict{Any, Any}(:type => \"number\", Symbol(\"data-bind\") => \"numericValue: value, valueUpdate: 'input', event: {change: function (){this.changes(this.changes()+1)}}\"), :placeholder => \"enter timestamp for third snapshot\", :className => \"input \", :style => Dict{Any, Any}())), Dict{String, Tuple{AbstractObservable, Union{Nothing, Bool}}}(\"changes\" => (Observable(0), nothing), \"value\" => (Observable{Union{Nothing, Float64}}(nothing), nothing)), Set{String}(), nothing, Asset[Asset(\"js\", \"knockout\", \"/Users/rkurchin/.julia/packages/Knockout/HReiN/src/../assets/knockout.js\"), Asset(\"js\", \"knockout_punches\", \"/Users/rkurchin/.julia/packages/Knockout/HReiN/src/../assets/knockout_punches.js\"), Asset(\"js\", nothing, \"/Users/rkurchin/.julia/packages/InteractBase/LJXv3/src/../assets/all.js\"), Asset(\"css\", nothing, \"/Users/rkurchin/.julia/packages/InteractBase/LJXv3/src/../assets/style.css\"), Asset(\"css\", nothing, \"/Users/rkurchin/.julia/packages/Interact/PENUy/src/../assets/bulma_confined.min.css\")], Dict{Any, Any}(\"changes\" => Any[WebIO.JSString(\"(function (val){return (val!=this.model[\\\"changes\\\"]()) ? (this.valueFromJulia[\\\"changes\\\"]=true, this.model[\\\"changes\\\"](val)) : undefined})\")], \"value\" => Any[WebIO.JSString(\"(function (val){return (val!=this.model[\\\"value\\\"]()) ? (this.valueFromJulia[\\\"value\\\"]=true, this.model[\\\"value\\\"](val)) : undefined})\")]), WebIO.ConnectionPool(Channel{Any}(32), Set{AbstractConnection}(), Base.GenericCondition{ReentrantLock}(Base.InvasiveLinkedList{Task}(Task (runnable) @0x00000001a9be6a10, Task (runnable) @0x00000001a9be6a10), ReentrantLock(nothing, 0x00000000, 0x00, Base.GenericCondition{Base.Threads.SpinLock}(Base.InvasiveLinkedList{Task}(nothing, nothing), Base.Threads.SpinLock(0)), (0, 4393000960, 4294967307)))), WebIO.JSString[WebIO.JSString(\"function () {\\n    var handler = (function (ko, koPunches) {\\n    ko.punches.enableAll();\\n    ko.bindingHandlers.numericValue = {\\n        init: function(element, valueAccessor, allBindings, data, context) {\\n            var stringified = ko.observable(ko.unwrap(valueAccessor()));\\n            stringified.subscribe(function(value) {\\n                var val = parseFloat(value);\\n                if (!isNaN(val)) {\\n                    valueAccessor()(val);\\n                }\\n            });\\n            valueAccessor().subscribe(function(value) {\\n                var str = JSON.stringify(value);\\n                if ((str == \\\"0\\\") && ([\\\"-0\\\", \\\"-0.\\\"].indexOf(stringified()) >= 0))\\n                     return;\\n                 if ([\\\"null\\\", \\\"\\\"].indexOf(str) >= 0)\\n                     return;\\n                stringified(str);\\n            });\\n            ko.applyBindingsToNode(\\n                element,\\n                {\\n                    value: stringified,\\n                    valueUpdate: allBindings.get('valueUpdate'),\\n                },\\n                context,\\n            );\\n        }\\n    };\\n    var json_data = {\\\"changes\\\":WebIO.getval({\\\"name\\\":\\\"changes\\\",\\\"scope\\\":\\\"4616498300151347002\\\",\\\"id\\\":\\\"69\\\",\\\"type\\\":\\\"observable\\\"}),\\\"value\\\":WebIO.getval({\\\"name\\\":\\\"value\\\",\\\"scope\\\":\\\"4616498300151347002\\\",\\\"id\\\":\\\"68\\\",\\\"type\\\":\\\"observable\\\"})};\\n    var self = this;\\n    function AppViewModel() {\\n        for (var key in json_data) {\\n            var el = json_data[key];\\n            this[key] = Array.isArray(el) ? ko.observableArray(el) : ko.observable(el);\\n        }\\n        \\n        \\n        [this[\\\"changes\\\"].subscribe((function (val){!(this.valueFromJulia[\\\"changes\\\"]) ? (WebIO.setval({\\\"name\\\":\\\"changes\\\",\\\"scope\\\":\\\"4616498300151347002\\\",\\\"id\\\":\\\"69\\\",\\\"type\\\":\\\"observable\\\"},val)) : undefined; return this.valueFromJulia[\\\"changes\\\"]=false}),self),this[\\\"value\\\"].subscribe((function (val){!(this.valueFromJulia[\\\"value\\\"]) ? (WebIO.setval({\\\"name\\\":\\\"value\\\",\\\"scope\\\":\\\"4616498300151347002\\\",\\\"id\\\":\\\"68\\\",\\\"type\\\":\\\"observable\\\"},val)) : undefined; return this.valueFromJulia[\\\"value\\\"]=false}),self)]\\n        \\n    }\\n    self.model = new AppViewModel();\\n    self.valueFromJulia = {};\\n    for (var key in json_data) {\\n        self.valueFromJulia[key] = false;\\n    }\\n    ko.applyBindings(self.model, self.dom);\\n}\\n);\\n    (WebIO.importBlock({\\\"data\\\":[{\\\"name\\\":\\\"knockout\\\",\\\"type\\\":\\\"js\\\",\\\"url\\\":\\\"/assetserver/3268aa453acf20217634de8b759710ecfa84b18e-knockout.js\\\"},{\\\"name\\\":\\\"knockout_punches\\\",\\\"type\\\":\\\"js\\\",\\\"url\\\":\\\"/assetserver/fe2a192c367289f39b8280b58861b0e90803c10f-knockout_punches.js\\\"}],\\\"type\\\":\\\"async_block\\\"})).then((imports) => handler.apply(this, imports));\\n}\\n\")])], Dict{Symbol, Any}(:className => \"field interact-widget\"))"
      ]
     },
     "execution_count": 291,
     "metadata": {
      "application/vnd.webio.node+json": {
       "kernelId": "4e6e0d91-fec6-4376-b6ac-dd9da4ee78d8"
      }
     },
     "output_type": "execute_result"
    }
   ],
   "source": [
    "t3 = Widgets.spinbox(\"enter timestamp for third snapshot\")"
   ]
  },
  {
   "cell_type": "code",
   "execution_count": 292,
   "id": "6947f2cd",
   "metadata": {},
   "outputs": [
    {
     "data": {
      "application/vnd.webio.node+json": {
       "children": [
        {
         "children": [
          {
           "children": [],
           "instanceArgs": {
            "namespace": "html",
            "tag": "textarea"
           },
           "nodeType": "DOM",
           "props": {
            "attributes": {
             "data-bind": "value: value, valueUpdate: 'input'",
             "placeholder": "paste snapshot data here"
            },
            "className": "textarea ",
            "style": {}
           },
           "type": "node"
          }
         ],
         "instanceArgs": {
          "handlers": {
           "value": [
            "(function (val){return (val!=this.model[\"value\"]()) ? (this.valueFromJulia[\"value\"]=true, this.model[\"value\"](val)) : undefined})"
           ]
          },
          "id": "9605974561992269896",
          "imports": {
           "data": [
            {
             "name": "knockout",
             "type": "js",
             "url": "/assetserver/3268aa453acf20217634de8b759710ecfa84b18e-knockout.js"
            },
            {
             "name": "knockout_punches",
             "type": "js",
             "url": "/assetserver/fe2a192c367289f39b8280b58861b0e90803c10f-knockout_punches.js"
            },
            {
             "name": null,
             "type": "js",
             "url": "/assetserver/8e0549a7824595df033024a9ea05fa3859c5079f-all.js"
            },
            {
             "name": null,
             "type": "css",
             "url": "/assetserver/345b939b64724fad0a8c431b45abd44fe39a5151-style.css"
            },
            {
             "name": null,
             "type": "css",
             "url": "/assetserver/bd82aaaf98c6d450d881a2127a6bfb103be1802f-bulma_confined.min.css"
            }
           ],
           "type": "async_block"
          },
          "mount_callbacks": [
           "function () {\n    var handler = (function (ko, koPunches) {\n    ko.punches.enableAll();\n    ko.bindingHandlers.numericValue = {\n        init: function(element, valueAccessor, allBindings, data, context) {\n            var stringified = ko.observable(ko.unwrap(valueAccessor()));\n            stringified.subscribe(function(value) {\n                var val = parseFloat(value);\n                if (!isNaN(val)) {\n                    valueAccessor()(val);\n                }\n            });\n            valueAccessor().subscribe(function(value) {\n                var str = JSON.stringify(value);\n                if ((str == \"0\") && ([\"-0\", \"-0.\"].indexOf(stringified()) >= 0))\n                     return;\n                 if ([\"null\", \"\"].indexOf(str) >= 0)\n                     return;\n                stringified(str);\n            });\n            ko.applyBindingsToNode(\n                element,\n                {\n                    value: stringified,\n                    valueUpdate: allBindings.get('valueUpdate'),\n                },\n                context,\n            );\n        }\n    };\n    var json_data = {\"value\":WebIO.getval({\"name\":\"value\",\"scope\":\"9605974561992269896\",\"id\":\"70\",\"type\":\"observable\"})};\n    var self = this;\n    function AppViewModel() {\n        for (var key in json_data) {\n            var el = json_data[key];\n            this[key] = Array.isArray(el) ? ko.observableArray(el) : ko.observable(el);\n        }\n        \n        \n        [this[\"value\"].subscribe((function (val){!(this.valueFromJulia[\"value\"]) ? (WebIO.setval({\"name\":\"value\",\"scope\":\"9605974561992269896\",\"id\":\"70\",\"type\":\"observable\"},val)) : undefined; return this.valueFromJulia[\"value\"]=false}),self)]\n        \n    }\n    self.model = new AppViewModel();\n    self.valueFromJulia = {};\n    for (var key in json_data) {\n        self.valueFromJulia[key] = false;\n    }\n    ko.applyBindings(self.model, self.dom);\n}\n);\n    (WebIO.importBlock({\"data\":[{\"name\":\"knockout\",\"type\":\"js\",\"url\":\"/assetserver/3268aa453acf20217634de8b759710ecfa84b18e-knockout.js\"},{\"name\":\"knockout_punches\",\"type\":\"js\",\"url\":\"/assetserver/fe2a192c367289f39b8280b58861b0e90803c10f-knockout_punches.js\"}],\"type\":\"async_block\"})).then((imports) => handler.apply(this, imports));\n}\n"
          ],
          "observables": {
           "value": {
            "id": "70",
            "sync": false,
            "value": ""
           }
          },
          "systemjs_options": null
         },
         "nodeType": "Scope",
         "props": {},
         "type": "node"
        }
       ],
       "instanceArgs": {
        "namespace": "html",
        "tag": "div"
       },
       "nodeType": "DOM",
       "props": {
        "className": "field interact-widget"
       },
       "type": "node"
      },
      "text/html": [
       "<div\n",
       "    class=\"webio-mountpoint\"\n",
       "    data-webio-mountpoint=\"11775788145949702251\"\n",
       ">\n",
       "    <script>\n",
       "    (function(){\n",
       "    // Some integrations (namely, IJulia/Jupyter) use an alternate render pathway than\n",
       "    // just putting the html on the page. If WebIO isn't defined, then it's pretty likely\n",
       "    // that we're in one of those situations and the integration just isn't installed\n",
       "    // correctly.\n",
       "    if (typeof window.WebIO === \"undefined\") {\n",
       "        document\n",
       "            .querySelector('[data-webio-mountpoint=\"11775788145949702251\"]')\n",
       "            .innerHTML = (\n",
       "                '<div style=\"padding: 1em; background-color: #f8d6da; border: 1px solid #f5c6cb; font-weight: bold;\">' +\n",
       "                '<p><strong>WebIO not detected.</strong></p>' +\n",
       "                '<p>Please read ' +\n",
       "                '<a href=\"https://juliagizmos.github.io/WebIO.jl/latest/troubleshooting/not-detected/\" target=\"_blank\">the troubleshooting guide</a> ' +\n",
       "                'for more information on how to resolve this issue.</p>' +\n",
       "                '<p><a href=\"https://juliagizmos.github.io/WebIO.jl/latest/troubleshooting/not-detected/\" target=\"_blank\">https://juliagizmos.github.io/WebIO.jl/latest/troubleshooting/not-detected/</a></p>' +\n",
       "                '</div>'\n",
       "            );\n",
       "        return;\n",
       "    }\n",
       "    WebIO.mount(\n",
       "        document.querySelector('[data-webio-mountpoint=\"11775788145949702251\"]'),\n",
       "        {\"props\":{\"className\":\"field interact-widget\"},\"nodeType\":\"DOM\",\"type\":\"node\",\"instanceArgs\":{\"namespace\":\"html\",\"tag\":\"div\"},\"children\":[{\"props\":{},\"nodeType\":\"Scope\",\"type\":\"node\",\"instanceArgs\":{\"imports\":{\"data\":[{\"name\":\"knockout\",\"type\":\"js\",\"url\":\"\\/assetserver\\/3268aa453acf20217634de8b759710ecfa84b18e-knockout.js\"},{\"name\":\"knockout_punches\",\"type\":\"js\",\"url\":\"\\/assetserver\\/fe2a192c367289f39b8280b58861b0e90803c10f-knockout_punches.js\"},{\"name\":null,\"type\":\"js\",\"url\":\"\\/assetserver\\/8e0549a7824595df033024a9ea05fa3859c5079f-all.js\"},{\"name\":null,\"type\":\"css\",\"url\":\"\\/assetserver\\/345b939b64724fad0a8c431b45abd44fe39a5151-style.css\"},{\"name\":null,\"type\":\"css\",\"url\":\"\\/assetserver\\/bd82aaaf98c6d450d881a2127a6bfb103be1802f-bulma_confined.min.css\"}],\"type\":\"async_block\"},\"id\":\"9605974561992269896\",\"handlers\":{\"value\":[\"(function (val){return (val!=this.model[\\\"value\\\"]()) ? (this.valueFromJulia[\\\"value\\\"]=true, this.model[\\\"value\\\"](val)) : undefined})\"]},\"systemjs_options\":null,\"mount_callbacks\":[\"function () {\\n    var handler = (function (ko, koPunches) {\\n    ko.punches.enableAll();\\n    ko.bindingHandlers.numericValue = {\\n        init: function(element, valueAccessor, allBindings, data, context) {\\n            var stringified = ko.observable(ko.unwrap(valueAccessor()));\\n            stringified.subscribe(function(value) {\\n                var val = parseFloat(value);\\n                if (!isNaN(val)) {\\n                    valueAccessor()(val);\\n                }\\n            });\\n            valueAccessor().subscribe(function(value) {\\n                var str = JSON.stringify(value);\\n                if ((str == \\\"0\\\") && ([\\\"-0\\\", \\\"-0.\\\"].indexOf(stringified()) >= 0))\\n                     return;\\n                 if ([\\\"null\\\", \\\"\\\"].indexOf(str) >= 0)\\n                     return;\\n                stringified(str);\\n            });\\n            ko.applyBindingsToNode(\\n                element,\\n                {\\n                    value: stringified,\\n                    valueUpdate: allBindings.get('valueUpdate'),\\n                },\\n                context,\\n            );\\n        }\\n    };\\n    var json_data = {\\\"value\\\":WebIO.getval({\\\"name\\\":\\\"value\\\",\\\"scope\\\":\\\"9605974561992269896\\\",\\\"id\\\":\\\"70\\\",\\\"type\\\":\\\"observable\\\"})};\\n    var self = this;\\n    function AppViewModel() {\\n        for (var key in json_data) {\\n            var el = json_data[key];\\n            this[key] = Array.isArray(el) ? ko.observableArray(el) : ko.observable(el);\\n        }\\n        \\n        \\n        [this[\\\"value\\\"].subscribe((function (val){!(this.valueFromJulia[\\\"value\\\"]) ? (WebIO.setval({\\\"name\\\":\\\"value\\\",\\\"scope\\\":\\\"9605974561992269896\\\",\\\"id\\\":\\\"70\\\",\\\"type\\\":\\\"observable\\\"},val)) : undefined; return this.valueFromJulia[\\\"value\\\"]=false}),self)]\\n        \\n    }\\n    self.model = new AppViewModel();\\n    self.valueFromJulia = {};\\n    for (var key in json_data) {\\n        self.valueFromJulia[key] = false;\\n    }\\n    ko.applyBindings(self.model, self.dom);\\n}\\n);\\n    (WebIO.importBlock({\\\"data\\\":[{\\\"name\\\":\\\"knockout\\\",\\\"type\\\":\\\"js\\\",\\\"url\\\":\\\"\\/assetserver\\/3268aa453acf20217634de8b759710ecfa84b18e-knockout.js\\\"},{\\\"name\\\":\\\"knockout_punches\\\",\\\"type\\\":\\\"js\\\",\\\"url\\\":\\\"\\/assetserver\\/fe2a192c367289f39b8280b58861b0e90803c10f-knockout_punches.js\\\"}],\\\"type\\\":\\\"async_block\\\"})).then((imports) => handler.apply(this, imports));\\n}\\n\"],\"observables\":{\"value\":{\"sync\":false,\"id\":\"70\",\"value\":\"\"}}},\"children\":[{\"props\":{\"attributes\":{\"placeholder\":\"paste snapshot data here\",\"data-bind\":\"value: value, valueUpdate: 'input'\"},\"className\":\"textarea \",\"style\":{}},\"nodeType\":\"DOM\",\"type\":\"node\",\"instanceArgs\":{\"namespace\":\"html\",\"tag\":\"textarea\"},\"children\":[]}]}]},\n",
       "        window,\n",
       "    );\n",
       "    })()\n",
       "    </script>\n",
       "</div>\n"
      ],
      "text/plain": [
       "Node{WebIO.DOM}(WebIO.DOM(:html, :div), Any[Scope(Node{WebIO.DOM}(WebIO.DOM(:html, :textarea), Any[], Dict{Symbol, Any}(:attributes => Dict{Union{String, Symbol}, Any}(:placeholder => \"paste snapshot data here\", \"data-bind\" => \"value: value, valueUpdate: 'input'\"), :className => \"textarea \", :style => Dict{Any, Any}())), Dict{String, Tuple{AbstractObservable, Union{Nothing, Bool}}}(\"value\" => (Observable(\"\"), nothing)), Set{String}(), nothing, Asset[Asset(\"js\", \"knockout\", \"/Users/rkurchin/.julia/packages/Knockout/HReiN/src/../assets/knockout.js\"), Asset(\"js\", \"knockout_punches\", \"/Users/rkurchin/.julia/packages/Knockout/HReiN/src/../assets/knockout_punches.js\"), Asset(\"js\", nothing, \"/Users/rkurchin/.julia/packages/InteractBase/LJXv3/src/../assets/all.js\"), Asset(\"css\", nothing, \"/Users/rkurchin/.julia/packages/InteractBase/LJXv3/src/../assets/style.css\"), Asset(\"css\", nothing, \"/Users/rkurchin/.julia/packages/Interact/PENUy/src/../assets/bulma_confined.min.css\")], Dict{Any, Any}(\"value\" => Any[WebIO.JSString(\"(function (val){return (val!=this.model[\\\"value\\\"]()) ? (this.valueFromJulia[\\\"value\\\"]=true, this.model[\\\"value\\\"](val)) : undefined})\")]), WebIO.ConnectionPool(Channel{Any}(32), Set{AbstractConnection}(), Base.GenericCondition{ReentrantLock}(Base.InvasiveLinkedList{Task}(Task (runnable) @0x00000001a9d41cf0, Task (runnable) @0x00000001a9d41cf0), ReentrantLock(nothing, 0x00000000, 0x00, Base.GenericCondition{Base.Threads.SpinLock}(Base.InvasiveLinkedList{Task}(nothing, nothing), Base.Threads.SpinLock(0)), (8, 6961900080, 0)))), WebIO.JSString[WebIO.JSString(\"function () {\\n    var handler = (function (ko, koPunches) {\\n    ko.punches.enableAll();\\n    ko.bindingHandlers.numericValue = {\\n        init: function(element, valueAccessor, allBindings, data, context) {\\n            var stringified = ko.observable(ko.unwrap(valueAccessor()));\\n            stringified.subscribe(function(value) {\\n                var val = parseFloat(value);\\n                if (!isNaN(val)) {\\n                    valueAccessor()(val);\\n                }\\n            });\\n            valueAccessor().subscribe(function(value) {\\n                var str = JSON.stringify(value);\\n                if ((str == \\\"0\\\") && ([\\\"-0\\\", \\\"-0.\\\"].indexOf(stringified()) >= 0))\\n                     return;\\n                 if ([\\\"null\\\", \\\"\\\"].indexOf(str) >= 0)\\n                     return;\\n                stringified(str);\\n            });\\n            ko.applyBindingsToNode(\\n                element,\\n                {\\n                    value: stringified,\\n                    valueUpdate: allBindings.get('valueUpdate'),\\n                },\\n                context,\\n            );\\n        }\\n    };\\n    var json_data = {\\\"value\\\":WebIO.getval({\\\"name\\\":\\\"value\\\",\\\"scope\\\":\\\"9605974561992269896\\\",\\\"id\\\":\\\"70\\\",\\\"type\\\":\\\"observable\\\"})};\\n    var self = this;\\n    function AppViewModel() {\\n        for (var key in json_data) {\\n            var el = json_data[key];\\n            this[key] = Array.isArray(el) ? ko.observableArray(el) : ko.observable(el);\\n        }\\n        \\n        \\n        [this[\\\"value\\\"].subscribe((function (val){!(this.valueFromJulia[\\\"value\\\"]) ? (WebIO.setval({\\\"name\\\":\\\"value\\\",\\\"scope\\\":\\\"9605974561992269896\\\",\\\"id\\\":\\\"70\\\",\\\"type\\\":\\\"observable\\\"},val)) : undefined; return this.valueFromJulia[\\\"value\\\"]=false}),self)]\\n        \\n    }\\n    self.model = new AppViewModel();\\n    self.valueFromJulia = {};\\n    for (var key in json_data) {\\n        self.valueFromJulia[key] = false;\\n    }\\n    ko.applyBindings(self.model, self.dom);\\n}\\n);\\n    (WebIO.importBlock({\\\"data\\\":[{\\\"name\\\":\\\"knockout\\\",\\\"type\\\":\\\"js\\\",\\\"url\\\":\\\"/assetserver/3268aa453acf20217634de8b759710ecfa84b18e-knockout.js\\\"},{\\\"name\\\":\\\"knockout_punches\\\",\\\"type\\\":\\\"js\\\",\\\"url\\\":\\\"/assetserver/fe2a192c367289f39b8280b58861b0e90803c10f-knockout_punches.js\\\"}],\\\"type\\\":\\\"async_block\\\"})).then((imports) => handler.apply(this, imports));\\n}\\n\")])], Dict{Symbol, Any}(:className => \"field interact-widget\"))"
      ]
     },
     "execution_count": 292,
     "metadata": {
      "application/vnd.webio.node+json": {
       "kernelId": "4e6e0d91-fec6-4376-b6ac-dd9da4ee78d8"
      }
     },
     "output_type": "execute_result"
    }
   ],
   "source": [
    "snapshot3 = Widgets.textarea(\"paste snapshot data here\")"
   ]
  },
  {
   "cell_type": "code",
   "execution_count": 293,
   "id": "02b905aa",
   "metadata": {},
   "outputs": [
    {
     "data": {
      "application/vnd.webio.node+json": {
       "children": [
        {
         "children": [
          {
           "children": [],
           "instanceArgs": {
            "namespace": "html",
            "tag": "input"
           },
           "nodeType": "DOM",
           "props": {
            "attributes": {
             "data-bind": "numericValue: value, valueUpdate: 'input', event: {change: function (){this.changes(this.changes()+1)}}",
             "type": "number"
            },
            "className": "input ",
            "placeholder": "enter timestamp for fourth snapshot",
            "style": {}
           },
           "type": "node"
          }
         ],
         "instanceArgs": {
          "handlers": {
           "changes": [
            "(function (val){return (val!=this.model[\"changes\"]()) ? (this.valueFromJulia[\"changes\"]=true, this.model[\"changes\"](val)) : undefined})"
           ],
           "value": [
            "(function (val){return (val!=this.model[\"value\"]()) ? (this.valueFromJulia[\"value\"]=true, this.model[\"value\"](val)) : undefined})"
           ]
          },
          "id": "6272479016984337966",
          "imports": {
           "data": [
            {
             "name": "knockout",
             "type": "js",
             "url": "/assetserver/3268aa453acf20217634de8b759710ecfa84b18e-knockout.js"
            },
            {
             "name": "knockout_punches",
             "type": "js",
             "url": "/assetserver/fe2a192c367289f39b8280b58861b0e90803c10f-knockout_punches.js"
            },
            {
             "name": null,
             "type": "js",
             "url": "/assetserver/8e0549a7824595df033024a9ea05fa3859c5079f-all.js"
            },
            {
             "name": null,
             "type": "css",
             "url": "/assetserver/345b939b64724fad0a8c431b45abd44fe39a5151-style.css"
            },
            {
             "name": null,
             "type": "css",
             "url": "/assetserver/bd82aaaf98c6d450d881a2127a6bfb103be1802f-bulma_confined.min.css"
            }
           ],
           "type": "async_block"
          },
          "mount_callbacks": [
           "function () {\n    var handler = (function (ko, koPunches) {\n    ko.punches.enableAll();\n    ko.bindingHandlers.numericValue = {\n        init: function(element, valueAccessor, allBindings, data, context) {\n            var stringified = ko.observable(ko.unwrap(valueAccessor()));\n            stringified.subscribe(function(value) {\n                var val = parseFloat(value);\n                if (!isNaN(val)) {\n                    valueAccessor()(val);\n                }\n            });\n            valueAccessor().subscribe(function(value) {\n                var str = JSON.stringify(value);\n                if ((str == \"0\") && ([\"-0\", \"-0.\"].indexOf(stringified()) >= 0))\n                     return;\n                 if ([\"null\", \"\"].indexOf(str) >= 0)\n                     return;\n                stringified(str);\n            });\n            ko.applyBindingsToNode(\n                element,\n                {\n                    value: stringified,\n                    valueUpdate: allBindings.get('valueUpdate'),\n                },\n                context,\n            );\n        }\n    };\n    var json_data = {\"changes\":WebIO.getval({\"name\":\"changes\",\"scope\":\"6272479016984337966\",\"id\":\"72\",\"type\":\"observable\"}),\"value\":WebIO.getval({\"name\":\"value\",\"scope\":\"6272479016984337966\",\"id\":\"71\",\"type\":\"observable\"})};\n    var self = this;\n    function AppViewModel() {\n        for (var key in json_data) {\n            var el = json_data[key];\n            this[key] = Array.isArray(el) ? ko.observableArray(el) : ko.observable(el);\n        }\n        \n        \n        [this[\"changes\"].subscribe((function (val){!(this.valueFromJulia[\"changes\"]) ? (WebIO.setval({\"name\":\"changes\",\"scope\":\"6272479016984337966\",\"id\":\"72\",\"type\":\"observable\"},val)) : undefined; return this.valueFromJulia[\"changes\"]=false}),self),this[\"value\"].subscribe((function (val){!(this.valueFromJulia[\"value\"]) ? (WebIO.setval({\"name\":\"value\",\"scope\":\"6272479016984337966\",\"id\":\"71\",\"type\":\"observable\"},val)) : undefined; return this.valueFromJulia[\"value\"]=false}),self)]\n        \n    }\n    self.model = new AppViewModel();\n    self.valueFromJulia = {};\n    for (var key in json_data) {\n        self.valueFromJulia[key] = false;\n    }\n    ko.applyBindings(self.model, self.dom);\n}\n);\n    (WebIO.importBlock({\"data\":[{\"name\":\"knockout\",\"type\":\"js\",\"url\":\"/assetserver/3268aa453acf20217634de8b759710ecfa84b18e-knockout.js\"},{\"name\":\"knockout_punches\",\"type\":\"js\",\"url\":\"/assetserver/fe2a192c367289f39b8280b58861b0e90803c10f-knockout_punches.js\"}],\"type\":\"async_block\"})).then((imports) => handler.apply(this, imports));\n}\n"
          ],
          "observables": {
           "changes": {
            "id": "72",
            "sync": false,
            "value": 0
           },
           "value": {
            "id": "71",
            "sync": false,
            "value": null
           }
          },
          "systemjs_options": null
         },
         "nodeType": "Scope",
         "props": {},
         "type": "node"
        }
       ],
       "instanceArgs": {
        "namespace": "html",
        "tag": "div"
       },
       "nodeType": "DOM",
       "props": {
        "className": "field interact-widget"
       },
       "type": "node"
      },
      "text/html": [
       "<div\n",
       "    class=\"webio-mountpoint\"\n",
       "    data-webio-mountpoint=\"7254526197207783799\"\n",
       ">\n",
       "    <script>\n",
       "    (function(){\n",
       "    // Some integrations (namely, IJulia/Jupyter) use an alternate render pathway than\n",
       "    // just putting the html on the page. If WebIO isn't defined, then it's pretty likely\n",
       "    // that we're in one of those situations and the integration just isn't installed\n",
       "    // correctly.\n",
       "    if (typeof window.WebIO === \"undefined\") {\n",
       "        document\n",
       "            .querySelector('[data-webio-mountpoint=\"7254526197207783799\"]')\n",
       "            .innerHTML = (\n",
       "                '<div style=\"padding: 1em; background-color: #f8d6da; border: 1px solid #f5c6cb; font-weight: bold;\">' +\n",
       "                '<p><strong>WebIO not detected.</strong></p>' +\n",
       "                '<p>Please read ' +\n",
       "                '<a href=\"https://juliagizmos.github.io/WebIO.jl/latest/troubleshooting/not-detected/\" target=\"_blank\">the troubleshooting guide</a> ' +\n",
       "                'for more information on how to resolve this issue.</p>' +\n",
       "                '<p><a href=\"https://juliagizmos.github.io/WebIO.jl/latest/troubleshooting/not-detected/\" target=\"_blank\">https://juliagizmos.github.io/WebIO.jl/latest/troubleshooting/not-detected/</a></p>' +\n",
       "                '</div>'\n",
       "            );\n",
       "        return;\n",
       "    }\n",
       "    WebIO.mount(\n",
       "        document.querySelector('[data-webio-mountpoint=\"7254526197207783799\"]'),\n",
       "        {\"props\":{\"className\":\"field interact-widget\"},\"nodeType\":\"DOM\",\"type\":\"node\",\"instanceArgs\":{\"namespace\":\"html\",\"tag\":\"div\"},\"children\":[{\"props\":{},\"nodeType\":\"Scope\",\"type\":\"node\",\"instanceArgs\":{\"imports\":{\"data\":[{\"name\":\"knockout\",\"type\":\"js\",\"url\":\"\\/assetserver\\/3268aa453acf20217634de8b759710ecfa84b18e-knockout.js\"},{\"name\":\"knockout_punches\",\"type\":\"js\",\"url\":\"\\/assetserver\\/fe2a192c367289f39b8280b58861b0e90803c10f-knockout_punches.js\"},{\"name\":null,\"type\":\"js\",\"url\":\"\\/assetserver\\/8e0549a7824595df033024a9ea05fa3859c5079f-all.js\"},{\"name\":null,\"type\":\"css\",\"url\":\"\\/assetserver\\/345b939b64724fad0a8c431b45abd44fe39a5151-style.css\"},{\"name\":null,\"type\":\"css\",\"url\":\"\\/assetserver\\/bd82aaaf98c6d450d881a2127a6bfb103be1802f-bulma_confined.min.css\"}],\"type\":\"async_block\"},\"id\":\"6272479016984337966\",\"handlers\":{\"changes\":[\"(function (val){return (val!=this.model[\\\"changes\\\"]()) ? (this.valueFromJulia[\\\"changes\\\"]=true, this.model[\\\"changes\\\"](val)) : undefined})\"],\"value\":[\"(function (val){return (val!=this.model[\\\"value\\\"]()) ? (this.valueFromJulia[\\\"value\\\"]=true, this.model[\\\"value\\\"](val)) : undefined})\"]},\"systemjs_options\":null,\"mount_callbacks\":[\"function () {\\n    var handler = (function (ko, koPunches) {\\n    ko.punches.enableAll();\\n    ko.bindingHandlers.numericValue = {\\n        init: function(element, valueAccessor, allBindings, data, context) {\\n            var stringified = ko.observable(ko.unwrap(valueAccessor()));\\n            stringified.subscribe(function(value) {\\n                var val = parseFloat(value);\\n                if (!isNaN(val)) {\\n                    valueAccessor()(val);\\n                }\\n            });\\n            valueAccessor().subscribe(function(value) {\\n                var str = JSON.stringify(value);\\n                if ((str == \\\"0\\\") && ([\\\"-0\\\", \\\"-0.\\\"].indexOf(stringified()) >= 0))\\n                     return;\\n                 if ([\\\"null\\\", \\\"\\\"].indexOf(str) >= 0)\\n                     return;\\n                stringified(str);\\n            });\\n            ko.applyBindingsToNode(\\n                element,\\n                {\\n                    value: stringified,\\n                    valueUpdate: allBindings.get('valueUpdate'),\\n                },\\n                context,\\n            );\\n        }\\n    };\\n    var json_data = {\\\"changes\\\":WebIO.getval({\\\"name\\\":\\\"changes\\\",\\\"scope\\\":\\\"6272479016984337966\\\",\\\"id\\\":\\\"72\\\",\\\"type\\\":\\\"observable\\\"}),\\\"value\\\":WebIO.getval({\\\"name\\\":\\\"value\\\",\\\"scope\\\":\\\"6272479016984337966\\\",\\\"id\\\":\\\"71\\\",\\\"type\\\":\\\"observable\\\"})};\\n    var self = this;\\n    function AppViewModel() {\\n        for (var key in json_data) {\\n            var el = json_data[key];\\n            this[key] = Array.isArray(el) ? ko.observableArray(el) : ko.observable(el);\\n        }\\n        \\n        \\n        [this[\\\"changes\\\"].subscribe((function (val){!(this.valueFromJulia[\\\"changes\\\"]) ? (WebIO.setval({\\\"name\\\":\\\"changes\\\",\\\"scope\\\":\\\"6272479016984337966\\\",\\\"id\\\":\\\"72\\\",\\\"type\\\":\\\"observable\\\"},val)) : undefined; return this.valueFromJulia[\\\"changes\\\"]=false}),self),this[\\\"value\\\"].subscribe((function (val){!(this.valueFromJulia[\\\"value\\\"]) ? (WebIO.setval({\\\"name\\\":\\\"value\\\",\\\"scope\\\":\\\"6272479016984337966\\\",\\\"id\\\":\\\"71\\\",\\\"type\\\":\\\"observable\\\"},val)) : undefined; return this.valueFromJulia[\\\"value\\\"]=false}),self)]\\n        \\n    }\\n    self.model = new AppViewModel();\\n    self.valueFromJulia = {};\\n    for (var key in json_data) {\\n        self.valueFromJulia[key] = false;\\n    }\\n    ko.applyBindings(self.model, self.dom);\\n}\\n);\\n    (WebIO.importBlock({\\\"data\\\":[{\\\"name\\\":\\\"knockout\\\",\\\"type\\\":\\\"js\\\",\\\"url\\\":\\\"\\/assetserver\\/3268aa453acf20217634de8b759710ecfa84b18e-knockout.js\\\"},{\\\"name\\\":\\\"knockout_punches\\\",\\\"type\\\":\\\"js\\\",\\\"url\\\":\\\"\\/assetserver\\/fe2a192c367289f39b8280b58861b0e90803c10f-knockout_punches.js\\\"}],\\\"type\\\":\\\"async_block\\\"})).then((imports) => handler.apply(this, imports));\\n}\\n\"],\"observables\":{\"changes\":{\"sync\":false,\"id\":\"72\",\"value\":0},\"value\":{\"sync\":false,\"id\":\"71\",\"value\":null}}},\"children\":[{\"props\":{\"attributes\":{\"type\":\"number\",\"data-bind\":\"numericValue: value, valueUpdate: 'input', event: {change: function (){this.changes(this.changes()+1)}}\"},\"placeholder\":\"enter timestamp for fourth snapshot\",\"className\":\"input \",\"style\":{}},\"nodeType\":\"DOM\",\"type\":\"node\",\"instanceArgs\":{\"namespace\":\"html\",\"tag\":\"input\"},\"children\":[]}]}]},\n",
       "        window,\n",
       "    );\n",
       "    })()\n",
       "    </script>\n",
       "</div>\n"
      ],
      "text/plain": [
       "Node{WebIO.DOM}(WebIO.DOM(:html, :div), Any[Scope(Node{WebIO.DOM}(WebIO.DOM(:html, :input), Any[], Dict{Symbol, Any}(:attributes => Dict{Any, Any}(:type => \"number\", Symbol(\"data-bind\") => \"numericValue: value, valueUpdate: 'input', event: {change: function (){this.changes(this.changes()+1)}}\"), :placeholder => \"enter timestamp for fourth snapshot\", :className => \"input \", :style => Dict{Any, Any}())), Dict{String, Tuple{AbstractObservable, Union{Nothing, Bool}}}(\"changes\" => (Observable(0), nothing), \"value\" => (Observable{Union{Nothing, Float64}}(nothing), nothing)), Set{String}(), nothing, Asset[Asset(\"js\", \"knockout\", \"/Users/rkurchin/.julia/packages/Knockout/HReiN/src/../assets/knockout.js\"), Asset(\"js\", \"knockout_punches\", \"/Users/rkurchin/.julia/packages/Knockout/HReiN/src/../assets/knockout_punches.js\"), Asset(\"js\", nothing, \"/Users/rkurchin/.julia/packages/InteractBase/LJXv3/src/../assets/all.js\"), Asset(\"css\", nothing, \"/Users/rkurchin/.julia/packages/InteractBase/LJXv3/src/../assets/style.css\"), Asset(\"css\", nothing, \"/Users/rkurchin/.julia/packages/Interact/PENUy/src/../assets/bulma_confined.min.css\")], Dict{Any, Any}(\"changes\" => Any[WebIO.JSString(\"(function (val){return (val!=this.model[\\\"changes\\\"]()) ? (this.valueFromJulia[\\\"changes\\\"]=true, this.model[\\\"changes\\\"](val)) : undefined})\")], \"value\" => Any[WebIO.JSString(\"(function (val){return (val!=this.model[\\\"value\\\"]()) ? (this.valueFromJulia[\\\"value\\\"]=true, this.model[\\\"value\\\"](val)) : undefined})\")]), WebIO.ConnectionPool(Channel{Any}(32), Set{AbstractConnection}(), Base.GenericCondition{ReentrantLock}(Base.InvasiveLinkedList{Task}(Task (runnable) @0x00000001a9ed5120, Task (runnable) @0x00000001a9ed5120), ReentrantLock(nothing, 0x00000000, 0x00, Base.GenericCondition{Base.Threads.SpinLock}(Base.InvasiveLinkedList{Task}(nothing, nothing), Base.Threads.SpinLock(0)), (8, 4789736976, 0)))), WebIO.JSString[WebIO.JSString(\"function () {\\n    var handler = (function (ko, koPunches) {\\n    ko.punches.enableAll();\\n    ko.bindingHandlers.numericValue = {\\n        init: function(element, valueAccessor, allBindings, data, context) {\\n            var stringified = ko.observable(ko.unwrap(valueAccessor()));\\n            stringified.subscribe(function(value) {\\n                var val = parseFloat(value);\\n                if (!isNaN(val)) {\\n                    valueAccessor()(val);\\n                }\\n            });\\n            valueAccessor().subscribe(function(value) {\\n                var str = JSON.stringify(value);\\n                if ((str == \\\"0\\\") && ([\\\"-0\\\", \\\"-0.\\\"].indexOf(stringified()) >= 0))\\n                     return;\\n                 if ([\\\"null\\\", \\\"\\\"].indexOf(str) >= 0)\\n                     return;\\n                stringified(str);\\n            });\\n            ko.applyBindingsToNode(\\n                element,\\n                {\\n                    value: stringified,\\n                    valueUpdate: allBindings.get('valueUpdate'),\\n                },\\n                context,\\n            );\\n        }\\n    };\\n    var json_data = {\\\"changes\\\":WebIO.getval({\\\"name\\\":\\\"changes\\\",\\\"scope\\\":\\\"6272479016984337966\\\",\\\"id\\\":\\\"72\\\",\\\"type\\\":\\\"observable\\\"}),\\\"value\\\":WebIO.getval({\\\"name\\\":\\\"value\\\",\\\"scope\\\":\\\"6272479016984337966\\\",\\\"id\\\":\\\"71\\\",\\\"type\\\":\\\"observable\\\"})};\\n    var self = this;\\n    function AppViewModel() {\\n        for (var key in json_data) {\\n            var el = json_data[key];\\n            this[key] = Array.isArray(el) ? ko.observableArray(el) : ko.observable(el);\\n        }\\n        \\n        \\n        [this[\\\"changes\\\"].subscribe((function (val){!(this.valueFromJulia[\\\"changes\\\"]) ? (WebIO.setval({\\\"name\\\":\\\"changes\\\",\\\"scope\\\":\\\"6272479016984337966\\\",\\\"id\\\":\\\"72\\\",\\\"type\\\":\\\"observable\\\"},val)) : undefined; return this.valueFromJulia[\\\"changes\\\"]=false}),self),this[\\\"value\\\"].subscribe((function (val){!(this.valueFromJulia[\\\"value\\\"]) ? (WebIO.setval({\\\"name\\\":\\\"value\\\",\\\"scope\\\":\\\"6272479016984337966\\\",\\\"id\\\":\\\"71\\\",\\\"type\\\":\\\"observable\\\"},val)) : undefined; return this.valueFromJulia[\\\"value\\\"]=false}),self)]\\n        \\n    }\\n    self.model = new AppViewModel();\\n    self.valueFromJulia = {};\\n    for (var key in json_data) {\\n        self.valueFromJulia[key] = false;\\n    }\\n    ko.applyBindings(self.model, self.dom);\\n}\\n);\\n    (WebIO.importBlock({\\\"data\\\":[{\\\"name\\\":\\\"knockout\\\",\\\"type\\\":\\\"js\\\",\\\"url\\\":\\\"/assetserver/3268aa453acf20217634de8b759710ecfa84b18e-knockout.js\\\"},{\\\"name\\\":\\\"knockout_punches\\\",\\\"type\\\":\\\"js\\\",\\\"url\\\":\\\"/assetserver/fe2a192c367289f39b8280b58861b0e90803c10f-knockout_punches.js\\\"}],\\\"type\\\":\\\"async_block\\\"})).then((imports) => handler.apply(this, imports));\\n}\\n\")])], Dict{Symbol, Any}(:className => \"field interact-widget\"))"
      ]
     },
     "execution_count": 293,
     "metadata": {
      "application/vnd.webio.node+json": {
       "kernelId": "4e6e0d91-fec6-4376-b6ac-dd9da4ee78d8"
      }
     },
     "output_type": "execute_result"
    }
   ],
   "source": [
    "t4 = Widgets.spinbox(\"enter timestamp for fourth snapshot\")"
   ]
  },
  {
   "cell_type": "code",
   "execution_count": 294,
   "id": "bf2e9996",
   "metadata": {},
   "outputs": [
    {
     "data": {
      "application/vnd.webio.node+json": {
       "children": [
        {
         "children": [
          {
           "children": [],
           "instanceArgs": {
            "namespace": "html",
            "tag": "textarea"
           },
           "nodeType": "DOM",
           "props": {
            "attributes": {
             "data-bind": "value: value, valueUpdate: 'input'",
             "placeholder": "paste snapshot data here"
            },
            "className": "textarea ",
            "style": {}
           },
           "type": "node"
          }
         ],
         "instanceArgs": {
          "handlers": {
           "value": [
            "(function (val){return (val!=this.model[\"value\"]()) ? (this.valueFromJulia[\"value\"]=true, this.model[\"value\"](val)) : undefined})"
           ]
          },
          "id": "14758063252869668875",
          "imports": {
           "data": [
            {
             "name": "knockout",
             "type": "js",
             "url": "/assetserver/3268aa453acf20217634de8b759710ecfa84b18e-knockout.js"
            },
            {
             "name": "knockout_punches",
             "type": "js",
             "url": "/assetserver/fe2a192c367289f39b8280b58861b0e90803c10f-knockout_punches.js"
            },
            {
             "name": null,
             "type": "js",
             "url": "/assetserver/8e0549a7824595df033024a9ea05fa3859c5079f-all.js"
            },
            {
             "name": null,
             "type": "css",
             "url": "/assetserver/345b939b64724fad0a8c431b45abd44fe39a5151-style.css"
            },
            {
             "name": null,
             "type": "css",
             "url": "/assetserver/bd82aaaf98c6d450d881a2127a6bfb103be1802f-bulma_confined.min.css"
            }
           ],
           "type": "async_block"
          },
          "mount_callbacks": [
           "function () {\n    var handler = (function (ko, koPunches) {\n    ko.punches.enableAll();\n    ko.bindingHandlers.numericValue = {\n        init: function(element, valueAccessor, allBindings, data, context) {\n            var stringified = ko.observable(ko.unwrap(valueAccessor()));\n            stringified.subscribe(function(value) {\n                var val = parseFloat(value);\n                if (!isNaN(val)) {\n                    valueAccessor()(val);\n                }\n            });\n            valueAccessor().subscribe(function(value) {\n                var str = JSON.stringify(value);\n                if ((str == \"0\") && ([\"-0\", \"-0.\"].indexOf(stringified()) >= 0))\n                     return;\n                 if ([\"null\", \"\"].indexOf(str) >= 0)\n                     return;\n                stringified(str);\n            });\n            ko.applyBindingsToNode(\n                element,\n                {\n                    value: stringified,\n                    valueUpdate: allBindings.get('valueUpdate'),\n                },\n                context,\n            );\n        }\n    };\n    var json_data = {\"value\":WebIO.getval({\"name\":\"value\",\"scope\":\"14758063252869668875\",\"id\":\"73\",\"type\":\"observable\"})};\n    var self = this;\n    function AppViewModel() {\n        for (var key in json_data) {\n            var el = json_data[key];\n            this[key] = Array.isArray(el) ? ko.observableArray(el) : ko.observable(el);\n        }\n        \n        \n        [this[\"value\"].subscribe((function (val){!(this.valueFromJulia[\"value\"]) ? (WebIO.setval({\"name\":\"value\",\"scope\":\"14758063252869668875\",\"id\":\"73\",\"type\":\"observable\"},val)) : undefined; return this.valueFromJulia[\"value\"]=false}),self)]\n        \n    }\n    self.model = new AppViewModel();\n    self.valueFromJulia = {};\n    for (var key in json_data) {\n        self.valueFromJulia[key] = false;\n    }\n    ko.applyBindings(self.model, self.dom);\n}\n);\n    (WebIO.importBlock({\"data\":[{\"name\":\"knockout\",\"type\":\"js\",\"url\":\"/assetserver/3268aa453acf20217634de8b759710ecfa84b18e-knockout.js\"},{\"name\":\"knockout_punches\",\"type\":\"js\",\"url\":\"/assetserver/fe2a192c367289f39b8280b58861b0e90803c10f-knockout_punches.js\"}],\"type\":\"async_block\"})).then((imports) => handler.apply(this, imports));\n}\n"
          ],
          "observables": {
           "value": {
            "id": "73",
            "sync": false,
            "value": ""
           }
          },
          "systemjs_options": null
         },
         "nodeType": "Scope",
         "props": {},
         "type": "node"
        }
       ],
       "instanceArgs": {
        "namespace": "html",
        "tag": "div"
       },
       "nodeType": "DOM",
       "props": {
        "className": "field interact-widget"
       },
       "type": "node"
      },
      "text/html": [
       "<div\n",
       "    class=\"webio-mountpoint\"\n",
       "    data-webio-mountpoint=\"6001896908875191\"\n",
       ">\n",
       "    <script>\n",
       "    (function(){\n",
       "    // Some integrations (namely, IJulia/Jupyter) use an alternate render pathway than\n",
       "    // just putting the html on the page. If WebIO isn't defined, then it's pretty likely\n",
       "    // that we're in one of those situations and the integration just isn't installed\n",
       "    // correctly.\n",
       "    if (typeof window.WebIO === \"undefined\") {\n",
       "        document\n",
       "            .querySelector('[data-webio-mountpoint=\"6001896908875191\"]')\n",
       "            .innerHTML = (\n",
       "                '<div style=\"padding: 1em; background-color: #f8d6da; border: 1px solid #f5c6cb; font-weight: bold;\">' +\n",
       "                '<p><strong>WebIO not detected.</strong></p>' +\n",
       "                '<p>Please read ' +\n",
       "                '<a href=\"https://juliagizmos.github.io/WebIO.jl/latest/troubleshooting/not-detected/\" target=\"_blank\">the troubleshooting guide</a> ' +\n",
       "                'for more information on how to resolve this issue.</p>' +\n",
       "                '<p><a href=\"https://juliagizmos.github.io/WebIO.jl/latest/troubleshooting/not-detected/\" target=\"_blank\">https://juliagizmos.github.io/WebIO.jl/latest/troubleshooting/not-detected/</a></p>' +\n",
       "                '</div>'\n",
       "            );\n",
       "        return;\n",
       "    }\n",
       "    WebIO.mount(\n",
       "        document.querySelector('[data-webio-mountpoint=\"6001896908875191\"]'),\n",
       "        {\"props\":{\"className\":\"field interact-widget\"},\"nodeType\":\"DOM\",\"type\":\"node\",\"instanceArgs\":{\"namespace\":\"html\",\"tag\":\"div\"},\"children\":[{\"props\":{},\"nodeType\":\"Scope\",\"type\":\"node\",\"instanceArgs\":{\"imports\":{\"data\":[{\"name\":\"knockout\",\"type\":\"js\",\"url\":\"\\/assetserver\\/3268aa453acf20217634de8b759710ecfa84b18e-knockout.js\"},{\"name\":\"knockout_punches\",\"type\":\"js\",\"url\":\"\\/assetserver\\/fe2a192c367289f39b8280b58861b0e90803c10f-knockout_punches.js\"},{\"name\":null,\"type\":\"js\",\"url\":\"\\/assetserver\\/8e0549a7824595df033024a9ea05fa3859c5079f-all.js\"},{\"name\":null,\"type\":\"css\",\"url\":\"\\/assetserver\\/345b939b64724fad0a8c431b45abd44fe39a5151-style.css\"},{\"name\":null,\"type\":\"css\",\"url\":\"\\/assetserver\\/bd82aaaf98c6d450d881a2127a6bfb103be1802f-bulma_confined.min.css\"}],\"type\":\"async_block\"},\"id\":\"14758063252869668875\",\"handlers\":{\"value\":[\"(function (val){return (val!=this.model[\\\"value\\\"]()) ? (this.valueFromJulia[\\\"value\\\"]=true, this.model[\\\"value\\\"](val)) : undefined})\"]},\"systemjs_options\":null,\"mount_callbacks\":[\"function () {\\n    var handler = (function (ko, koPunches) {\\n    ko.punches.enableAll();\\n    ko.bindingHandlers.numericValue = {\\n        init: function(element, valueAccessor, allBindings, data, context) {\\n            var stringified = ko.observable(ko.unwrap(valueAccessor()));\\n            stringified.subscribe(function(value) {\\n                var val = parseFloat(value);\\n                if (!isNaN(val)) {\\n                    valueAccessor()(val);\\n                }\\n            });\\n            valueAccessor().subscribe(function(value) {\\n                var str = JSON.stringify(value);\\n                if ((str == \\\"0\\\") && ([\\\"-0\\\", \\\"-0.\\\"].indexOf(stringified()) >= 0))\\n                     return;\\n                 if ([\\\"null\\\", \\\"\\\"].indexOf(str) >= 0)\\n                     return;\\n                stringified(str);\\n            });\\n            ko.applyBindingsToNode(\\n                element,\\n                {\\n                    value: stringified,\\n                    valueUpdate: allBindings.get('valueUpdate'),\\n                },\\n                context,\\n            );\\n        }\\n    };\\n    var json_data = {\\\"value\\\":WebIO.getval({\\\"name\\\":\\\"value\\\",\\\"scope\\\":\\\"14758063252869668875\\\",\\\"id\\\":\\\"73\\\",\\\"type\\\":\\\"observable\\\"})};\\n    var self = this;\\n    function AppViewModel() {\\n        for (var key in json_data) {\\n            var el = json_data[key];\\n            this[key] = Array.isArray(el) ? ko.observableArray(el) : ko.observable(el);\\n        }\\n        \\n        \\n        [this[\\\"value\\\"].subscribe((function (val){!(this.valueFromJulia[\\\"value\\\"]) ? (WebIO.setval({\\\"name\\\":\\\"value\\\",\\\"scope\\\":\\\"14758063252869668875\\\",\\\"id\\\":\\\"73\\\",\\\"type\\\":\\\"observable\\\"},val)) : undefined; return this.valueFromJulia[\\\"value\\\"]=false}),self)]\\n        \\n    }\\n    self.model = new AppViewModel();\\n    self.valueFromJulia = {};\\n    for (var key in json_data) {\\n        self.valueFromJulia[key] = false;\\n    }\\n    ko.applyBindings(self.model, self.dom);\\n}\\n);\\n    (WebIO.importBlock({\\\"data\\\":[{\\\"name\\\":\\\"knockout\\\",\\\"type\\\":\\\"js\\\",\\\"url\\\":\\\"\\/assetserver\\/3268aa453acf20217634de8b759710ecfa84b18e-knockout.js\\\"},{\\\"name\\\":\\\"knockout_punches\\\",\\\"type\\\":\\\"js\\\",\\\"url\\\":\\\"\\/assetserver\\/fe2a192c367289f39b8280b58861b0e90803c10f-knockout_punches.js\\\"}],\\\"type\\\":\\\"async_block\\\"})).then((imports) => handler.apply(this, imports));\\n}\\n\"],\"observables\":{\"value\":{\"sync\":false,\"id\":\"73\",\"value\":\"\"}}},\"children\":[{\"props\":{\"attributes\":{\"placeholder\":\"paste snapshot data here\",\"data-bind\":\"value: value, valueUpdate: 'input'\"},\"className\":\"textarea \",\"style\":{}},\"nodeType\":\"DOM\",\"type\":\"node\",\"instanceArgs\":{\"namespace\":\"html\",\"tag\":\"textarea\"},\"children\":[]}]}]},\n",
       "        window,\n",
       "    );\n",
       "    })()\n",
       "    </script>\n",
       "</div>\n"
      ],
      "text/plain": [
       "Node{WebIO.DOM}(WebIO.DOM(:html, :div), Any[Scope(Node{WebIO.DOM}(WebIO.DOM(:html, :textarea), Any[], Dict{Symbol, Any}(:attributes => Dict{Union{String, Symbol}, Any}(:placeholder => \"paste snapshot data here\", \"data-bind\" => \"value: value, valueUpdate: 'input'\"), :className => \"textarea \", :style => Dict{Any, Any}())), Dict{String, Tuple{AbstractObservable, Union{Nothing, Bool}}}(\"value\" => (Observable(\"\"), nothing)), Set{String}(), nothing, Asset[Asset(\"js\", \"knockout\", \"/Users/rkurchin/.julia/packages/Knockout/HReiN/src/../assets/knockout.js\"), Asset(\"js\", \"knockout_punches\", \"/Users/rkurchin/.julia/packages/Knockout/HReiN/src/../assets/knockout_punches.js\"), Asset(\"js\", nothing, \"/Users/rkurchin/.julia/packages/InteractBase/LJXv3/src/../assets/all.js\"), Asset(\"css\", nothing, \"/Users/rkurchin/.julia/packages/InteractBase/LJXv3/src/../assets/style.css\"), Asset(\"css\", nothing, \"/Users/rkurchin/.julia/packages/Interact/PENUy/src/../assets/bulma_confined.min.css\")], Dict{Any, Any}(\"value\" => Any[WebIO.JSString(\"(function (val){return (val!=this.model[\\\"value\\\"]()) ? (this.valueFromJulia[\\\"value\\\"]=true, this.model[\\\"value\\\"](val)) : undefined})\")]), WebIO.ConnectionPool(Channel{Any}(32), Set{AbstractConnection}(), Base.GenericCondition{ReentrantLock}(Base.InvasiveLinkedList{Task}(Task (runnable) @0x00000001a9fd4550, Task (runnable) @0x00000001a9fd4550), ReentrantLock(nothing, 0x00000000, 0x00, Base.GenericCondition{Base.Threads.SpinLock}(Base.InvasiveLinkedList{Task}(nothing, nothing), Base.Threads.SpinLock(0)), (2, 4781506576, 0)))), WebIO.JSString[WebIO.JSString(\"function () {\\n    var handler = (function (ko, koPunches) {\\n    ko.punches.enableAll();\\n    ko.bindingHandlers.numericValue = {\\n        init: function(element, valueAccessor, allBindings, data, context) {\\n            var stringified = ko.observable(ko.unwrap(valueAccessor()));\\n            stringified.subscribe(function(value) {\\n                var val = parseFloat(value);\\n                if (!isNaN(val)) {\\n                    valueAccessor()(val);\\n                }\\n            });\\n            valueAccessor().subscribe(function(value) {\\n                var str = JSON.stringify(value);\\n                if ((str == \\\"0\\\") && ([\\\"-0\\\", \\\"-0.\\\"].indexOf(stringified()) >= 0))\\n                     return;\\n                 if ([\\\"null\\\", \\\"\\\"].indexOf(str) >= 0)\\n                     return;\\n                stringified(str);\\n            });\\n            ko.applyBindingsToNode(\\n                element,\\n                {\\n                    value: stringified,\\n                    valueUpdate: allBindings.get('valueUpdate'),\\n                },\\n                context,\\n            );\\n        }\\n    };\\n    var json_data = {\\\"value\\\":WebIO.getval({\\\"name\\\":\\\"value\\\",\\\"scope\\\":\\\"14758063252869668875\\\",\\\"id\\\":\\\"73\\\",\\\"type\\\":\\\"observable\\\"})};\\n    var self = this;\\n    function AppViewModel() {\\n        for (var key in json_data) {\\n            var el = json_data[key];\\n            this[key] = Array.isArray(el) ? ko.observableArray(el) : ko.observable(el);\\n        }\\n        \\n        \\n        [this[\\\"value\\\"].subscribe((function (val){!(this.valueFromJulia[\\\"value\\\"]) ? (WebIO.setval({\\\"name\\\":\\\"value\\\",\\\"scope\\\":\\\"14758063252869668875\\\",\\\"id\\\":\\\"73\\\",\\\"type\\\":\\\"observable\\\"},val)) : undefined; return this.valueFromJulia[\\\"value\\\"]=false}),self)]\\n        \\n    }\\n    self.model = new AppViewModel();\\n    self.valueFromJulia = {};\\n    for (var key in json_data) {\\n        self.valueFromJulia[key] = false;\\n    }\\n    ko.applyBindings(self.model, self.dom);\\n}\\n);\\n    (WebIO.importBlock({\\\"data\\\":[{\\\"name\\\":\\\"knockout\\\",\\\"type\\\":\\\"js\\\",\\\"url\\\":\\\"/assetserver/3268aa453acf20217634de8b759710ecfa84b18e-knockout.js\\\"},{\\\"name\\\":\\\"knockout_punches\\\",\\\"type\\\":\\\"js\\\",\\\"url\\\":\\\"/assetserver/fe2a192c367289f39b8280b58861b0e90803c10f-knockout_punches.js\\\"}],\\\"type\\\":\\\"async_block\\\"})).then((imports) => handler.apply(this, imports));\\n}\\n\")])], Dict{Symbol, Any}(:className => \"field interact-widget\"))"
      ]
     },
     "execution_count": 294,
     "metadata": {
      "application/vnd.webio.node+json": {
       "kernelId": "4e6e0d91-fec6-4376-b6ac-dd9da4ee78d8"
      }
     },
     "output_type": "execute_result"
    }
   ],
   "source": [
    "snapshot4 = Widgets.textarea(\"paste snapshot data here\")"
   ]
  },
  {
   "cell_type": "markdown",
   "id": "e9e565fe",
   "metadata": {},
   "source": [
    "Now process some things... [TODO: ADD MORE HERE]"
   ]
  },
  {
   "cell_type": "code",
   "execution_count": 295,
   "id": "796ac893",
   "metadata": {},
   "outputs": [
    {
     "data": {
      "text/plain": [
       "4-element Vector{Float64}:\n",
       "    0.0\n",
       "  704.16\n",
       "  907.2\n",
       " 1501.2"
      ]
     },
     "execution_count": 295,
     "metadata": {},
     "output_type": "execute_result"
    }
   ],
   "source": [
    "snapshots = [snapshot1, snapshot2, snapshot3, snapshot4]\n",
    "tvals = [t.output.val for t in [t1, t2, t3, t4]] .- t1.output.val"
   ]
  },
  {
   "cell_type": "code",
   "execution_count": 182,
   "id": "29e7d7ad",
   "metadata": {},
   "outputs": [
    {
     "data": {
      "text/plain": [
       "process_snapshot (generic function with 1 method)"
      ]
     },
     "execution_count": 182,
     "metadata": {},
     "output_type": "execute_result"
    }
   ],
   "source": [
    "function process_snapshot(textwidget)\n",
    "    st = textwidget.output;\n",
    "    sdf = CSV.read(IOBuffer(st.val), DataFrame, header=7);\n",
    "    rename!(sdf, [:x, :y, :vx, :vy]);\n",
    "    select!(sdf, [:x, :y]);\n",
    "    return sdf\n",
    "end    "
   ]
  },
  {
   "cell_type": "code",
   "execution_count": 296,
   "id": "02ffbd05",
   "metadata": {},
   "outputs": [],
   "source": [
    "sdfs = process_snapshot.(snapshots)\n",
    "dsq = zeros(Float64, length(snapshots), n_atoms);\n",
    "\n",
    "for (i, sdf) in enumerate(sdfs)\n",
    "    d = sdf .- sdfs[1]\n",
    "    dsq[i, :] .= d.x .^2 + d.y .^2\n",
    "end"
   ]
  },
  {
   "cell_type": "code",
   "execution_count": 310,
   "id": "b9965fb8",
   "metadata": {},
   "outputs": [
    {
     "data": {
      "image/svg+xml": [
       "<?xml version=\"1.0\" encoding=\"utf-8\"?>\n",
       "<svg xmlns=\"http://www.w3.org/2000/svg\" xmlns:xlink=\"http://www.w3.org/1999/xlink\" width=\"600\" height=\"400\" viewBox=\"0 0 2400 1600\">\n",
       "<defs>\n",
       "  <clipPath id=\"clip270\">\n",
       "    <rect x=\"0\" y=\"0\" width=\"2400\" height=\"1600\"/>\n",
       "  </clipPath>\n",
       "</defs>\n",
       "<path clip-path=\"url(#clip270)\" d=\"M0 1600 L2400 1600 L2400 0 L0 0  Z\" fill=\"#ffffff\" fill-rule=\"evenodd\" fill-opacity=\"1\"/>\n",
       "<defs>\n",
       "  <clipPath id=\"clip271\">\n",
       "    <rect x=\"480\" y=\"0\" width=\"1681\" height=\"1600\"/>\n",
       "  </clipPath>\n",
       "</defs>\n",
       "<path clip-path=\"url(#clip270)\" d=\"M175.445 1423.18 L2352.76 1423.18 L2352.76 47.2441 L175.445 47.2441  Z\" fill=\"#ffffff\" fill-rule=\"evenodd\" fill-opacity=\"1\"/>\n",
       "<defs>\n",
       "  <clipPath id=\"clip272\">\n",
       "    <rect x=\"175\" y=\"47\" width=\"2178\" height=\"1377\"/>\n",
       "  </clipPath>\n",
       "</defs>\n",
       "<polyline clip-path=\"url(#clip272)\" style=\"stroke:#000000; stroke-linecap:round; stroke-linejoin:round; stroke-width:2; stroke-opacity:0.1; fill:none\" points=\"237.067,1423.18 237.067,47.2441 \"/>\n",
       "<polyline clip-path=\"url(#clip272)\" style=\"stroke:#000000; stroke-linecap:round; stroke-linejoin:round; stroke-width:2; stroke-opacity:0.1; fill:none\" points=\"921.209,1423.18 921.209,47.2441 \"/>\n",
       "<polyline clip-path=\"url(#clip272)\" style=\"stroke:#000000; stroke-linecap:round; stroke-linejoin:round; stroke-width:2; stroke-opacity:0.1; fill:none\" points=\"1605.35,1423.18 1605.35,47.2441 \"/>\n",
       "<polyline clip-path=\"url(#clip272)\" style=\"stroke:#000000; stroke-linecap:round; stroke-linejoin:round; stroke-width:2; stroke-opacity:0.1; fill:none\" points=\"2289.49,1423.18 2289.49,47.2441 \"/>\n",
       "<polyline clip-path=\"url(#clip272)\" style=\"stroke:#000000; stroke-linecap:round; stroke-linejoin:round; stroke-width:2; stroke-opacity:0.1; fill:none\" points=\"175.445,1384.24 2352.76,1384.24 \"/>\n",
       "<polyline clip-path=\"url(#clip272)\" style=\"stroke:#000000; stroke-linecap:round; stroke-linejoin:round; stroke-width:2; stroke-opacity:0.1; fill:none\" points=\"175.445,1057.12 2352.76,1057.12 \"/>\n",
       "<polyline clip-path=\"url(#clip272)\" style=\"stroke:#000000; stroke-linecap:round; stroke-linejoin:round; stroke-width:2; stroke-opacity:0.1; fill:none\" points=\"175.445,729.998 2352.76,729.998 \"/>\n",
       "<polyline clip-path=\"url(#clip272)\" style=\"stroke:#000000; stroke-linecap:round; stroke-linejoin:round; stroke-width:2; stroke-opacity:0.1; fill:none\" points=\"175.445,402.878 2352.76,402.878 \"/>\n",
       "<polyline clip-path=\"url(#clip272)\" style=\"stroke:#000000; stroke-linecap:round; stroke-linejoin:round; stroke-width:2; stroke-opacity:0.1; fill:none\" points=\"175.445,75.7573 2352.76,75.7573 \"/>\n",
       "<polyline clip-path=\"url(#clip270)\" style=\"stroke:#000000; stroke-linecap:round; stroke-linejoin:round; stroke-width:4; stroke-opacity:1; fill:none\" points=\"175.445,1423.18 2352.76,1423.18 \"/>\n",
       "<polyline clip-path=\"url(#clip270)\" style=\"stroke:#000000; stroke-linecap:round; stroke-linejoin:round; stroke-width:4; stroke-opacity:1; fill:none\" points=\"237.067,1423.18 237.067,1404.28 \"/>\n",
       "<polyline clip-path=\"url(#clip270)\" style=\"stroke:#000000; stroke-linecap:round; stroke-linejoin:round; stroke-width:4; stroke-opacity:1; fill:none\" points=\"921.209,1423.18 921.209,1404.28 \"/>\n",
       "<polyline clip-path=\"url(#clip270)\" style=\"stroke:#000000; stroke-linecap:round; stroke-linejoin:round; stroke-width:4; stroke-opacity:1; fill:none\" points=\"1605.35,1423.18 1605.35,1404.28 \"/>\n",
       "<polyline clip-path=\"url(#clip270)\" style=\"stroke:#000000; stroke-linecap:round; stroke-linejoin:round; stroke-width:4; stroke-opacity:1; fill:none\" points=\"2289.49,1423.18 2289.49,1404.28 \"/>\n",
       "<path clip-path=\"url(#clip270)\" d=\"M237.067 1454.1 Q233.456 1454.1 231.627 1457.66 Q229.822 1461.2 229.822 1468.33 Q229.822 1475.44 231.627 1479.01 Q233.456 1482.55 237.067 1482.55 Q240.701 1482.55 242.507 1479.01 Q244.336 1475.44 244.336 1468.33 Q244.336 1461.2 242.507 1457.66 Q240.701 1454.1 237.067 1454.1 M237.067 1450.39 Q242.877 1450.39 245.933 1455 Q249.012 1459.58 249.012 1468.33 Q249.012 1477.06 245.933 1481.67 Q242.877 1486.25 237.067 1486.25 Q231.257 1486.25 228.178 1481.67 Q225.123 1477.06 225.123 1468.33 Q225.123 1459.58 228.178 1455 Q231.257 1450.39 237.067 1450.39 Z\" fill=\"#000000\" fill-rule=\"nonzero\" fill-opacity=\"1\" /><path clip-path=\"url(#clip270)\" d=\"M880.827 1451.02 L899.183 1451.02 L899.183 1454.96 L885.109 1454.96 L885.109 1463.43 Q886.128 1463.08 887.146 1462.92 Q888.165 1462.73 889.184 1462.73 Q894.971 1462.73 898.35 1465.9 Q901.73 1469.08 901.73 1474.49 Q901.73 1480.07 898.258 1483.17 Q894.785 1486.25 888.466 1486.25 Q886.29 1486.25 884.021 1485.88 Q881.776 1485.51 879.369 1484.77 L879.369 1480.07 Q881.452 1481.2 883.674 1481.76 Q885.896 1482.32 888.373 1482.32 Q892.378 1482.32 894.716 1480.21 Q897.054 1478.1 897.054 1474.49 Q897.054 1470.88 894.716 1468.77 Q892.378 1466.67 888.373 1466.67 Q886.498 1466.67 884.623 1467.08 Q882.771 1467.5 880.827 1468.38 L880.827 1451.02 Z\" fill=\"#000000\" fill-rule=\"nonzero\" fill-opacity=\"1\" /><path clip-path=\"url(#clip270)\" d=\"M920.943 1454.1 Q917.331 1454.1 915.503 1457.66 Q913.697 1461.2 913.697 1468.33 Q913.697 1475.44 915.503 1479.01 Q917.331 1482.55 920.943 1482.55 Q924.577 1482.55 926.382 1479.01 Q928.211 1475.44 928.211 1468.33 Q928.211 1461.2 926.382 1457.66 Q924.577 1454.1 920.943 1454.1 M920.943 1450.39 Q926.753 1450.39 929.808 1455 Q932.887 1459.58 932.887 1468.33 Q932.887 1477.06 929.808 1481.67 Q926.753 1486.25 920.943 1486.25 Q915.132 1486.25 912.054 1481.67 Q908.998 1477.06 908.998 1468.33 Q908.998 1459.58 912.054 1455 Q915.132 1450.39 920.943 1450.39 Z\" fill=\"#000000\" fill-rule=\"nonzero\" fill-opacity=\"1\" /><path clip-path=\"url(#clip270)\" d=\"M951.104 1454.1 Q947.493 1454.1 945.665 1457.66 Q943.859 1461.2 943.859 1468.33 Q943.859 1475.44 945.665 1479.01 Q947.493 1482.55 951.104 1482.55 Q954.739 1482.55 956.544 1479.01 Q958.373 1475.44 958.373 1468.33 Q958.373 1461.2 956.544 1457.66 Q954.739 1454.1 951.104 1454.1 M951.104 1450.39 Q956.915 1450.39 959.97 1455 Q963.049 1459.58 963.049 1468.33 Q963.049 1477.06 959.97 1481.67 Q956.915 1486.25 951.104 1486.25 Q945.294 1486.25 942.216 1481.67 Q939.16 1477.06 939.16 1468.33 Q939.16 1459.58 942.216 1455 Q945.294 1450.39 951.104 1450.39 Z\" fill=\"#000000\" fill-rule=\"nonzero\" fill-opacity=\"1\" /><path clip-path=\"url(#clip270)\" d=\"M1549.88 1481.64 L1557.51 1481.64 L1557.51 1455.28 L1549.2 1456.95 L1549.2 1452.69 L1557.47 1451.02 L1562.14 1451.02 L1562.14 1481.64 L1569.78 1481.64 L1569.78 1485.58 L1549.88 1485.58 L1549.88 1481.64 Z\" fill=\"#000000\" fill-rule=\"nonzero\" fill-opacity=\"1\" /><path clip-path=\"url(#clip270)\" d=\"M1589.23 1454.1 Q1585.62 1454.1 1583.79 1457.66 Q1581.98 1461.2 1581.98 1468.33 Q1581.98 1475.44 1583.79 1479.01 Q1585.62 1482.55 1589.23 1482.55 Q1592.86 1482.55 1594.67 1479.01 Q1596.5 1475.44 1596.5 1468.33 Q1596.5 1461.2 1594.67 1457.66 Q1592.86 1454.1 1589.23 1454.1 M1589.23 1450.39 Q1595.04 1450.39 1598.09 1455 Q1601.17 1459.58 1601.17 1468.33 Q1601.17 1477.06 1598.09 1481.67 Q1595.04 1486.25 1589.23 1486.25 Q1583.42 1486.25 1580.34 1481.67 Q1577.28 1477.06 1577.28 1468.33 Q1577.28 1459.58 1580.34 1455 Q1583.42 1450.39 1589.23 1450.39 Z\" fill=\"#000000\" fill-rule=\"nonzero\" fill-opacity=\"1\" /><path clip-path=\"url(#clip270)\" d=\"M1619.39 1454.1 Q1615.78 1454.1 1613.95 1457.66 Q1612.14 1461.2 1612.14 1468.33 Q1612.14 1475.44 1613.95 1479.01 Q1615.78 1482.55 1619.39 1482.55 Q1623.02 1482.55 1624.83 1479.01 Q1626.66 1475.44 1626.66 1468.33 Q1626.66 1461.2 1624.83 1457.66 Q1623.02 1454.1 1619.39 1454.1 M1619.39 1450.39 Q1625.2 1450.39 1628.26 1455 Q1631.33 1459.58 1631.33 1468.33 Q1631.33 1477.06 1628.26 1481.67 Q1625.2 1486.25 1619.39 1486.25 Q1613.58 1486.25 1610.5 1481.67 Q1607.45 1477.06 1607.45 1468.33 Q1607.45 1459.58 1610.5 1455 Q1613.58 1450.39 1619.39 1450.39 Z\" fill=\"#000000\" fill-rule=\"nonzero\" fill-opacity=\"1\" /><path clip-path=\"url(#clip270)\" d=\"M1649.55 1454.1 Q1645.94 1454.1 1644.11 1457.66 Q1642.31 1461.2 1642.31 1468.33 Q1642.31 1475.44 1644.11 1479.01 Q1645.94 1482.55 1649.55 1482.55 Q1653.19 1482.55 1654.99 1479.01 Q1656.82 1475.44 1656.82 1468.33 Q1656.82 1461.2 1654.99 1457.66 Q1653.19 1454.1 1649.55 1454.1 M1649.55 1450.39 Q1655.36 1450.39 1658.42 1455 Q1661.5 1459.58 1661.5 1468.33 Q1661.5 1477.06 1658.42 1481.67 Q1655.36 1486.25 1649.55 1486.25 Q1643.74 1486.25 1640.66 1481.67 Q1637.61 1477.06 1637.61 1468.33 Q1637.61 1459.58 1640.66 1455 Q1643.74 1450.39 1649.55 1450.39 Z\" fill=\"#000000\" fill-rule=\"nonzero\" fill-opacity=\"1\" /><path clip-path=\"url(#clip270)\" d=\"M2234.02 1481.64 L2241.66 1481.64 L2241.66 1455.28 L2233.35 1456.95 L2233.35 1452.69 L2241.61 1451.02 L2246.29 1451.02 L2246.29 1481.64 L2253.93 1481.64 L2253.93 1485.58 L2234.02 1485.58 L2234.02 1481.64 Z\" fill=\"#000000\" fill-rule=\"nonzero\" fill-opacity=\"1\" /><path clip-path=\"url(#clip270)\" d=\"M2263.42 1451.02 L2281.77 1451.02 L2281.77 1454.96 L2267.7 1454.96 L2267.7 1463.43 Q2268.72 1463.08 2269.74 1462.92 Q2270.75 1462.73 2271.77 1462.73 Q2277.56 1462.73 2280.94 1465.9 Q2284.32 1469.08 2284.32 1474.49 Q2284.32 1480.07 2280.85 1483.17 Q2277.37 1486.25 2271.05 1486.25 Q2268.88 1486.25 2266.61 1485.88 Q2264.36 1485.51 2261.96 1484.77 L2261.96 1480.07 Q2264.04 1481.2 2266.26 1481.76 Q2268.49 1482.32 2270.96 1482.32 Q2274.97 1482.32 2277.3 1480.21 Q2279.64 1478.1 2279.64 1474.49 Q2279.64 1470.88 2277.3 1468.77 Q2274.97 1466.67 2270.96 1466.67 Q2269.09 1466.67 2267.21 1467.08 Q2265.36 1467.5 2263.42 1468.38 L2263.42 1451.02 Z\" fill=\"#000000\" fill-rule=\"nonzero\" fill-opacity=\"1\" /><path clip-path=\"url(#clip270)\" d=\"M2303.53 1454.1 Q2299.92 1454.1 2298.09 1457.66 Q2296.29 1461.2 2296.29 1468.33 Q2296.29 1475.44 2298.09 1479.01 Q2299.92 1482.55 2303.53 1482.55 Q2307.17 1482.55 2308.97 1479.01 Q2310.8 1475.44 2310.8 1468.33 Q2310.8 1461.2 2308.97 1457.66 Q2307.17 1454.1 2303.53 1454.1 M2303.53 1450.39 Q2309.34 1450.39 2312.4 1455 Q2315.48 1459.58 2315.48 1468.33 Q2315.48 1477.06 2312.4 1481.67 Q2309.34 1486.25 2303.53 1486.25 Q2297.72 1486.25 2294.64 1481.67 Q2291.59 1477.06 2291.59 1468.33 Q2291.59 1459.58 2294.64 1455 Q2297.72 1450.39 2303.53 1450.39 Z\" fill=\"#000000\" fill-rule=\"nonzero\" fill-opacity=\"1\" /><path clip-path=\"url(#clip270)\" d=\"M2333.69 1454.1 Q2330.08 1454.1 2328.25 1457.66 Q2326.45 1461.2 2326.45 1468.33 Q2326.45 1475.44 2328.25 1479.01 Q2330.08 1482.55 2333.69 1482.55 Q2337.33 1482.55 2339.13 1479.01 Q2340.96 1475.44 2340.96 1468.33 Q2340.96 1461.2 2339.13 1457.66 Q2337.33 1454.1 2333.69 1454.1 M2333.69 1450.39 Q2339.5 1450.39 2342.56 1455 Q2345.64 1459.58 2345.64 1468.33 Q2345.64 1477.06 2342.56 1481.67 Q2339.5 1486.25 2333.69 1486.25 Q2327.88 1486.25 2324.8 1481.67 Q2321.75 1477.06 2321.75 1468.33 Q2321.75 1459.58 2324.8 1455 Q2327.88 1450.39 2333.69 1450.39 Z\" fill=\"#000000\" fill-rule=\"nonzero\" fill-opacity=\"1\" /><path clip-path=\"url(#clip270)\" d=\"M1185.98 1520.52 L1226.18 1520.52 L1226.18 1525.93 L1209.31 1525.93 L1209.31 1568.04 L1202.85 1568.04 L1202.85 1525.93 L1185.98 1525.93 L1185.98 1520.52 Z\" fill=\"#000000\" fill-rule=\"nonzero\" fill-opacity=\"1\" /><path clip-path=\"url(#clip270)\" d=\"M1230.12 1532.4 L1235.98 1532.4 L1235.98 1568.04 L1230.12 1568.04 L1230.12 1532.4 M1230.12 1518.52 L1235.98 1518.52 L1235.98 1525.93 L1230.12 1525.93 L1230.12 1518.52 Z\" fill=\"#000000\" fill-rule=\"nonzero\" fill-opacity=\"1\" /><path clip-path=\"url(#clip270)\" d=\"M1275.99 1539.24 Q1278.18 1535.29 1281.24 1533.41 Q1284.3 1531.54 1288.43 1531.54 Q1294 1531.54 1297.03 1535.45 Q1300.05 1539.33 1300.05 1546.53 L1300.05 1568.04 L1294.16 1568.04 L1294.16 1546.72 Q1294.16 1541.59 1292.35 1539.11 Q1290.53 1536.63 1286.81 1536.63 Q1282.26 1536.63 1279.62 1539.65 Q1276.98 1542.68 1276.98 1547.9 L1276.98 1568.04 L1271.09 1568.04 L1271.09 1546.72 Q1271.09 1541.56 1269.27 1539.11 Q1267.46 1536.63 1263.67 1536.63 Q1259.18 1536.63 1256.54 1539.68 Q1253.9 1542.71 1253.9 1547.9 L1253.9 1568.04 L1248.01 1568.04 L1248.01 1532.4 L1253.9 1532.4 L1253.9 1537.93 Q1255.9 1534.66 1258.71 1533.1 Q1261.51 1531.54 1265.36 1531.54 Q1269.24 1531.54 1271.95 1533.51 Q1274.68 1535.48 1275.99 1539.24 Z\" fill=\"#000000\" fill-rule=\"nonzero\" fill-opacity=\"1\" /><path clip-path=\"url(#clip270)\" d=\"M1342.22 1548.76 L1342.22 1551.62 L1315.3 1551.62 Q1315.68 1557.67 1318.93 1560.85 Q1322.2 1564 1328.03 1564 Q1331.4 1564 1334.55 1563.17 Q1337.74 1562.35 1340.86 1560.69 L1340.86 1566.23 Q1337.7 1567.57 1334.39 1568.27 Q1331.08 1568.97 1327.68 1568.97 Q1319.15 1568.97 1314.15 1564 Q1309.19 1559.04 1309.19 1550.57 Q1309.19 1541.82 1313.9 1536.69 Q1318.64 1531.54 1326.66 1531.54 Q1333.85 1531.54 1338.02 1536.18 Q1342.22 1540.8 1342.22 1548.76 M1336.37 1547.04 Q1336.3 1542.23 1333.66 1539.37 Q1331.05 1536.5 1326.72 1536.5 Q1321.82 1536.5 1318.86 1539.27 Q1315.93 1542.04 1315.49 1547.07 L1336.37 1547.04 Z\" fill=\"#000000\" fill-rule=\"nonzero\" fill-opacity=\"1\" /><polyline clip-path=\"url(#clip270)\" style=\"stroke:#000000; stroke-linecap:round; stroke-linejoin:round; stroke-width:4; stroke-opacity:1; fill:none\" points=\"175.445,1423.18 175.445,47.2441 \"/>\n",
       "<polyline clip-path=\"url(#clip270)\" style=\"stroke:#000000; stroke-linecap:round; stroke-linejoin:round; stroke-width:4; stroke-opacity:1; fill:none\" points=\"175.445,1384.24 194.343,1384.24 \"/>\n",
       "<polyline clip-path=\"url(#clip270)\" style=\"stroke:#000000; stroke-linecap:round; stroke-linejoin:round; stroke-width:4; stroke-opacity:1; fill:none\" points=\"175.445,1057.12 194.343,1057.12 \"/>\n",
       "<polyline clip-path=\"url(#clip270)\" style=\"stroke:#000000; stroke-linecap:round; stroke-linejoin:round; stroke-width:4; stroke-opacity:1; fill:none\" points=\"175.445,729.998 194.343,729.998 \"/>\n",
       "<polyline clip-path=\"url(#clip270)\" style=\"stroke:#000000; stroke-linecap:round; stroke-linejoin:round; stroke-width:4; stroke-opacity:1; fill:none\" points=\"175.445,402.878 194.343,402.878 \"/>\n",
       "<polyline clip-path=\"url(#clip270)\" style=\"stroke:#000000; stroke-linecap:round; stroke-linejoin:round; stroke-width:4; stroke-opacity:1; fill:none\" points=\"175.445,75.7573 194.343,75.7573 \"/>\n",
       "<path clip-path=\"url(#clip270)\" d=\"M127.501 1370.04 Q123.89 1370.04 122.061 1373.6 Q120.255 1377.14 120.255 1384.27 Q120.255 1391.38 122.061 1394.94 Q123.89 1398.49 127.501 1398.49 Q131.135 1398.49 132.941 1394.94 Q134.769 1391.38 134.769 1384.27 Q134.769 1377.14 132.941 1373.6 Q131.135 1370.04 127.501 1370.04 M127.501 1366.33 Q133.311 1366.33 136.367 1370.94 Q139.445 1375.52 139.445 1384.27 Q139.445 1393 136.367 1397.61 Q133.311 1402.19 127.501 1402.19 Q121.691 1402.19 118.612 1397.61 Q115.556 1393 115.556 1384.27 Q115.556 1375.52 118.612 1370.94 Q121.691 1366.33 127.501 1366.33 Z\" fill=\"#000000\" fill-rule=\"nonzero\" fill-opacity=\"1\" /><path clip-path=\"url(#clip270)\" d=\"M123.126 1070.46 L139.445 1070.46 L139.445 1074.4 L117.501 1074.4 L117.501 1070.46 Q120.163 1067.71 124.746 1063.08 Q129.353 1058.43 130.533 1057.08 Q132.779 1054.56 133.658 1052.82 Q134.561 1051.06 134.561 1049.38 Q134.561 1046.62 132.617 1044.88 Q130.695 1043.15 127.593 1043.15 Q125.394 1043.15 122.941 1043.91 Q120.51 1044.68 117.732 1046.23 L117.732 1041.5 Q120.556 1040.37 123.01 1039.79 Q125.464 1039.21 127.501 1039.21 Q132.871 1039.21 136.066 1041.9 Q139.26 1044.58 139.26 1049.07 Q139.26 1051.2 138.45 1053.12 Q137.663 1055.02 135.556 1057.62 Q134.978 1058.29 131.876 1061.5 Q128.774 1064.7 123.126 1070.46 Z\" fill=\"#000000\" fill-rule=\"nonzero\" fill-opacity=\"1\" /><path clip-path=\"url(#clip270)\" d=\"M129.862 716.792 L118.056 735.241 L129.862 735.241 L129.862 716.792 M128.635 712.718 L134.515 712.718 L134.515 735.241 L139.445 735.241 L139.445 739.13 L134.515 739.13 L134.515 747.278 L129.862 747.278 L129.862 739.13 L114.26 739.13 L114.26 734.616 L128.635 712.718 Z\" fill=\"#000000\" fill-rule=\"nonzero\" fill-opacity=\"1\" /><path clip-path=\"url(#clip270)\" d=\"M127.917 401.014 Q124.769 401.014 122.918 403.167 Q121.089 405.32 121.089 409.07 Q121.089 412.796 122.918 414.972 Q124.769 417.125 127.917 417.125 Q131.066 417.125 132.894 414.972 Q134.746 412.796 134.746 409.07 Q134.746 405.32 132.894 403.167 Q131.066 401.014 127.917 401.014 M137.2 386.361 L137.2 390.621 Q135.441 389.787 133.635 389.348 Q131.853 388.908 130.093 388.908 Q125.464 388.908 123.01 392.033 Q120.58 395.158 120.232 401.477 Q121.598 399.463 123.658 398.398 Q125.718 397.31 128.195 397.31 Q133.404 397.31 136.413 400.482 Q139.445 403.63 139.445 409.07 Q139.445 414.394 136.297 417.611 Q133.149 420.829 127.917 420.829 Q121.922 420.829 118.751 416.246 Q115.58 411.639 115.58 402.912 Q115.58 394.718 119.468 389.857 Q123.357 384.973 129.908 384.973 Q131.667 384.973 133.45 385.32 Q135.255 385.667 137.2 386.361 Z\" fill=\"#000000\" fill-rule=\"nonzero\" fill-opacity=\"1\" /><path clip-path=\"url(#clip270)\" d=\"M127.593 76.6253 Q124.26 76.6253 122.339 78.4077 Q120.441 80.1901 120.441 83.3151 Q120.441 86.4401 122.339 88.2225 Q124.26 90.0049 127.593 90.0049 Q130.927 90.0049 132.848 88.2225 Q134.769 86.4169 134.769 83.3151 Q134.769 80.1901 132.848 78.4077 Q130.95 76.6253 127.593 76.6253 M122.918 74.6346 Q119.908 73.8939 118.218 71.8337 Q116.552 69.7735 116.552 66.8106 Q116.552 62.6671 119.492 60.2597 Q122.455 57.8523 127.593 57.8523 Q132.755 57.8523 135.695 60.2597 Q138.635 62.6671 138.635 66.8106 Q138.635 69.7735 136.945 71.8337 Q135.279 73.8939 132.292 74.6346 Q135.672 75.4216 137.547 77.7133 Q139.445 80.0049 139.445 83.3151 Q139.445 88.3382 136.367 91.0234 Q133.311 93.7086 127.593 93.7086 Q121.876 93.7086 118.797 91.0234 Q115.742 88.3382 115.742 83.3151 Q115.742 80.0049 117.64 77.7133 Q119.538 75.4216 122.918 74.6346 M121.205 67.2504 Q121.205 69.9355 122.871 71.4402 Q124.561 72.9448 127.593 72.9448 Q130.603 72.9448 132.292 71.4402 Q134.005 69.9355 134.005 67.2504 Q134.005 64.5652 132.292 63.0606 Q130.603 61.556 127.593 61.556 Q124.561 61.556 122.871 63.0606 Q121.205 64.5652 121.205 67.2504 Z\" fill=\"#000000\" fill-rule=\"nonzero\" fill-opacity=\"1\" /><path clip-path=\"url(#clip270)\" d=\"M16.4842 803.993 L16.4842 794.413 L48.8219 782.286 L16.4842 770.096 L16.4842 760.516 L64.0042 760.516 L64.0042 766.786 L22.277 766.786 L54.8694 779.04 L54.8694 785.501 L22.277 797.755 L64.0042 797.755 L64.0042 803.993 L16.4842 803.993 Z\" fill=\"#000000\" fill-rule=\"nonzero\" fill-opacity=\"1\" /><path clip-path=\"url(#clip270)\" d=\"M18.0438 719.266 L24.314 719.266 Q22.5634 722.926 21.704 726.173 Q20.8447 729.419 20.8447 732.443 Q20.8447 737.695 22.8817 740.559 Q24.9187 743.392 28.6745 743.392 Q31.8255 743.392 33.4488 741.514 Q35.0402 739.604 36.0269 734.321 L36.8226 730.438 Q38.1912 723.244 41.6605 719.839 Q45.098 716.401 50.8908 716.401 Q57.7976 716.401 61.3624 721.048 Q64.9272 725.663 64.9272 734.607 Q64.9272 737.981 64.1633 741.8 Q63.3994 745.588 61.9035 749.662 L55.2831 749.662 Q57.4793 745.747 58.5933 741.991 Q59.7073 738.236 59.7073 734.607 Q59.7073 729.101 57.543 726.109 Q55.3786 723.117 51.3682 723.117 Q47.8671 723.117 45.8937 725.281 Q43.9204 727.414 42.9337 732.316 L42.1698 736.23 Q40.7375 743.424 37.682 746.638 Q34.6264 749.853 29.1837 749.853 Q22.8817 749.853 19.2532 745.429 Q15.6248 740.973 15.6248 733.175 Q15.6248 729.833 16.2295 726.364 Q16.8343 722.894 18.0438 719.266 Z\" fill=\"#000000\" fill-rule=\"nonzero\" fill-opacity=\"1\" /><path clip-path=\"url(#clip270)\" d=\"M21.7677 699.946 L58.7206 699.946 L58.7206 692.18 Q58.7206 682.345 54.2646 677.793 Q49.8086 673.21 40.1964 673.21 Q30.6479 673.21 26.2237 677.793 Q21.7677 682.345 21.7677 692.18 L21.7677 699.946 M16.4842 706.375 L16.4842 693.166 Q16.4842 679.353 22.2451 672.892 Q27.9743 666.431 40.1964 666.431 Q52.4822 666.431 58.2432 672.924 Q64.0042 679.417 64.0042 693.166 L64.0042 706.375 L16.4842 706.375 Z\" fill=\"#000000\" fill-rule=\"nonzero\" fill-opacity=\"1\" /><polyline clip-path=\"url(#clip272)\" style=\"stroke:#009af9; stroke-linecap:round; stroke-linejoin:round; stroke-width:4; stroke-opacity:1; fill:none\" points=\"237.067,1384.24 1200.56,769.905 1478.37,599.65 2291.13,153.138 \"/>\n",
       "<polyline clip-path=\"url(#clip272)\" style=\"stroke:#000000; stroke-linecap:round; stroke-linejoin:round; stroke-width:4; stroke-opacity:1; fill:none\" points=\"237.067,1384.24 237.067,1384.24 \"/>\n",
       "<polyline clip-path=\"url(#clip272)\" style=\"stroke:#000000; stroke-linecap:round; stroke-linejoin:round; stroke-width:4; stroke-opacity:1; fill:none\" points=\"1200.56,801.802 1200.56,738.008 \"/>\n",
       "<polyline clip-path=\"url(#clip272)\" style=\"stroke:#000000; stroke-linecap:round; stroke-linejoin:round; stroke-width:4; stroke-opacity:1; fill:none\" points=\"1478.37,640.903 1478.37,558.396 \"/>\n",
       "<polyline clip-path=\"url(#clip272)\" style=\"stroke:#000000; stroke-linecap:round; stroke-linejoin:round; stroke-width:4; stroke-opacity:1; fill:none\" points=\"2291.13,220.091 2291.13,86.1857 \"/>\n",
       "<line clip-path=\"url(#clip272)\" x1=\"253.067\" y1=\"1384.24\" x2=\"221.067\" y2=\"1384.24\" style=\"stroke:#000000; stroke-width:4; stroke-opacity:1\"/>\n",
       "<line clip-path=\"url(#clip272)\" x1=\"253.067\" y1=\"1384.24\" x2=\"221.067\" y2=\"1384.24\" style=\"stroke:#000000; stroke-width:4; stroke-opacity:1\"/>\n",
       "<line clip-path=\"url(#clip272)\" x1=\"1216.56\" y1=\"801.802\" x2=\"1184.56\" y2=\"801.802\" style=\"stroke:#000000; stroke-width:4; stroke-opacity:1\"/>\n",
       "<line clip-path=\"url(#clip272)\" x1=\"1216.56\" y1=\"738.008\" x2=\"1184.56\" y2=\"738.008\" style=\"stroke:#000000; stroke-width:4; stroke-opacity:1\"/>\n",
       "<line clip-path=\"url(#clip272)\" x1=\"1494.37\" y1=\"640.903\" x2=\"1462.37\" y2=\"640.903\" style=\"stroke:#000000; stroke-width:4; stroke-opacity:1\"/>\n",
       "<line clip-path=\"url(#clip272)\" x1=\"1494.37\" y1=\"558.396\" x2=\"1462.37\" y2=\"558.396\" style=\"stroke:#000000; stroke-width:4; stroke-opacity:1\"/>\n",
       "<line clip-path=\"url(#clip272)\" x1=\"2307.13\" y1=\"220.091\" x2=\"2275.13\" y2=\"220.091\" style=\"stroke:#000000; stroke-width:4; stroke-opacity:1\"/>\n",
       "<line clip-path=\"url(#clip272)\" x1=\"2307.13\" y1=\"86.1857\" x2=\"2275.13\" y2=\"86.1857\" style=\"stroke:#000000; stroke-width:4; stroke-opacity:1\"/>\n",
       "<path clip-path=\"url(#clip270)\" d=\"M248.022 196.789 L518.184 196.789 L518.184 93.1086 L248.022 93.1086  Z\" fill=\"#ffffff\" fill-rule=\"evenodd\" fill-opacity=\"1\"/>\n",
       "<polyline clip-path=\"url(#clip270)\" style=\"stroke:#000000; stroke-linecap:round; stroke-linejoin:round; stroke-width:4; stroke-opacity:1; fill:none\" points=\"248.022,196.789 518.184,196.789 518.184,93.1086 248.022,93.1086 248.022,196.789 \"/>\n",
       "<polyline clip-path=\"url(#clip270)\" style=\"stroke:#009af9; stroke-linecap:round; stroke-linejoin:round; stroke-width:4; stroke-opacity:1; fill:none\" points=\"272.215,144.949 417.369,144.949 \"/>\n",
       "<path clip-path=\"url(#clip270)\" d=\"M455.403 164.636 Q453.598 169.266 451.885 170.678 Q450.172 172.09 447.302 172.09 L443.899 172.09 L443.899 168.525 L446.399 168.525 Q448.158 168.525 449.13 167.692 Q450.103 166.858 451.283 163.756 L452.047 161.812 L441.561 136.303 L446.075 136.303 L454.177 156.581 L462.278 136.303 L466.792 136.303 L455.403 164.636 Z\" fill=\"#000000\" fill-rule=\"nonzero\" fill-opacity=\"1\" /><path clip-path=\"url(#clip270)\" d=\"M474.084 158.293 L481.723 158.293 L481.723 131.928 L473.413 133.595 L473.413 129.335 L481.676 127.669 L486.352 127.669 L486.352 158.293 L493.991 158.293 L493.991 162.229 L474.084 162.229 L474.084 158.293 Z\" fill=\"#000000\" fill-rule=\"nonzero\" fill-opacity=\"1\" /></svg>\n"
      ]
     },
     "execution_count": 310,
     "metadata": {},
     "output_type": "execute_result"
    }
   ],
   "source": [
    "plot(tvals, mean(dsq, dims=2); yerror=std(dsq, dims=2)./sqrt(n_atoms))\n",
    "xlabel!(\"Time\")\n",
    "ylabel!(\"MSD\")"
   ]
  },
  {
   "cell_type": "code",
   "execution_count": 298,
   "id": "8b5904a4",
   "metadata": {},
   "outputs": [
    {
     "data": {
      "text/plain": [
       "8500"
      ]
     },
     "execution_count": 298,
     "metadata": {},
     "output_type": "execute_result"
    }
   ],
   "source": [
    "total_datapts = n_atoms * length(snapshots)"
   ]
  },
  {
   "cell_type": "code",
   "execution_count": null,
   "id": "dae9e6be",
   "metadata": {},
   "outputs": [],
   "source": [
    "# plotting code for individual atoms and for average"
   ]
  },
  {
   "cell_type": "code",
   "execution_count": null,
   "id": "25d72db3",
   "metadata": {},
   "outputs": [],
   "source": []
  },
  {
   "cell_type": "code",
   "execution_count": null,
   "id": "8e07c06c",
   "metadata": {},
   "outputs": [],
   "source": []
  },
  {
   "attachments": {},
   "cell_type": "markdown",
   "id": "8bf72333",
   "metadata": {},
   "source": [
    "## maybe explore LJ phase diagram?\n",
    "TBD, also here's a picture!\n",
    "\n",
    "<img src=\"https://www.researchgate.net/publication/49750821/figure/fig1/AS:667216336936969@1536088179352/Phase-diagram-of-2D-Lennard-Jones-solid-as-given-in-9-The-first-order-boundaries-are.png\" width=\"300\">"
   ]
  },
  {
   "cell_type": "code",
   "execution_count": null,
   "id": "44d6af57",
   "metadata": {},
   "outputs": [],
   "source": []
  },
  {
   "cell_type": "code",
   "execution_count": null,
   "id": "32b8c554",
   "metadata": {},
   "outputs": [],
   "source": []
  },
  {
   "cell_type": "markdown",
   "id": "aaa00add",
   "metadata": {},
   "source": [
    "# Continuum-Scale Diffusion: Fick's Laws"
   ]
  },
  {
   "cell_type": "code",
   "execution_count": null,
   "id": "a7da8764",
   "metadata": {},
   "outputs": [],
   "source": []
  },
  {
   "cell_type": "code",
   "execution_count": null,
   "id": "1e7eb4b0",
   "metadata": {},
   "outputs": [],
   "source": []
  },
  {
   "cell_type": "code",
   "execution_count": null,
   "id": "daa48eb8",
   "metadata": {},
   "outputs": [],
   "source": []
  },
  {
   "cell_type": "markdown",
   "id": "54c8f3cb",
   "metadata": {},
   "source": [
    "## some tests that Interact.jl is working properly..."
   ]
  },
  {
   "cell_type": "code",
   "execution_count": null,
   "id": "c058972f",
   "metadata": {},
   "outputs": [],
   "source": [
    " s = slider(1:100)"
   ]
  },
  {
   "cell_type": "code",
   "execution_count": null,
   "id": "59f926b6",
   "metadata": {
    "scrolled": true
   },
   "outputs": [],
   "source": [
    "Interact.@on print(string(\"The value is \", &s));"
   ]
  },
  {
   "cell_type": "code",
   "execution_count": null,
   "id": "e950f2e5",
   "metadata": {},
   "outputs": [],
   "source": []
  }
 ],
 "metadata": {
  "@webio": {
   "lastCommId": "6b6f50c154b9429a82aa6c137aab82ed",
   "lastKernelId": "4e6e0d91-fec6-4376-b6ac-dd9da4ee78d8"
  },
  "kernelspec": {
   "display_name": "Julia 1.8.3",
   "language": "julia",
   "name": "julia-1.8"
  },
  "language_info": {
   "file_extension": ".jl",
   "mimetype": "application/julia",
   "name": "julia",
   "version": "1.8.3"
  }
 },
 "nbformat": 4,
 "nbformat_minor": 5
}
