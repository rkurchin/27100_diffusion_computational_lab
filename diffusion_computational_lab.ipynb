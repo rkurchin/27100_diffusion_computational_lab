{
 "cells": [
  {
   "cell_type": "markdown",
   "id": "2471b8b6",
   "metadata": {},
   "source": [
    "# 27-100 Computational MSE Lab: Diffusion!\n",
    "Welcome to the computational lab! In these exercises, we'll explore diffusion at both the atomistic and continuum lengthscales. As you've seen by now, one of the hallmarks of \"MSE thinking\" is connecting across lengthscales – for example, understanding dislocation motion and how it leads to plastic deformation. We've talked some in lecture about atomistic mechanisms of diffusion (e.g. via vacancies) as well as how we describe it in a continuum setting (Fick's Laws). Here we'll explore how those ideas are connected to each other through a series of **computational experiments** that you'll be guided through. You will not need to be able to write any code yourself (though if you're curious, you'll be able to see the code that's being run).\n",
    "\n",
    "You'll also be able to see how such **computational experiments** can be very analogous to lab-based ones...keep this in mind as you work, and think about how computation can be similar to/different from experiments, and how the two approaches might complement each other!\n",
    "\n",
    "## What is this thing I'm reading?\n",
    "This is a Jupyter notebook, an environment for **literate programming**, where formatted text (like this) can be interspersed with interactively runnable code cells (like the ones immediately below this). Jupyter comes from Ju (Julia) + Py (Python) + R, and as the name suggests, it can run code in all three of these languages. This particular notebook is running Julia.\n",
    "\n",
    "To run a cell, simply select it by clicking on it and use <kbd>Shift</kbd> + <kbd>Enter</kbd> to execute the code.\n",
    "\n",
    "Go ahead and run these first two cells below now – they will set up the computational environment so that all the needed packages will be loaded. When they've executed successfully, a number should appear to the left."
   ]
  },
  {
   "cell_type": "code",
   "execution_count": null,
   "id": "0bdeb248",
   "metadata": {},
   "outputs": [],
   "source": [
    "import Pkg; Pkg.activate(\".\")"
   ]
  },
  {
   "cell_type": "code",
   "execution_count": null,
   "id": "d358c3ad",
   "metadata": {},
   "outputs": [],
   "source": [
    "using Interact\n",
    "using DataFrames\n",
    "using CSV\n",
    "using Plots"
   ]
  },
  {
   "cell_type": "markdown",
   "id": "fac3c6f7",
   "metadata": {},
   "source": [
    "# Atomistic-Scale Diffusion: Molecular Dynamics\n",
    "We'll start by investigating diffusion at the atomistic scale, in a way that only simulations are capable of (at least right now)...by tracking positions of thousands of individual atoms at once! This uses a technique called **molecular dynamics**, where we choose a model interatomic potential (in this case, Lennard-Jones, which you explored on homework 5) and just run Newton's Laws between all pairs of particles to generate atomic trajectories.\n",
    "\n",
    "We'll use a nice online two-dimensional MD engine that you can access [here](https://physics.weber.edu/schroeder/md/). Start by opening it up and playing around a bit to familiarize yourself with the interface (if you explore any of the Presets, just refresh the page at the end to get to the default setup, which is what we'll be using).\n",
    "\n",
    "## Step 1: \n",
    "more instructions here..."
   ]
  },
  {
   "cell_type": "code",
   "execution_count": null,
   "id": "95544529",
   "metadata": {},
   "outputs": [],
   "source": []
  },
  {
   "cell_type": "code",
   "execution_count": null,
   "id": "b894c89c",
   "metadata": {},
   "outputs": [],
   "source": []
  },
  {
   "cell_type": "code",
   "execution_count": null,
   "id": "f7e37af0",
   "metadata": {},
   "outputs": [],
   "source": [
    "w = Widgets.textarea()"
   ]
  },
  {
   "cell_type": "code",
   "execution_count": null,
   "id": "ec3e6ca3",
   "metadata": {},
   "outputs": [],
   "source": [
    "st = w.output;"
   ]
  },
  {
   "cell_type": "code",
   "execution_count": null,
   "id": "ced50552",
   "metadata": {},
   "outputs": [],
   "source": [
    "dat = CSV.read(IOBuffer(st.val), DataFrame)"
   ]
  },
  {
   "cell_type": "code",
   "execution_count": null,
   "id": "d14ac18d",
   "metadata": {},
   "outputs": [],
   "source": [
    "plot(dat[:, :t], dat[:, :x])"
   ]
  },
  {
   "cell_type": "code",
   "execution_count": null,
   "id": "06e3ec4c",
   "metadata": {},
   "outputs": [],
   "source": []
  },
  {
   "cell_type": "code",
   "execution_count": null,
   "id": "8721abf6",
   "metadata": {},
   "outputs": [],
   "source": []
  },
  {
   "cell_type": "markdown",
   "id": "54c8f3cb",
   "metadata": {},
   "source": [
    "## some tests that Interact.jl is working properly..."
   ]
  },
  {
   "cell_type": "code",
   "execution_count": null,
   "id": "c058972f",
   "metadata": {},
   "outputs": [],
   "source": [
    " s = slider(1:100)"
   ]
  },
  {
   "cell_type": "code",
   "execution_count": null,
   "id": "59f926b6",
   "metadata": {
    "scrolled": true
   },
   "outputs": [],
   "source": [
    "Interact.@on print(string(\"The value is \", &s));"
   ]
  },
  {
   "cell_type": "code",
   "execution_count": null,
   "id": "e950f2e5",
   "metadata": {},
   "outputs": [],
   "source": []
  }
 ],
 "metadata": {
  "@webio": {
   "lastCommId": null,
   "lastKernelId": null
  },
  "kernelspec": {
   "display_name": "Julia 1.8.3",
   "language": "julia",
   "name": "julia-1.8"
  },
  "language_info": {
   "file_extension": ".jl",
   "mimetype": "application/julia",
   "name": "julia",
   "version": "1.8.3"
  }
 },
 "nbformat": 4,
 "nbformat_minor": 5
}
